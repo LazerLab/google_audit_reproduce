{
 "cells": [
  {
   "cell_type": "markdown",
   "id": "c44f8ac1-f4c5-4156-955e-3404364038c3",
   "metadata": {},
   "source": [
    "# This notebook will clean the public-sharing data"
   ]
  },
  {
   "cell_type": "code",
   "execution_count": 1,
   "id": "0f0fb21a-4256-4ace-a9f7-e270eb365524",
   "metadata": {},
   "outputs": [],
   "source": [
    "import os\n",
    "import sys\n",
    "import pandas as pd"
   ]
  },
  {
   "cell_type": "markdown",
   "id": "eca79a89-98aa-490b-99a2-0fbbfb92932f",
   "metadata": {},
   "source": [
    "## Remove NAs in bias_score"
   ]
  },
  {
   "cell_type": "code",
   "execution_count": 3,
   "id": "3bfbf462-f11f-4aeb-adcd-489dcc8b7987",
   "metadata": {},
   "outputs": [],
   "source": [
    "bias_scores = pd.read_csv('../data/bias_score_ron_2018.csv')"
   ]
  },
  {
   "cell_type": "code",
   "execution_count": 5,
   "id": "9a47064e-5f93-4454-9d1c-a8424108e7b3",
   "metadata": {},
   "outputs": [],
   "source": [
    "bias_scores.dropna(inplace=True)"
   ]
  },
  {
   "cell_type": "code",
   "execution_count": 7,
   "id": "48c6a91c-f611-4ce9-9868-8a6977a72911",
   "metadata": {},
   "outputs": [
    {
     "data": {
      "text/plain": [
       "19014"
      ]
     },
     "execution_count": 7,
     "metadata": {},
     "output_type": "execute_result"
    }
   ],
   "source": [
    "len(bias_scores)"
   ]
  },
  {
   "cell_type": "code",
   "execution_count": 104,
   "id": "691454a2-b577-4350-91d7-3d6b39ea6fa2",
   "metadata": {},
   "outputs": [],
   "source": [
    "bias_scores.to_csv('../data/bias_score_ron_2018.csv', index=False)"
   ]
  },
  {
   "cell_type": "markdown",
   "id": "1b13926b-15f2-4ce6-b6bd-7dd5c362e61c",
   "metadata": {},
   "source": [
    "## Updata Category"
   ]
  },
  {
   "cell_type": "code",
   "execution_count": 9,
   "id": "338acf6b-52ba-4603-be15-1ae7ceb5d31e",
   "metadata": {},
   "outputs": [],
   "source": [
    "category = pd.read_csv('../data/domain_category.csv')"
   ]
  },
  {
   "cell_type": "code",
   "execution_count": 11,
   "id": "65e7191d-6514-40ae-b07d-85e589df6e02",
   "metadata": {},
   "outputs": [],
   "source": [
    "category.dropna(inplace=True)"
   ]
  },
  {
   "cell_type": "code",
   "execution_count": 13,
   "id": "43625227-58c7-439b-aa89-e789ce915330",
   "metadata": {},
   "outputs": [
    {
     "data": {
      "text/plain": [
       "8878"
      ]
     },
     "execution_count": 13,
     "metadata": {},
     "output_type": "execute_result"
    }
   ],
   "source": [
    "len(category)"
   ]
  },
  {
   "cell_type": "code",
   "execution_count": 103,
   "id": "0cc48a37-6b26-4812-8dde-be96a92bbffe",
   "metadata": {},
   "outputs": [],
   "source": [
    "category.to_csv('../data/domain_category.csv', index=False)"
   ]
  },
  {
   "cell_type": "markdown",
   "id": "80c0e6ee-09d5-41a3-91f1-eb820188c72e",
   "metadata": {},
   "source": [
    "## Filter politicians"
   ]
  },
  {
   "cell_type": "code",
   "execution_count": 46,
   "id": "363b5847-a177-4913-beaa-37cf94ab1029",
   "metadata": {},
   "outputs": [],
   "source": [
    "qry_info = pd.read_csv('../data/qry_info.csv')"
   ]
  },
  {
   "cell_type": "code",
   "execution_count": 47,
   "id": "d3b0ea08-0b77-4fb9-baf5-99966c10df94",
   "metadata": {},
   "outputs": [
    {
     "data": {
      "text/plain": [
       "array([[<Axes: title={'center': 'relevance_score'}>]], dtype=object)"
      ]
     },
     "execution_count": 47,
     "metadata": {},
     "output_type": "execute_result"
    },
    {
     "data": {
      "image/png": "[encoded data removed]",
      "text/plain": [
       "<Figure size 640x480 with 1 Axes>"
      ]
     },
     "metadata": {},
     "output_type": "display_data"
    }
   ],
   "source": [
    "qry_info.hist(column=\"relevance_score\")"
   ]
  },
  {
   "cell_type": "code",
   "execution_count": 68,
   "id": "dc995531-1a7e-40eb-92db-ed5f2c1c2472",
   "metadata": {},
   "outputs": [],
   "source": [
    "house_df = qry_info[(qry_info['in_data']==True)&(qry_info['chamber']=='Rep')]"
   ]
  },
  {
   "cell_type": "code",
   "execution_count": 88,
   "id": "e655069e-fed8-4a1f-8a66-99e17fd0dae5",
   "metadata": {},
   "outputs": [
    {
     "data": {
      "text/html": [
       "<div>\n",
       "<style scoped>\n",
       "    .dataframe tbody tr th:only-of-type {\n",
       "        vertical-align: middle;\n",
       "    }\n",
       "\n",
       "    .dataframe tbody tr th {\n",
       "        vertical-align: top;\n",
       "    }\n",
       "\n",
       "    .dataframe thead th {\n",
       "        text-align: right;\n",
       "    }\n",
       "</style>\n",
       "<table border=\"1\" class=\"dataframe\">\n",
       "  <thead>\n",
       "    <tr style=\"text-align: right;\">\n",
       "      <th></th>\n",
       "      <th>qry</th>\n",
       "      <th>qry_clean</th>\n",
       "      <th>Twitter</th>\n",
       "      <th>governor</th>\n",
       "      <th>congress</th>\n",
       "      <th>candidate</th>\n",
       "      <th>state</th>\n",
       "      <th>district</th>\n",
       "      <th>party</th>\n",
       "      <th>chamber</th>\n",
       "      <th>date_started_position</th>\n",
       "      <th>full_term</th>\n",
       "      <th>Notes</th>\n",
       "      <th>relevance_score</th>\n",
       "      <th>in_data</th>\n",
       "    </tr>\n",
       "  </thead>\n",
       "  <tbody>\n",
       "    <tr>\n",
       "      <th>387</th>\n",
       "      <td>Mike Johnson</td>\n",
       "      <td>Mike Johnson</td>\n",
       "      <td>RepMikeJohnson</td>\n",
       "      <td>False</td>\n",
       "      <td>True</td>\n",
       "      <td>False</td>\n",
       "      <td>LA</td>\n",
       "      <td>4.0</td>\n",
       "      <td>Republican</td>\n",
       "      <td>Rep</td>\n",
       "      <td>3-Jan-17</td>\n",
       "      <td>1</td>\n",
       "      <td>NaN</td>\n",
       "      <td>3.0</td>\n",
       "      <td>1</td>\n",
       "    </tr>\n",
       "  </tbody>\n",
       "</table>\n",
       "</div>"
      ],
      "text/plain": [
       "              qry     qry_clean         Twitter  governor  congress  \\\n",
       "387  Mike Johnson  Mike Johnson  RepMikeJohnson     False      True   \n",
       "\n",
       "     candidate state  district       party chamber date_started_position  \\\n",
       "387      False    LA       4.0  Republican     Rep              3-Jan-17   \n",
       "\n",
       "     full_term Notes  relevance_score  in_data  \n",
       "387          1   NaN              3.0        1  "
      ]
     },
     "execution_count": 88,
     "metadata": {},
     "output_type": "execute_result"
    }
   ],
   "source": [
    "house_df[house_df['qry']=='Mike Johnson']"
   ]
  },
  {
   "cell_type": "code",
   "execution_count": 89,
   "id": "bf8489fe-3a2d-44de-926f-46ccf933643d",
   "metadata": {},
   "outputs": [],
   "source": [
    "house_relevant_df = house_df[house_df['relevance_score'] > 2]"
   ]
  },
  {
   "cell_type": "code",
   "execution_count": 90,
   "id": "8023be8b-163b-4471-bf73-c552136a5e3a",
   "metadata": {},
   "outputs": [],
   "source": [
    "house_members_all = house_df['qry'].unique()"
   ]
  },
  {
   "cell_type": "code",
   "execution_count": 91,
   "id": "37470331-6b70-4b05-9eb5-4adb8f8737a6",
   "metadata": {
    "scrolled": true
   },
   "outputs": [
    {
     "data": {
      "text/plain": [
       "437"
      ]
     },
     "execution_count": 91,
     "metadata": {},
     "output_type": "execute_result"
    }
   ],
   "source": [
    "len(house_members_all)"
   ]
  },
  {
   "cell_type": "code",
   "execution_count": 93,
   "id": "9b9d3cf3-1e6a-4290-8287-eb1b23b8eb44",
   "metadata": {},
   "outputs": [],
   "source": [
    "house_member_relevant = house_relevant_df['qry'].unique()"
   ]
  },
  {
   "cell_type": "code",
   "execution_count": 94,
   "id": "ec248346-633e-4b80-879f-118fde851a8b",
   "metadata": {},
   "outputs": [
    {
     "data": {
      "text/plain": [
       "425"
      ]
     },
     "execution_count": 94,
     "metadata": {},
     "output_type": "execute_result"
    }
   ],
   "source": [
    "len(house_member_relevant)"
   ]
  },
  {
   "cell_type": "code",
   "execution_count": 95,
   "id": "db3f39ca-4e64-482d-acfe-8b16f3ed17ec",
   "metadata": {},
   "outputs": [],
   "source": [
    "irrelavent_members = set(house_members_all)-set(house_member_relevant)"
   ]
  },
  {
   "cell_type": "code",
   "execution_count": 96,
   "id": "8990a8da-25d4-493c-81a6-82fd94770588",
   "metadata": {},
   "outputs": [
    {
     "data": {
      "text/plain": [
       "12"
      ]
     },
     "execution_count": 96,
     "metadata": {},
     "output_type": "execute_result"
    }
   ],
   "source": [
    "len(irrelavent_members)"
   ]
  },
  {
   "cell_type": "code",
   "execution_count": 98,
   "id": "cc91ae25-e3b3-4f81-9bd3-7ced4b51815b",
   "metadata": {},
   "outputs": [
    {
     "name": "stdout",
     "output_type": "stream",
     "text": [
      "{'Chris Smith', 'Mario Díaz-Balart', 'Carol Miller', 'Roger Williams', 'Joaquín Castro', 'Jesús Chuy García', 'Jason Smith', 'Daniel Webster', 'Paul Mitchell', 'John Curtis', 'John Carter', 'John Lewis'}\n"
     ]
    }
   ],
   "source": [
    "print(irrelavent_members)"
   ]
  },
  {
   "cell_type": "code",
   "execution_count": 99,
   "id": "d0b494ae-ef80-4546-abdf-22c3a9837553",
   "metadata": {},
   "outputs": [
    {
     "data": {
      "text/plain": [
       "425"
      ]
     },
     "execution_count": 99,
     "metadata": {},
     "output_type": "execute_result"
    }
   ],
   "source": [
    "len(house_relevant_df.groupby(['qry','party']))"
   ]
  },
  {
   "cell_type": "code",
   "execution_count": 100,
   "id": "b7b00a32-89b6-42f4-a564-6193cb8adadb",
   "metadata": {},
   "outputs": [],
   "source": [
    "house_clean = house_relevant_df.drop(columns=['governor', 'congress','candidate','chamber', 'date_started_position','full_term','Notes','in_data'])"
   ]
  },
  {
   "cell_type": "code",
   "execution_count": 101,
   "id": "618f6fc4-aa0e-4e55-b0a3-0902c01d490d",
   "metadata": {},
   "outputs": [
    {
     "data": {
      "text/html": [
       "<div>\n",
       "<style scoped>\n",
       "    .dataframe tbody tr th:only-of-type {\n",
       "        vertical-align: middle;\n",
       "    }\n",
       "\n",
       "    .dataframe tbody tr th {\n",
       "        vertical-align: top;\n",
       "    }\n",
       "\n",
       "    .dataframe thead th {\n",
       "        text-align: right;\n",
       "    }\n",
       "</style>\n",
       "<table border=\"1\" class=\"dataframe\">\n",
       "  <thead>\n",
       "    <tr style=\"text-align: right;\">\n",
       "      <th></th>\n",
       "      <th>qry</th>\n",
       "      <th>qry_clean</th>\n",
       "      <th>Twitter</th>\n",
       "      <th>state</th>\n",
       "      <th>district</th>\n",
       "      <th>party</th>\n",
       "      <th>relevance_score</th>\n",
       "    </tr>\n",
       "  </thead>\n",
       "  <tbody>\n",
       "    <tr>\n",
       "      <th>151</th>\n",
       "      <td>Don Young</td>\n",
       "      <td>Don Young</td>\n",
       "      <td>DonYoungAK</td>\n",
       "      <td>AK</td>\n",
       "      <td>0.0</td>\n",
       "      <td>Republican</td>\n",
       "      <td>6.0</td>\n",
       "    </tr>\n",
       "    <tr>\n",
       "      <th>152</th>\n",
       "      <td>Don Young</td>\n",
       "      <td>Don Young</td>\n",
       "      <td>repdonyoung</td>\n",
       "      <td>AK</td>\n",
       "      <td>0.0</td>\n",
       "      <td>Republican</td>\n",
       "      <td>6.0</td>\n",
       "    </tr>\n",
       "    <tr>\n",
       "      <th>153</th>\n",
       "      <td>Bradley Byrne</td>\n",
       "      <td>Bradley Byrne</td>\n",
       "      <td>bradleybyrne</td>\n",
       "      <td>AL</td>\n",
       "      <td>1.0</td>\n",
       "      <td>Republican</td>\n",
       "      <td>5.0</td>\n",
       "    </tr>\n",
       "    <tr>\n",
       "      <th>154</th>\n",
       "      <td>Bradley Byrne</td>\n",
       "      <td>Bradley Byrne</td>\n",
       "      <td>RepByrne</td>\n",
       "      <td>AL</td>\n",
       "      <td>1.0</td>\n",
       "      <td>Republican</td>\n",
       "      <td>5.0</td>\n",
       "    </tr>\n",
       "    <tr>\n",
       "      <th>155</th>\n",
       "      <td>Martha Roby</td>\n",
       "      <td>Martha Roby</td>\n",
       "      <td>RepMarthaRoby</td>\n",
       "      <td>AL</td>\n",
       "      <td>2.0</td>\n",
       "      <td>Republican</td>\n",
       "      <td>6.0</td>\n",
       "    </tr>\n",
       "    <tr>\n",
       "      <th>...</th>\n",
       "      <td>...</td>\n",
       "      <td>...</td>\n",
       "      <td>...</td>\n",
       "      <td>...</td>\n",
       "      <td>...</td>\n",
       "      <td>...</td>\n",
       "      <td>...</td>\n",
       "    </tr>\n",
       "    <tr>\n",
       "      <th>703</th>\n",
       "      <td>Glenn Grothman</td>\n",
       "      <td>Glenn Grothman</td>\n",
       "      <td>RepGrothman</td>\n",
       "      <td>WI</td>\n",
       "      <td>6.0</td>\n",
       "      <td>Republican</td>\n",
       "      <td>6.0</td>\n",
       "    </tr>\n",
       "    <tr>\n",
       "      <th>707</th>\n",
       "      <td>Mike Gallagher</td>\n",
       "      <td>Mike Gallagher</td>\n",
       "      <td>RepGallagher</td>\n",
       "      <td>WI</td>\n",
       "      <td>8.0</td>\n",
       "      <td>Republican</td>\n",
       "      <td>6.0</td>\n",
       "    </tr>\n",
       "    <tr>\n",
       "      <th>708</th>\n",
       "      <td>David McKinley</td>\n",
       "      <td>David McKinley</td>\n",
       "      <td>RepMcKinley</td>\n",
       "      <td>WV</td>\n",
       "      <td>1.0</td>\n",
       "      <td>Republican</td>\n",
       "      <td>6.0</td>\n",
       "    </tr>\n",
       "    <tr>\n",
       "      <th>709</th>\n",
       "      <td>Alex Mooney</td>\n",
       "      <td>Alex Mooney</td>\n",
       "      <td>RepAlexMooney</td>\n",
       "      <td>WV</td>\n",
       "      <td>2.0</td>\n",
       "      <td>Republican</td>\n",
       "      <td>6.0</td>\n",
       "    </tr>\n",
       "    <tr>\n",
       "      <th>711</th>\n",
       "      <td>Liz Cheney</td>\n",
       "      <td>Liz Cheney</td>\n",
       "      <td>RepLizCheney</td>\n",
       "      <td>WY</td>\n",
       "      <td>0.0</td>\n",
       "      <td>Republican</td>\n",
       "      <td>6.0</td>\n",
       "    </tr>\n",
       "  </tbody>\n",
       "</table>\n",
       "<p>532 rows × 7 columns</p>\n",
       "</div>"
      ],
      "text/plain": [
       "                qry       qry_clean        Twitter state  district  \\\n",
       "151       Don Young       Don Young     DonYoungAK    AK       0.0   \n",
       "152       Don Young       Don Young    repdonyoung    AK       0.0   \n",
       "153   Bradley Byrne   Bradley Byrne   bradleybyrne    AL       1.0   \n",
       "154   Bradley Byrne   Bradley Byrne       RepByrne    AL       1.0   \n",
       "155     Martha Roby     Martha Roby  RepMarthaRoby    AL       2.0   \n",
       "..              ...             ...            ...   ...       ...   \n",
       "703  Glenn Grothman  Glenn Grothman    RepGrothman    WI       6.0   \n",
       "707  Mike Gallagher  Mike Gallagher   RepGallagher    WI       8.0   \n",
       "708  David McKinley  David McKinley    RepMcKinley    WV       1.0   \n",
       "709     Alex Mooney     Alex Mooney  RepAlexMooney    WV       2.0   \n",
       "711      Liz Cheney      Liz Cheney   RepLizCheney    WY       0.0   \n",
       "\n",
       "          party  relevance_score  \n",
       "151  Republican              6.0  \n",
       "152  Republican              6.0  \n",
       "153  Republican              5.0  \n",
       "154  Republican              5.0  \n",
       "155  Republican              6.0  \n",
       "..          ...              ...  \n",
       "703  Republican              6.0  \n",
       "707  Republican              6.0  \n",
       "708  Republican              6.0  \n",
       "709  Republican              6.0  \n",
       "711  Republican              6.0  \n",
       "\n",
       "[532 rows x 7 columns]"
      ]
     },
     "execution_count": 101,
     "metadata": {},
     "output_type": "execute_result"
    }
   ],
   "source": [
    "house_clean"
   ]
  },
  {
   "cell_type": "code",
   "execution_count": 102,
   "id": "3c25cdce-491a-4658-a101-f507308f3098",
   "metadata": {},
   "outputs": [],
   "source": [
    "house_clean.to_csv('../data/qry_info.csv', index=False)"
   ]
  },
  {
   "cell_type": "code",
   "execution_count": null,
   "id": "6d446023-46e0-4897-bc0a-488e1df3d9e2",
   "metadata": {},
   "outputs": [],
   "source": []
  }
 ],
 "metadata": {
  "kernelspec": {
   "display_name": "Python 3 (ipykernel)",
   "language": "python",
   "name": "python3"
  },
  "language_info": {
   "codemirror_mode": {
    "name": "ipython",
    "version": 3
   },
   "file_extension": ".py",
   "mimetype": "text/x-python",
   "name": "python",
   "nbconvert_exporter": "python",
   "pygments_lexer": "ipython3",
   "version": "3.10.14"
  }
 },
 "nbformat": 4,
 "nbformat_minor": 5
}
