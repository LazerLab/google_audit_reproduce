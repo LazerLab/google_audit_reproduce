{
 "cells": [
  {
   "cell_type": "markdown",
   "id": "b5278d3f-25db-44e2-af58-6242349867f5",
   "metadata": {},
   "source": [
    "# Partisan domain analysis"
   ]
  },
  {
   "cell_type": "code",
   "execution_count": 28,
   "id": "46b6411c-5120-4722-9363-64556031a3b2",
   "metadata": {},
   "outputs": [],
   "source": [
    "import os\n",
    "import sys\n",
    "import pandas as pd\n",
    "import numpy as np\n",
    "import matplotlib.pyplot as plt\n",
    "from scipy import stats"
   ]
  },
  {
   "cell_type": "markdown",
   "id": "be02d382-e582-4622-ba29-820e12bb2937",
   "metadata": {},
   "source": [
    "## Prepare data"
   ]
  },
  {
   "cell_type": "code",
   "execution_count": 29,
   "id": "eaa34f20-2692-4168-bbc0-fab2b19e16cf",
   "metadata": {},
   "outputs": [],
   "source": [
    "qry_domain = pd.read_csv('/net/lazer/lab-lazer/shared_projects/google_audit_reproduce/intermedidate_files/merged_summary/cleaned_house_qry_domain.csv')"
   ]
  },
  {
   "cell_type": "code",
   "execution_count": 30,
   "id": "ad5f04d0-1780-4f03-a6c0-8b57341215a2",
   "metadata": {},
   "outputs": [],
   "source": [
    "politician_info_dir = \"../data/qry_info.csv\"\n",
    "politician_info = pd.read_csv(politician_info_dir)"
   ]
  },
  {
   "cell_type": "code",
   "execution_count": 31,
   "id": "c6060099-eb64-4c56-9ff6-ac8d8efd3ef7",
   "metadata": {},
   "outputs": [],
   "source": [
    "qry_party_df = pd.merge(qry_domain, politician_info[['qry', 'party']].drop_duplicates(), how=\"left\", on='qry')"
   ]
  },
  {
   "cell_type": "code",
   "execution_count": 32,
   "id": "1be3b9bc-2bfc-41d0-800d-b574853f448d",
   "metadata": {},
   "outputs": [
    {
     "data": {
      "text/plain": [
       "np.int64(660900513)"
      ]
     },
     "execution_count": 32,
     "metadata": {},
     "output_type": "execute_result"
    }
   ],
   "source": [
    "qry_party_df['counts'].sum()"
   ]
  },
  {
   "cell_type": "code",
   "execution_count": 33,
   "id": "b83c1098-ec7b-4053-b86c-f2264f27c712",
   "metadata": {},
   "outputs": [],
   "source": [
    "qry_party_df = qry_party_df.dropna()"
   ]
  },
  {
   "cell_type": "code",
   "execution_count": 34,
   "id": "be2eca62-83a9-42e3-aef0-1a0c586d1504",
   "metadata": {},
   "outputs": [
    {
     "data": {
      "text/plain": [
       "np.int64(633984769)"
      ]
     },
     "execution_count": 34,
     "metadata": {},
     "output_type": "execute_result"
    }
   ],
   "source": [
    "qry_party_df['counts'].sum()"
   ]
  },
  {
   "cell_type": "code",
   "execution_count": 35,
   "id": "1e509986-9279-4570-90f6-ab5c3bdfad8f",
   "metadata": {},
   "outputs": [],
   "source": [
    "party_domain = qry_party_df.groupby(['domain', 'party'], dropna=True, as_index=False)['counts'].sum()"
   ]
  },
  {
   "cell_type": "code",
   "execution_count": 36,
   "id": "c8f74580-4563-4023-b774-3c48744cff47",
   "metadata": {},
   "outputs": [
    {
     "data": {
      "text/plain": [
       "np.int64(633984769)"
      ]
     },
     "execution_count": 36,
     "metadata": {},
     "output_type": "execute_result"
    }
   ],
   "source": [
    "party_domain['counts'].sum()"
   ]
  },
  {
   "cell_type": "code",
   "execution_count": 37,
   "id": "8baf874b-0ff3-4910-b6c6-78bf596bc07e",
   "metadata": {},
   "outputs": [],
   "source": [
    "party_domain.to_csv('../data/house_analysis/house_party_domain_no_duplicate.csv', index=False)  "
   ]
  },
  {
   "cell_type": "markdown",
   "id": "bfe2ef6c-b8b2-4159-a423-322a58fc2eaf",
   "metadata": {},
   "source": [
    "## Basic stats analysis"
   ]
  },
  {
   "cell_type": "code",
   "execution_count": 38,
   "id": "d8c794a0-5bde-4c15-805a-2110077479cf",
   "metadata": {},
   "outputs": [],
   "source": [
    "sum_all_domain = party_domain['counts'].sum()"
   ]
  },
  {
   "cell_type": "code",
   "execution_count": 39,
   "id": "0e7636bb-fbba-4fd1-9cd5-d5a4cffa424c",
   "metadata": {},
   "outputs": [
    {
     "data": {
      "text/plain": [
       "np.int64(633984769)"
      ]
     },
     "execution_count": 39,
     "metadata": {},
     "output_type": "execute_result"
    }
   ],
   "source": [
    "sum_all_domain"
   ]
  },
  {
   "cell_type": "code",
   "execution_count": 40,
   "id": "1df2c6f3-c1a7-4832-9523-203416b5e261",
   "metadata": {},
   "outputs": [],
   "source": [
    "dem_domain = party_domain[party_domain['party']=='Democrat']"
   ]
  },
  {
   "cell_type": "code",
   "execution_count": 41,
   "id": "9d69ea94-7e83-4df2-886f-8e123454e14f",
   "metadata": {},
   "outputs": [],
   "source": [
    "dem_domain = dem_domain.sort_values('counts', ascending=False)"
   ]
  },
  {
   "cell_type": "code",
   "execution_count": 42,
   "id": "4ca3639c-4665-464b-9ab2-c290a7f76b17",
   "metadata": {},
   "outputs": [],
   "source": [
    "sum_dem = dem_domain['counts'].sum()\n",
    "dem_domain[\"proportion\"] = dem_domain['counts'] / sum_dem"
   ]
  },
  {
   "cell_type": "code",
   "execution_count": 43,
   "id": "0dcab0d8-e260-4772-8a42-8aa559304ce8",
   "metadata": {},
   "outputs": [
    {
     "data": {
      "text/plain": [
       "np.int64(351406517)"
      ]
     },
     "execution_count": 43,
     "metadata": {},
     "output_type": "execute_result"
    }
   ],
   "source": [
    "sum_dem"
   ]
  },
  {
   "cell_type": "code",
   "execution_count": 44,
   "id": "649f02fb-1056-4b4c-bf27-945c0ec29392",
   "metadata": {},
   "outputs": [
    {
     "data": {
      "text/plain": [
       "np.float64(0.5542822701470924)"
      ]
     },
     "execution_count": 44,
     "metadata": {},
     "output_type": "execute_result"
    }
   ],
   "source": [
    "sum_dem/sum_all_domain"
   ]
  },
  {
   "cell_type": "code",
   "execution_count": 45,
   "id": "889cd511-1955-4d9d-8828-c5c324daa7ad",
   "metadata": {},
   "outputs": [],
   "source": [
    "rep_domain = party_domain[party_domain['party']=='Republican']\n",
    "rep_domain = rep_domain.sort_values('counts', ascending=False)\n",
    "sum_rep = rep_domain['counts'].sum()\n",
    "rep_domain[\"proportion\"] = rep_domain['counts'] / sum_rep"
   ]
  },
  {
   "cell_type": "code",
   "execution_count": 46,
   "id": "63548f0d-1ddc-4d55-81c7-50199a2084ad",
   "metadata": {},
   "outputs": [
    {
     "data": {
      "text/plain": [
       "np.int64(280077280)"
      ]
     },
     "execution_count": 46,
     "metadata": {},
     "output_type": "execute_result"
    }
   ],
   "source": [
    "sum_rep"
   ]
  },
  {
   "cell_type": "code",
   "execution_count": 47,
   "id": "a93d0177-2ad2-4490-978d-d78a1969a81f",
   "metadata": {},
   "outputs": [
    {
     "data": {
      "text/plain": [
       "np.float64(0.4417728842946383)"
      ]
     },
     "execution_count": 47,
     "metadata": {},
     "output_type": "execute_result"
    }
   ],
   "source": [
    "sum_rep/sum_all_domain"
   ]
  },
  {
   "cell_type": "code",
   "execution_count": 48,
   "id": "f87e5fad-c357-41ec-a596-2f6f47f4eb32",
   "metadata": {},
   "outputs": [],
   "source": [
    "dem_rep_prop = pd.merge(dem_domain[['domain', 'proportion']], rep_domain[['domain', 'proportion']], how=\"outer\", on='domain')"
   ]
  },
  {
   "cell_type": "code",
   "execution_count": 49,
   "id": "1fdf8f34-7bb8-4265-ad78-ca3f027b8502",
   "metadata": {},
   "outputs": [],
   "source": [
    "# Apply the function\n",
    "dem_rep_prop['proportion_x'] = dem_rep_prop['proportion_x'].fillna(0)\n",
    "dem_rep_prop['proportion_y'] = dem_rep_prop['proportion_y'].fillna(0)"
   ]
  },
  {
   "cell_type": "code",
   "execution_count": 50,
   "id": "1d0c3122-d60e-496d-953e-1812ec0c20a7",
   "metadata": {},
   "outputs": [],
   "source": [
    "dem_rep_prop.rename(columns={\"proportion_x\": \"dem_prop\", \"proportion_y\": \"rep_prop\"}, inplace=True)"
   ]
  },
  {
   "cell_type": "code",
   "execution_count": 51,
   "id": "c3c19c2c-fc2d-42d2-8178-77faca88892d",
   "metadata": {},
   "outputs": [
    {
     "data": {
      "text/html": [
       "<div>\n",
       "<style scoped>\n",
       "    .dataframe tbody tr th:only-of-type {\n",
       "        vertical-align: middle;\n",
       "    }\n",
       "\n",
       "    .dataframe tbody tr th {\n",
       "        vertical-align: top;\n",
       "    }\n",
       "\n",
       "    .dataframe thead th {\n",
       "        text-align: right;\n",
       "    }\n",
       "</style>\n",
       "<table border=\"1\" class=\"dataframe\">\n",
       "  <thead>\n",
       "    <tr style=\"text-align: right;\">\n",
       "      <th></th>\n",
       "      <th>domain</th>\n",
       "      <th>dem_prop</th>\n",
       "      <th>rep_prop</th>\n",
       "    </tr>\n",
       "  </thead>\n",
       "  <tbody>\n",
       "    <tr>\n",
       "      <th>0</th>\n",
       "      <td>Katko</td>\n",
       "      <td>0.000000e+00</td>\n",
       "      <td>3.570443e-09</td>\n",
       "    </tr>\n",
       "    <tr>\n",
       "      <th>1</th>\n",
       "      <td>100e53.com</td>\n",
       "      <td>2.561136e-08</td>\n",
       "      <td>0.000000e+00</td>\n",
       "    </tr>\n",
       "    <tr>\n",
       "      <th>2</th>\n",
       "      <td>1011now.com</td>\n",
       "      <td>2.148793e-05</td>\n",
       "      <td>4.551387e-04</td>\n",
       "    </tr>\n",
       "    <tr>\n",
       "      <th>3</th>\n",
       "      <td>101espn.com</td>\n",
       "      <td>0.000000e+00</td>\n",
       "      <td>1.553143e-06</td>\n",
       "    </tr>\n",
       "    <tr>\n",
       "      <th>4</th>\n",
       "      <td>1057news.com</td>\n",
       "      <td>2.845707e-09</td>\n",
       "      <td>0.000000e+00</td>\n",
       "    </tr>\n",
       "    <tr>\n",
       "      <th>...</th>\n",
       "      <td>...</td>\n",
       "      <td>...</td>\n",
       "      <td>...</td>\n",
       "    </tr>\n",
       "    <tr>\n",
       "      <th>8846</th>\n",
       "      <td>zimmerlaw.com</td>\n",
       "      <td>1.138283e-08</td>\n",
       "      <td>0.000000e+00</td>\n",
       "    </tr>\n",
       "    <tr>\n",
       "      <th>8847</th>\n",
       "      <td>zocdoc.com</td>\n",
       "      <td>8.821692e-08</td>\n",
       "      <td>0.000000e+00</td>\n",
       "    </tr>\n",
       "    <tr>\n",
       "      <th>8848</th>\n",
       "      <td>zoelofgren.com</td>\n",
       "      <td>2.409289e-04</td>\n",
       "      <td>0.000000e+00</td>\n",
       "    </tr>\n",
       "    <tr>\n",
       "      <th>8849</th>\n",
       "      <td>zoominfo.com</td>\n",
       "      <td>1.337482e-07</td>\n",
       "      <td>0.000000e+00</td>\n",
       "    </tr>\n",
       "    <tr>\n",
       "      <th>8850</th>\n",
       "      <td>zoro.com</td>\n",
       "      <td>1.422854e-08</td>\n",
       "      <td>1.428177e-08</td>\n",
       "    </tr>\n",
       "  </tbody>\n",
       "</table>\n",
       "<p>8851 rows × 3 columns</p>\n",
       "</div>"
      ],
      "text/plain": [
       "              domain      dem_prop      rep_prop\n",
       "0              Katko  0.000000e+00  3.570443e-09\n",
       "1         100e53.com  2.561136e-08  0.000000e+00\n",
       "2        1011now.com  2.148793e-05  4.551387e-04\n",
       "3        101espn.com  0.000000e+00  1.553143e-06\n",
       "4       1057news.com  2.845707e-09  0.000000e+00\n",
       "...              ...           ...           ...\n",
       "8846   zimmerlaw.com  1.138283e-08  0.000000e+00\n",
       "8847      zocdoc.com  8.821692e-08  0.000000e+00\n",
       "8848  zoelofgren.com  2.409289e-04  0.000000e+00\n",
       "8849    zoominfo.com  1.337482e-07  0.000000e+00\n",
       "8850        zoro.com  1.422854e-08  1.428177e-08\n",
       "\n",
       "[8851 rows x 3 columns]"
      ]
     },
     "execution_count": 51,
     "metadata": {},
     "output_type": "execute_result"
    }
   ],
   "source": [
    "dem_rep_prop"
   ]
  },
  {
   "cell_type": "code",
   "execution_count": 52,
   "id": "ee01b87f-c63f-4663-8990-e8db4e06a217",
   "metadata": {},
   "outputs": [],
   "source": [
    "dem_rep_prop.to_csv('../data/house_analysis/domain_dem_rep_prop.csv', index=False)"
   ]
  },
  {
   "cell_type": "code",
   "execution_count": null,
   "id": "8b205314-40bf-4ae2-b5d1-800643e0939e",
   "metadata": {},
   "outputs": [],
   "source": []
  }
 ],
 "metadata": {
  "kernelspec": {
   "display_name": "Python 3 (ipykernel)",
   "language": "python",
   "name": "python3"
  },
  "language_info": {
   "codemirror_mode": {
    "name": "ipython",
    "version": 3
   },
   "file_extension": ".py",
   "mimetype": "text/x-python",
   "name": "python",
   "nbconvert_exporter": "python",
   "pygments_lexer": "ipython3",
   "version": "3.10.14"
  }
 },
 "nbformat": 4,
 "nbformat_minor": 5
}
