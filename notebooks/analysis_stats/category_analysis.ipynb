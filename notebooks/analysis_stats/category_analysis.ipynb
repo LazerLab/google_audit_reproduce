{
 "cells": [
  {
   "cell_type": "markdown",
   "id": "935424ae-d4b5-4b74-8731-4ba4dc135cd4",
   "metadata": {},
   "source": [
    "# Analysis of stats related to categories"
   ]
  },
  {
   "cell_type": "code",
   "execution_count": 15,
   "id": "e109e31b-ad8e-443b-8cf1-5d5f7fae860f",
   "metadata": {},
   "outputs": [],
   "source": [
    "import matplotlib.pyplot as plt\n",
    "import pandas as pd\n",
    "import os\n",
    "import json\n",
    "import numpy as np"
   ]
  },
  {
   "cell_type": "code",
   "execution_count": 2,
   "id": "7bc96e80-eafd-4403-9218-1af7cc619323",
   "metadata": {},
   "outputs": [],
   "source": [
    "df = pd.read_csv(\"../../data/house_analysis/domain_isnews_islocal_ispolicontrol.csv\")"
   ]
  },
  {
   "cell_type": "code",
   "execution_count": 9,
   "id": "9862ce95-77d9-460e-9285-541b7a69b114",
   "metadata": {},
   "outputs": [],
   "source": [
    "df['rank'] = df['serp_rank']+1"
   ]
  },
  {
   "cell_type": "code",
   "execution_count": 4,
   "id": "711e1795-3a27-4aa5-9ca9-134fa0de658f",
   "metadata": {},
   "outputs": [],
   "source": [
    "total_cnt = df['counts'].sum()"
   ]
  },
  {
   "cell_type": "code",
   "execution_count": 5,
   "id": "cb354b2f-18a3-4526-82e4-156de1ed049c",
   "metadata": {},
   "outputs": [
    {
     "data": {
      "text/plain": [
       "299573378"
      ]
     },
     "execution_count": 5,
     "metadata": {},
     "output_type": "execute_result"
    }
   ],
   "source": [
    "total_cnt"
   ]
  },
  {
   "cell_type": "code",
   "execution_count": 22,
   "id": "c2bd6608-bf95-41b8-837f-8eb86ec61f53",
   "metadata": {},
   "outputs": [],
   "source": [
    "total_domain = len(df['domain'].unique())"
   ]
  },
  {
   "cell_type": "code",
   "execution_count": 23,
   "id": "51811e28-d206-4900-80b5-f80e87b8efa4",
   "metadata": {},
   "outputs": [
    {
     "data": {
      "text/plain": [
       "4220"
      ]
     },
     "execution_count": 23,
     "metadata": {},
     "output_type": "execute_result"
    }
   ],
   "source": [
    "total_domain"
   ]
  },
  {
   "cell_type": "markdown",
   "id": "6197e4fe-c0f7-4eb7-be86-24d365555a88",
   "metadata": {},
   "source": [
    "## catgory counts an proportion in results"
   ]
  },
  {
   "cell_type": "code",
   "execution_count": 10,
   "id": "ee2f1ba7-5de4-4054-bad9-ab9ded046f42",
   "metadata": {},
   "outputs": [],
   "source": [
    "category = df.groupby(['category'], dropna=False, as_index=False)['counts'].sum()"
   ]
  },
  {
   "cell_type": "code",
   "execution_count": 11,
   "id": "e74ba904-d404-47e6-b3b8-17cb72141300",
   "metadata": {},
   "outputs": [],
   "source": [
    "category['proportion'] = category['counts']/total_cnt"
   ]
  },
  {
   "cell_type": "code",
   "execution_count": 12,
   "id": "40fd3e09-9701-4398-b4cc-809d478309c7",
   "metadata": {},
   "outputs": [
    {
     "data": {
      "text/html": [
       "<div>\n",
       "<style scoped>\n",
       "    .dataframe tbody tr th:only-of-type {\n",
       "        vertical-align: middle;\n",
       "    }\n",
       "\n",
       "    .dataframe tbody tr th {\n",
       "        vertical-align: top;\n",
       "    }\n",
       "\n",
       "    .dataframe thead th {\n",
       "        text-align: right;\n",
       "    }\n",
       "</style>\n",
       "<table border=\"1\" class=\"dataframe\">\n",
       "  <thead>\n",
       "    <tr style=\"text-align: right;\">\n",
       "      <th></th>\n",
       "      <th>category</th>\n",
       "      <th>counts</th>\n",
       "      <th>proportion</th>\n",
       "    </tr>\n",
       "  </thead>\n",
       "  <tbody>\n",
       "    <tr>\n",
       "      <th>0</th>\n",
       "      <td>campaign_personal</td>\n",
       "      <td>17478882</td>\n",
       "      <td>0.058346</td>\n",
       "    </tr>\n",
       "    <tr>\n",
       "      <th>1</th>\n",
       "      <td>education</td>\n",
       "      <td>319956</td>\n",
       "      <td>0.001068</td>\n",
       "    </tr>\n",
       "    <tr>\n",
       "      <th>2</th>\n",
       "      <td>gov</td>\n",
       "      <td>55689950</td>\n",
       "      <td>0.185898</td>\n",
       "    </tr>\n",
       "    <tr>\n",
       "      <th>3</th>\n",
       "      <td>news</td>\n",
       "      <td>77207985</td>\n",
       "      <td>0.257726</td>\n",
       "    </tr>\n",
       "    <tr>\n",
       "      <th>4</th>\n",
       "      <td>other_third_party</td>\n",
       "      <td>59792451</td>\n",
       "      <td>0.199592</td>\n",
       "    </tr>\n",
       "    <tr>\n",
       "      <th>5</th>\n",
       "      <td>social</td>\n",
       "      <td>89084154</td>\n",
       "      <td>0.297370</td>\n",
       "    </tr>\n",
       "  </tbody>\n",
       "</table>\n",
       "</div>"
      ],
      "text/plain": [
       "            category    counts  proportion\n",
       "0  campaign_personal  17478882    0.058346\n",
       "1          education    319956    0.001068\n",
       "2                gov  55689950    0.185898\n",
       "3               news  77207985    0.257726\n",
       "4  other_third_party  59792451    0.199592\n",
       "5             social  89084154    0.297370"
      ]
     },
     "execution_count": 12,
     "metadata": {},
     "output_type": "execute_result"
    }
   ],
   "source": [
    "category"
   ]
  },
  {
   "cell_type": "markdown",
   "id": "1ebf3c0a-005a-43f1-979f-9c2717bc425b",
   "metadata": {},
   "source": [
    "## catgory counts an proportion in domain"
   ]
  },
  {
   "cell_type": "code",
   "execution_count": 39,
   "id": "776d7858-8024-42e5-aba3-ac9b737348e7",
   "metadata": {},
   "outputs": [],
   "source": [
    "category_dom = df.drop_duplicates(subset=\"domain\").groupby(['category'], as_index=False).size()"
   ]
  },
  {
   "cell_type": "code",
   "execution_count": 41,
   "id": "d0c5eeef-0a39-4947-b354-c3e2dd4355cf",
   "metadata": {},
   "outputs": [],
   "source": [
    "category_dom['proportion'] = category_dom['size']/total_domain"
   ]
  },
  {
   "cell_type": "code",
   "execution_count": 42,
   "id": "8ca3b356-2474-4515-b7d5-8c5b490e1d5c",
   "metadata": {},
   "outputs": [
    {
     "data": {
      "text/html": [
       "<div>\n",
       "<style scoped>\n",
       "    .dataframe tbody tr th:only-of-type {\n",
       "        vertical-align: middle;\n",
       "    }\n",
       "\n",
       "    .dataframe tbody tr th {\n",
       "        vertical-align: top;\n",
       "    }\n",
       "\n",
       "    .dataframe thead th {\n",
       "        text-align: right;\n",
       "    }\n",
       "</style>\n",
       "<table border=\"1\" class=\"dataframe\">\n",
       "  <thead>\n",
       "    <tr style=\"text-align: right;\">\n",
       "      <th></th>\n",
       "      <th>category</th>\n",
       "      <th>size</th>\n",
       "      <th>proportion</th>\n",
       "    </tr>\n",
       "  </thead>\n",
       "  <tbody>\n",
       "    <tr>\n",
       "      <th>0</th>\n",
       "      <td>campaign_personal</td>\n",
       "      <td>417</td>\n",
       "      <td>0.098815</td>\n",
       "    </tr>\n",
       "    <tr>\n",
       "      <th>1</th>\n",
       "      <td>education</td>\n",
       "      <td>59</td>\n",
       "      <td>0.013981</td>\n",
       "    </tr>\n",
       "    <tr>\n",
       "      <th>2</th>\n",
       "      <td>gov</td>\n",
       "      <td>52</td>\n",
       "      <td>0.012322</td>\n",
       "    </tr>\n",
       "    <tr>\n",
       "      <th>3</th>\n",
       "      <td>news</td>\n",
       "      <td>3324</td>\n",
       "      <td>0.787678</td>\n",
       "    </tr>\n",
       "    <tr>\n",
       "      <th>4</th>\n",
       "      <td>other_third_party</td>\n",
       "      <td>363</td>\n",
       "      <td>0.086019</td>\n",
       "    </tr>\n",
       "    <tr>\n",
       "      <th>5</th>\n",
       "      <td>social</td>\n",
       "      <td>5</td>\n",
       "      <td>0.001185</td>\n",
       "    </tr>\n",
       "  </tbody>\n",
       "</table>\n",
       "</div>"
      ],
      "text/plain": [
       "            category  size  proportion\n",
       "0  campaign_personal   417    0.098815\n",
       "1          education    59    0.013981\n",
       "2                gov    52    0.012322\n",
       "3               news  3324    0.787678\n",
       "4  other_third_party   363    0.086019\n",
       "5             social     5    0.001185"
      ]
     },
     "execution_count": 42,
     "metadata": {},
     "output_type": "execute_result"
    }
   ],
   "source": [
    "category_dom"
   ]
  },
  {
   "cell_type": "markdown",
   "id": "64ae38a1-2a14-4712-8336-411414abb6d3",
   "metadata": {},
   "source": [
    "## average rank of category"
   ]
  },
  {
   "cell_type": "code",
   "execution_count": 13,
   "id": "9154e874-c187-4338-9e1a-ca61c8ad46a1",
   "metadata": {},
   "outputs": [],
   "source": [
    "categories = df['category'].unique()"
   ]
  },
  {
   "cell_type": "code",
   "execution_count": 16,
   "id": "9897da92-b4d6-44f4-a895-a79250757132",
   "metadata": {},
   "outputs": [
    {
     "name": "stdout",
     "output_type": "stream",
     "text": [
      "news : 11.217542848709236\n",
      "other_third_party : 11.681472532377038\n",
      "campaign_personal : 8.388386396795859\n",
      "education : 14.291480703596745\n",
      "gov : 7.235590963899232\n",
      "social : 9.782569277135416\n"
     ]
    }
   ],
   "source": [
    "for cat in categories:\n",
    "    sub_df = df[df['category']==cat]\n",
    "    weighted_avg = np.average(sub_df['rank'], weights=sub_df['counts'])\n",
    "    print(cat, \":\", weighted_avg)"
   ]
  },
  {
   "cell_type": "markdown",
   "id": "0ff6e536-9b2f-402f-a0bd-174ff5d1bb3a",
   "metadata": {},
   "source": [
    "## is_politician_controlled analysis"
   ]
  },
  {
   "cell_type": "code",
   "execution_count": 17,
   "id": "42cecd39-5ae9-4d8d-b031-20d0e2c48103",
   "metadata": {},
   "outputs": [],
   "source": [
    "is_poly = df.groupby(['is_poli_control','rank'], dropna=True, as_index=False)['counts'].sum()"
   ]
  },
  {
   "cell_type": "code",
   "execution_count": 18,
   "id": "120ea0ed-2426-4cce-a463-8b4151e41b08",
   "metadata": {},
   "outputs": [],
   "source": [
    "is_poly_categories = is_poly['is_poli_control'].unique()"
   ]
  },
  {
   "cell_type": "code",
   "execution_count": 19,
   "id": "1c820e45-fe86-4bb1-a075-2920dfa8ac8a",
   "metadata": {},
   "outputs": [
    {
     "name": "stdout",
     "output_type": "stream",
     "text": [
      "False : 12.224093374184198\n",
      "True : 7.438858317029485\n"
     ]
    }
   ],
   "source": [
    "for cat in is_poly_categories:\n",
    "    sub_df = is_poly[is_poly['is_poli_control']==cat]\n",
    "    weighted_avg = np.average(sub_df['rank'], weights=sub_df['counts'])\n",
    "    print(cat, \":\", weighted_avg)"
   ]
  },
  {
   "cell_type": "code",
   "execution_count": 44,
   "id": "fa75595b-f8ea-4bc2-94da-de32b27a09d7",
   "metadata": {},
   "outputs": [],
   "source": [
    "is_polyis_poli_control_grouped = df.groupby(['is_poli_control'], dropna=False, as_index=False)['counts'].sum()"
   ]
  },
  {
   "cell_type": "code",
   "execution_count": 45,
   "id": "e03d8566-b0b5-41db-96c9-41218ac80aea",
   "metadata": {},
   "outputs": [],
   "source": [
    "is_polyis_poli_control_grouped['rate'] = is_polyis_poli_control_grouped['counts']/total_cnt"
   ]
  },
  {
   "cell_type": "code",
   "execution_count": 46,
   "id": "2a257bc7-f0c7-4504-b981-f6cfea0d40da",
   "metadata": {},
   "outputs": [
    {
     "data": {
      "text/html": [
       "<div>\n",
       "<style scoped>\n",
       "    .dataframe tbody tr th:only-of-type {\n",
       "        vertical-align: middle;\n",
       "    }\n",
       "\n",
       "    .dataframe tbody tr th {\n",
       "        vertical-align: top;\n",
       "    }\n",
       "\n",
       "    .dataframe thead th {\n",
       "        text-align: right;\n",
       "    }\n",
       "</style>\n",
       "<table border=\"1\" class=\"dataframe\">\n",
       "  <thead>\n",
       "    <tr style=\"text-align: right;\">\n",
       "      <th></th>\n",
       "      <th>is_poli_control</th>\n",
       "      <th>counts</th>\n",
       "      <th>rate</th>\n",
       "    </tr>\n",
       "  </thead>\n",
       "  <tbody>\n",
       "    <tr>\n",
       "      <th>0</th>\n",
       "      <td>False</td>\n",
       "      <td>159172475</td>\n",
       "      <td>0.531331</td>\n",
       "    </tr>\n",
       "    <tr>\n",
       "      <th>1</th>\n",
       "      <td>True</td>\n",
       "      <td>140400903</td>\n",
       "      <td>0.468669</td>\n",
       "    </tr>\n",
       "  </tbody>\n",
       "</table>\n",
       "</div>"
      ],
      "text/plain": [
       "   is_poli_control     counts      rate\n",
       "0            False  159172475  0.531331\n",
       "1             True  140400903  0.468669"
      ]
     },
     "execution_count": 46,
     "metadata": {},
     "output_type": "execute_result"
    }
   ],
   "source": [
    "is_polyis_poli_control_grouped"
   ]
  },
  {
   "cell_type": "markdown",
   "id": "d8c2b00e-b6c7-4124-926e-674b30df3f93",
   "metadata": {},
   "source": [
    "## is_news_analysis"
   ]
  },
  {
   "cell_type": "code",
   "execution_count": 47,
   "id": "bcc71b4f-1366-4c4e-8dbb-7a1e00972414",
   "metadata": {},
   "outputs": [],
   "source": [
    "is_news = df.groupby(['is_news','rank'], dropna=True, as_index=False)['counts'].sum()"
   ]
  },
  {
   "cell_type": "code",
   "execution_count": 49,
   "id": "69034325-2669-4a6d-a3bc-0b6e59582d0c",
   "metadata": {},
   "outputs": [],
   "source": [
    "is_news_categories = is_news['is_news'].unique()"
   ]
  },
  {
   "cell_type": "code",
   "execution_count": 51,
   "id": "ae292355-209b-473e-82cc-42cf89f2c7cd",
   "metadata": {},
   "outputs": [
    {
     "name": "stdout",
     "output_type": "stream",
     "text": [
      "False : 9.552195660230277\n",
      "True : 11.217542848709236\n"
     ]
    }
   ],
   "source": [
    "for cat in is_news_categories:\n",
    "    sub_df = is_news[is_news['is_news']==cat]\n",
    "    weighted_avg = np.average(sub_df['rank'], weights=sub_df['counts'])\n",
    "    print(cat, \":\", weighted_avg)"
   ]
  },
  {
   "cell_type": "code",
   "execution_count": 52,
   "id": "dc4ee737-ba40-42c9-a849-95643f799f6b",
   "metadata": {},
   "outputs": [],
   "source": [
    "is_news_grouped = df.groupby(['is_news'], dropna=False, as_index=False)['counts'].sum()"
   ]
  },
  {
   "cell_type": "code",
   "execution_count": 53,
   "id": "f34d7572-cdee-4e45-9787-db2b90dac9c0",
   "metadata": {},
   "outputs": [],
   "source": [
    "is_news_grouped['rate'] = is_news_grouped['counts']/total_cnt"
   ]
  },
  {
   "cell_type": "code",
   "execution_count": 54,
   "id": "cb623110-36dd-4b31-96fb-b2c4d2729bfe",
   "metadata": {},
   "outputs": [
    {
     "data": {
      "text/html": [
       "<div>\n",
       "<style scoped>\n",
       "    .dataframe tbody tr th:only-of-type {\n",
       "        vertical-align: middle;\n",
       "    }\n",
       "\n",
       "    .dataframe tbody tr th {\n",
       "        vertical-align: top;\n",
       "    }\n",
       "\n",
       "    .dataframe thead th {\n",
       "        text-align: right;\n",
       "    }\n",
       "</style>\n",
       "<table border=\"1\" class=\"dataframe\">\n",
       "  <thead>\n",
       "    <tr style=\"text-align: right;\">\n",
       "      <th></th>\n",
       "      <th>is_news</th>\n",
       "      <th>counts</th>\n",
       "      <th>rate</th>\n",
       "    </tr>\n",
       "  </thead>\n",
       "  <tbody>\n",
       "    <tr>\n",
       "      <th>0</th>\n",
       "      <td>False</td>\n",
       "      <td>222365393</td>\n",
       "      <td>0.742274</td>\n",
       "    </tr>\n",
       "    <tr>\n",
       "      <th>1</th>\n",
       "      <td>True</td>\n",
       "      <td>77207985</td>\n",
       "      <td>0.257726</td>\n",
       "    </tr>\n",
       "  </tbody>\n",
       "</table>\n",
       "</div>"
      ],
      "text/plain": [
       "   is_news     counts      rate\n",
       "0    False  222365393  0.742274\n",
       "1     True   77207985  0.257726"
      ]
     },
     "execution_count": 54,
     "metadata": {},
     "output_type": "execute_result"
    }
   ],
   "source": [
    "is_news_grouped"
   ]
  }
 ],
 "metadata": {
  "kernelspec": {
   "display_name": "Python 3 (ipykernel)",
   "language": "python",
   "name": "python3"
  },
  "language_info": {
   "codemirror_mode": {
    "name": "ipython",
    "version": 3
   },
   "file_extension": ".py",
   "mimetype": "text/x-python",
   "name": "python",
   "nbconvert_exporter": "python",
   "pygments_lexer": "ipython3",
   "version": "3.10.14"
  }
 },
 "nbformat": 4,
 "nbformat_minor": 5
}
