{
 "cells": [
  {
   "cell_type": "markdown",
   "id": "c930fe4d-9e7e-4fbf-960c-a713ec2f0577",
   "metadata": {},
   "source": [
    "# Partisan domain bias score analysis"
   ]
  },
  {
   "cell_type": "markdown",
   "id": "7ddaf9ef-66d2-4acc-99dd-5e668895a996",
   "metadata": {},
   "source": [
    "This file is to analyze the partisan bias score distribution for searches of the Democratic and Republican members. "
   ]
  },
  {
   "cell_type": "markdown",
   "id": "a61dc8a3-52ce-42af-bcf7-5dbff9bbcc9e",
   "metadata": {},
   "source": [
    "Import the libraries"
   ]
  },
  {
   "cell_type": "code",
   "execution_count": 71,
   "id": "73146687-8cac-4c0f-a3fc-cbf645a25d3c",
   "metadata": {},
   "outputs": [],
   "source": [
    "import os\n",
    "import sys\n",
    "import pandas as pd\n",
    "import numpy as np\n",
    "import matplotlib.pyplot as plt\n",
    "from scipy import stats"
   ]
  },
  {
   "cell_type": "markdown",
   "id": "effa020f-6e03-4cb5-8bf6-8e09742e0f24",
   "metadata": {},
   "source": [
    "Import domain list and their proportions, import bias score from Ronald et al. 2018."
   ]
  },
  {
   "cell_type": "code",
   "execution_count": 72,
   "id": "46b5ad28-88af-4789-861d-8e5981f30d80",
   "metadata": {},
   "outputs": [],
   "source": [
    "dem_rep_prop = pd.read_csv('../data/house_analysis/domain_dem_rep_prop.csv')"
   ]
  },
  {
   "cell_type": "code",
   "execution_count": 73,
   "id": "3bc9cc2b-5569-47c7-9aa8-8acec41c080e",
   "metadata": {},
   "outputs": [],
   "source": [
    "ron_news = pd.read_csv('../data/bias_score_ron_2018.csv')"
   ]
  },
  {
   "cell_type": "markdown",
   "id": "89b1200b-5ca6-4957-8cf2-a6218b123ce2",
   "metadata": {},
   "source": [
    "Attach bias score to the domian list."
   ]
  },
  {
   "cell_type": "code",
   "execution_count": 74,
   "id": "f28254bc-ce98-4e22-919d-856e87048037",
   "metadata": {},
   "outputs": [],
   "source": [
    "domain_ratings = ron_news[ron_news['domain'].isin(dem_rep_prop.domain)]"
   ]
  },
  {
   "cell_type": "code",
   "execution_count": 75,
   "id": "a0b68970-e4fe-4b7e-9337-2d0c83796c9a",
   "metadata": {},
   "outputs": [],
   "source": [
    "all_domain_leaning_prop = pd.merge(dem_rep_prop, domain_ratings[['domain', 'bias_score']].drop_duplicates(), how=\"left\", on='domain')"
   ]
  },
  {
   "cell_type": "code",
   "execution_count": 76,
   "id": "13c4ba18-fe3e-4e88-b40e-bb03abb5b4de",
   "metadata": {},
   "outputs": [
    {
     "data": {
      "text/html": [
       "<div>\n",
       "<style scoped>\n",
       "    .dataframe tbody tr th:only-of-type {\n",
       "        vertical-align: middle;\n",
       "    }\n",
       "\n",
       "    .dataframe tbody tr th {\n",
       "        vertical-align: top;\n",
       "    }\n",
       "\n",
       "    .dataframe thead th {\n",
       "        text-align: right;\n",
       "    }\n",
       "</style>\n",
       "<table border=\"1\" class=\"dataframe\">\n",
       "  <thead>\n",
       "    <tr style=\"text-align: right;\">\n",
       "      <th></th>\n",
       "      <th>domain</th>\n",
       "      <th>dem_prop</th>\n",
       "      <th>rep_prop</th>\n",
       "      <th>bias_score</th>\n",
       "    </tr>\n",
       "  </thead>\n",
       "  <tbody>\n",
       "    <tr>\n",
       "      <th>0</th>\n",
       "      <td>1011now.com</td>\n",
       "      <td>3.210876e-05</td>\n",
       "      <td>0.000607</td>\n",
       "      <td>0.5387</td>\n",
       "    </tr>\n",
       "    <tr>\n",
       "      <th>1</th>\n",
       "      <td>10news.com</td>\n",
       "      <td>6.413415e-05</td>\n",
       "      <td>0.000000</td>\n",
       "      <td>0.3315</td>\n",
       "    </tr>\n",
       "    <tr>\n",
       "      <th>2</th>\n",
       "      <td>10tv.com</td>\n",
       "      <td>1.340624e-04</td>\n",
       "      <td>0.000153</td>\n",
       "      <td>0.1897</td>\n",
       "    </tr>\n",
       "    <tr>\n",
       "      <th>3</th>\n",
       "      <td>11alive.com</td>\n",
       "      <td>3.173479e-04</td>\n",
       "      <td>0.000356</td>\n",
       "      <td>0.1956</td>\n",
       "    </tr>\n",
       "    <tr>\n",
       "      <th>4</th>\n",
       "      <td>12news.com</td>\n",
       "      <td>9.466487e-05</td>\n",
       "      <td>0.000073</td>\n",
       "      <td>0.1167</td>\n",
       "    </tr>\n",
       "    <tr>\n",
       "      <th>...</th>\n",
       "      <td>...</td>\n",
       "      <td>...</td>\n",
       "      <td>...</td>\n",
       "      <td>...</td>\n",
       "    </tr>\n",
       "    <tr>\n",
       "      <th>4214</th>\n",
       "      <td>yubanet.com</td>\n",
       "      <td>1.389276e-05</td>\n",
       "      <td>0.000000</td>\n",
       "      <td>NaN</td>\n",
       "    </tr>\n",
       "    <tr>\n",
       "      <th>4215</th>\n",
       "      <td>zanesvilletimesrecorder.com</td>\n",
       "      <td>0.000000e+00</td>\n",
       "      <td>0.000037</td>\n",
       "      <td>NaN</td>\n",
       "    </tr>\n",
       "    <tr>\n",
       "      <th>4216</th>\n",
       "      <td>zeldinforcongress.com</td>\n",
       "      <td>0.000000e+00</td>\n",
       "      <td>0.000365</td>\n",
       "      <td>NaN</td>\n",
       "    </tr>\n",
       "    <tr>\n",
       "      <th>4217</th>\n",
       "      <td>zerotothree.org</td>\n",
       "      <td>1.846016e-07</td>\n",
       "      <td>0.000000</td>\n",
       "      <td>NaN</td>\n",
       "    </tr>\n",
       "    <tr>\n",
       "      <th>4218</th>\n",
       "      <td>zoelofgren.com</td>\n",
       "      <td>2.840958e-04</td>\n",
       "      <td>0.000000</td>\n",
       "      <td>NaN</td>\n",
       "    </tr>\n",
       "  </tbody>\n",
       "</table>\n",
       "<p>4219 rows × 4 columns</p>\n",
       "</div>"
      ],
      "text/plain": [
       "                           domain      dem_prop  rep_prop  bias_score\n",
       "0                     1011now.com  3.210876e-05  0.000607      0.5387\n",
       "1                      10news.com  6.413415e-05  0.000000      0.3315\n",
       "2                        10tv.com  1.340624e-04  0.000153      0.1897\n",
       "3                     11alive.com  3.173479e-04  0.000356      0.1956\n",
       "4                      12news.com  9.466487e-05  0.000073      0.1167\n",
       "...                           ...           ...       ...         ...\n",
       "4214                  yubanet.com  1.389276e-05  0.000000         NaN\n",
       "4215  zanesvilletimesrecorder.com  0.000000e+00  0.000037         NaN\n",
       "4216        zeldinforcongress.com  0.000000e+00  0.000365         NaN\n",
       "4217              zerotothree.org  1.846016e-07  0.000000         NaN\n",
       "4218               zoelofgren.com  2.840958e-04  0.000000         NaN\n",
       "\n",
       "[4219 rows x 4 columns]"
      ]
     },
     "execution_count": 76,
     "metadata": {},
     "output_type": "execute_result"
    }
   ],
   "source": [
    "all_domain_leaning_prop"
   ]
  },
  {
   "cell_type": "code",
   "execution_count": 77,
   "id": "8a308a13-f9ff-47ce-859e-8c6268e3d0f9",
   "metadata": {},
   "outputs": [],
   "source": [
    "all_domain_leaning_prop.to_csv(\"../data/house_analysis/domain_party_proportion_with_biasscore.csv\", index=False)"
   ]
  },
  {
   "cell_type": "markdown",
   "id": "6edab6ed-1339-4279-b4df-84d706d29694",
   "metadata": {},
   "source": [
    "Calculate the rate of domains with bias score."
   ]
  },
  {
   "cell_type": "code",
   "execution_count": 78,
   "id": "4b4db99a-5d41-4b63-9ce2-035447d2ce2d",
   "metadata": {},
   "outputs": [
    {
     "data": {
      "text/plain": [
       "0.4159753496089121"
      ]
     },
     "execution_count": 78,
     "metadata": {},
     "output_type": "execute_result"
    }
   ],
   "source": [
    "# Coverage rate\n",
    "len(all_domain_leaning_prop.dropna())/len(all_domain_leaning_prop)"
   ]
  },
  {
   "cell_type": "code",
   "execution_count": 79,
   "id": "e5cf5acb-3d90-4c8f-a744-89507dc4e897",
   "metadata": {},
   "outputs": [],
   "source": [
    "all_domain_leaning_prop_no_nan = all_domain_leaning_prop.dropna()"
   ]
  },
  {
   "cell_type": "markdown",
   "id": "345ed7dd-4320-4210-9f88-f34c71114a23",
   "metadata": {},
   "source": [
    "Plot distribution of bias scores for both party. "
   ]
  },
  {
   "cell_type": "code",
   "execution_count": 80,
   "id": "ec867e80-42b8-489b-a4e9-527082080beb",
   "metadata": {},
   "outputs": [
    {
     "data": {
      "image/png": "[encoded data removed]",
      "text/plain": [
       "<Figure size 600x400 with 1 Axes>"
      ]
     },
     "metadata": {},
     "output_type": "display_data"
    }
   ],
   "source": [
    "fig, ax = plt.subplots(figsize = (6, 4))\n",
    "plt.hist(all_domain_leaning_prop_no_nan['bias_score'], edgecolor='black', bins=30, weights=all_domain_leaning_prop_no_nan['dem_prop'], \n",
    "         histtype='step', fill=True, color='#1f77b4', label='Democratic MOC results', alpha = 0.8)\n",
    "plt.hist(all_domain_leaning_prop_no_nan['bias_score'], edgecolor='black', bins=30, weights=all_domain_leaning_prop_no_nan['rep_prop'], \n",
    "         histtype='step', fill=True, color='#d62728', label='Republican MOC results', alpha = 0.8)\n",
    "\n",
    "dem_weighted_avg = np.average(all_domain_leaning_prop_no_nan['bias_score'], weights=all_domain_leaning_prop_no_nan['dem_prop'])\n",
    "plt.axvline(x = dem_weighted_avg, color = 'b',label = 'dem_mean='+str(round(dem_weighted_avg, 3)))\n",
    "rep_weighted_avg = np.average(all_domain_leaning_prop_no_nan['bias_score'], weights=all_domain_leaning_prop_no_nan['rep_prop'])\n",
    "plt.axvline(x = rep_weighted_avg, color = 'r',label = 'rep_mean='+str(round(rep_weighted_avg, 3)))\n",
    "plt.legend()\n",
    " \n",
    "plt.xlabel('Bias score')\n",
    "plt.ylabel('weighted frequency')\n",
    "plt.title(\"Democratic vs. Republican search bias score distribution\")\n",
    "plt.savefig(\"../data/plots/dem_rep_bias_score_dist.png\", bbox_inches='tight', dpi=200) \n",
    "plt.show()"
   ]
  },
  {
   "cell_type": "code",
   "execution_count": 81,
   "id": "32c2e468-1fa9-448c-b7ed-e8cc3ef22cc5",
   "metadata": {},
   "outputs": [
    {
     "data": {
      "text/plain": [
       "(-0.09321695186894131, -0.06226655326891947)"
      ]
     },
     "execution_count": 81,
     "metadata": {},
     "output_type": "execute_result"
    }
   ],
   "source": [
    "dem_weighted_avg, rep_weighted_avg"
   ]
  },
  {
   "cell_type": "code",
   "execution_count": 82,
   "id": "db0d77c2-d07f-4fe8-a6f4-5d5ab6ac7bb6",
   "metadata": {},
   "outputs": [
    {
     "data": {
      "text/plain": [
       "-0.03095039860002184"
      ]
     },
     "execution_count": 82,
     "metadata": {},
     "output_type": "execute_result"
    }
   ],
   "source": [
    "dem_weighted_avg-rep_weighted_avg"
   ]
  },
  {
   "cell_type": "markdown",
   "id": "4d4dfc57-716f-436d-a20b-27fc778b48b3",
   "metadata": {},
   "source": [
    "## Stats test on the difference between distribution for all type domains"
   ]
  },
  {
   "cell_type": "markdown",
   "id": "66af44b4-b7e9-4fe7-8207-19040ea918bb",
   "metadata": {},
   "source": [
    "Define function to calculate weighted ks score. This is to tell us whether the difference between the democratic and republican search result domains is significant. "
   ]
  },
  {
   "cell_type": "code",
   "execution_count": 83,
   "id": "4c094791-039d-44d8-ad70-16d8122626d1",
   "metadata": {},
   "outputs": [],
   "source": [
    "# define weighted ks test\n",
    "# code from https://stackoverflow.com/questions/40044375/how-to-calculate-the-kolmogorov-smirnov-statistic-between-two-weighted-samples\n",
    "from scipy.stats import distributions\n",
    "\n",
    "def ks_weighted(data1, data2, wei1, wei2, alternative='two-sided'):\n",
    "    ix1 = np.argsort(data1)\n",
    "    ix2 = np.argsort(data2)\n",
    "    data1 = data1[ix1]\n",
    "    data2 = data2[ix2]\n",
    "    wei1 = wei1[ix1]\n",
    "    wei2 = wei2[ix2]\n",
    "    data = np.concatenate([data1, data2])\n",
    "    cwei1 = np.hstack([0, np.cumsum(wei1)/sum(wei1)])\n",
    "    cwei2 = np.hstack([0, np.cumsum(wei2)/sum(wei2)])\n",
    "    cdf1we = cwei1[np.searchsorted(data1, data, side='right')]\n",
    "    cdf2we = cwei2[np.searchsorted(data2, data, side='right')]\n",
    "    d = np.max(np.abs(cdf1we - cdf2we))\n",
    "    # calculate p-value\n",
    "    n1 = data1.shape[0]\n",
    "    n2 = data2.shape[0]\n",
    "    m, n = sorted([float(n1), float(n2)], reverse=True)\n",
    "    en = m * n / (m + n)\n",
    "    if alternative == 'two-sided':\n",
    "        prob = distributions.kstwo.sf(d, np.round(en))\n",
    "    else:\n",
    "        z = np.sqrt(en) * d\n",
    "        # Use Hodges' suggested approximation Eqn 5.3\n",
    "        # Requires m to be the larger of (n1, n2)\n",
    "        expt = -2 * z**2 - 2 * z * (m + 2*n)/np.sqrt(m*n*(m+n))/3.0\n",
    "        prob = np.exp(expt)\n",
    "    return d, prob"
   ]
  },
  {
   "cell_type": "markdown",
   "id": "b4854913-c4cb-433b-970f-5d46eeeeaf6a",
   "metadata": {},
   "source": [
    "Calculate weighted bias."
   ]
  },
  {
   "cell_type": "code",
   "execution_count": 84,
   "id": "4b449af7-d049-4aec-a7e4-0a2de6b079c2",
   "metadata": {},
   "outputs": [],
   "source": [
    "bias_scores = np.array(all_domain_leaning_prop_no_nan['bias_score'])\n",
    "dem_prop = np.array(all_domain_leaning_prop_no_nan['dem_prop'])\n",
    "rep_prop = np.array(all_domain_leaning_prop_no_nan['rep_prop'])\n",
    "\n",
    "d, p = ks_weighted(bias_scores, bias_scores, dem_prop, rep_prop, alternative='two-sided')"
   ]
  },
  {
   "cell_type": "code",
   "execution_count": 85,
   "id": "5e157059-9db2-4379-8b02-49663536a9c4",
   "metadata": {},
   "outputs": [
    {
     "data": {
      "text/plain": [
       "(0.059390169205248644, 0.0039126981735898856)"
      ]
     },
     "execution_count": 85,
     "metadata": {},
     "output_type": "execute_result"
    }
   ],
   "source": [
    "d, p"
   ]
  },
  {
   "cell_type": "markdown",
   "id": "5d2ecbac-a6ae-4584-be5c-5b158e8477ca",
   "metadata": {},
   "source": [
    "# News only"
   ]
  },
  {
   "cell_type": "markdown",
   "id": "8d2fe270-27dc-4ac8-bf62-e91a2d58da95",
   "metadata": {},
   "source": [
    "Import domain categories."
   ]
  },
  {
   "cell_type": "code",
   "execution_count": 86,
   "id": "caed782f-1142-4982-bd27-b16025ab4054",
   "metadata": {},
   "outputs": [],
   "source": [
    "allison_cat = pd.read_csv(\"../data/domain_category.csv\")"
   ]
  },
  {
   "cell_type": "code",
   "execution_count": 87,
   "id": "8e2361d2-9120-4df6-8123-3dc5f1db2742",
   "metadata": {},
   "outputs": [],
   "source": [
    "cleaned_cat = allison_cat[['domain','category']].drop_duplicates()"
   ]
  },
  {
   "cell_type": "code",
   "execution_count": 88,
   "id": "244b5371-59f3-4892-b567-287b8955b2ea",
   "metadata": {},
   "outputs": [],
   "source": [
    "all_domain_leaning_prop_cat = pd.merge(all_domain_leaning_prop, cleaned_cat, how=\"left\", on='domain')"
   ]
  },
  {
   "cell_type": "code",
   "execution_count": 89,
   "id": "e962716e-8f11-4abd-94b9-e5312ea3ecb9",
   "metadata": {},
   "outputs": [
    {
     "data": {
      "text/html": [
       "<div>\n",
       "<style scoped>\n",
       "    .dataframe tbody tr th:only-of-type {\n",
       "        vertical-align: middle;\n",
       "    }\n",
       "\n",
       "    .dataframe tbody tr th {\n",
       "        vertical-align: top;\n",
       "    }\n",
       "\n",
       "    .dataframe thead th {\n",
       "        text-align: right;\n",
       "    }\n",
       "</style>\n",
       "<table border=\"1\" class=\"dataframe\">\n",
       "  <thead>\n",
       "    <tr style=\"text-align: right;\">\n",
       "      <th></th>\n",
       "      <th>domain</th>\n",
       "      <th>dem_prop</th>\n",
       "      <th>rep_prop</th>\n",
       "      <th>bias_score</th>\n",
       "      <th>category</th>\n",
       "    </tr>\n",
       "  </thead>\n",
       "  <tbody>\n",
       "    <tr>\n",
       "      <th>0</th>\n",
       "      <td>1011now.com</td>\n",
       "      <td>3.210876e-05</td>\n",
       "      <td>0.000607</td>\n",
       "      <td>0.5387</td>\n",
       "      <td>news</td>\n",
       "    </tr>\n",
       "    <tr>\n",
       "      <th>1</th>\n",
       "      <td>10news.com</td>\n",
       "      <td>6.413415e-05</td>\n",
       "      <td>0.000000</td>\n",
       "      <td>0.3315</td>\n",
       "      <td>news</td>\n",
       "    </tr>\n",
       "    <tr>\n",
       "      <th>2</th>\n",
       "      <td>10tv.com</td>\n",
       "      <td>1.340624e-04</td>\n",
       "      <td>0.000153</td>\n",
       "      <td>0.1897</td>\n",
       "      <td>news</td>\n",
       "    </tr>\n",
       "    <tr>\n",
       "      <th>3</th>\n",
       "      <td>11alive.com</td>\n",
       "      <td>3.173479e-04</td>\n",
       "      <td>0.000356</td>\n",
       "      <td>0.1956</td>\n",
       "      <td>news</td>\n",
       "    </tr>\n",
       "    <tr>\n",
       "      <th>4</th>\n",
       "      <td>12news.com</td>\n",
       "      <td>9.466487e-05</td>\n",
       "      <td>0.000073</td>\n",
       "      <td>0.1167</td>\n",
       "      <td>news</td>\n",
       "    </tr>\n",
       "    <tr>\n",
       "      <th>...</th>\n",
       "      <td>...</td>\n",
       "      <td>...</td>\n",
       "      <td>...</td>\n",
       "      <td>...</td>\n",
       "      <td>...</td>\n",
       "    </tr>\n",
       "    <tr>\n",
       "      <th>4214</th>\n",
       "      <td>yubanet.com</td>\n",
       "      <td>1.389276e-05</td>\n",
       "      <td>0.000000</td>\n",
       "      <td>NaN</td>\n",
       "      <td>news</td>\n",
       "    </tr>\n",
       "    <tr>\n",
       "      <th>4215</th>\n",
       "      <td>zanesvilletimesrecorder.com</td>\n",
       "      <td>0.000000e+00</td>\n",
       "      <td>0.000037</td>\n",
       "      <td>NaN</td>\n",
       "      <td>news</td>\n",
       "    </tr>\n",
       "    <tr>\n",
       "      <th>4216</th>\n",
       "      <td>zeldinforcongress.com</td>\n",
       "      <td>0.000000e+00</td>\n",
       "      <td>0.000365</td>\n",
       "      <td>NaN</td>\n",
       "      <td>campaign_personal</td>\n",
       "    </tr>\n",
       "    <tr>\n",
       "      <th>4217</th>\n",
       "      <td>zerotothree.org</td>\n",
       "      <td>1.846016e-07</td>\n",
       "      <td>0.000000</td>\n",
       "      <td>NaN</td>\n",
       "      <td>other_third_party</td>\n",
       "    </tr>\n",
       "    <tr>\n",
       "      <th>4218</th>\n",
       "      <td>zoelofgren.com</td>\n",
       "      <td>2.840958e-04</td>\n",
       "      <td>0.000000</td>\n",
       "      <td>NaN</td>\n",
       "      <td>campaign_personal</td>\n",
       "    </tr>\n",
       "  </tbody>\n",
       "</table>\n",
       "<p>4219 rows × 5 columns</p>\n",
       "</div>"
      ],
      "text/plain": [
       "                           domain      dem_prop  rep_prop  bias_score  \\\n",
       "0                     1011now.com  3.210876e-05  0.000607      0.5387   \n",
       "1                      10news.com  6.413415e-05  0.000000      0.3315   \n",
       "2                        10tv.com  1.340624e-04  0.000153      0.1897   \n",
       "3                     11alive.com  3.173479e-04  0.000356      0.1956   \n",
       "4                      12news.com  9.466487e-05  0.000073      0.1167   \n",
       "...                           ...           ...       ...         ...   \n",
       "4214                  yubanet.com  1.389276e-05  0.000000         NaN   \n",
       "4215  zanesvilletimesrecorder.com  0.000000e+00  0.000037         NaN   \n",
       "4216        zeldinforcongress.com  0.000000e+00  0.000365         NaN   \n",
       "4217              zerotothree.org  1.846016e-07  0.000000         NaN   \n",
       "4218               zoelofgren.com  2.840958e-04  0.000000         NaN   \n",
       "\n",
       "               category  \n",
       "0                  news  \n",
       "1                  news  \n",
       "2                  news  \n",
       "3                  news  \n",
       "4                  news  \n",
       "...                 ...  \n",
       "4214               news  \n",
       "4215               news  \n",
       "4216  campaign_personal  \n",
       "4217  other_third_party  \n",
       "4218  campaign_personal  \n",
       "\n",
       "[4219 rows x 5 columns]"
      ]
     },
     "execution_count": 89,
     "metadata": {},
     "output_type": "execute_result"
    }
   ],
   "source": [
    "all_domain_leaning_prop_cat"
   ]
  },
  {
   "cell_type": "code",
   "execution_count": 90,
   "id": "b2374cb2-4908-443c-b71f-4873704b547e",
   "metadata": {},
   "outputs": [],
   "source": [
    "news_leaning = all_domain_leaning_prop_cat[all_domain_leaning_prop_cat[\"category\"]==\"news\"]"
   ]
  },
  {
   "cell_type": "code",
   "execution_count": 91,
   "id": "cecd6211-6136-4c7d-bd15-97a7260bb43a",
   "metadata": {},
   "outputs": [],
   "source": [
    "news_leaning_no_nan = news_leaning.dropna()"
   ]
  },
  {
   "cell_type": "code",
   "execution_count": 92,
   "id": "7f33c991-c0ca-4646-8529-345727833917",
   "metadata": {},
   "outputs": [
    {
     "data": {
      "text/plain": [
       "0.4756317689530686"
      ]
     },
     "execution_count": 92,
     "metadata": {},
     "output_type": "execute_result"
    }
   ],
   "source": [
    "len(news_leaning_no_nan)/len(news_leaning)"
   ]
  },
  {
   "cell_type": "code",
   "execution_count": 93,
   "id": "471dfa76-d647-4ed8-aece-dc8a7cfec1be",
   "metadata": {},
   "outputs": [
    {
     "data": {
      "image/png": "[encoded data removed]",
      "text/plain": [
       "<Figure size 600x400 with 1 Axes>"
      ]
     },
     "metadata": {},
     "output_type": "display_data"
    }
   ],
   "source": [
    "fig, ax = plt.subplots(figsize = (6, 4))\n",
    "plt.hist(news_leaning_no_nan['bias_score'], edgecolor='black', bins=30, weights=news_leaning_no_nan['dem_prop'], \n",
    "         histtype='step', fill=True, color='#1f77b4', label='Democratic MOC results', alpha = 0.8)\n",
    "plt.hist(news_leaning_no_nan['bias_score'], edgecolor='black', bins=30, weights=news_leaning_no_nan['rep_prop'], \n",
    "         histtype='step', fill=True, color='#d62728', label='Republican MOC results', alpha = 0.8)\n",
    "\n",
    "dem_weighted_avg = np.average(news_leaning_no_nan['bias_score'], weights=news_leaning_no_nan['dem_prop'])\n",
    "plt.axvline(x = dem_weighted_avg, color = 'b',label = 'dem_mean='+str(round(dem_weighted_avg, 3)))\n",
    "rep_weighted_avg = np.average(news_leaning_no_nan['bias_score'], weights=news_leaning_no_nan['rep_prop'])\n",
    "plt.axvline(x = rep_weighted_avg, color = 'r',label = 'rep_mean='+str(round(rep_weighted_avg, 3)))\n",
    "plt.legend()\n",
    " \n",
    "plt.xlabel('Bias score')\n",
    "plt.ylabel('weighted frequency')\n",
    "plt.title(\"Democratic vs. Republican bias score distribution news only\")\n",
    "plt.savefig(\"../data/plots/dem_rep_news_bias_score_dist.png\", bbox_inches='tight', dpi=200) \n",
    "plt.show()"
   ]
  },
  {
   "cell_type": "code",
   "execution_count": 94,
   "id": "484098d7-e150-4372-9191-baa3520fc649",
   "metadata": {},
   "outputs": [
    {
     "data": {
      "text/plain": [
       "(-0.08200442607366294, 0.030840563211191344)"
      ]
     },
     "execution_count": 94,
     "metadata": {},
     "output_type": "execute_result"
    }
   ],
   "source": [
    "dem_weighted_avg, rep_weighted_avg"
   ]
  },
  {
   "cell_type": "code",
   "execution_count": 95,
   "id": "b3c5c71b-01a0-4d61-bc73-01ec657b284f",
   "metadata": {},
   "outputs": [
    {
     "data": {
      "text/plain": [
       "-0.11284498928485429"
      ]
     },
     "execution_count": 95,
     "metadata": {},
     "output_type": "execute_result"
    }
   ],
   "source": [
    "dem_weighted_avg-rep_weighted_avg"
   ]
  },
  {
   "cell_type": "code",
   "execution_count": 96,
   "id": "0a01f693-a407-4c01-9c30-3823cacc6f02",
   "metadata": {},
   "outputs": [],
   "source": [
    "bias_scores2 = np.array(news_leaning_no_nan['bias_score'])\n",
    "dem_prop2 = np.array(news_leaning_no_nan['dem_prop'])\n",
    "rep_prop2 = np.array(news_leaning_no_nan['rep_prop'])\n",
    "\n",
    "d2, p2 = ks_weighted(bias_scores2, bias_scores2, dem_prop2, rep_prop2, alternative='two-sided')"
   ]
  },
  {
   "cell_type": "code",
   "execution_count": 97,
   "id": "3c53df59-953a-48c9-ac35-27fdec8cd72e",
   "metadata": {},
   "outputs": [
    {
     "data": {
      "text/plain": [
       "(0.17472157023622903, 1.4584122228356128e-21)"
      ]
     },
     "execution_count": 97,
     "metadata": {},
     "output_type": "execute_result"
    }
   ],
   "source": [
    "d2, p2"
   ]
  },
  {
   "cell_type": "code",
   "execution_count": 98,
   "id": "9242f474-d3db-4f58-84da-4c49e85140cd",
   "metadata": {},
   "outputs": [
    {
     "data": {
      "text/plain": [
       "7.815679177479203e-20"
      ]
     },
     "execution_count": 98,
     "metadata": {},
     "output_type": "execute_result"
    }
   ],
   "source": [
    "7.815679177479203e-20"
   ]
  },
  {
   "cell_type": "code",
   "execution_count": null,
   "id": "c0863b21-7c4a-460a-a867-74c4c159f55a",
   "metadata": {},
   "outputs": [],
   "source": []
  }
 ],
 "metadata": {
  "kernelspec": {
   "display_name": "Python 3 (ipykernel)",
   "language": "python",
   "name": "python3"
  },
  "language_info": {
   "codemirror_mode": {
    "name": "ipython",
    "version": 3
   },
   "file_extension": ".py",
   "mimetype": "text/x-python",
   "name": "python",
   "nbconvert_exporter": "python",
   "pygments_lexer": "ipython3",
   "version": "3.10.14"
  }
 },
 "nbformat": 4,
 "nbformat_minor": 5
}
