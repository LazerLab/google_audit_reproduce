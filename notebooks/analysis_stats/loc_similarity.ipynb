{
 "cells": [
  {
   "cell_type": "markdown",
   "id": "82cde1cb-b47f-4fc1-9ed2-c768ca526de2",
   "metadata": {},
   "source": [
    "# Analysis of results from different locations"
   ]
  },
  {
   "cell_type": "code",
   "execution_count": 90,
   "id": "03cb974f-3442-4f04-96ef-e2fa942e1842",
   "metadata": {},
   "outputs": [],
   "source": [
    "import seaborn as sns\n",
    "import matplotlib.pyplot as plt\n",
    "import pandas as pd\n",
    "import os"
   ]
  },
  {
   "cell_type": "markdown",
   "id": "ee6361cb-9451-4ab3-9f6c-9f5fbdaeba9e",
   "metadata": {},
   "source": [
    "## Figure out missing qries"
   ]
  },
  {
   "cell_type": "code",
   "execution_count": 91,
   "id": "1812aeee-b741-4b14-9144-399dacc016ce",
   "metadata": {},
   "outputs": [],
   "source": [
    "rbo_score = pd.read_csv(\"../data/house_analysis/home_random_dist_rbo_similarity_clean_locid.csv\")"
   ]
  },
  {
   "cell_type": "code",
   "execution_count": 92,
   "id": "405fe059-4635-4335-8311-f62b3af885ce",
   "metadata": {},
   "outputs": [],
   "source": [
    "qrys = rbo_score['qry'].unique()"
   ]
  },
  {
   "cell_type": "code",
   "execution_count": 93,
   "id": "41436426-6e73-4d71-888c-53beced2a217",
   "metadata": {},
   "outputs": [
    {
     "data": {
      "text/plain": [
       "417"
      ]
     },
     "execution_count": 93,
     "metadata": {},
     "output_type": "execute_result"
    }
   ],
   "source": [
    "len(qrys)"
   ]
  },
  {
   "cell_type": "code",
   "execution_count": 94,
   "id": "e53302f6-8cd7-48ac-839c-0593a9caf42f",
   "metadata": {},
   "outputs": [],
   "source": [
    "all_qry_df = pd.read_csv(\"../data/qry_info_house_filter.csv\")"
   ]
  },
  {
   "cell_type": "code",
   "execution_count": 95,
   "id": "a633ab73-33ec-4da0-9d08-acb972f9b802",
   "metadata": {},
   "outputs": [],
   "source": [
    "all_qry = all_qry_df['qry'].unique()"
   ]
  },
  {
   "cell_type": "code",
   "execution_count": 96,
   "id": "baf7a99a-c598-445e-a117-f06e8ffb25ab",
   "metadata": {},
   "outputs": [
    {
     "data": {
      "text/plain": [
       "417"
      ]
     },
     "execution_count": 96,
     "metadata": {},
     "output_type": "execute_result"
    }
   ],
   "source": [
    "len(all_qry)"
   ]
  },
  {
   "cell_type": "code",
   "execution_count": 97,
   "id": "527bccd1-6a2c-4fde-bd26-94328306776c",
   "metadata": {},
   "outputs": [],
   "source": [
    "missing_qry = set(all_qry) - set(qrys)"
   ]
  },
  {
   "cell_type": "code",
   "execution_count": 98,
   "id": "385f238d-9e5d-4483-8ff1-88df2602ab61",
   "metadata": {},
   "outputs": [
    {
     "data": {
      "text/plain": [
       "set()"
      ]
     },
     "execution_count": 98,
     "metadata": {},
     "output_type": "execute_result"
    }
   ],
   "source": [
    "missing_qry"
   ]
  },
  {
   "cell_type": "code",
   "execution_count": 99,
   "id": "4e7cae6b-f207-4682-b151-14dcdb264bea",
   "metadata": {},
   "outputs": [],
   "source": [
    "missing_qry_info = all_qry_df[all_qry_df['qry'].isin(missing_qry)]"
   ]
  },
  {
   "cell_type": "code",
   "execution_count": 100,
   "id": "59ff9c6a-b28a-40d7-9cf3-b16c4d121c77",
   "metadata": {},
   "outputs": [
    {
     "data": {
      "text/html": [
       "<div>\n",
       "<style scoped>\n",
       "    .dataframe tbody tr th:only-of-type {\n",
       "        vertical-align: middle;\n",
       "    }\n",
       "\n",
       "    .dataframe tbody tr th {\n",
       "        vertical-align: top;\n",
       "    }\n",
       "\n",
       "    .dataframe thead th {\n",
       "        text-align: right;\n",
       "    }\n",
       "</style>\n",
       "<table border=\"1\" class=\"dataframe\">\n",
       "  <thead>\n",
       "    <tr style=\"text-align: right;\">\n",
       "      <th></th>\n",
       "      <th>Unnamed: 0</th>\n",
       "      <th>qry</th>\n",
       "      <th>qry_clean</th>\n",
       "      <th>governor</th>\n",
       "      <th>congress</th>\n",
       "      <th>candidate</th>\n",
       "      <th>state</th>\n",
       "      <th>district</th>\n",
       "      <th>party</th>\n",
       "      <th>chamber</th>\n",
       "      <th>date_started_position</th>\n",
       "      <th>full_term</th>\n",
       "      <th>relevance_score</th>\n",
       "      <th>in_data</th>\n",
       "      <th>house_analysis_include</th>\n",
       "    </tr>\n",
       "  </thead>\n",
       "  <tbody>\n",
       "  </tbody>\n",
       "</table>\n",
       "</div>"
      ],
      "text/plain": [
       "Empty DataFrame\n",
       "Columns: [Unnamed: 0, qry, qry_clean, governor, congress, candidate, state, district, party, chamber, date_started_position, full_term, relevance_score, in_data, house_analysis_include]\n",
       "Index: []"
      ]
     },
     "execution_count": 100,
     "metadata": {},
     "output_type": "execute_result"
    }
   ],
   "source": [
    "missing_qry_info"
   ]
  },
  {
   "cell_type": "code",
   "execution_count": 101,
   "id": "e1428560-8629-4fb1-bec1-02a336e48534",
   "metadata": {},
   "outputs": [],
   "source": [
    "qry_loc_checkhome = pd.read_csv('../data/house_analysis/qry_loc_checkhome.csv')"
   ]
  },
  {
   "cell_type": "code",
   "execution_count": 102,
   "id": "21931d1c-b5e5-4d05-8196-94344b76bea4",
   "metadata": {},
   "outputs": [
    {
     "data": {
      "text/plain": [
       "417"
      ]
     },
     "execution_count": 102,
     "metadata": {},
     "output_type": "execute_result"
    }
   ],
   "source": [
    "len(qry_loc_checkhome['qry'].unique())"
   ]
  },
  {
   "cell_type": "code",
   "execution_count": 103,
   "id": "1b6e30bb-5ebe-408c-b4ea-784d6721e827",
   "metadata": {},
   "outputs": [],
   "source": [
    "missing_qry_checkhome = qry_loc_checkhome[qry_loc_checkhome['qry'].isin(missing_qry)]"
   ]
  },
  {
   "cell_type": "code",
   "execution_count": 104,
   "id": "85c0b636-6394-4d8f-bcc5-9680a5b44f19",
   "metadata": {},
   "outputs": [
    {
     "data": {
      "text/html": [
       "<div>\n",
       "<style scoped>\n",
       "    .dataframe tbody tr th:only-of-type {\n",
       "        vertical-align: middle;\n",
       "    }\n",
       "\n",
       "    .dataframe tbody tr th {\n",
       "        vertical-align: top;\n",
       "    }\n",
       "\n",
       "    .dataframe thead th {\n",
       "        text-align: right;\n",
       "    }\n",
       "</style>\n",
       "<table border=\"1\" class=\"dataframe\">\n",
       "  <thead>\n",
       "    <tr style=\"text-align: right;\">\n",
       "      <th></th>\n",
       "      <th>qry</th>\n",
       "      <th>loc_id</th>\n",
       "      <th>loc_id_clean</th>\n",
       "      <th>srch_state</th>\n",
       "      <th>srch_district</th>\n",
       "      <th>party</th>\n",
       "      <th>home_state</th>\n",
       "      <th>home_district</th>\n",
       "      <th>is_home_state</th>\n",
       "      <th>is_home_district</th>\n",
       "    </tr>\n",
       "  </thead>\n",
       "  <tbody>\n",
       "  </tbody>\n",
       "</table>\n",
       "</div>"
      ],
      "text/plain": [
       "Empty DataFrame\n",
       "Columns: [qry, loc_id, loc_id_clean, srch_state, srch_district, party, home_state, home_district, is_home_state, is_home_district]\n",
       "Index: []"
      ]
     },
     "execution_count": 104,
     "metadata": {},
     "output_type": "execute_result"
    }
   ],
   "source": [
    "missing_qry_checkhome[(missing_qry_checkhome['qry']== 'Liz Cheney')&(missing_qry_checkhome['srch_state']=='WY')]"
   ]
  },
  {
   "cell_type": "markdown",
   "id": "02e8d658-cad3-4394-87ca-543a55ff4241",
   "metadata": {
    "jp-MarkdownHeadingCollapsed": true
   },
   "source": [
    "## Combine missing and current"
   ]
  },
  {
   "cell_type": "code",
   "execution_count": 56,
   "id": "5a52e6a7-2d01-48f6-a27a-9b653447f133",
   "metadata": {},
   "outputs": [],
   "source": [
    "rbo_score_missing = pd.read_csv(\"../data/house_analysis/home_random_dist_rbo_similarity_clean_locid_just_missing.csv\")"
   ]
  },
  {
   "cell_type": "code",
   "execution_count": 58,
   "id": "0e6b005d-74c3-4174-8543-cd0194959ee5",
   "metadata": {},
   "outputs": [],
   "source": [
    "rbo_score_full = pd.concat([rbo_score_missing, rbo_score])"
   ]
  },
  {
   "cell_type": "code",
   "execution_count": 60,
   "id": "56fe2c7e-119d-4abc-9526-fc6bffeac7fe",
   "metadata": {},
   "outputs": [],
   "source": [
    "rbo_score_full.to_csv(\"../data/house_analysis/home_random_dist_rbo_similarity_clean_locid.csv\", index=False)"
   ]
  },
  {
   "cell_type": "markdown",
   "id": "f8782db7-e3df-4d12-a327-00c4df5656d9",
   "metadata": {},
   "source": [
    "## Analysis of score"
   ]
  },
  {
   "cell_type": "code",
   "execution_count": 105,
   "id": "6c3f9945-88a5-4342-bf70-422042e554ee",
   "metadata": {},
   "outputs": [
    {
     "data": {
      "text/html": [
       "<div>\n",
       "<style scoped>\n",
       "    .dataframe tbody tr th:only-of-type {\n",
       "        vertical-align: middle;\n",
       "    }\n",
       "\n",
       "    .dataframe tbody tr th {\n",
       "        vertical-align: top;\n",
       "    }\n",
       "\n",
       "    .dataframe thead th {\n",
       "        text-align: right;\n",
       "    }\n",
       "</style>\n",
       "<table border=\"1\" class=\"dataframe\">\n",
       "  <thead>\n",
       "    <tr style=\"text-align: right;\">\n",
       "      <th></th>\n",
       "      <th>crawl_id</th>\n",
       "      <th>qry</th>\n",
       "      <th>home_dist</th>\n",
       "      <th>random_dist</th>\n",
       "      <th>home_result_length</th>\n",
       "      <th>random_dist_result_length</th>\n",
       "      <th>rbo_similarity</th>\n",
       "    </tr>\n",
       "  </thead>\n",
       "  <tbody>\n",
       "    <tr>\n",
       "      <th>0</th>\n",
       "      <td>20201007</td>\n",
       "      <td>Brad Wenstrup</td>\n",
       "      <td>OH-2</td>\n",
       "      <td>FL-10</td>\n",
       "      <td>15</td>\n",
       "      <td>15</td>\n",
       "      <td>1</td>\n",
       "    </tr>\n",
       "    <tr>\n",
       "      <th>1</th>\n",
       "      <td>20201215</td>\n",
       "      <td>Brad Wenstrup</td>\n",
       "      <td>OH-2</td>\n",
       "      <td>CO-3</td>\n",
       "      <td>15</td>\n",
       "      <td>15</td>\n",
       "      <td>1</td>\n",
       "    </tr>\n",
       "    <tr>\n",
       "      <th>2</th>\n",
       "      <td>20201211</td>\n",
       "      <td>Brad Wenstrup</td>\n",
       "      <td>OH-2</td>\n",
       "      <td>OR-5</td>\n",
       "      <td>14</td>\n",
       "      <td>14</td>\n",
       "      <td>1</td>\n",
       "    </tr>\n",
       "    <tr>\n",
       "      <th>3</th>\n",
       "      <td>20201014</td>\n",
       "      <td>Brad Wenstrup</td>\n",
       "      <td>OH-2</td>\n",
       "      <td>PA-10</td>\n",
       "      <td>18</td>\n",
       "      <td>18</td>\n",
       "      <td>1</td>\n",
       "    </tr>\n",
       "    <tr>\n",
       "      <th>4</th>\n",
       "      <td>20200921</td>\n",
       "      <td>Brad Wenstrup</td>\n",
       "      <td>OH-2</td>\n",
       "      <td>CA-51</td>\n",
       "      <td>15</td>\n",
       "      <td>15</td>\n",
       "      <td>1</td>\n",
       "    </tr>\n",
       "    <tr>\n",
       "      <th>...</th>\n",
       "      <td>...</td>\n",
       "      <td>...</td>\n",
       "      <td>...</td>\n",
       "      <td>...</td>\n",
       "      <td>...</td>\n",
       "      <td>...</td>\n",
       "      <td>...</td>\n",
       "    </tr>\n",
       "    <tr>\n",
       "      <th>4165</th>\n",
       "      <td>20201112</td>\n",
       "      <td>Frank Lucas</td>\n",
       "      <td>OK-3</td>\n",
       "      <td>OK-4</td>\n",
       "      <td>16</td>\n",
       "      <td>16</td>\n",
       "      <td>1</td>\n",
       "    </tr>\n",
       "    <tr>\n",
       "      <th>4166</th>\n",
       "      <td>20201222</td>\n",
       "      <td>Frank Lucas</td>\n",
       "      <td>OK-3</td>\n",
       "      <td>PA-6</td>\n",
       "      <td>13</td>\n",
       "      <td>13</td>\n",
       "      <td>1</td>\n",
       "    </tr>\n",
       "    <tr>\n",
       "      <th>4167</th>\n",
       "      <td>20201221</td>\n",
       "      <td>Frank Lucas</td>\n",
       "      <td>OK-3</td>\n",
       "      <td>CA-44</td>\n",
       "      <td>13</td>\n",
       "      <td>13</td>\n",
       "      <td>1</td>\n",
       "    </tr>\n",
       "    <tr>\n",
       "      <th>4168</th>\n",
       "      <td>20201125</td>\n",
       "      <td>Frank Lucas</td>\n",
       "      <td>OK-3</td>\n",
       "      <td>OH-2</td>\n",
       "      <td>17</td>\n",
       "      <td>17</td>\n",
       "      <td>1</td>\n",
       "    </tr>\n",
       "    <tr>\n",
       "      <th>4169</th>\n",
       "      <td>20201218</td>\n",
       "      <td>Frank Lucas</td>\n",
       "      <td>OK-3</td>\n",
       "      <td>MI-9</td>\n",
       "      <td>15</td>\n",
       "      <td>15</td>\n",
       "      <td>1</td>\n",
       "    </tr>\n",
       "  </tbody>\n",
       "</table>\n",
       "<p>4170 rows × 7 columns</p>\n",
       "</div>"
      ],
      "text/plain": [
       "      crawl_id            qry home_dist random_dist  home_result_length  \\\n",
       "0     20201007  Brad Wenstrup      OH-2       FL-10                  15   \n",
       "1     20201215  Brad Wenstrup      OH-2        CO-3                  15   \n",
       "2     20201211  Brad Wenstrup      OH-2        OR-5                  14   \n",
       "3     20201014  Brad Wenstrup      OH-2       PA-10                  18   \n",
       "4     20200921  Brad Wenstrup      OH-2       CA-51                  15   \n",
       "...        ...            ...       ...         ...                 ...   \n",
       "4165  20201112    Frank Lucas      OK-3        OK-4                  16   \n",
       "4166  20201222    Frank Lucas      OK-3        PA-6                  13   \n",
       "4167  20201221    Frank Lucas      OK-3       CA-44                  13   \n",
       "4168  20201125    Frank Lucas      OK-3        OH-2                  17   \n",
       "4169  20201218    Frank Lucas      OK-3        MI-9                  15   \n",
       "\n",
       "      random_dist_result_length  rbo_similarity  \n",
       "0                            15               1  \n",
       "1                            15               1  \n",
       "2                            14               1  \n",
       "3                            18               1  \n",
       "4                            15               1  \n",
       "...                         ...             ...  \n",
       "4165                         16               1  \n",
       "4166                         13               1  \n",
       "4167                         13               1  \n",
       "4168                         17               1  \n",
       "4169                         15               1  \n",
       "\n",
       "[4170 rows x 7 columns]"
      ]
     },
     "execution_count": 105,
     "metadata": {},
     "output_type": "execute_result"
    }
   ],
   "source": [
    "rbo_score"
   ]
  },
  {
   "cell_type": "code",
   "execution_count": 106,
   "id": "ef6f5965-b5a8-46c5-b143-6a9d19ac0c47",
   "metadata": {},
   "outputs": [
    {
     "data": {
      "image/png": "[encoded data removed]",
      "text/plain": [
       "<Figure size 1200x800 with 1 Axes>"
      ]
     },
     "metadata": {},
     "output_type": "display_data"
    }
   ],
   "source": [
    "fig = plt.figure(figsize = (12, 8))\n",
    "\n",
    "plt.hist(rbo_score['rbo_similarity'], edgecolor='black', bins=50)\n",
    "# plt.xticks(rotation='vertical')\n",
    " \n",
    "plt.xlabel(\"Rbo similarity\")\n",
    "plt.ylabel(\"Frequency\")\n",
    "plt.title(\"Distribution of number of rbo similarity\")\n",
    "plt.savefig(\"../data/plots/loc_rbo_similarity.png\", bbox_inches='tight', dpi=200) \n",
    "plt.show()"
   ]
  },
  {
   "cell_type": "code",
   "execution_count": null,
   "id": "f837bbdf-f8a1-4d6b-82ec-c62f6167b9b1",
   "metadata": {},
   "outputs": [],
   "source": []
  },
  {
   "cell_type": "code",
   "execution_count": null,
   "id": "2529ecee-da7c-4308-bf90-d4e7672488a2",
   "metadata": {},
   "outputs": [],
   "source": []
  }
 ],
 "metadata": {
  "kernelspec": {
   "display_name": "Python 3 (ipykernel)",
   "language": "python",
   "name": "python3"
  },
  "language_info": {
   "codemirror_mode": {
    "name": "ipython",
    "version": 3
   },
   "file_extension": ".py",
   "mimetype": "text/x-python",
   "name": "python",
   "nbconvert_exporter": "python",
   "pygments_lexer": "ipython3",
   "version": "3.10.14"
  }
 },
 "nbformat": 4,
 "nbformat_minor": 5
}
