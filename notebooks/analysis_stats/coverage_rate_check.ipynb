{
 "cells": [
  {
   "cell_type": "markdown",
   "id": "63d73f1a-8394-4270-b639-d62b80882247",
   "metadata": {},
   "source": [
    "# Analysis of coverage rate of labels"
   ]
  },
  {
   "cell_type": "code",
   "execution_count": 2,
   "id": "9a8efca9-bc3f-4aba-a8e1-4a5d7d480b7d",
   "metadata": {},
   "outputs": [],
   "source": [
    "import os\n",
    "import sys\n",
    "import pandas as pd\n",
    "import matplotlib.pyplot as plt"
   ]
  },
  {
   "cell_type": "markdown",
   "id": "6cdf386b-6b6a-4782-884a-f7f54986b1b0",
   "metadata": {},
   "source": [
    "## Coverage rate of bias score"
   ]
  },
  {
   "cell_type": "code",
   "execution_count": 3,
   "id": "7ee16337-95ab-4eb4-bb14-6175cf918735",
   "metadata": {},
   "outputs": [],
   "source": [
    "ron_news = pd.read_csv('../data/bias_score_ron_2018.csv')"
   ]
  },
  {
   "cell_type": "code",
   "execution_count": 5,
   "id": "90c489c0-6fef-4f13-94b2-97c4b91f843a",
   "metadata": {},
   "outputs": [],
   "source": [
    "domain_counts = pd.read_csv('../data/house_analysis/house_domain_counts_unique.csv')"
   ]
  },
  {
   "cell_type": "code",
   "execution_count": 6,
   "id": "b6160b97-8878-4820-b477-3316bb212009",
   "metadata": {},
   "outputs": [],
   "source": [
    "domain_ratings = ron_news[ron_news['domain'].isin(domain_counts.domain)]"
   ]
  },
  {
   "cell_type": "code",
   "execution_count": 7,
   "id": "b62ab8b6-a273-42ed-80e6-1ecee2c7adce",
   "metadata": {},
   "outputs": [],
   "source": [
    "domain_counts_rating = pd.merge(domain_counts, domain_ratings[['domain', 'bias_score']].drop_duplicates(), how=\"left\", on='domain')"
   ]
  },
  {
   "cell_type": "code",
   "execution_count": 8,
   "id": "4f57a0b8-3ffa-4f4a-8788-811b64637bf3",
   "metadata": {},
   "outputs": [
    {
     "data": {
      "text/html": [
       "<div>\n",
       "<style scoped>\n",
       "    .dataframe tbody tr th:only-of-type {\n",
       "        vertical-align: middle;\n",
       "    }\n",
       "\n",
       "    .dataframe tbody tr th {\n",
       "        vertical-align: top;\n",
       "    }\n",
       "\n",
       "    .dataframe thead th {\n",
       "        text-align: right;\n",
       "    }\n",
       "</style>\n",
       "<table border=\"1\" class=\"dataframe\">\n",
       "  <thead>\n",
       "    <tr style=\"text-align: right;\">\n",
       "      <th></th>\n",
       "      <th>domain</th>\n",
       "      <th>counts</th>\n",
       "      <th>bias_score</th>\n",
       "    </tr>\n",
       "  </thead>\n",
       "  <tbody>\n",
       "    <tr>\n",
       "      <th>0</th>\n",
       "      <td>house.gov</td>\n",
       "      <td>36733901</td>\n",
       "      <td>-0.4210</td>\n",
       "    </tr>\n",
       "    <tr>\n",
       "      <th>1</th>\n",
       "      <td>twitter.com</td>\n",
       "      <td>21425656</td>\n",
       "      <td>0.0535</td>\n",
       "    </tr>\n",
       "    <tr>\n",
       "      <th>2</th>\n",
       "      <td>wikipedia.org</td>\n",
       "      <td>20333607</td>\n",
       "      <td>NaN</td>\n",
       "    </tr>\n",
       "    <tr>\n",
       "      <th>3</th>\n",
       "      <td>ballotpedia.org</td>\n",
       "      <td>18266482</td>\n",
       "      <td>-0.0038</td>\n",
       "    </tr>\n",
       "    <tr>\n",
       "      <th>4</th>\n",
       "      <td>govtrack.us</td>\n",
       "      <td>16055632</td>\n",
       "      <td>-0.0411</td>\n",
       "    </tr>\n",
       "    <tr>\n",
       "      <th>...</th>\n",
       "      <td>...</td>\n",
       "      <td>...</td>\n",
       "      <td>...</td>\n",
       "    </tr>\n",
       "    <tr>\n",
       "      <th>4215</th>\n",
       "      <td>factcheck.org</td>\n",
       "      <td>1</td>\n",
       "      <td>-0.3078</td>\n",
       "    </tr>\n",
       "    <tr>\n",
       "      <th>4216</th>\n",
       "      <td>bedfordgazette.com</td>\n",
       "      <td>1</td>\n",
       "      <td>NaN</td>\n",
       "    </tr>\n",
       "    <tr>\n",
       "      <th>4217</th>\n",
       "      <td>becauseofthemwecan.com</td>\n",
       "      <td>1</td>\n",
       "      <td>-0.7454</td>\n",
       "    </tr>\n",
       "    <tr>\n",
       "      <th>4218</th>\n",
       "      <td>conservapedia.com</td>\n",
       "      <td>1</td>\n",
       "      <td>NaN</td>\n",
       "    </tr>\n",
       "    <tr>\n",
       "      <th>4219</th>\n",
       "      <td>wonkette.com</td>\n",
       "      <td>1</td>\n",
       "      <td>-0.7557</td>\n",
       "    </tr>\n",
       "  </tbody>\n",
       "</table>\n",
       "<p>4220 rows × 3 columns</p>\n",
       "</div>"
      ],
      "text/plain": [
       "                      domain    counts  bias_score\n",
       "0                  house.gov  36733901     -0.4210\n",
       "1                twitter.com  21425656      0.0535\n",
       "2              wikipedia.org  20333607         NaN\n",
       "3            ballotpedia.org  18266482     -0.0038\n",
       "4                govtrack.us  16055632     -0.0411\n",
       "...                      ...       ...         ...\n",
       "4215           factcheck.org         1     -0.3078\n",
       "4216      bedfordgazette.com         1         NaN\n",
       "4217  becauseofthemwecan.com         1     -0.7454\n",
       "4218       conservapedia.com         1         NaN\n",
       "4219            wonkette.com         1     -0.7557\n",
       "\n",
       "[4220 rows x 3 columns]"
      ]
     },
     "execution_count": 8,
     "metadata": {},
     "output_type": "execute_result"
    }
   ],
   "source": [
    "domain_counts_rating"
   ]
  },
  {
   "cell_type": "code",
   "execution_count": 9,
   "id": "c9865dd6-87d3-4f88-8418-16540b70f261",
   "metadata": {},
   "outputs": [],
   "source": [
    "domain_counts_rating_nona = domain_counts_rating.dropna(subset=\"bias_score\")"
   ]
  },
  {
   "cell_type": "code",
   "execution_count": 10,
   "id": "c96a57b8-2899-4d85-9bdf-7ff7589ac975",
   "metadata": {},
   "outputs": [],
   "source": [
    "coverage_rate = domain_counts_rating_nona[\"counts\"].sum()/domain_counts[\"counts\"].sum()"
   ]
  },
  {
   "cell_type": "code",
   "execution_count": 11,
   "id": "c3de0b50-767e-4cf3-a53b-f4cf8dd9c34f",
   "metadata": {},
   "outputs": [
    {
     "data": {
      "text/plain": [
       "0.7600670429901434"
      ]
     },
     "execution_count": 11,
     "metadata": {},
     "output_type": "execute_result"
    }
   ],
   "source": [
    "coverage_rate"
   ]
  },
  {
   "cell_type": "code",
   "execution_count": 12,
   "id": "574de38c-87cd-4671-9146-dbc614193bf1",
   "metadata": {},
   "outputs": [],
   "source": [
    "df_category_grouped_class = pd.read_csv(\"../data/house_analysis/domain_rank_ishome_category_counts.csv\")"
   ]
  },
  {
   "cell_type": "code",
   "execution_count": 14,
   "id": "482e2897-ade6-44d1-bf6a-37a448ed2b3f",
   "metadata": {},
   "outputs": [],
   "source": [
    "domain_cat = df_category_grouped_class.groupby(['domain', 'category'], dropna=False, as_index=False)['counts'].sum()"
   ]
  },
  {
   "cell_type": "code",
   "execution_count": 15,
   "id": "7e1a08bf-f09a-4515-bd94-0283254646f2",
   "metadata": {},
   "outputs": [
    {
     "data": {
      "text/html": [
       "<div>\n",
       "<style scoped>\n",
       "    .dataframe tbody tr th:only-of-type {\n",
       "        vertical-align: middle;\n",
       "    }\n",
       "\n",
       "    .dataframe tbody tr th {\n",
       "        vertical-align: top;\n",
       "    }\n",
       "\n",
       "    .dataframe thead th {\n",
       "        text-align: right;\n",
       "    }\n",
       "</style>\n",
       "<table border=\"1\" class=\"dataframe\">\n",
       "  <thead>\n",
       "    <tr style=\"text-align: right;\">\n",
       "      <th></th>\n",
       "      <th>domain</th>\n",
       "      <th>category</th>\n",
       "      <th>counts</th>\n",
       "    </tr>\n",
       "  </thead>\n",
       "  <tbody>\n",
       "    <tr>\n",
       "      <th>0</th>\n",
       "      <td>1011now.com</td>\n",
       "      <td>news</td>\n",
       "      <td>84832</td>\n",
       "    </tr>\n",
       "    <tr>\n",
       "      <th>1</th>\n",
       "      <td>10news.com</td>\n",
       "      <td>news</td>\n",
       "      <td>9462</td>\n",
       "    </tr>\n",
       "    <tr>\n",
       "      <th>2</th>\n",
       "      <td>10tv.com</td>\n",
       "      <td>news</td>\n",
       "      <td>42497</td>\n",
       "    </tr>\n",
       "    <tr>\n",
       "      <th>3</th>\n",
       "      <td>11alive.com</td>\n",
       "      <td>news</td>\n",
       "      <td>98272</td>\n",
       "    </tr>\n",
       "    <tr>\n",
       "      <th>4</th>\n",
       "      <td>12news.com</td>\n",
       "      <td>news</td>\n",
       "      <td>25414</td>\n",
       "    </tr>\n",
       "    <tr>\n",
       "      <th>...</th>\n",
       "      <td>...</td>\n",
       "      <td>...</td>\n",
       "      <td>...</td>\n",
       "    </tr>\n",
       "    <tr>\n",
       "      <th>4215</th>\n",
       "      <td>yubanet.com</td>\n",
       "      <td>news</td>\n",
       "      <td>1928</td>\n",
       "    </tr>\n",
       "    <tr>\n",
       "      <th>4216</th>\n",
       "      <td>zanesvilletimesrecorder.com</td>\n",
       "      <td>news</td>\n",
       "      <td>4882</td>\n",
       "    </tr>\n",
       "    <tr>\n",
       "      <th>4217</th>\n",
       "      <td>zeldinforcongress.com</td>\n",
       "      <td>campaign_personal</td>\n",
       "      <td>47752</td>\n",
       "    </tr>\n",
       "    <tr>\n",
       "      <th>4218</th>\n",
       "      <td>zerotothree.org</td>\n",
       "      <td>other_third_party</td>\n",
       "      <td>31</td>\n",
       "    </tr>\n",
       "    <tr>\n",
       "      <th>4219</th>\n",
       "      <td>zoelofgren.com</td>\n",
       "      <td>campaign_personal</td>\n",
       "      <td>47708</td>\n",
       "    </tr>\n",
       "  </tbody>\n",
       "</table>\n",
       "<p>4220 rows × 3 columns</p>\n",
       "</div>"
      ],
      "text/plain": [
       "                           domain           category  counts\n",
       "0                     1011now.com               news   84832\n",
       "1                      10news.com               news    9462\n",
       "2                        10tv.com               news   42497\n",
       "3                     11alive.com               news   98272\n",
       "4                      12news.com               news   25414\n",
       "...                           ...                ...     ...\n",
       "4215                  yubanet.com               news    1928\n",
       "4216  zanesvilletimesrecorder.com               news    4882\n",
       "4217        zeldinforcongress.com  campaign_personal   47752\n",
       "4218              zerotothree.org  other_third_party      31\n",
       "4219               zoelofgren.com  campaign_personal   47708\n",
       "\n",
       "[4220 rows x 3 columns]"
      ]
     },
     "execution_count": 15,
     "metadata": {},
     "output_type": "execute_result"
    }
   ],
   "source": [
    "domain_cat"
   ]
  },
  {
   "cell_type": "code",
   "execution_count": 16,
   "id": "850f2598-98fc-46fb-8571-3853279c12fd",
   "metadata": {},
   "outputs": [
    {
     "data": {
      "text/plain": [
       "243169345"
      ]
     },
     "execution_count": 16,
     "metadata": {},
     "output_type": "execute_result"
    }
   ],
   "source": [
    "domain_cat[\"counts\"].sum()"
   ]
  },
  {
   "cell_type": "code",
   "execution_count": 19,
   "id": "5708acd7-284d-4b1f-ace8-764786d3530a",
   "metadata": {},
   "outputs": [],
   "source": [
    "news_domains = domain_cat[domain_cat[\"category\"]==\"news\"][\"domain\"]"
   ]
  },
  {
   "cell_type": "code",
   "execution_count": 20,
   "id": "074d2d64-ffbf-459b-b181-b8d274bc7699",
   "metadata": {},
   "outputs": [],
   "source": [
    "news_rating = domain_counts_rating[domain_counts_rating[\"domain\"].isin(news_domains)]"
   ]
  },
  {
   "cell_type": "code",
   "execution_count": 22,
   "id": "354524ba-f6df-46bf-a7df-eea1d705519d",
   "metadata": {},
   "outputs": [],
   "source": [
    "news_rating_nona = news_rating.dropna()"
   ]
  },
  {
   "cell_type": "code",
   "execution_count": 23,
   "id": "d1f6b866-83f4-4d2b-8881-92c23bb0c003",
   "metadata": {},
   "outputs": [],
   "source": [
    "news_rating_coverage_rate = news_rating_nona[\"counts\"].sum()/news_rating[\"counts\"].sum()"
   ]
  },
  {
   "cell_type": "code",
   "execution_count": 24,
   "id": "4c205005-284a-451f-86fb-7e72c392673c",
   "metadata": {},
   "outputs": [
    {
     "data": {
      "text/plain": [
       "0.7660249698721411"
      ]
     },
     "execution_count": 24,
     "metadata": {},
     "output_type": "execute_result"
    }
   ],
   "source": [
    "news_rating_coverage_rate"
   ]
  },
  {
   "cell_type": "code",
   "execution_count": null,
   "id": "c5cce871-8336-47d2-8aa4-a2270878449b",
   "metadata": {},
   "outputs": [],
   "source": []
  }
 ],
 "metadata": {
  "kernelspec": {
   "display_name": "Python 3 (ipykernel)",
   "language": "python",
   "name": "python3"
  },
  "language_info": {
   "codemirror_mode": {
    "name": "ipython",
    "version": 3
   },
   "file_extension": ".py",
   "mimetype": "text/x-python",
   "name": "python",
   "nbconvert_exporter": "python",
   "pygments_lexer": "ipython3",
   "version": "3.10.14"
  }
 },
 "nbformat": 4,
 "nbformat_minor": 5
}
