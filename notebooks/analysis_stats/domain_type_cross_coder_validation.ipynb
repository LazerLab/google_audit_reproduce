{
 "cells": [
  {
   "cell_type": "code",
   "execution_count": 1,
   "id": "5ce704e7-28d7-4006-b38a-651d226946af",
   "metadata": {},
   "outputs": [],
   "source": [
    "import pandas as pd"
   ]
  },
  {
   "cell_type": "markdown",
   "id": "a405b0ae-28c4-4017-8920-c37cb75db96b",
   "metadata": {},
   "source": [
    "# Check the matching rate of two coder"
   ]
  },
  {
   "cell_type": "code",
   "execution_count": 29,
   "id": "a362369d-0ee3-401a-bf45-d9a2d72a2a6c",
   "metadata": {},
   "outputs": [],
   "source": [
    "burak_file = pd.read_csv(\"../../data/hand_code/burak_clean.csv\")"
   ]
  },
  {
   "cell_type": "code",
   "execution_count": 30,
   "id": "39925ee6-3e10-4bfc-a8d4-8e53e49d8c31",
   "metadata": {},
   "outputs": [
    {
     "data": {
      "text/html": [
       "<div>\n",
       "<style scoped>\n",
       "    .dataframe tbody tr th:only-of-type {\n",
       "        vertical-align: middle;\n",
       "    }\n",
       "\n",
       "    .dataframe tbody tr th {\n",
       "        vertical-align: top;\n",
       "    }\n",
       "\n",
       "    .dataframe thead th {\n",
       "        text-align: right;\n",
       "    }\n",
       "</style>\n",
       "<table border=\"1\" class=\"dataframe\">\n",
       "  <thead>\n",
       "    <tr style=\"text-align: right;\">\n",
       "      <th></th>\n",
       "      <th>domain</th>\n",
       "      <th>counts</th>\n",
       "      <th>news</th>\n",
       "      <th>education</th>\n",
       "      <th>social</th>\n",
       "      <th>gov</th>\n",
       "      <th>campaign_personal</th>\n",
       "      <th>other_third_party</th>\n",
       "      <th>title</th>\n",
       "      <th>sum</th>\n",
       "    </tr>\n",
       "  </thead>\n",
       "  <tbody>\n",
       "    <tr>\n",
       "      <th>245</th>\n",
       "      <td>stanforddaily.com</td>\n",
       "      <td>9087</td>\n",
       "      <td>1</td>\n",
       "      <td>0</td>\n",
       "      <td>0</td>\n",
       "      <td>0</td>\n",
       "      <td>0</td>\n",
       "      <td>0</td>\n",
       "      <td>NaN</td>\n",
       "      <td>1</td>\n",
       "    </tr>\n",
       "  </tbody>\n",
       "</table>\n",
       "</div>"
      ],
      "text/plain": [
       "                domain  counts  news  education  social  gov  \\\n",
       "245  stanforddaily.com    9087     1          0       0    0   \n",
       "\n",
       "     campaign_personal  other_third_party title  sum  \n",
       "245                  0                  0   NaN    1  "
      ]
     },
     "execution_count": 30,
     "metadata": {},
     "output_type": "execute_result"
    }
   ],
   "source": [
    "burak_file[burak_file['domain']=='stanforddaily.com']"
   ]
  },
  {
   "cell_type": "code",
   "execution_count": 16,
   "id": "b4f61069-02c1-44fe-b4ae-7428875b789f",
   "metadata": {},
   "outputs": [
    {
     "data": {
      "text/html": [
       "<div>\n",
       "<style scoped>\n",
       "    .dataframe tbody tr th:only-of-type {\n",
       "        vertical-align: middle;\n",
       "    }\n",
       "\n",
       "    .dataframe tbody tr th {\n",
       "        vertical-align: top;\n",
       "    }\n",
       "\n",
       "    .dataframe thead th {\n",
       "        text-align: right;\n",
       "    }\n",
       "</style>\n",
       "<table border=\"1\" class=\"dataframe\">\n",
       "  <thead>\n",
       "    <tr style=\"text-align: right;\">\n",
       "      <th></th>\n",
       "      <th>domain</th>\n",
       "      <th>counts</th>\n",
       "      <th>news</th>\n",
       "      <th>education</th>\n",
       "      <th>social</th>\n",
       "      <th>gov</th>\n",
       "      <th>campaign_personal</th>\n",
       "      <th>other_third_party</th>\n",
       "      <th>title</th>\n",
       "      <th>sum</th>\n",
       "    </tr>\n",
       "  </thead>\n",
       "  <tbody>\n",
       "    <tr>\n",
       "      <th>0</th>\n",
       "      <td>safetyandhealthmagazine.com</td>\n",
       "      <td>37691</td>\n",
       "      <td>1</td>\n",
       "      <td>0</td>\n",
       "      <td>0</td>\n",
       "      <td>0</td>\n",
       "      <td>0</td>\n",
       "      <td>0</td>\n",
       "      <td>NaN</td>\n",
       "      <td>1.0</td>\n",
       "    </tr>\n",
       "    <tr>\n",
       "      <th>1</th>\n",
       "      <td>myeasternshoremd.com</td>\n",
       "      <td>34956</td>\n",
       "      <td>1</td>\n",
       "      <td>0</td>\n",
       "      <td>0</td>\n",
       "      <td>0</td>\n",
       "      <td>0</td>\n",
       "      <td>0</td>\n",
       "      <td>NaN</td>\n",
       "      <td>1.0</td>\n",
       "    </tr>\n",
       "    <tr>\n",
       "      <th>2</th>\n",
       "      <td>fortworthbusiness.com</td>\n",
       "      <td>16506</td>\n",
       "      <td>1</td>\n",
       "      <td>0</td>\n",
       "      <td>0</td>\n",
       "      <td>0</td>\n",
       "      <td>0</td>\n",
       "      <td>0</td>\n",
       "      <td>NaN</td>\n",
       "      <td>1.0</td>\n",
       "    </tr>\n",
       "    <tr>\n",
       "      <th>3</th>\n",
       "      <td>3newsnow.com</td>\n",
       "      <td>92779</td>\n",
       "      <td>1</td>\n",
       "      <td>0</td>\n",
       "      <td>0</td>\n",
       "      <td>0</td>\n",
       "      <td>0</td>\n",
       "      <td>0</td>\n",
       "      <td>NaN</td>\n",
       "      <td>1.0</td>\n",
       "    </tr>\n",
       "    <tr>\n",
       "      <th>4</th>\n",
       "      <td>dailycal.org</td>\n",
       "      <td>8468</td>\n",
       "      <td>1</td>\n",
       "      <td>0</td>\n",
       "      <td>0</td>\n",
       "      <td>0</td>\n",
       "      <td>0</td>\n",
       "      <td>0</td>\n",
       "      <td>NaN</td>\n",
       "      <td>1.0</td>\n",
       "    </tr>\n",
       "  </tbody>\n",
       "</table>\n",
       "</div>"
      ],
      "text/plain": [
       "                        domain  counts  news  education  social  gov  \\\n",
       "0  safetyandhealthmagazine.com   37691     1          0       0    0   \n",
       "1         myeasternshoremd.com   34956     1          0       0    0   \n",
       "2        fortworthbusiness.com   16506     1          0       0    0   \n",
       "3                 3newsnow.com   92779     1          0       0    0   \n",
       "4                 dailycal.org    8468     1          0       0    0   \n",
       "\n",
       "   campaign_personal  other_third_party title  sum  \n",
       "0                  0                  0   NaN  1.0  \n",
       "1                  0                  0   NaN  1.0  \n",
       "2                  0                  0   NaN  1.0  \n",
       "3                  0                  0   NaN  1.0  \n",
       "4                  0                  0   NaN  1.0  "
      ]
     },
     "execution_count": 16,
     "metadata": {},
     "output_type": "execute_result"
    }
   ],
   "source": [
    "burak_file.head()"
   ]
  },
  {
   "cell_type": "code",
   "execution_count": 31,
   "id": "376f1391-b3fb-43dc-bd5a-22b7623b5557",
   "metadata": {},
   "outputs": [],
   "source": [
    "def categorize_domain(row):\n",
    "    if row['news']:\n",
    "        return 'news'\n",
    "    elif row['education']:\n",
    "        return 'education'\n",
    "    elif row['social']:\n",
    "        return 'social'\n",
    "    elif row['gov']:\n",
    "        return 'gov'\n",
    "    elif row['campaign_personal']:\n",
    "        return 'campaign_personal'\n",
    "    elif row['other_third_party']:\n",
    "        return 'other_third_party'\n",
    "    else:\n",
    "        return None"
   ]
  },
  {
   "cell_type": "code",
   "execution_count": 32,
   "id": "e86b2fd3-aead-4349-8493-5a8bcd1e48e9",
   "metadata": {},
   "outputs": [],
   "source": [
    "burak_file['category']= burak_file.apply(categorize_domain, axis=1)"
   ]
  },
  {
   "cell_type": "code",
   "execution_count": 33,
   "id": "8dba4f85-dcd8-402c-b04b-8b469500806a",
   "metadata": {},
   "outputs": [],
   "source": [
    "burak_file = burak_file[['domain','category']]"
   ]
  },
  {
   "cell_type": "code",
   "execution_count": 34,
   "id": "07bf2c71-3803-41ec-bbb0-a48cc235f33d",
   "metadata": {},
   "outputs": [],
   "source": [
    "allison_cat = pd.read_csv(\"../../data/domain_category.csv\")"
   ]
  },
  {
   "cell_type": "code",
   "execution_count": 35,
   "id": "be04586a-c2d7-4a04-981c-e91d713bde5d",
   "metadata": {},
   "outputs": [],
   "source": [
    "final_file = pd.merge(burak_file, allison_cat, on=\"domain\", how=\"inner\")"
   ]
  },
  {
   "cell_type": "code",
   "execution_count": 36,
   "id": "ba481eb4-2ff1-4470-b931-11b7641bd875",
   "metadata": {},
   "outputs": [
    {
     "data": {
      "text/html": [
       "<div>\n",
       "<style scoped>\n",
       "    .dataframe tbody tr th:only-of-type {\n",
       "        vertical-align: middle;\n",
       "    }\n",
       "\n",
       "    .dataframe tbody tr th {\n",
       "        vertical-align: top;\n",
       "    }\n",
       "\n",
       "    .dataframe thead th {\n",
       "        text-align: right;\n",
       "    }\n",
       "</style>\n",
       "<table border=\"1\" class=\"dataframe\">\n",
       "  <thead>\n",
       "    <tr style=\"text-align: right;\">\n",
       "      <th></th>\n",
       "      <th>domain</th>\n",
       "      <th>category_x</th>\n",
       "      <th>category_y</th>\n",
       "    </tr>\n",
       "  </thead>\n",
       "  <tbody>\n",
       "    <tr>\n",
       "      <th>0</th>\n",
       "      <td>safetyandhealthmagazine.com</td>\n",
       "      <td>news</td>\n",
       "      <td>news</td>\n",
       "    </tr>\n",
       "    <tr>\n",
       "      <th>1</th>\n",
       "      <td>myeasternshoremd.com</td>\n",
       "      <td>news</td>\n",
       "      <td>news</td>\n",
       "    </tr>\n",
       "    <tr>\n",
       "      <th>2</th>\n",
       "      <td>fortworthbusiness.com</td>\n",
       "      <td>news</td>\n",
       "      <td>news</td>\n",
       "    </tr>\n",
       "    <tr>\n",
       "      <th>3</th>\n",
       "      <td>3newsnow.com</td>\n",
       "      <td>news</td>\n",
       "      <td>news</td>\n",
       "    </tr>\n",
       "    <tr>\n",
       "      <th>4</th>\n",
       "      <td>dailycal.org</td>\n",
       "      <td>news</td>\n",
       "      <td>news</td>\n",
       "    </tr>\n",
       "    <tr>\n",
       "      <th>...</th>\n",
       "      <td>...</td>\n",
       "      <td>...</td>\n",
       "      <td>...</td>\n",
       "    </tr>\n",
       "    <tr>\n",
       "      <th>398</th>\n",
       "      <td>parkrecord.com</td>\n",
       "      <td>news</td>\n",
       "      <td>news</td>\n",
       "    </tr>\n",
       "    <tr>\n",
       "      <th>399</th>\n",
       "      <td>cbslocal.com</td>\n",
       "      <td>news</td>\n",
       "      <td>news</td>\n",
       "    </tr>\n",
       "    <tr>\n",
       "      <th>400</th>\n",
       "      <td>pallonefornewjersey.com</td>\n",
       "      <td>campaign_personal</td>\n",
       "      <td>campaign_personal</td>\n",
       "    </tr>\n",
       "    <tr>\n",
       "      <th>401</th>\n",
       "      <td>kvor.com</td>\n",
       "      <td>news</td>\n",
       "      <td>news</td>\n",
       "    </tr>\n",
       "    <tr>\n",
       "      <th>402</th>\n",
       "      <td>cedricrichmond.com</td>\n",
       "      <td>other_third_party</td>\n",
       "      <td>campaign_personal</td>\n",
       "    </tr>\n",
       "  </tbody>\n",
       "</table>\n",
       "<p>403 rows × 3 columns</p>\n",
       "</div>"
      ],
      "text/plain": [
       "                          domain         category_x         category_y\n",
       "0    safetyandhealthmagazine.com               news               news\n",
       "1           myeasternshoremd.com               news               news\n",
       "2          fortworthbusiness.com               news               news\n",
       "3                   3newsnow.com               news               news\n",
       "4                   dailycal.org               news               news\n",
       "..                           ...                ...                ...\n",
       "398               parkrecord.com               news               news\n",
       "399                 cbslocal.com               news               news\n",
       "400      pallonefornewjersey.com  campaign_personal  campaign_personal\n",
       "401                     kvor.com               news               news\n",
       "402           cedricrichmond.com  other_third_party  campaign_personal\n",
       "\n",
       "[403 rows x 3 columns]"
      ]
     },
     "execution_count": 36,
     "metadata": {},
     "output_type": "execute_result"
    }
   ],
   "source": [
    "final_file"
   ]
  },
  {
   "cell_type": "code",
   "execution_count": 37,
   "id": "59fc7f42-457f-445d-88e6-90441211b59e",
   "metadata": {},
   "outputs": [
    {
     "data": {
      "text/plain": [
       "403"
      ]
     },
     "execution_count": 37,
     "metadata": {},
     "output_type": "execute_result"
    }
   ],
   "source": [
    "len(final_file['domain'].unique())"
   ]
  },
  {
   "cell_type": "code",
   "execution_count": 38,
   "id": "fa39de69-0f6c-460f-aa5d-e8560accfbba",
   "metadata": {},
   "outputs": [],
   "source": [
    "def check_match(row):\n",
    "    if row['category_x']==row['category_y']:\n",
    "        return True\n",
    "    else:\n",
    "        return False"
   ]
  },
  {
   "cell_type": "code",
   "execution_count": 39,
   "id": "43b0fd49-fbe6-46e6-96da-92136268bca5",
   "metadata": {},
   "outputs": [],
   "source": [
    "final_file['match'] = final_file.apply(check_match, axis=1)"
   ]
  },
  {
   "cell_type": "code",
   "execution_count": 41,
   "id": "b1d6efaf-3e85-4414-ab71-dff5b1258bc0",
   "metadata": {},
   "outputs": [
    {
     "data": {
      "text/html": [
       "<div>\n",
       "<style scoped>\n",
       "    .dataframe tbody tr th:only-of-type {\n",
       "        vertical-align: middle;\n",
       "    }\n",
       "\n",
       "    .dataframe tbody tr th {\n",
       "        vertical-align: top;\n",
       "    }\n",
       "\n",
       "    .dataframe thead th {\n",
       "        text-align: right;\n",
       "    }\n",
       "</style>\n",
       "<table border=\"1\" class=\"dataframe\">\n",
       "  <thead>\n",
       "    <tr style=\"text-align: right;\">\n",
       "      <th></th>\n",
       "      <th>domain</th>\n",
       "      <th>category_x</th>\n",
       "      <th>category_y</th>\n",
       "      <th>match</th>\n",
       "    </tr>\n",
       "  </thead>\n",
       "  <tbody>\n",
       "    <tr>\n",
       "      <th>0</th>\n",
       "      <td>safetyandhealthmagazine.com</td>\n",
       "      <td>news</td>\n",
       "      <td>news</td>\n",
       "      <td>True</td>\n",
       "    </tr>\n",
       "    <tr>\n",
       "      <th>1</th>\n",
       "      <td>myeasternshoremd.com</td>\n",
       "      <td>news</td>\n",
       "      <td>news</td>\n",
       "      <td>True</td>\n",
       "    </tr>\n",
       "    <tr>\n",
       "      <th>2</th>\n",
       "      <td>fortworthbusiness.com</td>\n",
       "      <td>news</td>\n",
       "      <td>news</td>\n",
       "      <td>True</td>\n",
       "    </tr>\n",
       "    <tr>\n",
       "      <th>3</th>\n",
       "      <td>3newsnow.com</td>\n",
       "      <td>news</td>\n",
       "      <td>news</td>\n",
       "      <td>True</td>\n",
       "    </tr>\n",
       "    <tr>\n",
       "      <th>4</th>\n",
       "      <td>dailycal.org</td>\n",
       "      <td>news</td>\n",
       "      <td>news</td>\n",
       "      <td>True</td>\n",
       "    </tr>\n",
       "    <tr>\n",
       "      <th>...</th>\n",
       "      <td>...</td>\n",
       "      <td>...</td>\n",
       "      <td>...</td>\n",
       "      <td>...</td>\n",
       "    </tr>\n",
       "    <tr>\n",
       "      <th>397</th>\n",
       "      <td>algemeiner.com</td>\n",
       "      <td>news</td>\n",
       "      <td>news</td>\n",
       "      <td>True</td>\n",
       "    </tr>\n",
       "    <tr>\n",
       "      <th>398</th>\n",
       "      <td>parkrecord.com</td>\n",
       "      <td>news</td>\n",
       "      <td>news</td>\n",
       "      <td>True</td>\n",
       "    </tr>\n",
       "    <tr>\n",
       "      <th>399</th>\n",
       "      <td>cbslocal.com</td>\n",
       "      <td>news</td>\n",
       "      <td>news</td>\n",
       "      <td>True</td>\n",
       "    </tr>\n",
       "    <tr>\n",
       "      <th>400</th>\n",
       "      <td>pallonefornewjersey.com</td>\n",
       "      <td>campaign_personal</td>\n",
       "      <td>campaign_personal</td>\n",
       "      <td>True</td>\n",
       "    </tr>\n",
       "    <tr>\n",
       "      <th>401</th>\n",
       "      <td>kvor.com</td>\n",
       "      <td>news</td>\n",
       "      <td>news</td>\n",
       "      <td>True</td>\n",
       "    </tr>\n",
       "  </tbody>\n",
       "</table>\n",
       "<p>362 rows × 4 columns</p>\n",
       "</div>"
      ],
      "text/plain": [
       "                          domain         category_x         category_y  match\n",
       "0    safetyandhealthmagazine.com               news               news   True\n",
       "1           myeasternshoremd.com               news               news   True\n",
       "2          fortworthbusiness.com               news               news   True\n",
       "3                   3newsnow.com               news               news   True\n",
       "4                   dailycal.org               news               news   True\n",
       "..                           ...                ...                ...    ...\n",
       "397               algemeiner.com               news               news   True\n",
       "398               parkrecord.com               news               news   True\n",
       "399                 cbslocal.com               news               news   True\n",
       "400      pallonefornewjersey.com  campaign_personal  campaign_personal   True\n",
       "401                     kvor.com               news               news   True\n",
       "\n",
       "[362 rows x 4 columns]"
      ]
     },
     "execution_count": 41,
     "metadata": {},
     "output_type": "execute_result"
    }
   ],
   "source": [
    "final_file[final_file['match']==True]"
   ]
  },
  {
   "cell_type": "code",
   "execution_count": 42,
   "id": "599601c8-d6ef-45c2-9b42-cc75bb13328a",
   "metadata": {},
   "outputs": [
    {
     "data": {
      "text/plain": [
       "0.8982630272952854"
      ]
     },
     "execution_count": 42,
     "metadata": {},
     "output_type": "execute_result"
    }
   ],
   "source": [
    "362/403"
   ]
  },
  {
   "cell_type": "code",
   "execution_count": null,
   "id": "f4996a28-c8f9-40a6-baf2-923f7c0d5178",
   "metadata": {},
   "outputs": [],
   "source": []
  }
 ],
 "metadata": {
  "kernelspec": {
   "display_name": "Python 3 (ipykernel)",
   "language": "python",
   "name": "python3"
  },
  "language_info": {
   "codemirror_mode": {
    "name": "ipython",
    "version": 3
   },
   "file_extension": ".py",
   "mimetype": "text/x-python",
   "name": "python",
   "nbconvert_exporter": "python",
   "pygments_lexer": "ipython3",
   "version": "3.10.14"
  }
 },
 "nbformat": 4,
 "nbformat_minor": 5
}
