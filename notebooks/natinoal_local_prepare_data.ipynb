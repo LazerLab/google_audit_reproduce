{
 "cells": [
  {
   "cell_type": "markdown",
   "id": "3f225920-c149-4c4d-8cfd-b5d5934f3b41",
   "metadata": {},
   "source": [
    "# Preparing data for national vs. local domains"
   ]
  },
  {
   "cell_type": "markdown",
   "id": "8c4f360c-1a8c-4201-81a1-27fdb4ae6ce1",
   "metadata": {},
   "source": [
    "This file prepares intermediate data files for the national vs. local analysis in national_local_analysis.ipynb."
   ]
  },
  {
   "cell_type": "code",
   "execution_count": 2,
   "id": "5985f434-b92a-4f86-b68c-6e3fc8e0cb78",
   "metadata": {},
   "outputs": [],
   "source": [
    "import seaborn as sns\n",
    "import matplotlib.pyplot as plt\n",
    "import pandas as pd\n",
    "import os\n",
    "import json"
   ]
  },
  {
   "cell_type": "markdown",
   "id": "69672c06-fe93-4201-bc1d-434b9af5340f",
   "metadata": {},
   "source": [
    "## Preparing data"
   ]
  },
  {
   "cell_type": "code",
   "execution_count": 3,
   "id": "dc86c7bd-a634-4336-9f61-4bcb289f8b1e",
   "metadata": {},
   "outputs": [
    {
     "name": "stderr",
     "output_type": "stream",
     "text": [
      "/tmp/ipykernel_2436454/1035596859.py:1: DtypeWarning: Columns (0) have mixed types. Specify dtype option on import or set low_memory=False.\n",
      "  house_rank_domain = pd.read_csv(\"/net/lazer/lab-lazer/shared_projects/google_audit_reproduce/intermedidate_files/merged_summary/cleaned_house_domain_rank_qry_loc.csv\")\n"
     ]
    }
   ],
   "source": [
    "house_rank_domain = pd.read_csv(\"/net/lazer/lab-lazer/shared_projects/google_audit_reproduce/intermedidate_files/merged_summary/cleaned_house_domain_rank_qry_loc.csv\")"
   ]
  },
  {
   "cell_type": "code",
   "execution_count": 4,
   "id": "2ae7a19e-af26-4d59-bf49-95b2370995a7",
   "metadata": {},
   "outputs": [],
   "source": [
    "loc_rank_counts = house_rank_domain.groupby(['domain', 'qry', 'cmpt_rank', 'loc_id'], dropna=True, as_index=False)['counts'].sum()"
   ]
  },
  {
   "cell_type": "code",
   "execution_count": 5,
   "id": "263ee9b8-3ff2-4c40-aa40-826097146ef3",
   "metadata": {},
   "outputs": [
    {
     "data": {
      "text/html": [
       "<div>\n",
       "<style scoped>\n",
       "    .dataframe tbody tr th:only-of-type {\n",
       "        vertical-align: middle;\n",
       "    }\n",
       "\n",
       "    .dataframe tbody tr th {\n",
       "        vertical-align: top;\n",
       "    }\n",
       "\n",
       "    .dataframe thead th {\n",
       "        text-align: right;\n",
       "    }\n",
       "</style>\n",
       "<table border=\"1\" class=\"dataframe\">\n",
       "  <thead>\n",
       "    <tr style=\"text-align: right;\">\n",
       "      <th></th>\n",
       "      <th>domain</th>\n",
       "      <th>qry</th>\n",
       "      <th>cmpt_rank</th>\n",
       "      <th>loc_id</th>\n",
       "      <th>counts</th>\n",
       "    </tr>\n",
       "  </thead>\n",
       "  <tbody>\n",
       "    <tr>\n",
       "      <th>0</th>\n",
       "      <td>Katko</td>\n",
       "      <td>John Katko</td>\n",
       "      <td>11.0</td>\n",
       "      <td>VA-11,Virginia,United States</td>\n",
       "      <td>1</td>\n",
       "    </tr>\n",
       "    <tr>\n",
       "      <th>1</th>\n",
       "      <td>100e53.com</td>\n",
       "      <td>Katie Porter</td>\n",
       "      <td>5.0</td>\n",
       "      <td>NY-8,New York,United States</td>\n",
       "      <td>1</td>\n",
       "    </tr>\n",
       "    <tr>\n",
       "      <th>2</th>\n",
       "      <td>100e53.com</td>\n",
       "      <td>Katie Porter</td>\n",
       "      <td>7.0</td>\n",
       "      <td>NY-17,New York,United States</td>\n",
       "      <td>1</td>\n",
       "    </tr>\n",
       "    <tr>\n",
       "      <th>3</th>\n",
       "      <td>100e53.com</td>\n",
       "      <td>Katie Porter</td>\n",
       "      <td>7.0</td>\n",
       "      <td>NY-19,New York,United States</td>\n",
       "      <td>1</td>\n",
       "    </tr>\n",
       "    <tr>\n",
       "      <th>4</th>\n",
       "      <td>100e53.com</td>\n",
       "      <td>Katie Porter</td>\n",
       "      <td>8.0</td>\n",
       "      <td>NY-15,New York,United States</td>\n",
       "      <td>1</td>\n",
       "    </tr>\n",
       "  </tbody>\n",
       "</table>\n",
       "</div>"
      ],
      "text/plain": [
       "       domain           qry  cmpt_rank                        loc_id  counts\n",
       "0       Katko    John Katko       11.0  VA-11,Virginia,United States       1\n",
       "1  100e53.com  Katie Porter        5.0   NY-8,New York,United States       1\n",
       "2  100e53.com  Katie Porter        7.0  NY-17,New York,United States       1\n",
       "3  100e53.com  Katie Porter        7.0  NY-19,New York,United States       1\n",
       "4  100e53.com  Katie Porter        8.0  NY-15,New York,United States       1"
      ]
     },
     "execution_count": 5,
     "metadata": {},
     "output_type": "execute_result"
    }
   ],
   "source": [
    "loc_rank_counts[:5]"
   ]
  },
  {
   "cell_type": "code",
   "execution_count": 6,
   "id": "7f1078e6-c1da-4507-a382-d77f35677d86",
   "metadata": {},
   "outputs": [
    {
     "data": {
      "text/plain": [
       "633984769"
      ]
     },
     "execution_count": 6,
     "metadata": {},
     "output_type": "execute_result"
    }
   ],
   "source": [
    "loc_rank_counts['counts'].sum()"
   ]
  },
  {
   "cell_type": "code",
   "execution_count": 7,
   "id": "8ed10dfc-59c0-4d9d-8c38-6136ac99e32f",
   "metadata": {},
   "outputs": [],
   "source": [
    "qry_loc_list = loc_rank_counts[['qry','loc_id']].drop_duplicates()"
   ]
  },
  {
   "cell_type": "code",
   "execution_count": 8,
   "id": "b23b4a99-05fa-4474-9351-a55c137d4fa0",
   "metadata": {},
   "outputs": [],
   "source": [
    "# Define a function to parse the address\n",
    "def get_state(loc_id):\n",
    "    location_components = loc_id.split(\",\")\n",
    "    first_component = location_components[0].split(\"-\")\n",
    "    return first_component[0]\n",
    "    \n",
    "    \n",
    "def get_district(loc_id):\n",
    "    location_components = loc_id.split(\",\")\n",
    "    first_component = location_components[0].split(\"-\")\n",
    "    if len(first_component) > 1:\n",
    "        return first_component[1]\n",
    "    else:\n",
    "        return None\n",
    "\n",
    "def check_home_state(row):\n",
    "    if row[\"srch_state\"] == row['home_state']:\n",
    "        return True\n",
    "    return False\n",
    "\n",
    "    \n",
    "def check_home_district(row):\n",
    "    \n",
    "    if row['srch_district'] == \"AT LARGE\":\n",
    "            return False\n",
    "    if row[\"is_home_state\"]:\n",
    "        row[\"srch_district\"] = pd.to_numeric(row[\"srch_district\"])\n",
    "        row['home_district'] = pd.to_numeric(row['home_district'])\n",
    "        if row[\"srch_district\"] == row['home_district']:\n",
    "            return True\n",
    "    return False\n",
    "\n",
    "\n",
    "def check_home(df):\n",
    "    df['srch_state'] = df['loc_id'].apply(get_state)\n",
    "    df['srch_district'] = df['loc_id'].apply(get_district)\n",
    "    \n",
    "    qry_info = pd.read_csv(\"../data/qry_info.csv\")\n",
    "    \n",
    "    qry_info1 = qry_info[['qry', 'party', 'state', 'district']].drop_duplicates()\n",
    "    \n",
    "    qry_info1.rename(columns={'state':'home_state', 'district':'home_district'}, inplace=True)\n",
    "    \n",
    "    loc_counts = pd.merge(df, qry_info1, how=\"left\", on='qry')\n",
    "    \n",
    "    loc_counts['is_home_state'] = loc_counts.apply(check_home_state, axis=1)\n",
    "    loc_counts['is_home_district'] = loc_counts.apply(check_home_district, axis=1)\n",
    "    \n",
    "    return loc_counts"
   ]
  },
  {
   "cell_type": "code",
   "execution_count": 9,
   "id": "2a93993b-bfda-45c9-967a-dc3a3f43cc2c",
   "metadata": {},
   "outputs": [],
   "source": [
    "qry_loc_checkhome = check_home(qry_loc_list)"
   ]
  },
  {
   "cell_type": "code",
   "execution_count": 10,
   "id": "b16a0fd6-7179-4fae-ac35-63d2fd317886",
   "metadata": {},
   "outputs": [
    {
     "data": {
      "text/html": [
       "<div>\n",
       "<style scoped>\n",
       "    .dataframe tbody tr th:only-of-type {\n",
       "        vertical-align: middle;\n",
       "    }\n",
       "\n",
       "    .dataframe tbody tr th {\n",
       "        vertical-align: top;\n",
       "    }\n",
       "\n",
       "    .dataframe thead th {\n",
       "        text-align: right;\n",
       "    }\n",
       "</style>\n",
       "<table border=\"1\" class=\"dataframe\">\n",
       "  <thead>\n",
       "    <tr style=\"text-align: right;\">\n",
       "      <th></th>\n",
       "      <th>qry</th>\n",
       "      <th>loc_id</th>\n",
       "      <th>srch_state</th>\n",
       "      <th>srch_district</th>\n",
       "      <th>party</th>\n",
       "      <th>home_state</th>\n",
       "      <th>home_district</th>\n",
       "      <th>is_home_state</th>\n",
       "      <th>is_home_district</th>\n",
       "    </tr>\n",
       "  </thead>\n",
       "  <tbody>\n",
       "    <tr>\n",
       "      <th>0</th>\n",
       "      <td>John Katko</td>\n",
       "      <td>VA-11,Virginia,United States</td>\n",
       "      <td>VA</td>\n",
       "      <td>11</td>\n",
       "      <td>Republican</td>\n",
       "      <td>NY</td>\n",
       "      <td>24.0</td>\n",
       "      <td>False</td>\n",
       "      <td>False</td>\n",
       "    </tr>\n",
       "    <tr>\n",
       "      <th>1</th>\n",
       "      <td>Katie Porter</td>\n",
       "      <td>NY-8,New York,United States</td>\n",
       "      <td>NY</td>\n",
       "      <td>8</td>\n",
       "      <td>Democrat</td>\n",
       "      <td>CA</td>\n",
       "      <td>45.0</td>\n",
       "      <td>False</td>\n",
       "      <td>False</td>\n",
       "    </tr>\n",
       "    <tr>\n",
       "      <th>2</th>\n",
       "      <td>Katie Porter</td>\n",
       "      <td>NY-17,New York,United States</td>\n",
       "      <td>NY</td>\n",
       "      <td>17</td>\n",
       "      <td>Democrat</td>\n",
       "      <td>CA</td>\n",
       "      <td>45.0</td>\n",
       "      <td>False</td>\n",
       "      <td>False</td>\n",
       "    </tr>\n",
       "    <tr>\n",
       "      <th>3</th>\n",
       "      <td>Katie Porter</td>\n",
       "      <td>NY-19,New York,United States</td>\n",
       "      <td>NY</td>\n",
       "      <td>19</td>\n",
       "      <td>Democrat</td>\n",
       "      <td>CA</td>\n",
       "      <td>45.0</td>\n",
       "      <td>False</td>\n",
       "      <td>False</td>\n",
       "    </tr>\n",
       "    <tr>\n",
       "      <th>4</th>\n",
       "      <td>Katie Porter</td>\n",
       "      <td>NY-15,New York,United States</td>\n",
       "      <td>NY</td>\n",
       "      <td>15</td>\n",
       "      <td>Democrat</td>\n",
       "      <td>CA</td>\n",
       "      <td>45.0</td>\n",
       "      <td>False</td>\n",
       "      <td>False</td>\n",
       "    </tr>\n",
       "    <tr>\n",
       "      <th>...</th>\n",
       "      <td>...</td>\n",
       "      <td>...</td>\n",
       "      <td>...</td>\n",
       "      <td>...</td>\n",
       "      <td>...</td>\n",
       "      <td>...</td>\n",
       "      <td>...</td>\n",
       "      <td>...</td>\n",
       "      <td>...</td>\n",
       "    </tr>\n",
       "    <tr>\n",
       "      <th>185295</th>\n",
       "      <td>Frank Lucas</td>\n",
       "      <td>PA-3,Pennsylvania,United States</td>\n",
       "      <td>PA</td>\n",
       "      <td>3</td>\n",
       "      <td>Republican</td>\n",
       "      <td>OK</td>\n",
       "      <td>3.0</td>\n",
       "      <td>False</td>\n",
       "      <td>False</td>\n",
       "    </tr>\n",
       "    <tr>\n",
       "      <th>185296</th>\n",
       "      <td>Frank Lucas</td>\n",
       "      <td>SC-2,South Carolina,United States</td>\n",
       "      <td>SC</td>\n",
       "      <td>2</td>\n",
       "      <td>Republican</td>\n",
       "      <td>OK</td>\n",
       "      <td>3.0</td>\n",
       "      <td>False</td>\n",
       "      <td>False</td>\n",
       "    </tr>\n",
       "    <tr>\n",
       "      <th>185297</th>\n",
       "      <td>Frank Lucas</td>\n",
       "      <td>TX-12,Texas,United States</td>\n",
       "      <td>TX</td>\n",
       "      <td>12</td>\n",
       "      <td>Republican</td>\n",
       "      <td>OK</td>\n",
       "      <td>3.0</td>\n",
       "      <td>False</td>\n",
       "      <td>False</td>\n",
       "    </tr>\n",
       "    <tr>\n",
       "      <th>185298</th>\n",
       "      <td>Frank Lucas</td>\n",
       "      <td>TX-31,Texas,United States</td>\n",
       "      <td>TX</td>\n",
       "      <td>31</td>\n",
       "      <td>Republican</td>\n",
       "      <td>OK</td>\n",
       "      <td>3.0</td>\n",
       "      <td>False</td>\n",
       "      <td>False</td>\n",
       "    </tr>\n",
       "    <tr>\n",
       "      <th>185299</th>\n",
       "      <td>Frank Lucas</td>\n",
       "      <td>WA-3,Washington,United States</td>\n",
       "      <td>WA</td>\n",
       "      <td>3</td>\n",
       "      <td>Republican</td>\n",
       "      <td>OK</td>\n",
       "      <td>3.0</td>\n",
       "      <td>False</td>\n",
       "      <td>False</td>\n",
       "    </tr>\n",
       "  </tbody>\n",
       "</table>\n",
       "<p>185300 rows × 9 columns</p>\n",
       "</div>"
      ],
      "text/plain": [
       "                 qry                             loc_id srch_state  \\\n",
       "0         John Katko       VA-11,Virginia,United States         VA   \n",
       "1       Katie Porter        NY-8,New York,United States         NY   \n",
       "2       Katie Porter       NY-17,New York,United States         NY   \n",
       "3       Katie Porter       NY-19,New York,United States         NY   \n",
       "4       Katie Porter       NY-15,New York,United States         NY   \n",
       "...              ...                                ...        ...   \n",
       "185295   Frank Lucas    PA-3,Pennsylvania,United States         PA   \n",
       "185296   Frank Lucas  SC-2,South Carolina,United States         SC   \n",
       "185297   Frank Lucas          TX-12,Texas,United States         TX   \n",
       "185298   Frank Lucas          TX-31,Texas,United States         TX   \n",
       "185299   Frank Lucas      WA-3,Washington,United States         WA   \n",
       "\n",
       "       srch_district       party home_state  home_district  is_home_state  \\\n",
       "0                 11  Republican         NY           24.0          False   \n",
       "1                  8    Democrat         CA           45.0          False   \n",
       "2                 17    Democrat         CA           45.0          False   \n",
       "3                 19    Democrat         CA           45.0          False   \n",
       "4                 15    Democrat         CA           45.0          False   \n",
       "...              ...         ...        ...            ...            ...   \n",
       "185295             3  Republican         OK            3.0          False   \n",
       "185296             2  Republican         OK            3.0          False   \n",
       "185297            12  Republican         OK            3.0          False   \n",
       "185298            31  Republican         OK            3.0          False   \n",
       "185299             3  Republican         OK            3.0          False   \n",
       "\n",
       "        is_home_district  \n",
       "0                  False  \n",
       "1                  False  \n",
       "2                  False  \n",
       "3                  False  \n",
       "4                  False  \n",
       "...                  ...  \n",
       "185295             False  \n",
       "185296             False  \n",
       "185297             False  \n",
       "185298             False  \n",
       "185299             False  \n",
       "\n",
       "[185300 rows x 9 columns]"
      ]
     },
     "execution_count": 10,
     "metadata": {},
     "output_type": "execute_result"
    }
   ],
   "source": [
    "qry_loc_checkhome"
   ]
  },
  {
   "cell_type": "code",
   "execution_count": 11,
   "id": "31d42616-4fc9-4957-8fcd-8323803983d2",
   "metadata": {},
   "outputs": [],
   "source": [
    "qry_loc_checkhome.to_csv(\"../data/house_analysis/qry_loc_checkhome.csv\", index=False)"
   ]
  },
  {
   "cell_type": "code",
   "execution_count": 14,
   "id": "3b634fcd-f509-42d8-a9e3-75b754c3915b",
   "metadata": {},
   "outputs": [],
   "source": [
    "df_checkhome = pd.merge(loc_rank_counts, qry_loc_checkhome[['qry', 'loc_id', 'is_home_district']].drop_duplicates(['qry', 'loc_id']), how=\"left\", on=['qry', 'loc_id'])"
   ]
  },
  {
   "cell_type": "code",
   "execution_count": 15,
   "id": "c0fd2f93-5936-4507-ae8c-a6cf15c0ff90",
   "metadata": {},
   "outputs": [
    {
     "data": {
      "text/plain": [
       "np.int64(633984769)"
      ]
     },
     "execution_count": 15,
     "metadata": {},
     "output_type": "execute_result"
    }
   ],
   "source": [
    "df_checkhome['counts'].sum()"
   ]
  },
  {
   "cell_type": "code",
   "execution_count": 16,
   "id": "052dcd41-4b41-4cf4-adab-cd1d42e5b79b",
   "metadata": {},
   "outputs": [],
   "source": [
    "df_checkhome_grouped = df_checkhome.groupby(['domain', 'cmpt_rank', 'is_home_district'], dropna=True, as_index=False)['counts'].sum()"
   ]
  },
  {
   "cell_type": "code",
   "execution_count": 17,
   "id": "2e6d3d1c-738e-4f7d-8512-b2c0fe40cd55",
   "metadata": {},
   "outputs": [
    {
     "data": {
      "text/plain": [
       "np.int64(633984769)"
      ]
     },
     "execution_count": 17,
     "metadata": {},
     "output_type": "execute_result"
    }
   ],
   "source": [
    "df_checkhome_grouped['counts'].sum()"
   ]
  },
  {
   "cell_type": "code",
   "execution_count": 18,
   "id": "c0988d88-2a53-407c-ac2a-7147028b222d",
   "metadata": {},
   "outputs": [],
   "source": [
    "df_checkhome_grouped.to_csv(\"../data/house_analysis/domain_rank_ishome.csv\", index=False)"
   ]
  },
  {
   "cell_type": "code",
   "execution_count": 20,
   "id": "84a8ef18-b5c8-48c5-ad64-7cb9a517b36c",
   "metadata": {},
   "outputs": [],
   "source": [
    "allison_cat = pd.read_csv(\"../data/domain_category.csv\",)"
   ]
  },
  {
   "cell_type": "code",
   "execution_count": 21,
   "id": "fe029a6b-bef1-406e-8cd6-3791d7df5a83",
   "metadata": {},
   "outputs": [],
   "source": [
    "df_category = pd.merge(df_checkhome_grouped, allison_cat.drop_duplicates(), how=\"left\", on=['domain'])"
   ]
  },
  {
   "cell_type": "code",
   "execution_count": 24,
   "id": "cfd9fdee-16c4-420e-a80c-6c61d566e8b7",
   "metadata": {},
   "outputs": [],
   "source": [
    "df_category_grouped = df_category.groupby(['domain', 'cmpt_rank', 'is_home_district', 'category'], dropna=False, as_index=False)['counts'].sum()"
   ]
  },
  {
   "cell_type": "code",
   "execution_count": 51,
   "id": "052be6e1-4379-4102-8b81-6e24cd1ca7c4",
   "metadata": {},
   "outputs": [
    {
     "data": {
      "text/plain": [
       "np.int64(633984769)"
      ]
     },
     "execution_count": 51,
     "metadata": {},
     "output_type": "execute_result"
    }
   ],
   "source": [
    "df_category_grouped['counts'].sum()"
   ]
  },
  {
   "cell_type": "code",
   "execution_count": 27,
   "id": "43d5633c-3a13-40ef-94fa-ef022e194f2d",
   "metadata": {},
   "outputs": [],
   "source": [
    "df_category_grouped.to_csv(\"../data/house_analysis/domain_rank_ishome_category.csv\", index=False)"
   ]
  },
  {
   "cell_type": "markdown",
   "id": "834a55eb-955d-4d39-a70b-a816f00b5981",
   "metadata": {},
   "source": [
    "## add column to indicate domain class (local or nationl )"
   ]
  },
  {
   "cell_type": "code",
   "execution_count": 73,
   "id": "1d0a03ee-ab3d-4088-ad1a-c0460cbcde71",
   "metadata": {},
   "outputs": [],
   "source": [
    "domain_classification = pd.read_csv(\"../data/domain_classification_local_national.csv\")"
   ]
  },
  {
   "cell_type": "code",
   "execution_count": 74,
   "id": "97a10965-a0bf-431a-bdb4-a44c80d39f7d",
   "metadata": {},
   "outputs": [
    {
     "data": {
      "text/html": [
       "<div>\n",
       "<style scoped>\n",
       "    .dataframe tbody tr th:only-of-type {\n",
       "        vertical-align: middle;\n",
       "    }\n",
       "\n",
       "    .dataframe tbody tr th {\n",
       "        vertical-align: top;\n",
       "    }\n",
       "\n",
       "    .dataframe thead th {\n",
       "        text-align: right;\n",
       "    }\n",
       "</style>\n",
       "<table border=\"1\" class=\"dataframe\">\n",
       "  <thead>\n",
       "    <tr style=\"text-align: right;\">\n",
       "      <th></th>\n",
       "      <th>domain</th>\n",
       "      <th>classification</th>\n",
       "    </tr>\n",
       "  </thead>\n",
       "  <tbody>\n",
       "    <tr>\n",
       "      <th>0</th>\n",
       "      <td>27east.com</td>\n",
       "      <td>local</td>\n",
       "    </tr>\n",
       "    <tr>\n",
       "      <th>1</th>\n",
       "      <td>4bcaonline.com</td>\n",
       "      <td>local</td>\n",
       "    </tr>\n",
       "    <tr>\n",
       "      <th>2</th>\n",
       "      <td>abc7.com</td>\n",
       "      <td>INCONSISTENT</td>\n",
       "    </tr>\n",
       "    <tr>\n",
       "      <th>3</th>\n",
       "      <td>abcnews.go.com</td>\n",
       "      <td>national</td>\n",
       "    </tr>\n",
       "    <tr>\n",
       "      <th>4</th>\n",
       "      <td>aberdeennews.com</td>\n",
       "      <td>local</td>\n",
       "    </tr>\n",
       "    <tr>\n",
       "      <th>...</th>\n",
       "      <td>...</td>\n",
       "      <td>...</td>\n",
       "    </tr>\n",
       "    <tr>\n",
       "      <th>12900</th>\n",
       "      <td>sun.stparchive.com</td>\n",
       "      <td>local</td>\n",
       "    </tr>\n",
       "    <tr>\n",
       "      <th>12901</th>\n",
       "      <td>thermopir.com</td>\n",
       "      <td>local</td>\n",
       "    </tr>\n",
       "    <tr>\n",
       "      <th>12902</th>\n",
       "      <td>kgoskerm.com</td>\n",
       "      <td>local</td>\n",
       "    </tr>\n",
       "    <tr>\n",
       "      <th>12903</th>\n",
       "      <td>westoncountygazette.com</td>\n",
       "      <td>local</td>\n",
       "    </tr>\n",
       "    <tr>\n",
       "      <th>12904</th>\n",
       "      <td>wcg.stparchive.com</td>\n",
       "      <td>local</td>\n",
       "    </tr>\n",
       "  </tbody>\n",
       "</table>\n",
       "<p>12905 rows × 2 columns</p>\n",
       "</div>"
      ],
      "text/plain": [
       "                        domain classification\n",
       "0                   27east.com          local\n",
       "1               4bcaonline.com          local\n",
       "2                     abc7.com   INCONSISTENT\n",
       "3               abcnews.go.com       national\n",
       "4             aberdeennews.com          local\n",
       "...                        ...            ...\n",
       "12900       sun.stparchive.com          local\n",
       "12901            thermopir.com          local\n",
       "12902             kgoskerm.com          local\n",
       "12903  westoncountygazette.com          local\n",
       "12904       wcg.stparchive.com          local\n",
       "\n",
       "[12905 rows x 2 columns]"
      ]
     },
     "execution_count": 74,
     "metadata": {},
     "output_type": "execute_result"
    }
   ],
   "source": [
    "domain_classification"
   ]
  },
  {
   "cell_type": "code",
   "execution_count": 29,
   "id": "15cb983b-a902-4f9a-b155-36be7c995349",
   "metadata": {},
   "outputs": [],
   "source": [
    "hand_label = pd.read_csv(\"../data/domains_handcode_local_national_labels.csv\")"
   ]
  },
  {
   "cell_type": "code",
   "execution_count": 45,
   "id": "bceb509b-5eaa-40fd-8a37-4eacf834fc83",
   "metadata": {},
   "outputs": [],
   "source": [
    "hand_label = hand_label[['domain', 'label']][~hand_label['label'].isna()]"
   ]
  },
  {
   "cell_type": "code",
   "execution_count": 75,
   "id": "d44a90a2-d443-4c27-a2b2-cf6cb613fbad",
   "metadata": {},
   "outputs": [],
   "source": [
    "# if domain classification is mixed across sources, then do not keep these\n",
    "df_category_grouped_class = pd.merge(df_category_grouped, domain_classification, how=\"left\", on=['domain'])"
   ]
  },
  {
   "cell_type": "code",
   "execution_count": 76,
   "id": "6d8c63b7-d119-4277-a40b-317d7389a4d0",
   "metadata": {},
   "outputs": [
    {
     "data": {
      "text/plain": [
       "np.int64(633984769)"
      ]
     },
     "execution_count": 76,
     "metadata": {},
     "output_type": "execute_result"
    }
   ],
   "source": [
    "df_category_grouped_class['counts'].sum()"
   ]
  },
  {
   "cell_type": "code",
   "execution_count": 77,
   "id": "6bd0169a-701c-4443-b8b2-952f12476f78",
   "metadata": {},
   "outputs": [],
   "source": [
    "df_category_grouped_class = pd.merge(df_category_grouped_class, hand_label.drop_duplicates(), how=\"left\", on=['domain'])"
   ]
  },
  {
   "cell_type": "code",
   "execution_count": 78,
   "id": "958d393b-34d5-46df-942c-8043e272a24a",
   "metadata": {},
   "outputs": [
    {
     "data": {
      "text/plain": [
       "np.int64(633984769)"
      ]
     },
     "execution_count": 78,
     "metadata": {},
     "output_type": "execute_result"
    }
   ],
   "source": [
    "df_category_grouped_class['counts'].sum()"
   ]
  },
  {
   "cell_type": "code",
   "execution_count": 79,
   "id": "8368568a-b095-4752-8297-c0ba5d715ac7",
   "metadata": {},
   "outputs": [],
   "source": [
    "df_category_grouped_class['classification'] = df_category_grouped_class['classification'].fillna(df_category_grouped_class['label'])"
   ]
  },
  {
   "cell_type": "code",
   "execution_count": 80,
   "id": "9e6e2954-b0dc-4571-ad31-58b0de93b4e9",
   "metadata": {},
   "outputs": [],
   "source": [
    "df_category_grouped_class.loc[df_category_grouped_class[\"classification\"] == \"INCONSISTENT\", \"classification\"] = \"other news\""
   ]
  },
  {
   "cell_type": "code",
   "execution_count": 81,
   "id": "882924ee-6ffa-435c-b293-435ea21c6bd3",
   "metadata": {},
   "outputs": [],
   "source": [
    "df_category_grouped_class.loc[df_category_grouped_class[\"classification\"] == \"international\", \"classification\"] = \"national\""
   ]
  },
  {
   "cell_type": "code",
   "execution_count": 82,
   "id": "16905056-43d4-4fc8-9aa3-fb181bc8546f",
   "metadata": {},
   "outputs": [
    {
     "data": {
      "text/plain": [
       "np.int64(633984769)"
      ]
     },
     "execution_count": 82,
     "metadata": {},
     "output_type": "execute_result"
    }
   ],
   "source": [
    "df_category_grouped_class['counts'].sum()"
   ]
  },
  {
   "cell_type": "code",
   "execution_count": 83,
   "id": "9c79e50f-363b-4b4d-a629-2b8022fc01bb",
   "metadata": {},
   "outputs": [
    {
     "data": {
      "text/plain": [
       "105082"
      ]
     },
     "execution_count": 83,
     "metadata": {},
     "output_type": "execute_result"
    }
   ],
   "source": [
    "len(df_category_grouped_class)"
   ]
  },
  {
   "cell_type": "code",
   "execution_count": 84,
   "id": "c4147c70-cf86-43d4-8059-9d8e28dd7a95",
   "metadata": {},
   "outputs": [],
   "source": [
    "reclass = df_category_grouped_class.groupby(['classification'], dropna=False, as_index=False)['counts'].sum()"
   ]
  },
  {
   "cell_type": "code",
   "execution_count": 85,
   "id": "1696f6a9-42ed-4e2c-a7f2-ca957ce14146",
   "metadata": {},
   "outputs": [
    {
     "data": {
      "text/plain": [
       "<Axes: xlabel='classification'>"
      ]
     },
     "execution_count": 85,
     "metadata": {},
     "output_type": "execute_result"
    },
    {
     "data": {
      "image/png": "[encoded data removed]",
      "text/plain": [
       "<Figure size 640x480 with 1 Axes>"
      ]
     },
     "metadata": {},
     "output_type": "display_data"
    }
   ],
   "source": [
    "reclass.plot.bar(x='classification', y='counts', rot=0)"
   ]
  },
  {
   "cell_type": "code",
   "execution_count": 86,
   "id": "63a21fa0-2a6b-4243-b777-f88719acef8b",
   "metadata": {},
   "outputs": [],
   "source": [
    "df_category_grouped_class.drop('label', axis=1, inplace=True)"
   ]
  },
  {
   "cell_type": "code",
   "execution_count": 87,
   "id": "93ed7aca-03b6-49ff-8417-7d445e9bdb5f",
   "metadata": {},
   "outputs": [
    {
     "data": {
      "text/plain": [
       "np.int64(633984769)"
      ]
     },
     "execution_count": 87,
     "metadata": {},
     "output_type": "execute_result"
    }
   ],
   "source": [
    "df_category_grouped_class['counts'].sum()"
   ]
  },
  {
   "cell_type": "code",
   "execution_count": 88,
   "id": "c1c7a555-ba78-4a25-9431-7075b13de38b",
   "metadata": {},
   "outputs": [
    {
     "data": {
      "text/html": [
       "<div>\n",
       "<style scoped>\n",
       "    .dataframe tbody tr th:only-of-type {\n",
       "        vertical-align: middle;\n",
       "    }\n",
       "\n",
       "    .dataframe tbody tr th {\n",
       "        vertical-align: top;\n",
       "    }\n",
       "\n",
       "    .dataframe thead th {\n",
       "        text-align: right;\n",
       "    }\n",
       "</style>\n",
       "<table border=\"1\" class=\"dataframe\">\n",
       "  <thead>\n",
       "    <tr style=\"text-align: right;\">\n",
       "      <th></th>\n",
       "      <th>domain</th>\n",
       "      <th>cmpt_rank</th>\n",
       "      <th>is_home_district</th>\n",
       "      <th>category</th>\n",
       "      <th>counts</th>\n",
       "      <th>classification</th>\n",
       "    </tr>\n",
       "  </thead>\n",
       "  <tbody>\n",
       "    <tr>\n",
       "      <th>0</th>\n",
       "      <td>Katko</td>\n",
       "      <td>11.0</td>\n",
       "      <td>False</td>\n",
       "      <td>NaN</td>\n",
       "      <td>1</td>\n",
       "      <td>NaN</td>\n",
       "    </tr>\n",
       "    <tr>\n",
       "      <th>1</th>\n",
       "      <td>100e53.com</td>\n",
       "      <td>5.0</td>\n",
       "      <td>False</td>\n",
       "      <td>campaign_personal</td>\n",
       "      <td>1</td>\n",
       "      <td>NaN</td>\n",
       "    </tr>\n",
       "    <tr>\n",
       "      <th>2</th>\n",
       "      <td>100e53.com</td>\n",
       "      <td>7.0</td>\n",
       "      <td>False</td>\n",
       "      <td>campaign_personal</td>\n",
       "      <td>2</td>\n",
       "      <td>NaN</td>\n",
       "    </tr>\n",
       "    <tr>\n",
       "      <th>3</th>\n",
       "      <td>100e53.com</td>\n",
       "      <td>8.0</td>\n",
       "      <td>False</td>\n",
       "      <td>campaign_personal</td>\n",
       "      <td>3</td>\n",
       "      <td>NaN</td>\n",
       "    </tr>\n",
       "    <tr>\n",
       "      <th>4</th>\n",
       "      <td>100e53.com</td>\n",
       "      <td>10.0</td>\n",
       "      <td>False</td>\n",
       "      <td>campaign_personal</td>\n",
       "      <td>2</td>\n",
       "      <td>NaN</td>\n",
       "    </tr>\n",
       "    <tr>\n",
       "      <th>...</th>\n",
       "      <td>...</td>\n",
       "      <td>...</td>\n",
       "      <td>...</td>\n",
       "      <td>...</td>\n",
       "      <td>...</td>\n",
       "      <td>...</td>\n",
       "    </tr>\n",
       "    <tr>\n",
       "      <th>105077</th>\n",
       "      <td>zoominfo.com</td>\n",
       "      <td>11.0</td>\n",
       "      <td>False</td>\n",
       "      <td>other_third_party</td>\n",
       "      <td>3</td>\n",
       "      <td>NaN</td>\n",
       "    </tr>\n",
       "    <tr>\n",
       "      <th>105078</th>\n",
       "      <td>zoro.com</td>\n",
       "      <td>0.0</td>\n",
       "      <td>False</td>\n",
       "      <td>other_third_party</td>\n",
       "      <td>1</td>\n",
       "      <td>NaN</td>\n",
       "    </tr>\n",
       "    <tr>\n",
       "      <th>105079</th>\n",
       "      <td>zoro.com</td>\n",
       "      <td>11.0</td>\n",
       "      <td>False</td>\n",
       "      <td>other_third_party</td>\n",
       "      <td>1</td>\n",
       "      <td>NaN</td>\n",
       "    </tr>\n",
       "    <tr>\n",
       "      <th>105080</th>\n",
       "      <td>zoro.com</td>\n",
       "      <td>12.0</td>\n",
       "      <td>False</td>\n",
       "      <td>other_third_party</td>\n",
       "      <td>6</td>\n",
       "      <td>NaN</td>\n",
       "    </tr>\n",
       "    <tr>\n",
       "      <th>105081</th>\n",
       "      <td>zoro.com</td>\n",
       "      <td>13.0</td>\n",
       "      <td>False</td>\n",
       "      <td>other_third_party</td>\n",
       "      <td>1</td>\n",
       "      <td>NaN</td>\n",
       "    </tr>\n",
       "  </tbody>\n",
       "</table>\n",
       "<p>105082 rows × 6 columns</p>\n",
       "</div>"
      ],
      "text/plain": [
       "              domain  cmpt_rank  is_home_district           category  counts  \\\n",
       "0              Katko       11.0             False                NaN       1   \n",
       "1         100e53.com        5.0             False  campaign_personal       1   \n",
       "2         100e53.com        7.0             False  campaign_personal       2   \n",
       "3         100e53.com        8.0             False  campaign_personal       3   \n",
       "4         100e53.com       10.0             False  campaign_personal       2   \n",
       "...              ...        ...               ...                ...     ...   \n",
       "105077  zoominfo.com       11.0             False  other_third_party       3   \n",
       "105078      zoro.com        0.0             False  other_third_party       1   \n",
       "105079      zoro.com       11.0             False  other_third_party       1   \n",
       "105080      zoro.com       12.0             False  other_third_party       6   \n",
       "105081      zoro.com       13.0             False  other_third_party       1   \n",
       "\n",
       "       classification  \n",
       "0                 NaN  \n",
       "1                 NaN  \n",
       "2                 NaN  \n",
       "3                 NaN  \n",
       "4                 NaN  \n",
       "...               ...  \n",
       "105077            NaN  \n",
       "105078            NaN  \n",
       "105079            NaN  \n",
       "105080            NaN  \n",
       "105081            NaN  \n",
       "\n",
       "[105082 rows x 6 columns]"
      ]
     },
     "execution_count": 88,
     "metadata": {},
     "output_type": "execute_result"
    }
   ],
   "source": [
    "df_category_grouped_class"
   ]
  },
  {
   "cell_type": "code",
   "execution_count": 90,
   "id": "6df2044c-e327-43ed-8ecb-8e3fb584dec0",
   "metadata": {},
   "outputs": [],
   "source": [
    "df_category_grouped_class.to_csv(\"../data/house_analysis/domain_rank_ishome_category_counts.csv\", index=False)"
   ]
  },
  {
   "cell_type": "code",
   "execution_count": null,
   "id": "30e3748e-4247-4600-b820-0a09ae694f48",
   "metadata": {},
   "outputs": [],
   "source": []
  }
 ],
 "metadata": {
  "kernelspec": {
   "display_name": "Python 3 (ipykernel)",
   "language": "python",
   "name": "python3"
  },
  "language_info": {
   "codemirror_mode": {
    "name": "ipython",
    "version": 3
   },
   "file_extension": ".py",
   "mimetype": "text/x-python",
   "name": "python",
   "nbconvert_exporter": "python",
   "pygments_lexer": "ipython3",
   "version": "3.10.14"
  }
 },
 "nbformat": 4,
 "nbformat_minor": 5
}
