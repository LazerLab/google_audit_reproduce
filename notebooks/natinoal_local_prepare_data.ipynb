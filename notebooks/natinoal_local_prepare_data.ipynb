{
 "cells": [
  {
   "cell_type": "markdown",
   "id": "3f225920-c149-4c4d-8cfd-b5d5934f3b41",
   "metadata": {},
   "source": [
    "# Preparing data for national vs. local domains"
   ]
  },
  {
   "cell_type": "markdown",
   "id": "8c4f360c-1a8c-4201-81a1-27fdb4ae6ce1",
   "metadata": {},
   "source": [
    "This file prepares intermediate data files for the national vs. local analysis in national_local_analysis.ipynb."
   ]
  },
  {
   "cell_type": "code",
   "execution_count": 216,
   "id": "5985f434-b92a-4f86-b68c-6e3fc8e0cb78",
   "metadata": {},
   "outputs": [],
   "source": [
    "import seaborn as sns\n",
    "import matplotlib.pyplot as plt\n",
    "import pandas as pd\n",
    "import os\n",
    "import json\n",
    "import numpy as np"
   ]
  },
  {
   "cell_type": "markdown",
   "id": "69672c06-fe93-4201-bc1d-434b9af5340f",
   "metadata": {},
   "source": [
    "## Preparing data"
   ]
  },
  {
   "cell_type": "code",
   "execution_count": 219,
   "id": "dc86c7bd-a634-4336-9f61-4bcb289f8b1e",
   "metadata": {},
   "outputs": [],
   "source": [
    "house_rank_domain = pd.read_csv(\"/net/lazer/lab-lazer/shared_projects/google_audit_reproduce/intermedidate_files/merged_summary/domain_rank_qry_loc.csv\")"
   ]
  },
  {
   "cell_type": "code",
   "execution_count": 221,
   "id": "2ae7a19e-af26-4d59-bf49-95b2370995a7",
   "metadata": {},
   "outputs": [],
   "source": [
    "loc_rank_counts = house_rank_domain.groupby(['domain', 'qry', 'serp_rank', 'loc_id'], dropna=True, as_index=False)['counts'].sum()"
   ]
  },
  {
   "cell_type": "code",
   "execution_count": 222,
   "id": "263ee9b8-3ff2-4c40-aa40-826097146ef3",
   "metadata": {},
   "outputs": [
    {
     "data": {
      "text/html": [
       "<div>\n",
       "<style scoped>\n",
       "    .dataframe tbody tr th:only-of-type {\n",
       "        vertical-align: middle;\n",
       "    }\n",
       "\n",
       "    .dataframe tbody tr th {\n",
       "        vertical-align: top;\n",
       "    }\n",
       "\n",
       "    .dataframe thead th {\n",
       "        text-align: right;\n",
       "    }\n",
       "</style>\n",
       "<table border=\"1\" class=\"dataframe\">\n",
       "  <thead>\n",
       "    <tr style=\"text-align: right;\">\n",
       "      <th></th>\n",
       "      <th>domain</th>\n",
       "      <th>qry</th>\n",
       "      <th>serp_rank</th>\n",
       "      <th>loc_id</th>\n",
       "      <th>counts</th>\n",
       "    </tr>\n",
       "  </thead>\n",
       "  <tbody>\n",
       "    <tr>\n",
       "      <th>0</th>\n",
       "      <td>1011now.com</td>\n",
       "      <td>Ben Cline</td>\n",
       "      <td>18.0</td>\n",
       "      <td>DC-AT LARGE,District of Columbia,United States</td>\n",
       "      <td>1</td>\n",
       "    </tr>\n",
       "    <tr>\n",
       "      <th>1</th>\n",
       "      <td>1011now.com</td>\n",
       "      <td>Ben Cline</td>\n",
       "      <td>18.0</td>\n",
       "      <td>WA-1,Washington,United States</td>\n",
       "      <td>1</td>\n",
       "    </tr>\n",
       "    <tr>\n",
       "      <th>2</th>\n",
       "      <td>1011now.com</td>\n",
       "      <td>Ben Cline</td>\n",
       "      <td>18.0</td>\n",
       "      <td>WA-10,Washington,United States</td>\n",
       "      <td>1</td>\n",
       "    </tr>\n",
       "    <tr>\n",
       "      <th>3</th>\n",
       "      <td>1011now.com</td>\n",
       "      <td>Ben Cline</td>\n",
       "      <td>18.0</td>\n",
       "      <td>WA-2,Washington,United States</td>\n",
       "      <td>1</td>\n",
       "    </tr>\n",
       "    <tr>\n",
       "      <th>4</th>\n",
       "      <td>1011now.com</td>\n",
       "      <td>Ben Cline</td>\n",
       "      <td>18.0</td>\n",
       "      <td>WA-3,Washington,United States</td>\n",
       "      <td>1</td>\n",
       "    </tr>\n",
       "  </tbody>\n",
       "</table>\n",
       "</div>"
      ],
      "text/plain": [
       "        domain        qry  serp_rank  \\\n",
       "0  1011now.com  Ben Cline       18.0   \n",
       "1  1011now.com  Ben Cline       18.0   \n",
       "2  1011now.com  Ben Cline       18.0   \n",
       "3  1011now.com  Ben Cline       18.0   \n",
       "4  1011now.com  Ben Cline       18.0   \n",
       "\n",
       "                                           loc_id  counts  \n",
       "0  DC-AT LARGE,District of Columbia,United States       1  \n",
       "1                   WA-1,Washington,United States       1  \n",
       "2                  WA-10,Washington,United States       1  \n",
       "3                   WA-2,Washington,United States       1  \n",
       "4                   WA-3,Washington,United States       1  "
      ]
     },
     "execution_count": 222,
     "metadata": {},
     "output_type": "execute_result"
    }
   ],
   "source": [
    "loc_rank_counts[:5]"
   ]
  },
  {
   "cell_type": "code",
   "execution_count": 223,
   "id": "7f1078e6-c1da-4507-a382-d77f35677d86",
   "metadata": {},
   "outputs": [
    {
     "data": {
      "text/plain": [
       "299573378"
      ]
     },
     "execution_count": 223,
     "metadata": {},
     "output_type": "execute_result"
    }
   ],
   "source": [
    "loc_rank_counts['counts'].sum()"
   ]
  },
  {
   "cell_type": "code",
   "execution_count": 224,
   "id": "8ed10dfc-59c0-4d9d-8c38-6136ac99e32f",
   "metadata": {},
   "outputs": [],
   "source": [
    "qry_loc_list = loc_rank_counts[['qry','loc_id']].drop_duplicates()"
   ]
  },
  {
   "cell_type": "code",
   "execution_count": 225,
   "id": "b23b4a99-05fa-4474-9351-a55c137d4fa0",
   "metadata": {},
   "outputs": [],
   "source": [
    "# Define a function to parse the address\n",
    "def get_state(loc_id):\n",
    "    location_components = loc_id.split(\",\")\n",
    "    first_component = location_components[0].split(\"-\")\n",
    "    return first_component[0]\n",
    "    \n",
    "    \n",
    "def get_district(loc_id):\n",
    "    location_components = loc_id.split(\",\")\n",
    "    first_component = location_components[0].split(\"-\")\n",
    "    if len(first_component) > 1:\n",
    "        return first_component[1]\n",
    "    else:\n",
    "        return None\n",
    "\n",
    "def check_home_state(row):\n",
    "    if row[\"srch_state\"] == row['home_state']:\n",
    "        return True\n",
    "    return False\n",
    "\n",
    "    \n",
    "def check_home_district(row):\n",
    "    if row['srch_district'] == \"AT LARGE\":\n",
    "        if row[\"is_home_state\"] and (row['home_district'] == 0):\n",
    "            return True\n",
    "    if row[\"is_home_state\"]:\n",
    "        row[\"srch_district\"] = pd.to_numeric(row[\"srch_district\"])\n",
    "        row['home_district'] = pd.to_numeric(row['home_district'])\n",
    "        if row[\"srch_district\"] == row['home_district']:\n",
    "            return True\n",
    "        \n",
    "    return False\n",
    "\n",
    "\n",
    "def check_home(df):\n",
    "    df['srch_state'] = df['loc_id_clean'].apply(get_state)\n",
    "    df['srch_district'] = df['loc_id_clean'].apply(get_district)\n",
    "    \n",
    "    qry_info = pd.read_csv(\"../data/qry_info_house_filter.csv\")\n",
    "    \n",
    "    qry_info1 = qry_info[['qry', 'party', 'state', 'district']].drop_duplicates()\n",
    "    \n",
    "    qry_info1.rename(columns={'state':'home_state', 'district':'home_district'}, inplace=True)\n",
    "    \n",
    "    loc_counts = pd.merge(df, qry_info1, how=\"left\", on='qry')\n",
    "    \n",
    "    loc_counts['is_home_state'] = loc_counts.apply(check_home_state, axis=1)\n",
    "    loc_counts['is_home_district'] = loc_counts.apply(check_home_district, axis=1)\n",
    "    \n",
    "    return loc_counts"
   ]
  },
  {
   "cell_type": "code",
   "execution_count": 226,
   "id": "7e0bfbe4-ec40-473a-9097-c250391d50dd",
   "metadata": {},
   "outputs": [],
   "source": [
    "#Standardize loc_id\n",
    "qry_loc_list[\"loc_id_clean\"] = qry_loc_list['loc_id']\n",
    "qry_loc_list[\"loc_id_clean\"] = np.where(qry_loc_list[\"loc_id_clean\"] == 'Congressional District 1,Hawaii,United States', 'HI-1,Hawaii,United States', qry_loc_list[\"loc_id_clean\"])\n",
    "qry_loc_list[\"loc_id_clean\"] = np.where(qry_loc_list[\"loc_id_clean\"] == 'Congressional District 6,California,United States', 'CA-6,California,United States', qry_loc_list[\"loc_id_clean\"])\n",
    "qry_loc_list[\"loc_id_clean\"] = np.where(qry_loc_list[\"loc_id_clean\"] == 'Congressional District 45,California,United States', 'CA-45,California,United States', qry_loc_list[\"loc_id_clean\"])\n",
    "qry_loc_list['loc_id_clean'] = qry_loc_list['loc_id_clean'].str.split(',').str[0]"
   ]
  },
  {
   "cell_type": "code",
   "execution_count": 227,
   "id": "3a0068c4-8f17-4487-b63f-6a209af1deae",
   "metadata": {},
   "outputs": [
    {
     "data": {
      "text/html": [
       "<div>\n",
       "<style scoped>\n",
       "    .dataframe tbody tr th:only-of-type {\n",
       "        vertical-align: middle;\n",
       "    }\n",
       "\n",
       "    .dataframe tbody tr th {\n",
       "        vertical-align: top;\n",
       "    }\n",
       "\n",
       "    .dataframe thead th {\n",
       "        text-align: right;\n",
       "    }\n",
       "</style>\n",
       "<table border=\"1\" class=\"dataframe\">\n",
       "  <thead>\n",
       "    <tr style=\"text-align: right;\">\n",
       "      <th></th>\n",
       "      <th>qry</th>\n",
       "      <th>loc_id</th>\n",
       "      <th>loc_id_clean</th>\n",
       "    </tr>\n",
       "  </thead>\n",
       "  <tbody>\n",
       "    <tr>\n",
       "      <th>0</th>\n",
       "      <td>Ben Cline</td>\n",
       "      <td>DC-AT LARGE,District of Columbia,United States</td>\n",
       "      <td>DC-AT LARGE</td>\n",
       "    </tr>\n",
       "    <tr>\n",
       "      <th>1</th>\n",
       "      <td>Ben Cline</td>\n",
       "      <td>WA-1,Washington,United States</td>\n",
       "      <td>WA-1</td>\n",
       "    </tr>\n",
       "    <tr>\n",
       "      <th>2</th>\n",
       "      <td>Ben Cline</td>\n",
       "      <td>WA-10,Washington,United States</td>\n",
       "      <td>WA-10</td>\n",
       "    </tr>\n",
       "    <tr>\n",
       "      <th>3</th>\n",
       "      <td>Ben Cline</td>\n",
       "      <td>WA-2,Washington,United States</td>\n",
       "      <td>WA-2</td>\n",
       "    </tr>\n",
       "    <tr>\n",
       "      <th>4</th>\n",
       "      <td>Ben Cline</td>\n",
       "      <td>WA-3,Washington,United States</td>\n",
       "      <td>WA-3</td>\n",
       "    </tr>\n",
       "    <tr>\n",
       "      <th>...</th>\n",
       "      <td>...</td>\n",
       "      <td>...</td>\n",
       "      <td>...</td>\n",
       "    </tr>\n",
       "    <tr>\n",
       "      <th>4849072</th>\n",
       "      <td>Frank Lucas</td>\n",
       "      <td>PA-11,Pennsylvania,United States</td>\n",
       "      <td>PA-11</td>\n",
       "    </tr>\n",
       "    <tr>\n",
       "      <th>4849098</th>\n",
       "      <td>Frank Lucas</td>\n",
       "      <td>TN-1,Tennessee,United States</td>\n",
       "      <td>TN-1</td>\n",
       "    </tr>\n",
       "    <tr>\n",
       "      <th>4849102</th>\n",
       "      <td>Frank Lucas</td>\n",
       "      <td>TN-5,Tennessee,United States</td>\n",
       "      <td>TN-5</td>\n",
       "    </tr>\n",
       "    <tr>\n",
       "      <th>4849104</th>\n",
       "      <td>Frank Lucas</td>\n",
       "      <td>TN-7,Tennessee,United States</td>\n",
       "      <td>TN-7</td>\n",
       "    </tr>\n",
       "    <tr>\n",
       "      <th>4849151</th>\n",
       "      <td>Frank Lucas</td>\n",
       "      <td>VA-3,Virginia,United States</td>\n",
       "      <td>VA-3</td>\n",
       "    </tr>\n",
       "  </tbody>\n",
       "</table>\n",
       "<p>181812 rows × 3 columns</p>\n",
       "</div>"
      ],
      "text/plain": [
       "                 qry                                          loc_id  \\\n",
       "0          Ben Cline  DC-AT LARGE,District of Columbia,United States   \n",
       "1          Ben Cline                   WA-1,Washington,United States   \n",
       "2          Ben Cline                  WA-10,Washington,United States   \n",
       "3          Ben Cline                   WA-2,Washington,United States   \n",
       "4          Ben Cline                   WA-3,Washington,United States   \n",
       "...              ...                                             ...   \n",
       "4849072  Frank Lucas                PA-11,Pennsylvania,United States   \n",
       "4849098  Frank Lucas                    TN-1,Tennessee,United States   \n",
       "4849102  Frank Lucas                    TN-5,Tennessee,United States   \n",
       "4849104  Frank Lucas                    TN-7,Tennessee,United States   \n",
       "4849151  Frank Lucas                     VA-3,Virginia,United States   \n",
       "\n",
       "        loc_id_clean  \n",
       "0        DC-AT LARGE  \n",
       "1               WA-1  \n",
       "2              WA-10  \n",
       "3               WA-2  \n",
       "4               WA-3  \n",
       "...              ...  \n",
       "4849072        PA-11  \n",
       "4849098         TN-1  \n",
       "4849102         TN-5  \n",
       "4849104         TN-7  \n",
       "4849151         VA-3  \n",
       "\n",
       "[181812 rows x 3 columns]"
      ]
     },
     "execution_count": 227,
     "metadata": {},
     "output_type": "execute_result"
    }
   ],
   "source": [
    "qry_loc_list"
   ]
  },
  {
   "cell_type": "code",
   "execution_count": 228,
   "id": "2a93993b-bfda-45c9-967a-dc3a3f43cc2c",
   "metadata": {},
   "outputs": [],
   "source": [
    "qry_loc_checkhome = check_home(qry_loc_list)"
   ]
  },
  {
   "cell_type": "code",
   "execution_count": 229,
   "id": "b16a0fd6-7179-4fae-ac35-63d2fd317886",
   "metadata": {},
   "outputs": [
    {
     "data": {
      "text/html": [
       "<div>\n",
       "<style scoped>\n",
       "    .dataframe tbody tr th:only-of-type {\n",
       "        vertical-align: middle;\n",
       "    }\n",
       "\n",
       "    .dataframe tbody tr th {\n",
       "        vertical-align: top;\n",
       "    }\n",
       "\n",
       "    .dataframe thead th {\n",
       "        text-align: right;\n",
       "    }\n",
       "</style>\n",
       "<table border=\"1\" class=\"dataframe\">\n",
       "  <thead>\n",
       "    <tr style=\"text-align: right;\">\n",
       "      <th></th>\n",
       "      <th>qry</th>\n",
       "      <th>loc_id</th>\n",
       "      <th>loc_id_clean</th>\n",
       "      <th>srch_state</th>\n",
       "      <th>srch_district</th>\n",
       "      <th>party</th>\n",
       "      <th>home_state</th>\n",
       "      <th>home_district</th>\n",
       "      <th>is_home_state</th>\n",
       "      <th>is_home_district</th>\n",
       "    </tr>\n",
       "  </thead>\n",
       "  <tbody>\n",
       "    <tr>\n",
       "      <th>0</th>\n",
       "      <td>Ben Cline</td>\n",
       "      <td>DC-AT LARGE,District of Columbia,United States</td>\n",
       "      <td>DC-AT LARGE</td>\n",
       "      <td>DC</td>\n",
       "      <td>AT LARGE</td>\n",
       "      <td>Republican</td>\n",
       "      <td>VA</td>\n",
       "      <td>6</td>\n",
       "      <td>False</td>\n",
       "      <td>False</td>\n",
       "    </tr>\n",
       "    <tr>\n",
       "      <th>1</th>\n",
       "      <td>Ben Cline</td>\n",
       "      <td>WA-1,Washington,United States</td>\n",
       "      <td>WA-1</td>\n",
       "      <td>WA</td>\n",
       "      <td>1</td>\n",
       "      <td>Republican</td>\n",
       "      <td>VA</td>\n",
       "      <td>6</td>\n",
       "      <td>False</td>\n",
       "      <td>False</td>\n",
       "    </tr>\n",
       "    <tr>\n",
       "      <th>2</th>\n",
       "      <td>Ben Cline</td>\n",
       "      <td>WA-10,Washington,United States</td>\n",
       "      <td>WA-10</td>\n",
       "      <td>WA</td>\n",
       "      <td>10</td>\n",
       "      <td>Republican</td>\n",
       "      <td>VA</td>\n",
       "      <td>6</td>\n",
       "      <td>False</td>\n",
       "      <td>False</td>\n",
       "    </tr>\n",
       "    <tr>\n",
       "      <th>3</th>\n",
       "      <td>Ben Cline</td>\n",
       "      <td>WA-2,Washington,United States</td>\n",
       "      <td>WA-2</td>\n",
       "      <td>WA</td>\n",
       "      <td>2</td>\n",
       "      <td>Republican</td>\n",
       "      <td>VA</td>\n",
       "      <td>6</td>\n",
       "      <td>False</td>\n",
       "      <td>False</td>\n",
       "    </tr>\n",
       "    <tr>\n",
       "      <th>4</th>\n",
       "      <td>Ben Cline</td>\n",
       "      <td>WA-3,Washington,United States</td>\n",
       "      <td>WA-3</td>\n",
       "      <td>WA</td>\n",
       "      <td>3</td>\n",
       "      <td>Republican</td>\n",
       "      <td>VA</td>\n",
       "      <td>6</td>\n",
       "      <td>False</td>\n",
       "      <td>False</td>\n",
       "    </tr>\n",
       "    <tr>\n",
       "      <th>...</th>\n",
       "      <td>...</td>\n",
       "      <td>...</td>\n",
       "      <td>...</td>\n",
       "      <td>...</td>\n",
       "      <td>...</td>\n",
       "      <td>...</td>\n",
       "      <td>...</td>\n",
       "      <td>...</td>\n",
       "      <td>...</td>\n",
       "      <td>...</td>\n",
       "    </tr>\n",
       "    <tr>\n",
       "      <th>181807</th>\n",
       "      <td>Frank Lucas</td>\n",
       "      <td>PA-11,Pennsylvania,United States</td>\n",
       "      <td>PA-11</td>\n",
       "      <td>PA</td>\n",
       "      <td>11</td>\n",
       "      <td>Republican</td>\n",
       "      <td>OK</td>\n",
       "      <td>3</td>\n",
       "      <td>False</td>\n",
       "      <td>False</td>\n",
       "    </tr>\n",
       "    <tr>\n",
       "      <th>181808</th>\n",
       "      <td>Frank Lucas</td>\n",
       "      <td>TN-1,Tennessee,United States</td>\n",
       "      <td>TN-1</td>\n",
       "      <td>TN</td>\n",
       "      <td>1</td>\n",
       "      <td>Republican</td>\n",
       "      <td>OK</td>\n",
       "      <td>3</td>\n",
       "      <td>False</td>\n",
       "      <td>False</td>\n",
       "    </tr>\n",
       "    <tr>\n",
       "      <th>181809</th>\n",
       "      <td>Frank Lucas</td>\n",
       "      <td>TN-5,Tennessee,United States</td>\n",
       "      <td>TN-5</td>\n",
       "      <td>TN</td>\n",
       "      <td>5</td>\n",
       "      <td>Republican</td>\n",
       "      <td>OK</td>\n",
       "      <td>3</td>\n",
       "      <td>False</td>\n",
       "      <td>False</td>\n",
       "    </tr>\n",
       "    <tr>\n",
       "      <th>181810</th>\n",
       "      <td>Frank Lucas</td>\n",
       "      <td>TN-7,Tennessee,United States</td>\n",
       "      <td>TN-7</td>\n",
       "      <td>TN</td>\n",
       "      <td>7</td>\n",
       "      <td>Republican</td>\n",
       "      <td>OK</td>\n",
       "      <td>3</td>\n",
       "      <td>False</td>\n",
       "      <td>False</td>\n",
       "    </tr>\n",
       "    <tr>\n",
       "      <th>181811</th>\n",
       "      <td>Frank Lucas</td>\n",
       "      <td>VA-3,Virginia,United States</td>\n",
       "      <td>VA-3</td>\n",
       "      <td>VA</td>\n",
       "      <td>3</td>\n",
       "      <td>Republican</td>\n",
       "      <td>OK</td>\n",
       "      <td>3</td>\n",
       "      <td>False</td>\n",
       "      <td>False</td>\n",
       "    </tr>\n",
       "  </tbody>\n",
       "</table>\n",
       "<p>181812 rows × 10 columns</p>\n",
       "</div>"
      ],
      "text/plain": [
       "                qry                                          loc_id  \\\n",
       "0         Ben Cline  DC-AT LARGE,District of Columbia,United States   \n",
       "1         Ben Cline                   WA-1,Washington,United States   \n",
       "2         Ben Cline                  WA-10,Washington,United States   \n",
       "3         Ben Cline                   WA-2,Washington,United States   \n",
       "4         Ben Cline                   WA-3,Washington,United States   \n",
       "...             ...                                             ...   \n",
       "181807  Frank Lucas                PA-11,Pennsylvania,United States   \n",
       "181808  Frank Lucas                    TN-1,Tennessee,United States   \n",
       "181809  Frank Lucas                    TN-5,Tennessee,United States   \n",
       "181810  Frank Lucas                    TN-7,Tennessee,United States   \n",
       "181811  Frank Lucas                     VA-3,Virginia,United States   \n",
       "\n",
       "       loc_id_clean srch_state srch_district       party home_state  \\\n",
       "0       DC-AT LARGE         DC      AT LARGE  Republican         VA   \n",
       "1              WA-1         WA             1  Republican         VA   \n",
       "2             WA-10         WA            10  Republican         VA   \n",
       "3              WA-2         WA             2  Republican         VA   \n",
       "4              WA-3         WA             3  Republican         VA   \n",
       "...             ...        ...           ...         ...        ...   \n",
       "181807        PA-11         PA            11  Republican         OK   \n",
       "181808         TN-1         TN             1  Republican         OK   \n",
       "181809         TN-5         TN             5  Republican         OK   \n",
       "181810         TN-7         TN             7  Republican         OK   \n",
       "181811         VA-3         VA             3  Republican         OK   \n",
       "\n",
       "        home_district  is_home_state  is_home_district  \n",
       "0                   6          False             False  \n",
       "1                   6          False             False  \n",
       "2                   6          False             False  \n",
       "3                   6          False             False  \n",
       "4                   6          False             False  \n",
       "...               ...            ...               ...  \n",
       "181807              3          False             False  \n",
       "181808              3          False             False  \n",
       "181809              3          False             False  \n",
       "181810              3          False             False  \n",
       "181811              3          False             False  \n",
       "\n",
       "[181812 rows x 10 columns]"
      ]
     },
     "execution_count": 229,
     "metadata": {},
     "output_type": "execute_result"
    }
   ],
   "source": [
    "qry_loc_checkhome"
   ]
  },
  {
   "cell_type": "code",
   "execution_count": 230,
   "id": "77792636-4969-45d1-b0a5-ad42c774d509",
   "metadata": {},
   "outputs": [
    {
     "data": {
      "text/html": [
       "<div>\n",
       "<style scoped>\n",
       "    .dataframe tbody tr th:only-of-type {\n",
       "        vertical-align: middle;\n",
       "    }\n",
       "\n",
       "    .dataframe tbody tr th {\n",
       "        vertical-align: top;\n",
       "    }\n",
       "\n",
       "    .dataframe thead th {\n",
       "        text-align: right;\n",
       "    }\n",
       "</style>\n",
       "<table border=\"1\" class=\"dataframe\">\n",
       "  <thead>\n",
       "    <tr style=\"text-align: right;\">\n",
       "      <th></th>\n",
       "      <th>qry</th>\n",
       "      <th>loc_id</th>\n",
       "      <th>loc_id_clean</th>\n",
       "      <th>srch_state</th>\n",
       "      <th>srch_district</th>\n",
       "      <th>party</th>\n",
       "      <th>home_state</th>\n",
       "      <th>home_district</th>\n",
       "      <th>is_home_state</th>\n",
       "      <th>is_home_district</th>\n",
       "    </tr>\n",
       "  </thead>\n",
       "  <tbody>\n",
       "    <tr>\n",
       "      <th>138106</th>\n",
       "      <td>Liz Cheney</td>\n",
       "      <td>WY-AT LARGE,Wyoming,United States</td>\n",
       "      <td>WY-AT LARGE</td>\n",
       "      <td>WY</td>\n",
       "      <td>AT LARGE</td>\n",
       "      <td>Republican</td>\n",
       "      <td>WY</td>\n",
       "      <td>0</td>\n",
       "      <td>True</td>\n",
       "      <td>True</td>\n",
       "    </tr>\n",
       "  </tbody>\n",
       "</table>\n",
       "</div>"
      ],
      "text/plain": [
       "               qry                             loc_id loc_id_clean srch_state  \\\n",
       "138106  Liz Cheney  WY-AT LARGE,Wyoming,United States  WY-AT LARGE         WY   \n",
       "\n",
       "       srch_district       party home_state  home_district  is_home_state  \\\n",
       "138106      AT LARGE  Republican         WY              0           True   \n",
       "\n",
       "        is_home_district  \n",
       "138106              True  "
      ]
     },
     "execution_count": 230,
     "metadata": {},
     "output_type": "execute_result"
    }
   ],
   "source": [
    "# check on edge cases\n",
    "qry_loc_checkhome[(qry_loc_checkhome['qry']== 'Liz Cheney')&(qry_loc_checkhome['srch_state']=='WY')]"
   ]
  },
  {
   "cell_type": "code",
   "execution_count": 231,
   "id": "31d42616-4fc9-4957-8fcd-8323803983d2",
   "metadata": {},
   "outputs": [],
   "source": [
    "qry_loc_checkhome.to_csv(\"../data/house_analysis/qry_loc_checkhome.csv\", index=False)"
   ]
  },
  {
   "cell_type": "code",
   "execution_count": 232,
   "id": "3b634fcd-f509-42d8-a9e3-75b754c3915b",
   "metadata": {},
   "outputs": [],
   "source": [
    "df_checkhome = pd.merge(loc_rank_counts, qry_loc_checkhome[['qry', 'loc_id', 'is_home_district']].drop_duplicates(['qry', 'loc_id']), how=\"left\", on=['qry', 'loc_id'])"
   ]
  },
  {
   "cell_type": "code",
   "execution_count": 233,
   "id": "c0fd2f93-5936-4507-ae8c-a6cf15c0ff90",
   "metadata": {},
   "outputs": [
    {
     "data": {
      "text/plain": [
       "299573378"
      ]
     },
     "execution_count": 233,
     "metadata": {},
     "output_type": "execute_result"
    }
   ],
   "source": [
    "df_checkhome['counts'].sum()"
   ]
  },
  {
   "cell_type": "code",
   "execution_count": 234,
   "id": "37c4b8c6-b319-4374-a122-d0f35b452478",
   "metadata": {},
   "outputs": [
    {
     "data": {
      "text/html": [
       "<div>\n",
       "<style scoped>\n",
       "    .dataframe tbody tr th:only-of-type {\n",
       "        vertical-align: middle;\n",
       "    }\n",
       "\n",
       "    .dataframe tbody tr th {\n",
       "        vertical-align: top;\n",
       "    }\n",
       "\n",
       "    .dataframe thead th {\n",
       "        text-align: right;\n",
       "    }\n",
       "</style>\n",
       "<table border=\"1\" class=\"dataframe\">\n",
       "  <thead>\n",
       "    <tr style=\"text-align: right;\">\n",
       "      <th></th>\n",
       "      <th>domain</th>\n",
       "      <th>qry</th>\n",
       "      <th>serp_rank</th>\n",
       "      <th>loc_id</th>\n",
       "      <th>counts</th>\n",
       "      <th>is_home_district</th>\n",
       "    </tr>\n",
       "  </thead>\n",
       "  <tbody>\n",
       "    <tr>\n",
       "      <th>0</th>\n",
       "      <td>1011now.com</td>\n",
       "      <td>Ben Cline</td>\n",
       "      <td>18.0</td>\n",
       "      <td>DC-AT LARGE,District of Columbia,United States</td>\n",
       "      <td>1</td>\n",
       "      <td>False</td>\n",
       "    </tr>\n",
       "    <tr>\n",
       "      <th>1</th>\n",
       "      <td>1011now.com</td>\n",
       "      <td>Ben Cline</td>\n",
       "      <td>18.0</td>\n",
       "      <td>WA-1,Washington,United States</td>\n",
       "      <td>1</td>\n",
       "      <td>False</td>\n",
       "    </tr>\n",
       "    <tr>\n",
       "      <th>2</th>\n",
       "      <td>1011now.com</td>\n",
       "      <td>Ben Cline</td>\n",
       "      <td>18.0</td>\n",
       "      <td>WA-10,Washington,United States</td>\n",
       "      <td>1</td>\n",
       "      <td>False</td>\n",
       "    </tr>\n",
       "    <tr>\n",
       "      <th>3</th>\n",
       "      <td>1011now.com</td>\n",
       "      <td>Ben Cline</td>\n",
       "      <td>18.0</td>\n",
       "      <td>WA-2,Washington,United States</td>\n",
       "      <td>1</td>\n",
       "      <td>False</td>\n",
       "    </tr>\n",
       "    <tr>\n",
       "      <th>4</th>\n",
       "      <td>1011now.com</td>\n",
       "      <td>Ben Cline</td>\n",
       "      <td>18.0</td>\n",
       "      <td>WA-3,Washington,United States</td>\n",
       "      <td>1</td>\n",
       "      <td>False</td>\n",
       "    </tr>\n",
       "    <tr>\n",
       "      <th>...</th>\n",
       "      <td>...</td>\n",
       "      <td>...</td>\n",
       "      <td>...</td>\n",
       "      <td>...</td>\n",
       "      <td>...</td>\n",
       "      <td>...</td>\n",
       "    </tr>\n",
       "    <tr>\n",
       "      <th>45749613</th>\n",
       "      <td>zoelofgren.com</td>\n",
       "      <td>Zoe Lofgren</td>\n",
       "      <td>23.0</td>\n",
       "      <td>WI-7,Wisconsin,United States</td>\n",
       "      <td>1</td>\n",
       "      <td>False</td>\n",
       "    </tr>\n",
       "    <tr>\n",
       "      <th>45749614</th>\n",
       "      <td>zoelofgren.com</td>\n",
       "      <td>Zoe Lofgren</td>\n",
       "      <td>23.0</td>\n",
       "      <td>WI-8,Wisconsin,United States</td>\n",
       "      <td>1</td>\n",
       "      <td>False</td>\n",
       "    </tr>\n",
       "    <tr>\n",
       "      <th>45749615</th>\n",
       "      <td>zoelofgren.com</td>\n",
       "      <td>Zoe Lofgren</td>\n",
       "      <td>23.0</td>\n",
       "      <td>WV-1,West Virginia,United States</td>\n",
       "      <td>1</td>\n",
       "      <td>False</td>\n",
       "    </tr>\n",
       "    <tr>\n",
       "      <th>45749616</th>\n",
       "      <td>zoelofgren.com</td>\n",
       "      <td>Zoe Lofgren</td>\n",
       "      <td>23.0</td>\n",
       "      <td>WV-2,West Virginia,United States</td>\n",
       "      <td>1</td>\n",
       "      <td>False</td>\n",
       "    </tr>\n",
       "    <tr>\n",
       "      <th>45749617</th>\n",
       "      <td>zoelofgren.com</td>\n",
       "      <td>Zoe Lofgren</td>\n",
       "      <td>23.0</td>\n",
       "      <td>WV-3,West Virginia,United States</td>\n",
       "      <td>1</td>\n",
       "      <td>False</td>\n",
       "    </tr>\n",
       "  </tbody>\n",
       "</table>\n",
       "<p>45749618 rows × 6 columns</p>\n",
       "</div>"
      ],
      "text/plain": [
       "                  domain          qry  serp_rank  \\\n",
       "0            1011now.com    Ben Cline       18.0   \n",
       "1            1011now.com    Ben Cline       18.0   \n",
       "2            1011now.com    Ben Cline       18.0   \n",
       "3            1011now.com    Ben Cline       18.0   \n",
       "4            1011now.com    Ben Cline       18.0   \n",
       "...                  ...          ...        ...   \n",
       "45749613  zoelofgren.com  Zoe Lofgren       23.0   \n",
       "45749614  zoelofgren.com  Zoe Lofgren       23.0   \n",
       "45749615  zoelofgren.com  Zoe Lofgren       23.0   \n",
       "45749616  zoelofgren.com  Zoe Lofgren       23.0   \n",
       "45749617  zoelofgren.com  Zoe Lofgren       23.0   \n",
       "\n",
       "                                                  loc_id  counts  \\\n",
       "0         DC-AT LARGE,District of Columbia,United States       1   \n",
       "1                          WA-1,Washington,United States       1   \n",
       "2                         WA-10,Washington,United States       1   \n",
       "3                          WA-2,Washington,United States       1   \n",
       "4                          WA-3,Washington,United States       1   \n",
       "...                                                  ...     ...   \n",
       "45749613                    WI-7,Wisconsin,United States       1   \n",
       "45749614                    WI-8,Wisconsin,United States       1   \n",
       "45749615                WV-1,West Virginia,United States       1   \n",
       "45749616                WV-2,West Virginia,United States       1   \n",
       "45749617                WV-3,West Virginia,United States       1   \n",
       "\n",
       "          is_home_district  \n",
       "0                    False  \n",
       "1                    False  \n",
       "2                    False  \n",
       "3                    False  \n",
       "4                    False  \n",
       "...                    ...  \n",
       "45749613             False  \n",
       "45749614             False  \n",
       "45749615             False  \n",
       "45749616             False  \n",
       "45749617             False  \n",
       "\n",
       "[45749618 rows x 6 columns]"
      ]
     },
     "execution_count": 234,
     "metadata": {},
     "output_type": "execute_result"
    }
   ],
   "source": [
    "df_checkhome"
   ]
  },
  {
   "cell_type": "code",
   "execution_count": 235,
   "id": "052dcd41-4b41-4cf4-adab-cd1d42e5b79b",
   "metadata": {},
   "outputs": [],
   "source": [
    "df_checkhome_grouped = df_checkhome.groupby(['domain', 'serp_rank', 'is_home_district'], dropna=True, as_index=False)['counts'].sum()"
   ]
  },
  {
   "cell_type": "code",
   "execution_count": 236,
   "id": "2e6d3d1c-738e-4f7d-8512-b2c0fe40cd55",
   "metadata": {},
   "outputs": [
    {
     "data": {
      "text/plain": [
       "299573378"
      ]
     },
     "execution_count": 236,
     "metadata": {},
     "output_type": "execute_result"
    }
   ],
   "source": [
    "df_checkhome_grouped['counts'].sum()"
   ]
  },
  {
   "cell_type": "code",
   "execution_count": 237,
   "id": "c0988d88-2a53-407c-ac2a-7147028b222d",
   "metadata": {},
   "outputs": [],
   "source": [
    "df_checkhome_grouped.to_csv(\"../data/house_analysis/domain_rank_ishome.csv\", index=False)"
   ]
  },
  {
   "cell_type": "code",
   "execution_count": 238,
   "id": "84a8ef18-b5c8-48c5-ad64-7cb9a517b36c",
   "metadata": {},
   "outputs": [],
   "source": [
    "allison_cat = pd.read_csv(\"../data/domain_category.csv\",)"
   ]
  },
  {
   "cell_type": "code",
   "execution_count": 239,
   "id": "fe029a6b-bef1-406e-8cd6-3791d7df5a83",
   "metadata": {},
   "outputs": [],
   "source": [
    "df_category = pd.merge(df_checkhome_grouped, allison_cat.drop_duplicates(), how=\"left\", on=['domain'])"
   ]
  },
  {
   "cell_type": "code",
   "execution_count": 240,
   "id": "cfd9fdee-16c4-420e-a80c-6c61d566e8b7",
   "metadata": {},
   "outputs": [],
   "source": [
    "df_category_grouped = df_category.groupby(['domain', 'serp_rank', 'is_home_district', 'category'], dropna=False, as_index=False)['counts'].sum()"
   ]
  },
  {
   "cell_type": "code",
   "execution_count": 241,
   "id": "052be6e1-4379-4102-8b81-6e24cd1ca7c4",
   "metadata": {},
   "outputs": [
    {
     "data": {
      "text/plain": [
       "299573378"
      ]
     },
     "execution_count": 241,
     "metadata": {},
     "output_type": "execute_result"
    }
   ],
   "source": [
    "df_category_grouped['counts'].sum()"
   ]
  },
  {
   "cell_type": "code",
   "execution_count": 242,
   "id": "43d5633c-3a13-40ef-94fa-ef022e194f2d",
   "metadata": {},
   "outputs": [],
   "source": [
    "df_category_grouped.to_csv(\"../data/house_analysis/domain_rank_ishome_category.csv\", index=False)"
   ]
  },
  {
   "cell_type": "markdown",
   "id": "834a55eb-955d-4d39-a70b-a816f00b5981",
   "metadata": {},
   "source": [
    "## add column to indicate domain class (local or nationl )"
   ]
  },
  {
   "cell_type": "code",
   "execution_count": 243,
   "id": "1d0a03ee-ab3d-4088-ad1a-c0460cbcde71",
   "metadata": {},
   "outputs": [],
   "source": [
    "domain_classification = pd.read_csv(\"../data/domain_classification_local_national.csv\")"
   ]
  },
  {
   "cell_type": "code",
   "execution_count": 244,
   "id": "97a10965-a0bf-431a-bdb4-a44c80d39f7d",
   "metadata": {},
   "outputs": [
    {
     "data": {
      "text/html": [
       "<div>\n",
       "<style scoped>\n",
       "    .dataframe tbody tr th:only-of-type {\n",
       "        vertical-align: middle;\n",
       "    }\n",
       "\n",
       "    .dataframe tbody tr th {\n",
       "        vertical-align: top;\n",
       "    }\n",
       "\n",
       "    .dataframe thead th {\n",
       "        text-align: right;\n",
       "    }\n",
       "</style>\n",
       "<table border=\"1\" class=\"dataframe\">\n",
       "  <thead>\n",
       "    <tr style=\"text-align: right;\">\n",
       "      <th></th>\n",
       "      <th>domain</th>\n",
       "      <th>classification</th>\n",
       "    </tr>\n",
       "  </thead>\n",
       "  <tbody>\n",
       "    <tr>\n",
       "      <th>0</th>\n",
       "      <td>27east.com</td>\n",
       "      <td>local</td>\n",
       "    </tr>\n",
       "    <tr>\n",
       "      <th>1</th>\n",
       "      <td>4bcaonline.com</td>\n",
       "      <td>local</td>\n",
       "    </tr>\n",
       "    <tr>\n",
       "      <th>2</th>\n",
       "      <td>abc7.com</td>\n",
       "      <td>INCONSISTENT</td>\n",
       "    </tr>\n",
       "    <tr>\n",
       "      <th>3</th>\n",
       "      <td>abcnews.go.com</td>\n",
       "      <td>national</td>\n",
       "    </tr>\n",
       "    <tr>\n",
       "      <th>4</th>\n",
       "      <td>aberdeennews.com</td>\n",
       "      <td>local</td>\n",
       "    </tr>\n",
       "    <tr>\n",
       "      <th>...</th>\n",
       "      <td>...</td>\n",
       "      <td>...</td>\n",
       "    </tr>\n",
       "    <tr>\n",
       "      <th>12900</th>\n",
       "      <td>sun.stparchive.com</td>\n",
       "      <td>local</td>\n",
       "    </tr>\n",
       "    <tr>\n",
       "      <th>12901</th>\n",
       "      <td>thermopir.com</td>\n",
       "      <td>local</td>\n",
       "    </tr>\n",
       "    <tr>\n",
       "      <th>12902</th>\n",
       "      <td>kgoskerm.com</td>\n",
       "      <td>local</td>\n",
       "    </tr>\n",
       "    <tr>\n",
       "      <th>12903</th>\n",
       "      <td>westoncountygazette.com</td>\n",
       "      <td>local</td>\n",
       "    </tr>\n",
       "    <tr>\n",
       "      <th>12904</th>\n",
       "      <td>wcg.stparchive.com</td>\n",
       "      <td>local</td>\n",
       "    </tr>\n",
       "  </tbody>\n",
       "</table>\n",
       "<p>12905 rows × 2 columns</p>\n",
       "</div>"
      ],
      "text/plain": [
       "                        domain classification\n",
       "0                   27east.com          local\n",
       "1               4bcaonline.com          local\n",
       "2                     abc7.com   INCONSISTENT\n",
       "3               abcnews.go.com       national\n",
       "4             aberdeennews.com          local\n",
       "...                        ...            ...\n",
       "12900       sun.stparchive.com          local\n",
       "12901            thermopir.com          local\n",
       "12902             kgoskerm.com          local\n",
       "12903  westoncountygazette.com          local\n",
       "12904       wcg.stparchive.com          local\n",
       "\n",
       "[12905 rows x 2 columns]"
      ]
     },
     "execution_count": 244,
     "metadata": {},
     "output_type": "execute_result"
    }
   ],
   "source": [
    "domain_classification"
   ]
  },
  {
   "cell_type": "code",
   "execution_count": 245,
   "id": "15cb983b-a902-4f9a-b155-36be7c995349",
   "metadata": {},
   "outputs": [],
   "source": [
    "hand_label = pd.read_csv(\"../data/domains_handcode_local_national_labels.csv\")"
   ]
  },
  {
   "cell_type": "code",
   "execution_count": 246,
   "id": "bceb509b-5eaa-40fd-8a37-4eacf834fc83",
   "metadata": {},
   "outputs": [],
   "source": [
    "hand_label = hand_label[['domain', 'label']][~hand_label['label'].isna()]"
   ]
  },
  {
   "cell_type": "code",
   "execution_count": 247,
   "id": "d44a90a2-d443-4c27-a2b2-cf6cb613fbad",
   "metadata": {},
   "outputs": [],
   "source": [
    "# if domain classification is mixed across sources, then do not keep these\n",
    "df_category_grouped_class = pd.merge(df_category_grouped, domain_classification, how=\"left\", on=['domain'])"
   ]
  },
  {
   "cell_type": "code",
   "execution_count": 248,
   "id": "6d8c63b7-d119-4277-a40b-317d7389a4d0",
   "metadata": {},
   "outputs": [
    {
     "data": {
      "text/plain": [
       "299573378"
      ]
     },
     "execution_count": 248,
     "metadata": {},
     "output_type": "execute_result"
    }
   ],
   "source": [
    "df_category_grouped_class['counts'].sum()"
   ]
  },
  {
   "cell_type": "code",
   "execution_count": 249,
   "id": "6bd0169a-701c-4443-b8b2-952f12476f78",
   "metadata": {},
   "outputs": [],
   "source": [
    "df_category_grouped_class = pd.merge(df_category_grouped_class, hand_label.drop_duplicates(), how=\"left\", on=['domain'])"
   ]
  },
  {
   "cell_type": "code",
   "execution_count": 250,
   "id": "958d393b-34d5-46df-942c-8043e272a24a",
   "metadata": {},
   "outputs": [
    {
     "data": {
      "text/plain": [
       "299573378"
      ]
     },
     "execution_count": 250,
     "metadata": {},
     "output_type": "execute_result"
    }
   ],
   "source": [
    "df_category_grouped_class['counts'].sum()"
   ]
  },
  {
   "cell_type": "code",
   "execution_count": 251,
   "id": "8368568a-b095-4752-8297-c0ba5d715ac7",
   "metadata": {},
   "outputs": [],
   "source": [
    "df_category_grouped_class['classification'] = df_category_grouped_class['classification'].fillna(df_category_grouped_class['label'])"
   ]
  },
  {
   "cell_type": "code",
   "execution_count": 252,
   "id": "9e6e2954-b0dc-4571-ad31-58b0de93b4e9",
   "metadata": {},
   "outputs": [],
   "source": [
    "df_category_grouped_class.loc[df_category_grouped_class[\"classification\"] == \"INCONSISTENT\", \"classification\"] = \"other news\""
   ]
  },
  {
   "cell_type": "code",
   "execution_count": 253,
   "id": "882924ee-6ffa-435c-b293-435ea21c6bd3",
   "metadata": {},
   "outputs": [],
   "source": [
    "df_category_grouped_class.loc[df_category_grouped_class[\"classification\"] == \"international\", \"classification\"] = \"national\""
   ]
  },
  {
   "cell_type": "code",
   "execution_count": 254,
   "id": "16905056-43d4-4fc8-9aa3-fb181bc8546f",
   "metadata": {},
   "outputs": [
    {
     "data": {
      "text/plain": [
       "299573378"
      ]
     },
     "execution_count": 254,
     "metadata": {},
     "output_type": "execute_result"
    }
   ],
   "source": [
    "df_category_grouped_class['counts'].sum()"
   ]
  },
  {
   "cell_type": "code",
   "execution_count": 255,
   "id": "9c79e50f-363b-4b4d-a629-2b8022fc01bb",
   "metadata": {},
   "outputs": [
    {
     "data": {
      "text/plain": [
       "94158"
      ]
     },
     "execution_count": 255,
     "metadata": {},
     "output_type": "execute_result"
    }
   ],
   "source": [
    "len(df_category_grouped_class)"
   ]
  },
  {
   "cell_type": "code",
   "execution_count": 256,
   "id": "c4147c70-cf86-43d4-8059-9d8e28dd7a95",
   "metadata": {},
   "outputs": [],
   "source": [
    "reclass = df_category_grouped_class.groupby(['classification'], dropna=False, as_index=False)['counts'].sum()"
   ]
  },
  {
   "cell_type": "code",
   "execution_count": 257,
   "id": "1696f6a9-42ed-4e2c-a7f2-ca957ce14146",
   "metadata": {},
   "outputs": [
    {
     "data": {
      "text/plain": [
       "<Axes: xlabel='classification'>"
      ]
     },
     "execution_count": 257,
     "metadata": {},
     "output_type": "execute_result"
    },
    {
     "data": {
      "image/png": "[encoded data removed]",
      "text/plain": [
       "<Figure size 640x480 with 1 Axes>"
      ]
     },
     "metadata": {},
     "output_type": "display_data"
    }
   ],
   "source": [
    "reclass.plot.bar(x='classification', y='counts', rot=0)"
   ]
  },
  {
   "cell_type": "code",
   "execution_count": 258,
   "id": "63a21fa0-2a6b-4243-b777-f88719acef8b",
   "metadata": {},
   "outputs": [],
   "source": [
    "df_category_grouped_class.drop('label', axis=1, inplace=True)"
   ]
  },
  {
   "cell_type": "code",
   "execution_count": 259,
   "id": "93ed7aca-03b6-49ff-8417-7d445e9bdb5f",
   "metadata": {},
   "outputs": [
    {
     "data": {
      "text/plain": [
       "299573378"
      ]
     },
     "execution_count": 259,
     "metadata": {},
     "output_type": "execute_result"
    }
   ],
   "source": [
    "df_category_grouped_class['counts'].sum()"
   ]
  },
  {
   "cell_type": "code",
   "execution_count": null,
   "id": "9f1e3515-0c27-4b95-929f-2ef65703f1f5",
   "metadata": {},
   "outputs": [],
   "source": []
  },
  {
   "cell_type": "code",
   "execution_count": 260,
   "id": "c1c7a555-ba78-4a25-9431-7075b13de38b",
   "metadata": {},
   "outputs": [
    {
     "data": {
      "text/html": [
       "<div>\n",
       "<style scoped>\n",
       "    .dataframe tbody tr th:only-of-type {\n",
       "        vertical-align: middle;\n",
       "    }\n",
       "\n",
       "    .dataframe tbody tr th {\n",
       "        vertical-align: top;\n",
       "    }\n",
       "\n",
       "    .dataframe thead th {\n",
       "        text-align: right;\n",
       "    }\n",
       "</style>\n",
       "<table border=\"1\" class=\"dataframe\">\n",
       "  <thead>\n",
       "    <tr style=\"text-align: right;\">\n",
       "      <th></th>\n",
       "      <th>domain</th>\n",
       "      <th>serp_rank</th>\n",
       "      <th>is_home_district</th>\n",
       "      <th>category</th>\n",
       "      <th>counts</th>\n",
       "      <th>classification</th>\n",
       "    </tr>\n",
       "  </thead>\n",
       "  <tbody>\n",
       "    <tr>\n",
       "      <th>0</th>\n",
       "      <td>1011now.com</td>\n",
       "      <td>2.0</td>\n",
       "      <td>False</td>\n",
       "      <td>news</td>\n",
       "      <td>2</td>\n",
       "      <td>local</td>\n",
       "    </tr>\n",
       "    <tr>\n",
       "      <th>1</th>\n",
       "      <td>1011now.com</td>\n",
       "      <td>3.0</td>\n",
       "      <td>False</td>\n",
       "      <td>news</td>\n",
       "      <td>13</td>\n",
       "      <td>local</td>\n",
       "    </tr>\n",
       "    <tr>\n",
       "      <th>2</th>\n",
       "      <td>1011now.com</td>\n",
       "      <td>4.0</td>\n",
       "      <td>False</td>\n",
       "      <td>news</td>\n",
       "      <td>1200</td>\n",
       "      <td>local</td>\n",
       "    </tr>\n",
       "    <tr>\n",
       "      <th>3</th>\n",
       "      <td>1011now.com</td>\n",
       "      <td>5.0</td>\n",
       "      <td>False</td>\n",
       "      <td>news</td>\n",
       "      <td>6503</td>\n",
       "      <td>local</td>\n",
       "    </tr>\n",
       "    <tr>\n",
       "      <th>4</th>\n",
       "      <td>1011now.com</td>\n",
       "      <td>5.0</td>\n",
       "      <td>True</td>\n",
       "      <td>news</td>\n",
       "      <td>18</td>\n",
       "      <td>local</td>\n",
       "    </tr>\n",
       "    <tr>\n",
       "      <th>...</th>\n",
       "      <td>...</td>\n",
       "      <td>...</td>\n",
       "      <td>...</td>\n",
       "      <td>...</td>\n",
       "      <td>...</td>\n",
       "      <td>...</td>\n",
       "    </tr>\n",
       "    <tr>\n",
       "      <th>94153</th>\n",
       "      <td>zoelofgren.com</td>\n",
       "      <td>21.0</td>\n",
       "      <td>False</td>\n",
       "      <td>campaign_personal</td>\n",
       "      <td>446</td>\n",
       "      <td>NaN</td>\n",
       "    </tr>\n",
       "    <tr>\n",
       "      <th>94154</th>\n",
       "      <td>zoelofgren.com</td>\n",
       "      <td>21.0</td>\n",
       "      <td>True</td>\n",
       "      <td>campaign_personal</td>\n",
       "      <td>1</td>\n",
       "      <td>NaN</td>\n",
       "    </tr>\n",
       "    <tr>\n",
       "      <th>94155</th>\n",
       "      <td>zoelofgren.com</td>\n",
       "      <td>22.0</td>\n",
       "      <td>False</td>\n",
       "      <td>campaign_personal</td>\n",
       "      <td>27</td>\n",
       "      <td>NaN</td>\n",
       "    </tr>\n",
       "    <tr>\n",
       "      <th>94156</th>\n",
       "      <td>zoelofgren.com</td>\n",
       "      <td>23.0</td>\n",
       "      <td>False</td>\n",
       "      <td>campaign_personal</td>\n",
       "      <td>435</td>\n",
       "      <td>NaN</td>\n",
       "    </tr>\n",
       "    <tr>\n",
       "      <th>94157</th>\n",
       "      <td>zoelofgren.com</td>\n",
       "      <td>23.0</td>\n",
       "      <td>True</td>\n",
       "      <td>campaign_personal</td>\n",
       "      <td>1</td>\n",
       "      <td>NaN</td>\n",
       "    </tr>\n",
       "  </tbody>\n",
       "</table>\n",
       "<p>94158 rows × 6 columns</p>\n",
       "</div>"
      ],
      "text/plain": [
       "               domain  serp_rank  is_home_district           category  counts  \\\n",
       "0         1011now.com        2.0             False               news       2   \n",
       "1         1011now.com        3.0             False               news      13   \n",
       "2         1011now.com        4.0             False               news    1200   \n",
       "3         1011now.com        5.0             False               news    6503   \n",
       "4         1011now.com        5.0              True               news      18   \n",
       "...               ...        ...               ...                ...     ...   \n",
       "94153  zoelofgren.com       21.0             False  campaign_personal     446   \n",
       "94154  zoelofgren.com       21.0              True  campaign_personal       1   \n",
       "94155  zoelofgren.com       22.0             False  campaign_personal      27   \n",
       "94156  zoelofgren.com       23.0             False  campaign_personal     435   \n",
       "94157  zoelofgren.com       23.0              True  campaign_personal       1   \n",
       "\n",
       "      classification  \n",
       "0              local  \n",
       "1              local  \n",
       "2              local  \n",
       "3              local  \n",
       "4              local  \n",
       "...              ...  \n",
       "94153            NaN  \n",
       "94154            NaN  \n",
       "94155            NaN  \n",
       "94156            NaN  \n",
       "94157            NaN  \n",
       "\n",
       "[94158 rows x 6 columns]"
      ]
     },
     "execution_count": 260,
     "metadata": {},
     "output_type": "execute_result"
    }
   ],
   "source": [
    "df_category_grouped_class"
   ]
  },
  {
   "cell_type": "code",
   "execution_count": 261,
   "id": "6df2044c-e327-43ed-8ecb-8e3fb584dec0",
   "metadata": {},
   "outputs": [],
   "source": [
    "df_category_grouped_class.to_csv(\"../data/house_analysis/domain_rank_ishome_category_counts.csv\", index=False)"
   ]
  },
  {
   "cell_type": "code",
   "execution_count": null,
   "id": "30e3748e-4247-4600-b820-0a09ae694f48",
   "metadata": {},
   "outputs": [],
   "source": []
  },
  {
   "cell_type": "code",
   "execution_count": null,
   "id": "7d0d85ff-c824-462c-b82f-22b39b2a88d8",
   "metadata": {},
   "outputs": [],
   "source": []
  }
 ],
 "metadata": {
  "kernelspec": {
   "display_name": "Python 3 (ipykernel)",
   "language": "python",
   "name": "python3"
  },
  "language_info": {
   "codemirror_mode": {
    "name": "ipython",
    "version": 3
   },
   "file_extension": ".py",
   "mimetype": "text/x-python",
   "name": "python",
   "nbconvert_exporter": "python",
   "pygments_lexer": "ipython3",
   "version": "3.10.14"
  }
 },
 "nbformat": 4,
 "nbformat_minor": 5
}
