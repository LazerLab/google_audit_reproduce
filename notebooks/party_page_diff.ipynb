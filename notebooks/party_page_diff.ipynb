{
 "cells": [
  {
   "cell_type": "markdown",
   "id": "067b2efb-10ce-4f83-88e6-fea25cee9e28",
   "metadata": {},
   "source": [
    "# Evaluate the difference of average page numbers between party"
   ]
  },
  {
   "cell_type": "code",
   "execution_count": 2,
   "id": "0063613f-6019-414b-8631-8311211c366c",
   "metadata": {},
   "outputs": [],
   "source": [
    "import os\n",
    "import sys\n",
    "import pandas as pd\n",
    "import numpy as np\n",
    "import matplotlib.pyplot as plt"
   ]
  },
  {
   "cell_type": "code",
   "execution_count": 3,
   "id": "87eb5d71-c27f-442b-ad9c-8ebc110a1afe",
   "metadata": {},
   "outputs": [],
   "source": [
    "politician_info_dir = \"../data/qry_info.csv\"\n",
    "politician_info = pd.read_csv(politician_info_dir)"
   ]
  },
  {
   "cell_type": "code",
   "execution_count": 4,
   "id": "0719edaf-08aa-46ce-a70e-d108858bfd4b",
   "metadata": {},
   "outputs": [],
   "source": [
    "results = pd.read_csv('/net/lazer/lab-lazer/shared_projects/google_audit_reproduce/intermedidate_files/merged_summary/cleaned_house_day_qry_loc.csv')"
   ]
  },
  {
   "cell_type": "code",
   "execution_count": 5,
   "id": "5cb838d1-2ccb-496f-8492-dfc77c4b43d0",
   "metadata": {},
   "outputs": [],
   "source": [
    "qry_party_df = pd.merge(results, politician_info[['qry', 'party']].drop_duplicates(), how=\"inner\", on='qry')"
   ]
  },
  {
   "cell_type": "code",
   "execution_count": 6,
   "id": "8b6e495c-9cbd-45b6-afbc-af759ebe3085",
   "metadata": {},
   "outputs": [
    {
     "data": {
      "text/html": [
       "<div>\n",
       "<style scoped>\n",
       "    .dataframe tbody tr th:only-of-type {\n",
       "        vertical-align: middle;\n",
       "    }\n",
       "\n",
       "    .dataframe tbody tr th {\n",
       "        vertical-align: top;\n",
       "    }\n",
       "\n",
       "    .dataframe thead th {\n",
       "        text-align: right;\n",
       "    }\n",
       "</style>\n",
       "<table border=\"1\" class=\"dataframe\">\n",
       "  <thead>\n",
       "    <tr style=\"text-align: right;\">\n",
       "      <th></th>\n",
       "      <th>crawl_id</th>\n",
       "      <th>qry</th>\n",
       "      <th>loc_id</th>\n",
       "      <th>counts</th>\n",
       "      <th>party</th>\n",
       "    </tr>\n",
       "  </thead>\n",
       "  <tbody>\n",
       "    <tr>\n",
       "      <th>0</th>\n",
       "      <td>20200901</td>\n",
       "      <td>Abby Finkenauer</td>\n",
       "      <td>AK-AT LARGE,Alaska,United States</td>\n",
       "      <td>6</td>\n",
       "      <td>Democrat</td>\n",
       "    </tr>\n",
       "    <tr>\n",
       "      <th>1</th>\n",
       "      <td>20200901</td>\n",
       "      <td>Abby Finkenauer</td>\n",
       "      <td>AL-1,Alabama,United States</td>\n",
       "      <td>23</td>\n",
       "      <td>Democrat</td>\n",
       "    </tr>\n",
       "    <tr>\n",
       "      <th>2</th>\n",
       "      <td>20200901</td>\n",
       "      <td>Abby Finkenauer</td>\n",
       "      <td>AL-2,Alabama,United States</td>\n",
       "      <td>15</td>\n",
       "      <td>Democrat</td>\n",
       "    </tr>\n",
       "    <tr>\n",
       "      <th>3</th>\n",
       "      <td>20200901</td>\n",
       "      <td>Abby Finkenauer</td>\n",
       "      <td>AL-3,Alabama,United States</td>\n",
       "      <td>23</td>\n",
       "      <td>Democrat</td>\n",
       "    </tr>\n",
       "    <tr>\n",
       "      <th>4</th>\n",
       "      <td>20200901</td>\n",
       "      <td>Abby Finkenauer</td>\n",
       "      <td>AL-4,Alabama,United States</td>\n",
       "      <td>15</td>\n",
       "      <td>Democrat</td>\n",
       "    </tr>\n",
       "    <tr>\n",
       "      <th>...</th>\n",
       "      <td>...</td>\n",
       "      <td>...</td>\n",
       "      <td>...</td>\n",
       "      <td>...</td>\n",
       "      <td>...</td>\n",
       "    </tr>\n",
       "    <tr>\n",
       "      <th>36119471</th>\n",
       "      <td>20210331</td>\n",
       "      <td>Zoe Lofgren</td>\n",
       "      <td>WI-8,Wisconsin,United States</td>\n",
       "      <td>19</td>\n",
       "      <td>Democrat</td>\n",
       "    </tr>\n",
       "    <tr>\n",
       "      <th>36119472</th>\n",
       "      <td>20210331</td>\n",
       "      <td>Zoe Lofgren</td>\n",
       "      <td>WV-1,West Virginia,United States</td>\n",
       "      <td>19</td>\n",
       "      <td>Democrat</td>\n",
       "    </tr>\n",
       "    <tr>\n",
       "      <th>36119473</th>\n",
       "      <td>20210331</td>\n",
       "      <td>Zoe Lofgren</td>\n",
       "      <td>WV-2,West Virginia,United States</td>\n",
       "      <td>19</td>\n",
       "      <td>Democrat</td>\n",
       "    </tr>\n",
       "    <tr>\n",
       "      <th>36119474</th>\n",
       "      <td>20210331</td>\n",
       "      <td>Zoe Lofgren</td>\n",
       "      <td>WV-3,West Virginia,United States</td>\n",
       "      <td>19</td>\n",
       "      <td>Democrat</td>\n",
       "    </tr>\n",
       "    <tr>\n",
       "      <th>36119475</th>\n",
       "      <td>20210331</td>\n",
       "      <td>Zoe Lofgren</td>\n",
       "      <td>WY-AT LARGE,Wyoming,United States</td>\n",
       "      <td>17</td>\n",
       "      <td>Democrat</td>\n",
       "    </tr>\n",
       "  </tbody>\n",
       "</table>\n",
       "<p>36119476 rows × 5 columns</p>\n",
       "</div>"
      ],
      "text/plain": [
       "          crawl_id              qry                             loc_id  \\\n",
       "0         20200901  Abby Finkenauer   AK-AT LARGE,Alaska,United States   \n",
       "1         20200901  Abby Finkenauer         AL-1,Alabama,United States   \n",
       "2         20200901  Abby Finkenauer         AL-2,Alabama,United States   \n",
       "3         20200901  Abby Finkenauer         AL-3,Alabama,United States   \n",
       "4         20200901  Abby Finkenauer         AL-4,Alabama,United States   \n",
       "...            ...              ...                                ...   \n",
       "36119471  20210331      Zoe Lofgren       WI-8,Wisconsin,United States   \n",
       "36119472  20210331      Zoe Lofgren   WV-1,West Virginia,United States   \n",
       "36119473  20210331      Zoe Lofgren   WV-2,West Virginia,United States   \n",
       "36119474  20210331      Zoe Lofgren   WV-3,West Virginia,United States   \n",
       "36119475  20210331      Zoe Lofgren  WY-AT LARGE,Wyoming,United States   \n",
       "\n",
       "          counts     party  \n",
       "0              6  Democrat  \n",
       "1             23  Democrat  \n",
       "2             15  Democrat  \n",
       "3             23  Democrat  \n",
       "4             15  Democrat  \n",
       "...          ...       ...  \n",
       "36119471      19  Democrat  \n",
       "36119472      19  Democrat  \n",
       "36119473      19  Democrat  \n",
       "36119474      19  Democrat  \n",
       "36119475      17  Democrat  \n",
       "\n",
       "[36119476 rows x 5 columns]"
      ]
     },
     "execution_count": 6,
     "metadata": {},
     "output_type": "execute_result"
    }
   ],
   "source": [
    "qry_party_df"
   ]
  },
  {
   "cell_type": "code",
   "execution_count": 7,
   "id": "fbbcece7-e73f-4f90-8066-5785a35b6b1a",
   "metadata": {},
   "outputs": [
    {
     "data": {
      "text/plain": [
       "np.int64(660900513)"
      ]
     },
     "execution_count": 7,
     "metadata": {},
     "output_type": "execute_result"
    }
   ],
   "source": [
    "qry_party_df['counts'].sum()"
   ]
  },
  {
   "cell_type": "code",
   "execution_count": 8,
   "id": "f08b3f51-7efc-47a8-9156-49a0bed5a1f6",
   "metadata": {},
   "outputs": [],
   "source": [
    "### Filter by party\n",
    "page_dem = qry_party_df[qry_party_df['party']=='Democrat']"
   ]
  },
  {
   "cell_type": "code",
   "execution_count": 9,
   "id": "33842943-147d-4106-b212-f9867c62fde7",
   "metadata": {},
   "outputs": [],
   "source": [
    "page_rep = qry_party_df[qry_party_df['party']=='Republican']"
   ]
  },
  {
   "cell_type": "code",
   "execution_count": 10,
   "id": "900e73f5-8e22-4d0e-98c0-537994631764",
   "metadata": {},
   "outputs": [
    {
     "data": {
      "image/png": "[encoded data removed]",
      "text/plain": [
       "<Figure size 800x400 with 1 Axes>"
      ]
     },
     "metadata": {},
     "output_type": "display_data"
    }
   ],
   "source": [
    "fig, ax = plt.subplots(figsize = (8, 4))\n",
    "\n",
    "plt.hist(page_dem['counts'], edgecolor='black', bins=30, \n",
    "         histtype='step', fill=True, color='#1f77b4', label='democrat', alpha = 0.7)\n",
    "plt.hist(page_rep['counts'], edgecolor='black', bins=30, \n",
    "         histtype='step', fill=True, color='#d62728', label='republican', alpha = 0.7)\n",
    "\n",
    "\n",
    "dem_weighted_avg = np.average(page_dem['counts'])\n",
    "plt.axvline(x = dem_weighted_avg, color = 'b',label = 'dem_mean='+str(round(dem_weighted_avg, 1)))\n",
    "rep_weighted_avg = np.average(page_rep['counts'])\n",
    "plt.axvline(x = rep_weighted_avg, color = 'r',label = 'rep_mean='+str(round(rep_weighted_avg, 1)))\n",
    "plt.legend()\n",
    " \n",
    "plt.xlabel('Number of results per page')\n",
    "plt.ylabel('Counts')\n",
    "plt.title(\"Democratic vs. Republican number of results per page distribution\")\n",
    "plt.savefig(\"../data/plots/dem_rep_num_results_dist.png\", bbox_inches='tight', dpi=200) \n",
    "plt.show()"
   ]
  },
  {
   "cell_type": "code",
   "execution_count": null,
   "id": "e2c5216c-c4f3-4466-815a-f131ecae284a",
   "metadata": {},
   "outputs": [],
   "source": []
  }
 ],
 "metadata": {
  "kernelspec": {
   "display_name": "Python 3 (ipykernel)",
   "language": "python",
   "name": "python3"
  },
  "language_info": {
   "codemirror_mode": {
    "name": "ipython",
    "version": 3
   },
   "file_extension": ".py",
   "mimetype": "text/x-python",
   "name": "python",
   "nbconvert_exporter": "python",
   "pygments_lexer": "ipython3",
   "version": "3.10.14"
  }
 },
 "nbformat": 4,
 "nbformat_minor": 5
}
