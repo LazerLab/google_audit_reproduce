{
 "cells": [
  {
   "cell_type": "markdown",
   "id": "8705a2bc-0420-462e-9853-2663f9361d7f",
   "metadata": {},
   "source": [
    "# Compile a file that has domain qry rank"
   ]
  },
  {
   "cell_type": "code",
   "execution_count": 48,
   "id": "09e34aff-0e9c-4202-8115-bf1ab3cc8f20",
   "metadata": {},
   "outputs": [],
   "source": [
    "import seaborn as sns\n",
    "import matplotlib.pyplot as plt\n",
    "import pandas as pd\n",
    "import os"
   ]
  },
  {
   "cell_type": "code",
   "execution_count": 49,
   "id": "d4ed6243-abfc-40e0-9aaa-8f9fa3ae22e7",
   "metadata": {},
   "outputs": [],
   "source": [
    "results = pd.read_csv(\"/net/lazer/lab-lazer/shared_projects/google_audit_reproduce/intermedidate_files/merged_summary/day_qry_domain_rank.csv\")"
   ]
  },
  {
   "cell_type": "code",
   "execution_count": 50,
   "id": "0c8ded7c-98a9-43ba-b53e-c5e3600c2df1",
   "metadata": {},
   "outputs": [
    {
     "data": {
      "text/html": [
       "<div>\n",
       "<style scoped>\n",
       "    .dataframe tbody tr th:only-of-type {\n",
       "        vertical-align: middle;\n",
       "    }\n",
       "\n",
       "    .dataframe tbody tr th {\n",
       "        vertical-align: top;\n",
       "    }\n",
       "\n",
       "    .dataframe thead th {\n",
       "        text-align: right;\n",
       "    }\n",
       "</style>\n",
       "<table border=\"1\" class=\"dataframe\">\n",
       "  <thead>\n",
       "    <tr style=\"text-align: right;\">\n",
       "      <th></th>\n",
       "      <th>qry</th>\n",
       "      <th>domain</th>\n",
       "      <th>serp_rank</th>\n",
       "      <th>counts</th>\n",
       "    </tr>\n",
       "  </thead>\n",
       "  <tbody>\n",
       "    <tr>\n",
       "      <th>0</th>\n",
       "      <td>Abby Finkenauer</td>\n",
       "      <td>abbyfinkenauer.com</td>\n",
       "      <td>1.0</td>\n",
       "      <td>21886</td>\n",
       "    </tr>\n",
       "    <tr>\n",
       "      <th>1</th>\n",
       "      <td>Abby Finkenauer</td>\n",
       "      <td>abbyfinkenauer.com</td>\n",
       "      <td>2.0</td>\n",
       "      <td>10425</td>\n",
       "    </tr>\n",
       "    <tr>\n",
       "      <th>2</th>\n",
       "      <td>Abby Finkenauer</td>\n",
       "      <td>abbyfinkenauer.com</td>\n",
       "      <td>3.0</td>\n",
       "      <td>7054</td>\n",
       "    </tr>\n",
       "    <tr>\n",
       "      <th>3</th>\n",
       "      <td>Abby Finkenauer</td>\n",
       "      <td>abbyfinkenauer.com</td>\n",
       "      <td>4.0</td>\n",
       "      <td>387</td>\n",
       "    </tr>\n",
       "    <tr>\n",
       "      <th>4</th>\n",
       "      <td>Abby Finkenauer</td>\n",
       "      <td>abbyfinkenauer.com</td>\n",
       "      <td>5.0</td>\n",
       "      <td>3847</td>\n",
       "    </tr>\n",
       "    <tr>\n",
       "      <th>...</th>\n",
       "      <td>...</td>\n",
       "      <td>...</td>\n",
       "      <td>...</td>\n",
       "      <td>...</td>\n",
       "    </tr>\n",
       "    <tr>\n",
       "      <th>222825</th>\n",
       "      <td>Zoe Lofgren</td>\n",
       "      <td>zoelofgren.com</td>\n",
       "      <td>19.0</td>\n",
       "      <td>3361</td>\n",
       "    </tr>\n",
       "    <tr>\n",
       "      <th>222826</th>\n",
       "      <td>Zoe Lofgren</td>\n",
       "      <td>zoelofgren.com</td>\n",
       "      <td>20.0</td>\n",
       "      <td>27</td>\n",
       "    </tr>\n",
       "    <tr>\n",
       "      <th>222827</th>\n",
       "      <td>Zoe Lofgren</td>\n",
       "      <td>zoelofgren.com</td>\n",
       "      <td>21.0</td>\n",
       "      <td>447</td>\n",
       "    </tr>\n",
       "    <tr>\n",
       "      <th>222828</th>\n",
       "      <td>Zoe Lofgren</td>\n",
       "      <td>zoelofgren.com</td>\n",
       "      <td>22.0</td>\n",
       "      <td>27</td>\n",
       "    </tr>\n",
       "    <tr>\n",
       "      <th>222829</th>\n",
       "      <td>Zoe Lofgren</td>\n",
       "      <td>zoelofgren.com</td>\n",
       "      <td>23.0</td>\n",
       "      <td>436</td>\n",
       "    </tr>\n",
       "  </tbody>\n",
       "</table>\n",
       "<p>222830 rows × 4 columns</p>\n",
       "</div>"
      ],
      "text/plain": [
       "                    qry              domain  serp_rank  counts\n",
       "0       Abby Finkenauer  abbyfinkenauer.com        1.0   21886\n",
       "1       Abby Finkenauer  abbyfinkenauer.com        2.0   10425\n",
       "2       Abby Finkenauer  abbyfinkenauer.com        3.0    7054\n",
       "3       Abby Finkenauer  abbyfinkenauer.com        4.0     387\n",
       "4       Abby Finkenauer  abbyfinkenauer.com        5.0    3847\n",
       "...                 ...                 ...        ...     ...\n",
       "222825      Zoe Lofgren      zoelofgren.com       19.0    3361\n",
       "222826      Zoe Lofgren      zoelofgren.com       20.0      27\n",
       "222827      Zoe Lofgren      zoelofgren.com       21.0     447\n",
       "222828      Zoe Lofgren      zoelofgren.com       22.0      27\n",
       "222829      Zoe Lofgren      zoelofgren.com       23.0     436\n",
       "\n",
       "[222830 rows x 4 columns]"
      ]
     },
     "execution_count": 50,
     "metadata": {},
     "output_type": "execute_result"
    }
   ],
   "source": [
    "results"
   ]
  },
  {
   "cell_type": "markdown",
   "id": "7b2dbfb2-6b20-45cb-b6fc-f1316d5e150c",
   "metadata": {},
   "source": [
    "## merge with partisanship"
   ]
  },
  {
   "cell_type": "code",
   "execution_count": 51,
   "id": "56de4488-15f2-4cf1-85fd-a3e35657b6eb",
   "metadata": {},
   "outputs": [],
   "source": [
    "politician_info_dir = \"../data/qry_info_house_filter.csv\"\n",
    "politician_info = pd.read_csv(politician_info_dir)"
   ]
  },
  {
   "cell_type": "code",
   "execution_count": 52,
   "id": "fa9f6b4b-48a8-42ef-963b-3e4beda72d3a",
   "metadata": {},
   "outputs": [],
   "source": [
    "qry_party_df = pd.merge(results, politician_info[['qry', 'party']].drop_duplicates(), how=\"left\", on='qry')"
   ]
  },
  {
   "cell_type": "code",
   "execution_count": 53,
   "id": "ae0230fc-b878-4299-bffd-30a9773c6b93",
   "metadata": {},
   "outputs": [
    {
     "data": {
      "text/plain": [
       "299573378"
      ]
     },
     "execution_count": 53,
     "metadata": {},
     "output_type": "execute_result"
    }
   ],
   "source": [
    "qry_party_df['counts'].sum()"
   ]
  },
  {
   "cell_type": "code",
   "execution_count": 54,
   "id": "a559ab53-2a24-44ba-9b48-fbffdfa23efc",
   "metadata": {},
   "outputs": [
    {
     "data": {
      "text/html": [
       "<div>\n",
       "<style scoped>\n",
       "    .dataframe tbody tr th:only-of-type {\n",
       "        vertical-align: middle;\n",
       "    }\n",
       "\n",
       "    .dataframe tbody tr th {\n",
       "        vertical-align: top;\n",
       "    }\n",
       "\n",
       "    .dataframe thead th {\n",
       "        text-align: right;\n",
       "    }\n",
       "</style>\n",
       "<table border=\"1\" class=\"dataframe\">\n",
       "  <thead>\n",
       "    <tr style=\"text-align: right;\">\n",
       "      <th></th>\n",
       "      <th>qry</th>\n",
       "      <th>domain</th>\n",
       "      <th>serp_rank</th>\n",
       "      <th>counts</th>\n",
       "      <th>party</th>\n",
       "    </tr>\n",
       "  </thead>\n",
       "  <tbody>\n",
       "    <tr>\n",
       "      <th>0</th>\n",
       "      <td>Abby Finkenauer</td>\n",
       "      <td>abbyfinkenauer.com</td>\n",
       "      <td>1.0</td>\n",
       "      <td>21886</td>\n",
       "      <td>Democrat</td>\n",
       "    </tr>\n",
       "    <tr>\n",
       "      <th>1</th>\n",
       "      <td>Abby Finkenauer</td>\n",
       "      <td>abbyfinkenauer.com</td>\n",
       "      <td>2.0</td>\n",
       "      <td>10425</td>\n",
       "      <td>Democrat</td>\n",
       "    </tr>\n",
       "    <tr>\n",
       "      <th>2</th>\n",
       "      <td>Abby Finkenauer</td>\n",
       "      <td>abbyfinkenauer.com</td>\n",
       "      <td>3.0</td>\n",
       "      <td>7054</td>\n",
       "      <td>Democrat</td>\n",
       "    </tr>\n",
       "    <tr>\n",
       "      <th>3</th>\n",
       "      <td>Abby Finkenauer</td>\n",
       "      <td>abbyfinkenauer.com</td>\n",
       "      <td>4.0</td>\n",
       "      <td>387</td>\n",
       "      <td>Democrat</td>\n",
       "    </tr>\n",
       "    <tr>\n",
       "      <th>4</th>\n",
       "      <td>Abby Finkenauer</td>\n",
       "      <td>abbyfinkenauer.com</td>\n",
       "      <td>5.0</td>\n",
       "      <td>3847</td>\n",
       "      <td>Democrat</td>\n",
       "    </tr>\n",
       "    <tr>\n",
       "      <th>...</th>\n",
       "      <td>...</td>\n",
       "      <td>...</td>\n",
       "      <td>...</td>\n",
       "      <td>...</td>\n",
       "      <td>...</td>\n",
       "    </tr>\n",
       "    <tr>\n",
       "      <th>222825</th>\n",
       "      <td>Zoe Lofgren</td>\n",
       "      <td>zoelofgren.com</td>\n",
       "      <td>19.0</td>\n",
       "      <td>3361</td>\n",
       "      <td>Democrat</td>\n",
       "    </tr>\n",
       "    <tr>\n",
       "      <th>222826</th>\n",
       "      <td>Zoe Lofgren</td>\n",
       "      <td>zoelofgren.com</td>\n",
       "      <td>20.0</td>\n",
       "      <td>27</td>\n",
       "      <td>Democrat</td>\n",
       "    </tr>\n",
       "    <tr>\n",
       "      <th>222827</th>\n",
       "      <td>Zoe Lofgren</td>\n",
       "      <td>zoelofgren.com</td>\n",
       "      <td>21.0</td>\n",
       "      <td>447</td>\n",
       "      <td>Democrat</td>\n",
       "    </tr>\n",
       "    <tr>\n",
       "      <th>222828</th>\n",
       "      <td>Zoe Lofgren</td>\n",
       "      <td>zoelofgren.com</td>\n",
       "      <td>22.0</td>\n",
       "      <td>27</td>\n",
       "      <td>Democrat</td>\n",
       "    </tr>\n",
       "    <tr>\n",
       "      <th>222829</th>\n",
       "      <td>Zoe Lofgren</td>\n",
       "      <td>zoelofgren.com</td>\n",
       "      <td>23.0</td>\n",
       "      <td>436</td>\n",
       "      <td>Democrat</td>\n",
       "    </tr>\n",
       "  </tbody>\n",
       "</table>\n",
       "<p>222830 rows × 5 columns</p>\n",
       "</div>"
      ],
      "text/plain": [
       "                    qry              domain  serp_rank  counts     party\n",
       "0       Abby Finkenauer  abbyfinkenauer.com        1.0   21886  Democrat\n",
       "1       Abby Finkenauer  abbyfinkenauer.com        2.0   10425  Democrat\n",
       "2       Abby Finkenauer  abbyfinkenauer.com        3.0    7054  Democrat\n",
       "3       Abby Finkenauer  abbyfinkenauer.com        4.0     387  Democrat\n",
       "4       Abby Finkenauer  abbyfinkenauer.com        5.0    3847  Democrat\n",
       "...                 ...                 ...        ...     ...       ...\n",
       "222825      Zoe Lofgren      zoelofgren.com       19.0    3361  Democrat\n",
       "222826      Zoe Lofgren      zoelofgren.com       20.0      27  Democrat\n",
       "222827      Zoe Lofgren      zoelofgren.com       21.0     447  Democrat\n",
       "222828      Zoe Lofgren      zoelofgren.com       22.0      27  Democrat\n",
       "222829      Zoe Lofgren      zoelofgren.com       23.0     436  Democrat\n",
       "\n",
       "[222830 rows x 5 columns]"
      ]
     },
     "execution_count": 54,
     "metadata": {},
     "output_type": "execute_result"
    }
   ],
   "source": [
    "qry_party_df"
   ]
  },
  {
   "cell_type": "code",
   "execution_count": 56,
   "id": "ed95df3e-393f-45d7-b678-2f2aafcd3f5f",
   "metadata": {},
   "outputs": [],
   "source": [
    "party_domain_rank = qry_party_df.groupby(['domain', 'party', 'serp_rank'], dropna=True, as_index=False)['counts'].sum()"
   ]
  },
  {
   "cell_type": "code",
   "execution_count": 57,
   "id": "84956c09-ed3e-4d66-828a-4ef9b70c597c",
   "metadata": {},
   "outputs": [
    {
     "data": {
      "text/html": [
       "<div>\n",
       "<style scoped>\n",
       "    .dataframe tbody tr th:only-of-type {\n",
       "        vertical-align: middle;\n",
       "    }\n",
       "\n",
       "    .dataframe tbody tr th {\n",
       "        vertical-align: top;\n",
       "    }\n",
       "\n",
       "    .dataframe thead th {\n",
       "        text-align: right;\n",
       "    }\n",
       "</style>\n",
       "<table border=\"1\" class=\"dataframe\">\n",
       "  <thead>\n",
       "    <tr style=\"text-align: right;\">\n",
       "      <th></th>\n",
       "      <th>domain</th>\n",
       "      <th>party</th>\n",
       "      <th>serp_rank</th>\n",
       "      <th>counts</th>\n",
       "    </tr>\n",
       "  </thead>\n",
       "  <tbody>\n",
       "    <tr>\n",
       "      <th>0</th>\n",
       "      <td>1011now.com</td>\n",
       "      <td>Democrat</td>\n",
       "      <td>6.0</td>\n",
       "      <td>401</td>\n",
       "    </tr>\n",
       "    <tr>\n",
       "      <th>1</th>\n",
       "      <td>1011now.com</td>\n",
       "      <td>Democrat</td>\n",
       "      <td>7.0</td>\n",
       "      <td>808</td>\n",
       "    </tr>\n",
       "    <tr>\n",
       "      <th>2</th>\n",
       "      <td>1011now.com</td>\n",
       "      <td>Democrat</td>\n",
       "      <td>8.0</td>\n",
       "      <td>1235</td>\n",
       "    </tr>\n",
       "    <tr>\n",
       "      <th>3</th>\n",
       "      <td>1011now.com</td>\n",
       "      <td>Democrat</td>\n",
       "      <td>9.0</td>\n",
       "      <td>1747</td>\n",
       "    </tr>\n",
       "    <tr>\n",
       "      <th>4</th>\n",
       "      <td>1011now.com</td>\n",
       "      <td>Democrat</td>\n",
       "      <td>10.0</td>\n",
       "      <td>416</td>\n",
       "    </tr>\n",
       "    <tr>\n",
       "      <th>...</th>\n",
       "      <td>...</td>\n",
       "      <td>...</td>\n",
       "      <td>...</td>\n",
       "      <td>...</td>\n",
       "    </tr>\n",
       "    <tr>\n",
       "      <th>74660</th>\n",
       "      <td>zoelofgren.com</td>\n",
       "      <td>Democrat</td>\n",
       "      <td>19.0</td>\n",
       "      <td>3361</td>\n",
       "    </tr>\n",
       "    <tr>\n",
       "      <th>74661</th>\n",
       "      <td>zoelofgren.com</td>\n",
       "      <td>Democrat</td>\n",
       "      <td>20.0</td>\n",
       "      <td>27</td>\n",
       "    </tr>\n",
       "    <tr>\n",
       "      <th>74662</th>\n",
       "      <td>zoelofgren.com</td>\n",
       "      <td>Democrat</td>\n",
       "      <td>21.0</td>\n",
       "      <td>447</td>\n",
       "    </tr>\n",
       "    <tr>\n",
       "      <th>74663</th>\n",
       "      <td>zoelofgren.com</td>\n",
       "      <td>Democrat</td>\n",
       "      <td>22.0</td>\n",
       "      <td>27</td>\n",
       "    </tr>\n",
       "    <tr>\n",
       "      <th>74664</th>\n",
       "      <td>zoelofgren.com</td>\n",
       "      <td>Democrat</td>\n",
       "      <td>23.0</td>\n",
       "      <td>436</td>\n",
       "    </tr>\n",
       "  </tbody>\n",
       "</table>\n",
       "<p>74665 rows × 4 columns</p>\n",
       "</div>"
      ],
      "text/plain": [
       "               domain     party  serp_rank  counts\n",
       "0         1011now.com  Democrat        6.0     401\n",
       "1         1011now.com  Democrat        7.0     808\n",
       "2         1011now.com  Democrat        8.0    1235\n",
       "3         1011now.com  Democrat        9.0    1747\n",
       "4         1011now.com  Democrat       10.0     416\n",
       "...               ...       ...        ...     ...\n",
       "74660  zoelofgren.com  Democrat       19.0    3361\n",
       "74661  zoelofgren.com  Democrat       20.0      27\n",
       "74662  zoelofgren.com  Democrat       21.0     447\n",
       "74663  zoelofgren.com  Democrat       22.0      27\n",
       "74664  zoelofgren.com  Democrat       23.0     436\n",
       "\n",
       "[74665 rows x 4 columns]"
      ]
     },
     "execution_count": 57,
     "metadata": {},
     "output_type": "execute_result"
    }
   ],
   "source": [
    "party_domain_rank"
   ]
  },
  {
   "cell_type": "code",
   "execution_count": 58,
   "id": "6b432902-ca82-4708-9b23-083c32536377",
   "metadata": {},
   "outputs": [
    {
     "data": {
      "text/plain": [
       "299573378"
      ]
     },
     "execution_count": 58,
     "metadata": {},
     "output_type": "execute_result"
    }
   ],
   "source": [
    "party_domain_rank['counts'].sum()"
   ]
  },
  {
   "cell_type": "code",
   "execution_count": 59,
   "id": "90d68ef7-418d-4cc2-8b93-53c4be6010f7",
   "metadata": {},
   "outputs": [],
   "source": [
    "party_domain_rank.to_csv('../data/house_analysis/party_domain_rank.csv', index=False)  "
   ]
  },
  {
   "cell_type": "markdown",
   "id": "530b6ce4-ba98-4f6f-bb71-df9e571454d4",
   "metadata": {},
   "source": [
    "# local vs. naitonal"
   ]
  },
  {
   "cell_type": "code",
   "execution_count": 60,
   "id": "dfc61a05-1fbf-4343-b69e-b74e838a5277",
   "metadata": {},
   "outputs": [],
   "source": [
    "domain_classification = pd.read_csv(\"../data/domain_classification_local_national.csv\")"
   ]
  },
  {
   "cell_type": "code",
   "execution_count": 61,
   "id": "1adf133d-83c6-46dc-9b5d-bc2ed3233bee",
   "metadata": {},
   "outputs": [],
   "source": [
    "hand_label = pd.read_csv(\"../data/domains_handcode_local_national_labels.csv\")"
   ]
  },
  {
   "cell_type": "code",
   "execution_count": 62,
   "id": "f6ed9aff-8f7c-4aae-be23-656bcd4eaef7",
   "metadata": {},
   "outputs": [],
   "source": [
    "hand_label = hand_label[['domain', 'label']][~hand_label['label'].isna()]"
   ]
  },
  {
   "cell_type": "code",
   "execution_count": 63,
   "id": "33f3485c-00d3-4fa8-b519-a5edd3139e58",
   "metadata": {},
   "outputs": [],
   "source": [
    "party_domain_rank = pd.merge(party_domain_rank, domain_classification, how=\"left\", on=['domain'])"
   ]
  },
  {
   "cell_type": "code",
   "execution_count": 64,
   "id": "47c67370-21d3-4fe0-b80b-9afd69f282aa",
   "metadata": {},
   "outputs": [],
   "source": [
    "party_domain_rank = pd.merge(party_domain_rank, hand_label.drop_duplicates(), how=\"left\", on=['domain'])"
   ]
  },
  {
   "cell_type": "code",
   "execution_count": 65,
   "id": "925f65a3-774a-4344-8781-9ad866209224",
   "metadata": {},
   "outputs": [],
   "source": [
    "party_domain_rank['classification'] = party_domain_rank['classification'].fillna(party_domain_rank['label'])"
   ]
  },
  {
   "cell_type": "code",
   "execution_count": 66,
   "id": "c5835e71-6f13-419b-9e27-f871783deee2",
   "metadata": {},
   "outputs": [],
   "source": [
    "party_domain_rank.loc[party_domain_rank[\"classification\"] == \"INCONSISTENT\", \"classification\"] = \"other news\""
   ]
  },
  {
   "cell_type": "code",
   "execution_count": 67,
   "id": "f0f03296-037b-47e6-9bfd-3d82f221e2b2",
   "metadata": {},
   "outputs": [],
   "source": [
    "party_domain_rank.loc[party_domain_rank[\"classification\"] == \"international\", \"classification\"] = \"national\""
   ]
  },
  {
   "cell_type": "code",
   "execution_count": 68,
   "id": "8b8ee85c-c9bc-46c3-aefc-ff69fa27d4cf",
   "metadata": {},
   "outputs": [
    {
     "data": {
      "text/plain": [
       "299573378"
      ]
     },
     "execution_count": 68,
     "metadata": {},
     "output_type": "execute_result"
    }
   ],
   "source": [
    "party_domain_rank['counts'].sum()"
   ]
  },
  {
   "cell_type": "markdown",
   "id": "2bee893a-17f4-4969-9421-ca70625e311b",
   "metadata": {},
   "source": [
    "## add category"
   ]
  },
  {
   "cell_type": "code",
   "execution_count": 69,
   "id": "a22e68a1-9a7c-4dc7-a7d8-2250a2c7f23e",
   "metadata": {},
   "outputs": [],
   "source": [
    "allison_cat = pd.read_csv(\"../data/domain_category.csv\",)"
   ]
  },
  {
   "cell_type": "code",
   "execution_count": 70,
   "id": "5e5b4bd7-5b85-4c94-b8ca-d9af09f8146f",
   "metadata": {},
   "outputs": [],
   "source": [
    "party_domain_rank = pd.merge(party_domain_rank, allison_cat.drop_duplicates(), how=\"left\", on=['domain'])"
   ]
  },
  {
   "cell_type": "code",
   "execution_count": 71,
   "id": "afda4018-318a-48c6-a996-2756a225eeee",
   "metadata": {},
   "outputs": [
    {
     "data": {
      "text/plain": [
       "299573378"
      ]
     },
     "execution_count": 71,
     "metadata": {},
     "output_type": "execute_result"
    }
   ],
   "source": [
    "party_domain_rank['counts'].sum()"
   ]
  },
  {
   "cell_type": "markdown",
   "id": "faa6e714-5deb-4dba-8cc2-51a992c1b901",
   "metadata": {},
   "source": [
    "## add is labels"
   ]
  },
  {
   "cell_type": "code",
   "execution_count": 72,
   "id": "3d1673c5-a44d-4531-9011-0fa3f126c524",
   "metadata": {},
   "outputs": [],
   "source": [
    "def check_is_news(col):\n",
    "    if col == \"news\":\n",
    "        return True\n",
    "    else:\n",
    "        return False"
   ]
  },
  {
   "cell_type": "code",
   "execution_count": 73,
   "id": "ee426488-d283-4bb3-81fb-0d91d42604ab",
   "metadata": {},
   "outputs": [],
   "source": [
    "party_domain_rank['is_news'] = party_domain_rank['category'].apply(check_is_news)"
   ]
  },
  {
   "cell_type": "code",
   "execution_count": 74,
   "id": "58e073b6-cc8a-4e8e-b3d4-39252b7d3868",
   "metadata": {},
   "outputs": [],
   "source": [
    "def check_is_local(col):\n",
    "    if pd.isna(col):\n",
    "        return None\n",
    "    elif col == \"local\":\n",
    "        return True\n",
    "    else:\n",
    "        return False"
   ]
  },
  {
   "cell_type": "code",
   "execution_count": 75,
   "id": "4c81e33e-4c12-4d1f-9a8c-fdcaf0811cc8",
   "metadata": {},
   "outputs": [],
   "source": [
    "party_domain_rank['is_local'] = party_domain_rank['classification'].apply(check_is_local)"
   ]
  },
  {
   "cell_type": "code",
   "execution_count": 76,
   "id": "b4ca4196-3e2a-4a57-afd2-4ebe1bede9f5",
   "metadata": {},
   "outputs": [],
   "source": [
    "def is_poli_controlled(row):\n",
    "    if row['category']=='campaign_personal':\n",
    "        return True\n",
    "    elif row['category']=='gov':\n",
    "        if row['domain']=='house.gov':\n",
    "            return True\n",
    "        else:\n",
    "            return False\n",
    "    elif row['category']=='social':\n",
    "        if row['domain']=='youtube.com':\n",
    "            return False\n",
    "        else:\n",
    "            return True\n",
    "    else:\n",
    "        return False"
   ]
  },
  {
   "cell_type": "code",
   "execution_count": 77,
   "id": "6e0cbe94-e06e-4f45-ad3b-dd71565047ce",
   "metadata": {},
   "outputs": [],
   "source": [
    "party_domain_rank['is_poli_control'] = party_domain_rank.apply(is_poli_controlled, axis=1)"
   ]
  },
  {
   "cell_type": "code",
   "execution_count": 79,
   "id": "6a1c9db9-6185-49f1-88b1-47cef4587d6a",
   "metadata": {},
   "outputs": [],
   "source": [
    "party_domain_rank['rank'] = party_domain_rank['serp_rank'] +1"
   ]
  },
  {
   "cell_type": "code",
   "execution_count": 80,
   "id": "9f9af185-2dc9-4566-b7e5-22400b7e6fd3",
   "metadata": {},
   "outputs": [],
   "source": [
    "# Drop a single column\n",
    "party_domain_rank = party_domain_rank.drop('label', axis=1)"
   ]
  },
  {
   "cell_type": "code",
   "execution_count": 81,
   "id": "bf8c1cfe-767b-493d-92fc-b549b7eac304",
   "metadata": {},
   "outputs": [
    {
     "data": {
      "text/html": [
       "<div>\n",
       "<style scoped>\n",
       "    .dataframe tbody tr th:only-of-type {\n",
       "        vertical-align: middle;\n",
       "    }\n",
       "\n",
       "    .dataframe tbody tr th {\n",
       "        vertical-align: top;\n",
       "    }\n",
       "\n",
       "    .dataframe thead th {\n",
       "        text-align: right;\n",
       "    }\n",
       "</style>\n",
       "<table border=\"1\" class=\"dataframe\">\n",
       "  <thead>\n",
       "    <tr style=\"text-align: right;\">\n",
       "      <th></th>\n",
       "      <th>domain</th>\n",
       "      <th>party</th>\n",
       "      <th>serp_rank</th>\n",
       "      <th>counts</th>\n",
       "      <th>classification</th>\n",
       "      <th>category</th>\n",
       "      <th>is_news</th>\n",
       "      <th>is_local</th>\n",
       "      <th>is_poli_control</th>\n",
       "      <th>rank</th>\n",
       "    </tr>\n",
       "  </thead>\n",
       "  <tbody>\n",
       "    <tr>\n",
       "      <th>0</th>\n",
       "      <td>1011now.com</td>\n",
       "      <td>Democrat</td>\n",
       "      <td>6.0</td>\n",
       "      <td>401</td>\n",
       "      <td>local</td>\n",
       "      <td>news</td>\n",
       "      <td>True</td>\n",
       "      <td>True</td>\n",
       "      <td>False</td>\n",
       "      <td>7.0</td>\n",
       "    </tr>\n",
       "    <tr>\n",
       "      <th>1</th>\n",
       "      <td>1011now.com</td>\n",
       "      <td>Democrat</td>\n",
       "      <td>7.0</td>\n",
       "      <td>808</td>\n",
       "      <td>local</td>\n",
       "      <td>news</td>\n",
       "      <td>True</td>\n",
       "      <td>True</td>\n",
       "      <td>False</td>\n",
       "      <td>8.0</td>\n",
       "    </tr>\n",
       "    <tr>\n",
       "      <th>2</th>\n",
       "      <td>1011now.com</td>\n",
       "      <td>Democrat</td>\n",
       "      <td>8.0</td>\n",
       "      <td>1235</td>\n",
       "      <td>local</td>\n",
       "      <td>news</td>\n",
       "      <td>True</td>\n",
       "      <td>True</td>\n",
       "      <td>False</td>\n",
       "      <td>9.0</td>\n",
       "    </tr>\n",
       "    <tr>\n",
       "      <th>3</th>\n",
       "      <td>1011now.com</td>\n",
       "      <td>Democrat</td>\n",
       "      <td>9.0</td>\n",
       "      <td>1747</td>\n",
       "      <td>local</td>\n",
       "      <td>news</td>\n",
       "      <td>True</td>\n",
       "      <td>True</td>\n",
       "      <td>False</td>\n",
       "      <td>10.0</td>\n",
       "    </tr>\n",
       "    <tr>\n",
       "      <th>4</th>\n",
       "      <td>1011now.com</td>\n",
       "      <td>Democrat</td>\n",
       "      <td>10.0</td>\n",
       "      <td>416</td>\n",
       "      <td>local</td>\n",
       "      <td>news</td>\n",
       "      <td>True</td>\n",
       "      <td>True</td>\n",
       "      <td>False</td>\n",
       "      <td>11.0</td>\n",
       "    </tr>\n",
       "    <tr>\n",
       "      <th>...</th>\n",
       "      <td>...</td>\n",
       "      <td>...</td>\n",
       "      <td>...</td>\n",
       "      <td>...</td>\n",
       "      <td>...</td>\n",
       "      <td>...</td>\n",
       "      <td>...</td>\n",
       "      <td>...</td>\n",
       "      <td>...</td>\n",
       "      <td>...</td>\n",
       "    </tr>\n",
       "    <tr>\n",
       "      <th>74660</th>\n",
       "      <td>zoelofgren.com</td>\n",
       "      <td>Democrat</td>\n",
       "      <td>19.0</td>\n",
       "      <td>3361</td>\n",
       "      <td>NaN</td>\n",
       "      <td>campaign_personal</td>\n",
       "      <td>False</td>\n",
       "      <td>None</td>\n",
       "      <td>True</td>\n",
       "      <td>20.0</td>\n",
       "    </tr>\n",
       "    <tr>\n",
       "      <th>74661</th>\n",
       "      <td>zoelofgren.com</td>\n",
       "      <td>Democrat</td>\n",
       "      <td>20.0</td>\n",
       "      <td>27</td>\n",
       "      <td>NaN</td>\n",
       "      <td>campaign_personal</td>\n",
       "      <td>False</td>\n",
       "      <td>None</td>\n",
       "      <td>True</td>\n",
       "      <td>21.0</td>\n",
       "    </tr>\n",
       "    <tr>\n",
       "      <th>74662</th>\n",
       "      <td>zoelofgren.com</td>\n",
       "      <td>Democrat</td>\n",
       "      <td>21.0</td>\n",
       "      <td>447</td>\n",
       "      <td>NaN</td>\n",
       "      <td>campaign_personal</td>\n",
       "      <td>False</td>\n",
       "      <td>None</td>\n",
       "      <td>True</td>\n",
       "      <td>22.0</td>\n",
       "    </tr>\n",
       "    <tr>\n",
       "      <th>74663</th>\n",
       "      <td>zoelofgren.com</td>\n",
       "      <td>Democrat</td>\n",
       "      <td>22.0</td>\n",
       "      <td>27</td>\n",
       "      <td>NaN</td>\n",
       "      <td>campaign_personal</td>\n",
       "      <td>False</td>\n",
       "      <td>None</td>\n",
       "      <td>True</td>\n",
       "      <td>23.0</td>\n",
       "    </tr>\n",
       "    <tr>\n",
       "      <th>74664</th>\n",
       "      <td>zoelofgren.com</td>\n",
       "      <td>Democrat</td>\n",
       "      <td>23.0</td>\n",
       "      <td>436</td>\n",
       "      <td>NaN</td>\n",
       "      <td>campaign_personal</td>\n",
       "      <td>False</td>\n",
       "      <td>None</td>\n",
       "      <td>True</td>\n",
       "      <td>24.0</td>\n",
       "    </tr>\n",
       "  </tbody>\n",
       "</table>\n",
       "<p>74665 rows × 10 columns</p>\n",
       "</div>"
      ],
      "text/plain": [
       "               domain     party  serp_rank  counts classification  \\\n",
       "0         1011now.com  Democrat        6.0     401          local   \n",
       "1         1011now.com  Democrat        7.0     808          local   \n",
       "2         1011now.com  Democrat        8.0    1235          local   \n",
       "3         1011now.com  Democrat        9.0    1747          local   \n",
       "4         1011now.com  Democrat       10.0     416          local   \n",
       "...               ...       ...        ...     ...            ...   \n",
       "74660  zoelofgren.com  Democrat       19.0    3361            NaN   \n",
       "74661  zoelofgren.com  Democrat       20.0      27            NaN   \n",
       "74662  zoelofgren.com  Democrat       21.0     447            NaN   \n",
       "74663  zoelofgren.com  Democrat       22.0      27            NaN   \n",
       "74664  zoelofgren.com  Democrat       23.0     436            NaN   \n",
       "\n",
       "                category  is_news is_local  is_poli_control  rank  \n",
       "0                   news     True     True            False   7.0  \n",
       "1                   news     True     True            False   8.0  \n",
       "2                   news     True     True            False   9.0  \n",
       "3                   news     True     True            False  10.0  \n",
       "4                   news     True     True            False  11.0  \n",
       "...                  ...      ...      ...              ...   ...  \n",
       "74660  campaign_personal    False     None             True  20.0  \n",
       "74661  campaign_personal    False     None             True  21.0  \n",
       "74662  campaign_personal    False     None             True  22.0  \n",
       "74663  campaign_personal    False     None             True  23.0  \n",
       "74664  campaign_personal    False     None             True  24.0  \n",
       "\n",
       "[74665 rows x 10 columns]"
      ]
     },
     "execution_count": 81,
     "metadata": {},
     "output_type": "execute_result"
    }
   ],
   "source": [
    "party_domain_rank"
   ]
  },
  {
   "cell_type": "code",
   "execution_count": 82,
   "id": "2a2c07bd-8c41-4f92-b6ec-184d57990e49",
   "metadata": {},
   "outputs": [],
   "source": [
    "party_domain_rank.to_csv(\"../data/house_analysis/party_domain_rank_class_cat_isnews_islocal_ispolicontrol.csv\", index=False)"
   ]
  },
  {
   "cell_type": "code",
   "execution_count": null,
   "id": "16361f28-8bdc-4a64-b260-9e0f92f4af5c",
   "metadata": {},
   "outputs": [],
   "source": []
  }
 ],
 "metadata": {
  "kernelspec": {
   "display_name": "Python 3 (ipykernel)",
   "language": "python",
   "name": "python3"
  },
  "language_info": {
   "codemirror_mode": {
    "name": "ipython",
    "version": 3
   },
   "file_extension": ".py",
   "mimetype": "text/x-python",
   "name": "python",
   "nbconvert_exporter": "python",
   "pygments_lexer": "ipython3",
   "version": "3.10.14"
  }
 },
 "nbformat": 4,
 "nbformat_minor": 5
}
