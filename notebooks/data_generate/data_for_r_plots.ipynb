{
 "cells": [
  {
   "cell_type": "markdown",
   "id": "1c0974fc-883c-4f99-8cbe-4a4e214e9e45",
   "metadata": {},
   "source": [
    "# Preparing data for r plots"
   ]
  },
  {
   "cell_type": "markdown",
   "id": "4277ce6f-3052-4e16-bea9-5c43b25f84e9",
   "metadata": {},
   "source": [
    "This file gerneates csv files that are used in the r files to generate plots"
   ]
  },
  {
   "cell_type": "code",
   "execution_count": 74,
   "id": "832bb70d-b1b8-4e78-8043-48a10835d542",
   "metadata": {},
   "outputs": [],
   "source": [
    "import seaborn as sns\n",
    "import matplotlib.pyplot as plt\n",
    "import pandas as pd\n",
    "import os\n",
    "import json\n",
    "import numpy as np"
   ]
  },
  {
   "cell_type": "code",
   "execution_count": 75,
   "id": "f744cea1-dfae-471f-8775-ce685355ccb6",
   "metadata": {},
   "outputs": [],
   "source": [
    "# this file is generated from `natinoal_local_prepare_data.ipynb`.\n",
    "df_category_grouped_class = pd.read_csv(\"../data/house_analysis/domain_rank_ishome_category_counts.csv\")"
   ]
  },
  {
   "cell_type": "code",
   "execution_count": 76,
   "id": "19a4b8b1-bde6-45ca-bee1-0f46cd37ee35",
   "metadata": {},
   "outputs": [],
   "source": [
    "def check_is_news(col):\n",
    "    if col == \"news\":\n",
    "        return True\n",
    "    else:\n",
    "        return False"
   ]
  },
  {
   "cell_type": "code",
   "execution_count": 77,
   "id": "5b226a3a-d8f8-46dd-a84d-ecae290d9065",
   "metadata": {},
   "outputs": [],
   "source": [
    "df_category_grouped_class['is_news'] = df_category_grouped_class['category'].apply(check_is_news)"
   ]
  },
  {
   "cell_type": "code",
   "execution_count": 78,
   "id": "c2930937-a059-45d5-9ace-e44914a57e01",
   "metadata": {},
   "outputs": [
    {
     "data": {
      "text/plain": [
       "299573378"
      ]
     },
     "execution_count": 78,
     "metadata": {},
     "output_type": "execute_result"
    }
   ],
   "source": [
    "df_category_grouped_class['counts'].sum()"
   ]
  },
  {
   "cell_type": "code",
   "execution_count": 79,
   "id": "f16541cb-8e58-480f-b2df-e45a25de956f",
   "metadata": {},
   "outputs": [],
   "source": [
    "def check_is_local(col):\n",
    "    if pd.isna(col):\n",
    "        return None\n",
    "    elif col == \"local\":\n",
    "        return True\n",
    "    else:\n",
    "        return False"
   ]
  },
  {
   "cell_type": "code",
   "execution_count": 80,
   "id": "a97d2d8b-f1c8-475a-a9b5-cf827fe766df",
   "metadata": {},
   "outputs": [],
   "source": [
    "df_category_grouped_class['is_local'] = df_category_grouped_class['classification'].apply(check_is_local)"
   ]
  },
  {
   "cell_type": "code",
   "execution_count": 81,
   "id": "82e17bd8-06d7-433e-8ebc-444efa047daa",
   "metadata": {},
   "outputs": [],
   "source": [
    "def is_poli_controlled(row):\n",
    "    if row['category']=='campaign_personal':\n",
    "        return True\n",
    "    elif row['category']=='gov':\n",
    "        if row['domain']=='house.gov':\n",
    "            return True\n",
    "        else:\n",
    "            return False\n",
    "    elif row['category']=='social':\n",
    "        if row['domain']=='youtube.com':\n",
    "            return False\n",
    "        else:\n",
    "            return True\n",
    "    else:\n",
    "        return False"
   ]
  },
  {
   "cell_type": "code",
   "execution_count": 82,
   "id": "86afd45e-9e96-48b7-b161-0753b4a4d35d",
   "metadata": {},
   "outputs": [],
   "source": [
    "df_category_grouped_class['is_poli_control'] = df_category_grouped_class.apply(is_poli_controlled, axis=1)"
   ]
  },
  {
   "cell_type": "code",
   "execution_count": 84,
   "id": "f1771c68-6eb9-4a55-83df-c9aac61dd895",
   "metadata": {},
   "outputs": [],
   "source": [
    "df_category_grouped_class['rank'] = df_category_grouped_class['serp_rank'] +1"
   ]
  },
  {
   "cell_type": "code",
   "execution_count": 102,
   "id": "457a491a-96df-4102-92c9-268d736d5968",
   "metadata": {},
   "outputs": [
    {
     "data": {
      "text/html": [
       "<div>\n",
       "<style scoped>\n",
       "    .dataframe tbody tr th:only-of-type {\n",
       "        vertical-align: middle;\n",
       "    }\n",
       "\n",
       "    .dataframe tbody tr th {\n",
       "        vertical-align: top;\n",
       "    }\n",
       "\n",
       "    .dataframe thead th {\n",
       "        text-align: right;\n",
       "    }\n",
       "</style>\n",
       "<table border=\"1\" class=\"dataframe\">\n",
       "  <thead>\n",
       "    <tr style=\"text-align: right;\">\n",
       "      <th></th>\n",
       "      <th>domain</th>\n",
       "      <th>serp_rank</th>\n",
       "      <th>is_home_district</th>\n",
       "      <th>category</th>\n",
       "      <th>counts</th>\n",
       "      <th>classification</th>\n",
       "      <th>is_news</th>\n",
       "      <th>is_local</th>\n",
       "      <th>is_poli_control</th>\n",
       "      <th>rank</th>\n",
       "    </tr>\n",
       "  </thead>\n",
       "  <tbody>\n",
       "    <tr>\n",
       "      <th>0</th>\n",
       "      <td>1011now.com</td>\n",
       "      <td>2.0</td>\n",
       "      <td>False</td>\n",
       "      <td>news</td>\n",
       "      <td>2</td>\n",
       "      <td>local</td>\n",
       "      <td>True</td>\n",
       "      <td>True</td>\n",
       "      <td>False</td>\n",
       "      <td>3.0</td>\n",
       "    </tr>\n",
       "    <tr>\n",
       "      <th>1</th>\n",
       "      <td>1011now.com</td>\n",
       "      <td>3.0</td>\n",
       "      <td>False</td>\n",
       "      <td>news</td>\n",
       "      <td>13</td>\n",
       "      <td>local</td>\n",
       "      <td>True</td>\n",
       "      <td>True</td>\n",
       "      <td>False</td>\n",
       "      <td>4.0</td>\n",
       "    </tr>\n",
       "    <tr>\n",
       "      <th>2</th>\n",
       "      <td>1011now.com</td>\n",
       "      <td>4.0</td>\n",
       "      <td>False</td>\n",
       "      <td>news</td>\n",
       "      <td>1200</td>\n",
       "      <td>local</td>\n",
       "      <td>True</td>\n",
       "      <td>True</td>\n",
       "      <td>False</td>\n",
       "      <td>5.0</td>\n",
       "    </tr>\n",
       "    <tr>\n",
       "      <th>3</th>\n",
       "      <td>1011now.com</td>\n",
       "      <td>5.0</td>\n",
       "      <td>False</td>\n",
       "      <td>news</td>\n",
       "      <td>6503</td>\n",
       "      <td>local</td>\n",
       "      <td>True</td>\n",
       "      <td>True</td>\n",
       "      <td>False</td>\n",
       "      <td>6.0</td>\n",
       "    </tr>\n",
       "    <tr>\n",
       "      <th>4</th>\n",
       "      <td>1011now.com</td>\n",
       "      <td>5.0</td>\n",
       "      <td>True</td>\n",
       "      <td>news</td>\n",
       "      <td>18</td>\n",
       "      <td>local</td>\n",
       "      <td>True</td>\n",
       "      <td>True</td>\n",
       "      <td>False</td>\n",
       "      <td>6.0</td>\n",
       "    </tr>\n",
       "    <tr>\n",
       "      <th>...</th>\n",
       "      <td>...</td>\n",
       "      <td>...</td>\n",
       "      <td>...</td>\n",
       "      <td>...</td>\n",
       "      <td>...</td>\n",
       "      <td>...</td>\n",
       "      <td>...</td>\n",
       "      <td>...</td>\n",
       "      <td>...</td>\n",
       "      <td>...</td>\n",
       "    </tr>\n",
       "    <tr>\n",
       "      <th>94153</th>\n",
       "      <td>zoelofgren.com</td>\n",
       "      <td>21.0</td>\n",
       "      <td>False</td>\n",
       "      <td>campaign_personal</td>\n",
       "      <td>446</td>\n",
       "      <td>NaN</td>\n",
       "      <td>False</td>\n",
       "      <td>None</td>\n",
       "      <td>True</td>\n",
       "      <td>22.0</td>\n",
       "    </tr>\n",
       "    <tr>\n",
       "      <th>94154</th>\n",
       "      <td>zoelofgren.com</td>\n",
       "      <td>21.0</td>\n",
       "      <td>True</td>\n",
       "      <td>campaign_personal</td>\n",
       "      <td>1</td>\n",
       "      <td>NaN</td>\n",
       "      <td>False</td>\n",
       "      <td>None</td>\n",
       "      <td>True</td>\n",
       "      <td>22.0</td>\n",
       "    </tr>\n",
       "    <tr>\n",
       "      <th>94155</th>\n",
       "      <td>zoelofgren.com</td>\n",
       "      <td>22.0</td>\n",
       "      <td>False</td>\n",
       "      <td>campaign_personal</td>\n",
       "      <td>27</td>\n",
       "      <td>NaN</td>\n",
       "      <td>False</td>\n",
       "      <td>None</td>\n",
       "      <td>True</td>\n",
       "      <td>23.0</td>\n",
       "    </tr>\n",
       "    <tr>\n",
       "      <th>94156</th>\n",
       "      <td>zoelofgren.com</td>\n",
       "      <td>23.0</td>\n",
       "      <td>False</td>\n",
       "      <td>campaign_personal</td>\n",
       "      <td>435</td>\n",
       "      <td>NaN</td>\n",
       "      <td>False</td>\n",
       "      <td>None</td>\n",
       "      <td>True</td>\n",
       "      <td>24.0</td>\n",
       "    </tr>\n",
       "    <tr>\n",
       "      <th>94157</th>\n",
       "      <td>zoelofgren.com</td>\n",
       "      <td>23.0</td>\n",
       "      <td>True</td>\n",
       "      <td>campaign_personal</td>\n",
       "      <td>1</td>\n",
       "      <td>NaN</td>\n",
       "      <td>False</td>\n",
       "      <td>None</td>\n",
       "      <td>True</td>\n",
       "      <td>24.0</td>\n",
       "    </tr>\n",
       "  </tbody>\n",
       "</table>\n",
       "<p>94158 rows × 10 columns</p>\n",
       "</div>"
      ],
      "text/plain": [
       "               domain  serp_rank  is_home_district           category  counts  \\\n",
       "0         1011now.com        2.0             False               news       2   \n",
       "1         1011now.com        3.0             False               news      13   \n",
       "2         1011now.com        4.0             False               news    1200   \n",
       "3         1011now.com        5.0             False               news    6503   \n",
       "4         1011now.com        5.0              True               news      18   \n",
       "...               ...        ...               ...                ...     ...   \n",
       "94153  zoelofgren.com       21.0             False  campaign_personal     446   \n",
       "94154  zoelofgren.com       21.0              True  campaign_personal       1   \n",
       "94155  zoelofgren.com       22.0             False  campaign_personal      27   \n",
       "94156  zoelofgren.com       23.0             False  campaign_personal     435   \n",
       "94157  zoelofgren.com       23.0              True  campaign_personal       1   \n",
       "\n",
       "      classification  is_news is_local  is_poli_control  rank  \n",
       "0              local     True     True            False   3.0  \n",
       "1              local     True     True            False   4.0  \n",
       "2              local     True     True            False   5.0  \n",
       "3              local     True     True            False   6.0  \n",
       "4              local     True     True            False   6.0  \n",
       "...              ...      ...      ...              ...   ...  \n",
       "94153            NaN    False     None             True  22.0  \n",
       "94154            NaN    False     None             True  22.0  \n",
       "94155            NaN    False     None             True  23.0  \n",
       "94156            NaN    False     None             True  24.0  \n",
       "94157            NaN    False     None             True  24.0  \n",
       "\n",
       "[94158 rows x 10 columns]"
      ]
     },
     "execution_count": 102,
     "metadata": {},
     "output_type": "execute_result"
    }
   ],
   "source": [
    "df_category_grouped_class"
   ]
  },
  {
   "cell_type": "code",
   "execution_count": 103,
   "id": "a7ef70b2-88b2-4c6f-a505-bbe305ad939a",
   "metadata": {},
   "outputs": [],
   "source": [
    "df_category_grouped_class.to_csv(\"../data/house_analysis/domain_isnews_islocal_ispolicontrol.csv\", index=False)"
   ]
  },
  {
   "cell_type": "markdown",
   "id": "ee3e306b-1786-4ac7-b274-506c9a5825ac",
   "metadata": {},
   "source": [
    "# Top domain in third party"
   ]
  },
  {
   "cell_type": "code",
   "execution_count": 93,
   "id": "54baf510-f14f-4ac9-9fa2-8d9695aebb23",
   "metadata": {},
   "outputs": [],
   "source": [
    "thid_party = df_category_grouped_class[df_category_grouped_class['category']=='other_third_party']"
   ]
  },
  {
   "cell_type": "code",
   "execution_count": 94,
   "id": "b542acf6-3b82-4f6a-8317-3cd54d11c0cc",
   "metadata": {},
   "outputs": [],
   "source": [
    "thid_party_domains = thid_party.groupby(['domain'], dropna=False, as_index=False)['counts'].sum()"
   ]
  },
  {
   "cell_type": "code",
   "execution_count": 95,
   "id": "09fb525f-c225-4e40-a4b9-371eb19712b7",
   "metadata": {},
   "outputs": [],
   "source": [
    "thid_party_domains['percent'] = thid_party_domains['counts']/thid_party_domains['counts'].sum()*100"
   ]
  },
  {
   "cell_type": "code",
   "execution_count": 96,
   "id": "fde84147-577a-4e37-b8b9-3498b575f12b",
   "metadata": {},
   "outputs": [
    {
     "data": {
      "text/html": [
       "<div>\n",
       "<style scoped>\n",
       "    .dataframe tbody tr th:only-of-type {\n",
       "        vertical-align: middle;\n",
       "    }\n",
       "\n",
       "    .dataframe tbody tr th {\n",
       "        vertical-align: top;\n",
       "    }\n",
       "\n",
       "    .dataframe thead th {\n",
       "        text-align: right;\n",
       "    }\n",
       "</style>\n",
       "<table border=\"1\" class=\"dataframe\">\n",
       "  <thead>\n",
       "    <tr style=\"text-align: right;\">\n",
       "      <th></th>\n",
       "      <th>domain</th>\n",
       "      <th>counts</th>\n",
       "      <th>percent</th>\n",
       "    </tr>\n",
       "  </thead>\n",
       "  <tbody>\n",
       "    <tr>\n",
       "      <th>354</th>\n",
       "      <td>wikipedia.org</td>\n",
       "      <td>20361206</td>\n",
       "      <td>34.053138</td>\n",
       "    </tr>\n",
       "    <tr>\n",
       "      <th>40</th>\n",
       "      <td>ballotpedia.org</td>\n",
       "      <td>18272995</td>\n",
       "      <td>30.560706</td>\n",
       "    </tr>\n",
       "    <tr>\n",
       "      <th>153</th>\n",
       "      <td>govtrack.us</td>\n",
       "      <td>16055696</td>\n",
       "      <td>26.852380</td>\n",
       "    </tr>\n",
       "    <tr>\n",
       "      <th>247</th>\n",
       "      <td>opensecrets.org</td>\n",
       "      <td>916820</td>\n",
       "      <td>1.533337</td>\n",
       "    </tr>\n",
       "    <tr>\n",
       "      <th>98</th>\n",
       "      <td>cq.com</td>\n",
       "      <td>813229</td>\n",
       "      <td>1.360086</td>\n",
       "    </tr>\n",
       "    <tr>\n",
       "      <th>...</th>\n",
       "      <td>...</td>\n",
       "      <td>...</td>\n",
       "      <td>...</td>\n",
       "    </tr>\n",
       "    <tr>\n",
       "      <th>300</th>\n",
       "      <td>songhall.org</td>\n",
       "      <td>1</td>\n",
       "      <td>0.000002</td>\n",
       "    </tr>\n",
       "    <tr>\n",
       "      <th>89</th>\n",
       "      <td>commondefense.us</td>\n",
       "      <td>1</td>\n",
       "      <td>0.000002</td>\n",
       "    </tr>\n",
       "    <tr>\n",
       "      <th>221</th>\n",
       "      <td>moffitt.org</td>\n",
       "      <td>1</td>\n",
       "      <td>0.000002</td>\n",
       "    </tr>\n",
       "    <tr>\n",
       "      <th>178</th>\n",
       "      <td>iranianamericanpac.org</td>\n",
       "      <td>1</td>\n",
       "      <td>0.000002</td>\n",
       "    </tr>\n",
       "    <tr>\n",
       "      <th>277</th>\n",
       "      <td>represent.us</td>\n",
       "      <td>1</td>\n",
       "      <td>0.000002</td>\n",
       "    </tr>\n",
       "  </tbody>\n",
       "</table>\n",
       "<p>363 rows × 3 columns</p>\n",
       "</div>"
      ],
      "text/plain": [
       "                     domain    counts    percent\n",
       "354           wikipedia.org  20361206  34.053138\n",
       "40          ballotpedia.org  18272995  30.560706\n",
       "153             govtrack.us  16055696  26.852380\n",
       "247         opensecrets.org    916820   1.533337\n",
       "98                   cq.com    813229   1.360086\n",
       "..                      ...       ...        ...\n",
       "300            songhall.org         1   0.000002\n",
       "89         commondefense.us         1   0.000002\n",
       "221             moffitt.org         1   0.000002\n",
       "178  iranianamericanpac.org         1   0.000002\n",
       "277            represent.us         1   0.000002\n",
       "\n",
       "[363 rows x 3 columns]"
      ]
     },
     "execution_count": 96,
     "metadata": {},
     "output_type": "execute_result"
    }
   ],
   "source": [
    "thid_party_domains.sort_values('counts', ascending=False)"
   ]
  },
  {
   "cell_type": "code",
   "execution_count": null,
   "id": "e669286a-f64b-4baf-b53f-2c02612a8c9b",
   "metadata": {},
   "outputs": [],
   "source": []
  }
 ],
 "metadata": {
  "kernelspec": {
   "display_name": "Python 3 (ipykernel)",
   "language": "python",
   "name": "python3"
  },
  "language_info": {
   "codemirror_mode": {
    "name": "ipython",
    "version": 3
   },
   "file_extension": ".py",
   "mimetype": "text/x-python",
   "name": "python",
   "nbconvert_exporter": "python",
   "pygments_lexer": "ipython3",
   "version": "3.10.14"
  }
 },
 "nbformat": 4,
 "nbformat_minor": 5
}
