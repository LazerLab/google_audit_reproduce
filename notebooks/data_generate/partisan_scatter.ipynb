{
 "cells": [
  {
   "cell_type": "markdown",
   "id": "b5278d3f-25db-44e2-af58-6242349867f5",
   "metadata": {},
   "source": [
    "# Partisan domain analysis"
   ]
  },
  {
   "cell_type": "code",
   "execution_count": 57,
   "id": "46b6411c-5120-4722-9363-64556031a3b2",
   "metadata": {},
   "outputs": [],
   "source": [
    "import os\n",
    "import sys\n",
    "import pandas as pd\n",
    "import numpy as np\n",
    "import matplotlib.pyplot as plt\n",
    "from scipy import stats"
   ]
  },
  {
   "cell_type": "markdown",
   "id": "be02d382-e582-4622-ba29-820e12bb2937",
   "metadata": {},
   "source": [
    "## Prepare data"
   ]
  },
  {
   "cell_type": "code",
   "execution_count": 58,
   "id": "eaa34f20-2692-4168-bbc0-fab2b19e16cf",
   "metadata": {},
   "outputs": [],
   "source": [
    "qry_domain = pd.read_csv('/net/lazer/lab-lazer/shared_projects/google_audit_reproduce/intermedidate_files/merged_summary/qry_domain.csv')"
   ]
  },
  {
   "cell_type": "code",
   "execution_count": 59,
   "id": "ad5f04d0-1780-4f03-a6c0-8b57341215a2",
   "metadata": {},
   "outputs": [],
   "source": [
    "politician_info_dir = \"../data/qry_info_house_filter.csv\"\n",
    "politician_info = pd.read_csv(politician_info_dir)"
   ]
  },
  {
   "cell_type": "code",
   "execution_count": 60,
   "id": "c6060099-eb64-4c56-9ff6-ac8d8efd3ef7",
   "metadata": {},
   "outputs": [],
   "source": [
    "qry_party_df = pd.merge(qry_domain, politician_info[['qry', 'party']].drop_duplicates(), how=\"left\", on='qry')"
   ]
  },
  {
   "cell_type": "code",
   "execution_count": 61,
   "id": "1be3b9bc-2bfc-41d0-800d-b574853f448d",
   "metadata": {},
   "outputs": [
    {
     "data": {
      "text/plain": [
       "299573378"
      ]
     },
     "execution_count": 61,
     "metadata": {},
     "output_type": "execute_result"
    }
   ],
   "source": [
    "qry_party_df['counts'].sum()"
   ]
  },
  {
   "cell_type": "code",
   "execution_count": 62,
   "id": "b83c1098-ec7b-4053-b86c-f2264f27c712",
   "metadata": {},
   "outputs": [],
   "source": [
    "qry_party_df = qry_party_df.dropna()"
   ]
  },
  {
   "cell_type": "code",
   "execution_count": 63,
   "id": "be2eca62-83a9-42e3-aef0-1a0c586d1504",
   "metadata": {},
   "outputs": [
    {
     "data": {
      "text/plain": [
       "299573378"
      ]
     },
     "execution_count": 63,
     "metadata": {},
     "output_type": "execute_result"
    }
   ],
   "source": [
    "qry_party_df['counts'].sum()"
   ]
  },
  {
   "cell_type": "code",
   "execution_count": 64,
   "id": "1e509986-9279-4570-90f6-ab5c3bdfad8f",
   "metadata": {},
   "outputs": [],
   "source": [
    "party_domain = qry_party_df.groupby(['domain', 'party'], dropna=True, as_index=False)['counts'].sum()"
   ]
  },
  {
   "cell_type": "code",
   "execution_count": 65,
   "id": "c8f74580-4563-4023-b774-3c48744cff47",
   "metadata": {},
   "outputs": [
    {
     "data": {
      "text/plain": [
       "299573378"
      ]
     },
     "execution_count": 65,
     "metadata": {},
     "output_type": "execute_result"
    }
   ],
   "source": [
    "party_domain['counts'].sum()"
   ]
  },
  {
   "cell_type": "code",
   "execution_count": 66,
   "id": "c04d2805-9351-42fb-bdef-8ee3f897f955",
   "metadata": {},
   "outputs": [
    {
     "data": {
      "text/html": [
       "<div>\n",
       "<style scoped>\n",
       "    .dataframe tbody tr th:only-of-type {\n",
       "        vertical-align: middle;\n",
       "    }\n",
       "\n",
       "    .dataframe tbody tr th {\n",
       "        vertical-align: top;\n",
       "    }\n",
       "\n",
       "    .dataframe thead th {\n",
       "        text-align: right;\n",
       "    }\n",
       "</style>\n",
       "<table border=\"1\" class=\"dataframe\">\n",
       "  <thead>\n",
       "    <tr style=\"text-align: right;\">\n",
       "      <th></th>\n",
       "      <th>domain</th>\n",
       "      <th>party</th>\n",
       "      <th>counts</th>\n",
       "    </tr>\n",
       "  </thead>\n",
       "  <tbody>\n",
       "    <tr>\n",
       "      <th>0</th>\n",
       "      <td>1011now.com</td>\n",
       "      <td>Democrat</td>\n",
       "      <td>5392</td>\n",
       "    </tr>\n",
       "    <tr>\n",
       "      <th>1</th>\n",
       "      <td>1011now.com</td>\n",
       "      <td>Republican</td>\n",
       "      <td>79449</td>\n",
       "    </tr>\n",
       "    <tr>\n",
       "      <th>2</th>\n",
       "      <td>10news.com</td>\n",
       "      <td>Democrat</td>\n",
       "      <td>10770</td>\n",
       "    </tr>\n",
       "    <tr>\n",
       "      <th>3</th>\n",
       "      <td>10tv.com</td>\n",
       "      <td>Democrat</td>\n",
       "      <td>22513</td>\n",
       "    </tr>\n",
       "    <tr>\n",
       "      <th>4</th>\n",
       "      <td>10tv.com</td>\n",
       "      <td>Republican</td>\n",
       "      <td>19984</td>\n",
       "    </tr>\n",
       "    <tr>\n",
       "      <th>...</th>\n",
       "      <td>...</td>\n",
       "      <td>...</td>\n",
       "      <td>...</td>\n",
       "    </tr>\n",
       "    <tr>\n",
       "      <th>5558</th>\n",
       "      <td>yubanet.com</td>\n",
       "      <td>Democrat</td>\n",
       "      <td>2333</td>\n",
       "    </tr>\n",
       "    <tr>\n",
       "      <th>5559</th>\n",
       "      <td>zanesvilletimesrecorder.com</td>\n",
       "      <td>Republican</td>\n",
       "      <td>4882</td>\n",
       "    </tr>\n",
       "    <tr>\n",
       "      <th>5560</th>\n",
       "      <td>zeldinforcongress.com</td>\n",
       "      <td>Republican</td>\n",
       "      <td>47752</td>\n",
       "    </tr>\n",
       "    <tr>\n",
       "      <th>5561</th>\n",
       "      <td>zerotothree.org</td>\n",
       "      <td>Democrat</td>\n",
       "      <td>31</td>\n",
       "    </tr>\n",
       "    <tr>\n",
       "      <th>5562</th>\n",
       "      <td>zoelofgren.com</td>\n",
       "      <td>Democrat</td>\n",
       "      <td>47708</td>\n",
       "    </tr>\n",
       "  </tbody>\n",
       "</table>\n",
       "<p>5563 rows × 3 columns</p>\n",
       "</div>"
      ],
      "text/plain": [
       "                           domain       party  counts\n",
       "0                     1011now.com    Democrat    5392\n",
       "1                     1011now.com  Republican   79449\n",
       "2                      10news.com    Democrat   10770\n",
       "3                        10tv.com    Democrat   22513\n",
       "4                        10tv.com  Republican   19984\n",
       "...                           ...         ...     ...\n",
       "5558                  yubanet.com    Democrat    2333\n",
       "5559  zanesvilletimesrecorder.com  Republican    4882\n",
       "5560        zeldinforcongress.com  Republican   47752\n",
       "5561              zerotothree.org    Democrat      31\n",
       "5562               zoelofgren.com    Democrat   47708\n",
       "\n",
       "[5563 rows x 3 columns]"
      ]
     },
     "execution_count": 66,
     "metadata": {},
     "output_type": "execute_result"
    }
   ],
   "source": [
    "party_domain"
   ]
  },
  {
   "cell_type": "code",
   "execution_count": 67,
   "id": "8baf874b-0ff3-4910-b6c6-78bf596bc07e",
   "metadata": {},
   "outputs": [],
   "source": [
    "party_domain.to_csv('../data/house_analysis/house_party_domain_no_duplicate.csv', index=False)  "
   ]
  },
  {
   "cell_type": "markdown",
   "id": "bfe2ef6c-b8b2-4159-a423-322a58fc2eaf",
   "metadata": {},
   "source": [
    "## Basic stats analysis"
   ]
  },
  {
   "cell_type": "code",
   "execution_count": 68,
   "id": "d8c794a0-5bde-4c15-805a-2110077479cf",
   "metadata": {},
   "outputs": [],
   "source": [
    "sum_all_domain = party_domain['counts'].sum()"
   ]
  },
  {
   "cell_type": "code",
   "execution_count": 69,
   "id": "0e7636bb-fbba-4fd1-9cd5-d5a4cffa424c",
   "metadata": {},
   "outputs": [
    {
     "data": {
      "text/plain": [
       "299573378"
      ]
     },
     "execution_count": 69,
     "metadata": {},
     "output_type": "execute_result"
    }
   ],
   "source": [
    "sum_all_domain"
   ]
  },
  {
   "cell_type": "code",
   "execution_count": 70,
   "id": "1df2c6f3-c1a7-4832-9523-203416b5e261",
   "metadata": {},
   "outputs": [],
   "source": [
    "dem_domain = party_domain[party_domain['party']=='Democrat']"
   ]
  },
  {
   "cell_type": "code",
   "execution_count": 71,
   "id": "9d69ea94-7e83-4df2-886f-8e123454e14f",
   "metadata": {},
   "outputs": [],
   "source": [
    "dem_domain = dem_domain.sort_values('counts', ascending=False)"
   ]
  },
  {
   "cell_type": "code",
   "execution_count": 72,
   "id": "4ca3639c-4665-464b-9ab2-c290a7f76b17",
   "metadata": {},
   "outputs": [],
   "source": [
    "sum_dem = dem_domain['counts'].sum()\n",
    "dem_domain[\"proportion\"] = dem_domain['counts'] / sum_dem"
   ]
  },
  {
   "cell_type": "code",
   "execution_count": 73,
   "id": "0dcab0d8-e260-4772-8a42-8aa559304ce8",
   "metadata": {},
   "outputs": [
    {
     "data": {
      "text/plain": [
       "167929247"
      ]
     },
     "execution_count": 73,
     "metadata": {},
     "output_type": "execute_result"
    }
   ],
   "source": [
    "sum_dem"
   ]
  },
  {
   "cell_type": "code",
   "execution_count": 74,
   "id": "649f02fb-1056-4b4c-bf27-945c0ec29392",
   "metadata": {},
   "outputs": [
    {
     "data": {
      "text/plain": [
       "0.5605613159657998"
      ]
     },
     "execution_count": 74,
     "metadata": {},
     "output_type": "execute_result"
    }
   ],
   "source": [
    "sum_dem/sum_all_domain"
   ]
  },
  {
   "cell_type": "code",
   "execution_count": 75,
   "id": "889cd511-1955-4d9d-8828-c5c324daa7ad",
   "metadata": {},
   "outputs": [],
   "source": [
    "rep_domain = party_domain[party_domain['party']=='Republican']\n",
    "rep_domain = rep_domain.sort_values('counts', ascending=False)\n",
    "sum_rep = rep_domain['counts'].sum()\n",
    "rep_domain[\"proportion\"] = rep_domain['counts'] / sum_rep"
   ]
  },
  {
   "cell_type": "code",
   "execution_count": 76,
   "id": "63548f0d-1ddc-4d55-81c7-50199a2084ad",
   "metadata": {},
   "outputs": [
    {
     "data": {
      "text/plain": [
       "130919252"
      ]
     },
     "execution_count": 76,
     "metadata": {},
     "output_type": "execute_result"
    }
   ],
   "source": [
    "sum_rep"
   ]
  },
  {
   "cell_type": "code",
   "execution_count": 77,
   "id": "a93d0177-2ad2-4490-978d-d78a1969a81f",
   "metadata": {},
   "outputs": [
    {
     "data": {
      "text/plain": [
       "0.43701897970386405"
      ]
     },
     "execution_count": 77,
     "metadata": {},
     "output_type": "execute_result"
    }
   ],
   "source": [
    "sum_rep/sum_all_domain"
   ]
  },
  {
   "cell_type": "code",
   "execution_count": 78,
   "id": "f87e5fad-c357-41ec-a596-2f6f47f4eb32",
   "metadata": {},
   "outputs": [],
   "source": [
    "dem_rep_prop = pd.merge(dem_domain[['domain', 'proportion']], rep_domain[['domain', 'proportion']], how=\"outer\", on='domain')"
   ]
  },
  {
   "cell_type": "code",
   "execution_count": 79,
   "id": "1fdf8f34-7bb8-4265-ad78-ca3f027b8502",
   "metadata": {},
   "outputs": [],
   "source": [
    "# Apply the function\n",
    "dem_rep_prop['proportion_x'] = dem_rep_prop['proportion_x'].fillna(0)\n",
    "dem_rep_prop['proportion_y'] = dem_rep_prop['proportion_y'].fillna(0)"
   ]
  },
  {
   "cell_type": "code",
   "execution_count": 80,
   "id": "1d0c3122-d60e-496d-953e-1812ec0c20a7",
   "metadata": {},
   "outputs": [],
   "source": [
    "dem_rep_prop.rename(columns={\"proportion_x\": \"dem_prop\", \"proportion_y\": \"rep_prop\"}, inplace=True)"
   ]
  },
  {
   "cell_type": "code",
   "execution_count": 81,
   "id": "c3c19c2c-fc2d-42d2-8178-77faca88892d",
   "metadata": {},
   "outputs": [
    {
     "data": {
      "text/html": [
       "<div>\n",
       "<style scoped>\n",
       "    .dataframe tbody tr th:only-of-type {\n",
       "        vertical-align: middle;\n",
       "    }\n",
       "\n",
       "    .dataframe tbody tr th {\n",
       "        vertical-align: top;\n",
       "    }\n",
       "\n",
       "    .dataframe thead th {\n",
       "        text-align: right;\n",
       "    }\n",
       "</style>\n",
       "<table border=\"1\" class=\"dataframe\">\n",
       "  <thead>\n",
       "    <tr style=\"text-align: right;\">\n",
       "      <th></th>\n",
       "      <th>domain</th>\n",
       "      <th>dem_prop</th>\n",
       "      <th>rep_prop</th>\n",
       "    </tr>\n",
       "  </thead>\n",
       "  <tbody>\n",
       "    <tr>\n",
       "      <th>0</th>\n",
       "      <td>1011now.com</td>\n",
       "      <td>3.210876e-05</td>\n",
       "      <td>0.000607</td>\n",
       "    </tr>\n",
       "    <tr>\n",
       "      <th>1</th>\n",
       "      <td>10news.com</td>\n",
       "      <td>6.413415e-05</td>\n",
       "      <td>0.000000</td>\n",
       "    </tr>\n",
       "    <tr>\n",
       "      <th>2</th>\n",
       "      <td>10tv.com</td>\n",
       "      <td>1.340624e-04</td>\n",
       "      <td>0.000153</td>\n",
       "    </tr>\n",
       "    <tr>\n",
       "      <th>3</th>\n",
       "      <td>11alive.com</td>\n",
       "      <td>3.173479e-04</td>\n",
       "      <td>0.000356</td>\n",
       "    </tr>\n",
       "    <tr>\n",
       "      <th>4</th>\n",
       "      <td>12news.com</td>\n",
       "      <td>9.466487e-05</td>\n",
       "      <td>0.000073</td>\n",
       "    </tr>\n",
       "    <tr>\n",
       "      <th>...</th>\n",
       "      <td>...</td>\n",
       "      <td>...</td>\n",
       "      <td>...</td>\n",
       "    </tr>\n",
       "    <tr>\n",
       "      <th>4214</th>\n",
       "      <td>yubanet.com</td>\n",
       "      <td>1.389276e-05</td>\n",
       "      <td>0.000000</td>\n",
       "    </tr>\n",
       "    <tr>\n",
       "      <th>4215</th>\n",
       "      <td>zanesvilletimesrecorder.com</td>\n",
       "      <td>0.000000e+00</td>\n",
       "      <td>0.000037</td>\n",
       "    </tr>\n",
       "    <tr>\n",
       "      <th>4216</th>\n",
       "      <td>zeldinforcongress.com</td>\n",
       "      <td>0.000000e+00</td>\n",
       "      <td>0.000365</td>\n",
       "    </tr>\n",
       "    <tr>\n",
       "      <th>4217</th>\n",
       "      <td>zerotothree.org</td>\n",
       "      <td>1.846016e-07</td>\n",
       "      <td>0.000000</td>\n",
       "    </tr>\n",
       "    <tr>\n",
       "      <th>4218</th>\n",
       "      <td>zoelofgren.com</td>\n",
       "      <td>2.840958e-04</td>\n",
       "      <td>0.000000</td>\n",
       "    </tr>\n",
       "  </tbody>\n",
       "</table>\n",
       "<p>4219 rows × 3 columns</p>\n",
       "</div>"
      ],
      "text/plain": [
       "                           domain      dem_prop  rep_prop\n",
       "0                     1011now.com  3.210876e-05  0.000607\n",
       "1                      10news.com  6.413415e-05  0.000000\n",
       "2                        10tv.com  1.340624e-04  0.000153\n",
       "3                     11alive.com  3.173479e-04  0.000356\n",
       "4                      12news.com  9.466487e-05  0.000073\n",
       "...                           ...           ...       ...\n",
       "4214                  yubanet.com  1.389276e-05  0.000000\n",
       "4215  zanesvilletimesrecorder.com  0.000000e+00  0.000037\n",
       "4216        zeldinforcongress.com  0.000000e+00  0.000365\n",
       "4217              zerotothree.org  1.846016e-07  0.000000\n",
       "4218               zoelofgren.com  2.840958e-04  0.000000\n",
       "\n",
       "[4219 rows x 3 columns]"
      ]
     },
     "execution_count": 81,
     "metadata": {},
     "output_type": "execute_result"
    }
   ],
   "source": [
    "dem_rep_prop"
   ]
  },
  {
   "cell_type": "code",
   "execution_count": 82,
   "id": "ee01b87f-c63f-4663-8990-e8db4e06a217",
   "metadata": {},
   "outputs": [],
   "source": [
    "dem_rep_prop.to_csv('../data/house_analysis/domain_dem_rep_prop.csv', index=False)"
   ]
  },
  {
   "cell_type": "code",
   "execution_count": null,
   "id": "8b205314-40bf-4ae2-b5d1-800643e0939e",
   "metadata": {},
   "outputs": [],
   "source": []
  },
  {
   "cell_type": "code",
   "execution_count": null,
   "id": "417434f6-c9d1-45e1-8308-ce3fca492ab6",
   "metadata": {},
   "outputs": [],
   "source": []
  },
  {
   "cell_type": "code",
   "execution_count": null,
   "id": "6c2f4668-41be-49c6-866a-7cee0279c450",
   "metadata": {},
   "outputs": [],
   "source": []
  }
 ],
 "metadata": {
  "kernelspec": {
   "display_name": "Python 3 (ipykernel)",
   "language": "python",
   "name": "python3"
  },
  "language_info": {
   "codemirror_mode": {
    "name": "ipython",
    "version": 3
   },
   "file_extension": ".py",
   "mimetype": "text/x-python",
   "name": "python",
   "nbconvert_exporter": "python",
   "pygments_lexer": "ipython3",
   "version": "3.10.14"
  }
 },
 "nbformat": 4,
 "nbformat_minor": 5
}
