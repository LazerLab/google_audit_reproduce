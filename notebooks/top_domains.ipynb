{
 "cells": [
  {
   "cell_type": "markdown",
   "id": "3ce69055-3784-49f8-967d-4ca0f1731401",
   "metadata": {},
   "source": [
    "# Top domains"
   ]
  },
  {
   "cell_type": "markdown",
   "id": "7d98e4f5-a122-4c7d-8090-4fbce59e0f4d",
   "metadata": {},
   "source": [
    "This file calculate the proportion of domains in the results and sort them in descending orders."
   ]
  },
  {
   "cell_type": "code",
   "execution_count": 30,
   "id": "475d45ef-be8f-435c-86f6-66ea9dfb0d00",
   "metadata": {},
   "outputs": [],
   "source": [
    "import os\n",
    "import sys\n",
    "import pandas as pd\n",
    "import matplotlib.pyplot as plt"
   ]
  },
  {
   "cell_type": "code",
   "execution_count": 35,
   "id": "4715c773-7dff-4bf1-b0d7-9cbec725da4d",
   "metadata": {},
   "outputs": [],
   "source": [
    "results = pd.read_csv('/net/lazer/lab-lazer/shared_projects/google_audit_reproduce/intermedidate_files/merged_summary/domain_counts.csv')"
   ]
  },
  {
   "cell_type": "code",
   "execution_count": 36,
   "id": "1fb8118f-cc9e-459b-ab47-b3a5c01ea45a",
   "metadata": {},
   "outputs": [
    {
     "data": {
      "text/plain": [
       "299573378"
      ]
     },
     "execution_count": 36,
     "metadata": {},
     "output_type": "execute_result"
    }
   ],
   "source": [
    "results['counts'].sum()"
   ]
  },
  {
   "cell_type": "code",
   "execution_count": 37,
   "id": "54ae6a4e-5049-49c9-bd79-3f0c2c39d257",
   "metadata": {},
   "outputs": [
    {
     "data": {
      "text/html": [
       "<div>\n",
       "<style scoped>\n",
       "    .dataframe tbody tr th:only-of-type {\n",
       "        vertical-align: middle;\n",
       "    }\n",
       "\n",
       "    .dataframe tbody tr th {\n",
       "        vertical-align: top;\n",
       "    }\n",
       "\n",
       "    .dataframe thead th {\n",
       "        text-align: right;\n",
       "    }\n",
       "</style>\n",
       "<table border=\"1\" class=\"dataframe\">\n",
       "  <thead>\n",
       "    <tr style=\"text-align: right;\">\n",
       "      <th></th>\n",
       "      <th>domain</th>\n",
       "      <th>counts</th>\n",
       "    </tr>\n",
       "  </thead>\n",
       "  <tbody>\n",
       "    <tr>\n",
       "      <th>0</th>\n",
       "      <td>1011now.com</td>\n",
       "      <td>84841</td>\n",
       "    </tr>\n",
       "    <tr>\n",
       "      <th>1</th>\n",
       "      <td>10news.com</td>\n",
       "      <td>10770</td>\n",
       "    </tr>\n",
       "    <tr>\n",
       "      <th>2</th>\n",
       "      <td>10tv.com</td>\n",
       "      <td>42497</td>\n",
       "    </tr>\n",
       "    <tr>\n",
       "      <th>3</th>\n",
       "      <td>11alive.com</td>\n",
       "      <td>99957</td>\n",
       "    </tr>\n",
       "    <tr>\n",
       "      <th>4</th>\n",
       "      <td>12news.com</td>\n",
       "      <td>25414</td>\n",
       "    </tr>\n",
       "    <tr>\n",
       "      <th>...</th>\n",
       "      <td>...</td>\n",
       "      <td>...</td>\n",
       "    </tr>\n",
       "    <tr>\n",
       "      <th>4215</th>\n",
       "      <td>yubanet.com</td>\n",
       "      <td>2333</td>\n",
       "    </tr>\n",
       "    <tr>\n",
       "      <th>4216</th>\n",
       "      <td>zanesvilletimesrecorder.com</td>\n",
       "      <td>4882</td>\n",
       "    </tr>\n",
       "    <tr>\n",
       "      <th>4217</th>\n",
       "      <td>zeldinforcongress.com</td>\n",
       "      <td>47752</td>\n",
       "    </tr>\n",
       "    <tr>\n",
       "      <th>4218</th>\n",
       "      <td>zerotothree.org</td>\n",
       "      <td>31</td>\n",
       "    </tr>\n",
       "    <tr>\n",
       "      <th>4219</th>\n",
       "      <td>zoelofgren.com</td>\n",
       "      <td>47708</td>\n",
       "    </tr>\n",
       "  </tbody>\n",
       "</table>\n",
       "<p>4220 rows × 2 columns</p>\n",
       "</div>"
      ],
      "text/plain": [
       "                           domain  counts\n",
       "0                     1011now.com   84841\n",
       "1                      10news.com   10770\n",
       "2                        10tv.com   42497\n",
       "3                     11alive.com   99957\n",
       "4                      12news.com   25414\n",
       "...                           ...     ...\n",
       "4215                  yubanet.com    2333\n",
       "4216  zanesvilletimesrecorder.com    4882\n",
       "4217        zeldinforcongress.com   47752\n",
       "4218              zerotothree.org      31\n",
       "4219               zoelofgren.com   47708\n",
       "\n",
       "[4220 rows x 2 columns]"
      ]
     },
     "execution_count": 37,
     "metadata": {},
     "output_type": "execute_result"
    }
   ],
   "source": [
    "results"
   ]
  },
  {
   "cell_type": "code",
   "execution_count": 38,
   "id": "420b2185-42c9-44c9-a89e-4546953b2dc6",
   "metadata": {},
   "outputs": [],
   "source": [
    "domain_counts = results.groupby(['domain'], dropna=True, as_index=False)['counts'].sum()"
   ]
  },
  {
   "cell_type": "code",
   "execution_count": 39,
   "id": "e20bdf2a-b5b0-443d-90bc-1d703652f78f",
   "metadata": {},
   "outputs": [],
   "source": [
    "domain_counts = domain_counts.sort_values(by=['counts'], ascending=False)"
   ]
  },
  {
   "cell_type": "code",
   "execution_count": 40,
   "id": "440467f3-df55-43dc-a52b-8345675cd47a",
   "metadata": {},
   "outputs": [
    {
     "data": {
      "text/html": [
       "<div>\n",
       "<style scoped>\n",
       "    .dataframe tbody tr th:only-of-type {\n",
       "        vertical-align: middle;\n",
       "    }\n",
       "\n",
       "    .dataframe tbody tr th {\n",
       "        vertical-align: top;\n",
       "    }\n",
       "\n",
       "    .dataframe thead th {\n",
       "        text-align: right;\n",
       "    }\n",
       "</style>\n",
       "<table border=\"1\" class=\"dataframe\">\n",
       "  <thead>\n",
       "    <tr style=\"text-align: right;\">\n",
       "      <th></th>\n",
       "      <th>domain</th>\n",
       "      <th>counts</th>\n",
       "    </tr>\n",
       "  </thead>\n",
       "  <tbody>\n",
       "    <tr>\n",
       "      <th>3651</th>\n",
       "      <td>twitter.com</td>\n",
       "      <td>69176049</td>\n",
       "    </tr>\n",
       "    <tr>\n",
       "      <th>1478</th>\n",
       "      <td>house.gov</td>\n",
       "      <td>37807826</td>\n",
       "    </tr>\n",
       "    <tr>\n",
       "      <th>3957</th>\n",
       "      <td>wikipedia.org</td>\n",
       "      <td>20361206</td>\n",
       "    </tr>\n",
       "    <tr>\n",
       "      <th>267</th>\n",
       "      <td>ballotpedia.org</td>\n",
       "      <td>18272995</td>\n",
       "    </tr>\n",
       "    <tr>\n",
       "      <th>1326</th>\n",
       "      <td>govtrack.us</td>\n",
       "      <td>16055696</td>\n",
       "    </tr>\n",
       "    <tr>\n",
       "      <th>...</th>\n",
       "      <td>...</td>\n",
       "      <td>...</td>\n",
       "    </tr>\n",
       "    <tr>\n",
       "      <th>1034</th>\n",
       "      <td>emory.edu</td>\n",
       "      <td>1</td>\n",
       "    </tr>\n",
       "    <tr>\n",
       "      <th>2995</th>\n",
       "      <td>rwaa.com</td>\n",
       "      <td>1</td>\n",
       "    </tr>\n",
       "    <tr>\n",
       "      <th>4064</th>\n",
       "      <td>wonkette.com</td>\n",
       "      <td>1</td>\n",
       "    </tr>\n",
       "    <tr>\n",
       "      <th>2497</th>\n",
       "      <td>newstalk1290.com</td>\n",
       "      <td>1</td>\n",
       "    </tr>\n",
       "    <tr>\n",
       "      <th>1557</th>\n",
       "      <td>inmaricopa.com</td>\n",
       "      <td>1</td>\n",
       "    </tr>\n",
       "  </tbody>\n",
       "</table>\n",
       "<p>4220 rows × 2 columns</p>\n",
       "</div>"
      ],
      "text/plain": [
       "                domain    counts\n",
       "3651       twitter.com  69176049\n",
       "1478         house.gov  37807826\n",
       "3957     wikipedia.org  20361206\n",
       "267    ballotpedia.org  18272995\n",
       "1326       govtrack.us  16055696\n",
       "...                ...       ...\n",
       "1034         emory.edu         1\n",
       "2995          rwaa.com         1\n",
       "4064      wonkette.com         1\n",
       "2497  newstalk1290.com         1\n",
       "1557    inmaricopa.com         1\n",
       "\n",
       "[4220 rows x 2 columns]"
      ]
     },
     "execution_count": 40,
     "metadata": {},
     "output_type": "execute_result"
    }
   ],
   "source": [
    "domain_counts"
   ]
  },
  {
   "cell_type": "code",
   "execution_count": 41,
   "id": "4baf0f8b-d98b-43b5-b5cb-9a081f96bee0",
   "metadata": {},
   "outputs": [],
   "source": [
    "domain_counts = domain_counts.drop_duplicates()"
   ]
  },
  {
   "cell_type": "code",
   "execution_count": 42,
   "id": "f2b8f150-e63c-4390-8480-32292cf1339b",
   "metadata": {},
   "outputs": [],
   "source": [
    "domain_counts.to_csv('../data/house_analysis/house_domain_counts_unique.csv', index=False)  "
   ]
  },
  {
   "cell_type": "code",
   "execution_count": 43,
   "id": "9d8eb55d-023b-46db-95f9-a6249d6d9de8",
   "metadata": {},
   "outputs": [],
   "source": [
    "domain_counts = pd.read_csv('../data/house_analysis/house_domain_counts_unique.csv')"
   ]
  },
  {
   "cell_type": "code",
   "execution_count": 44,
   "id": "41f5870e-cae1-484a-b5e8-c0d769e48d00",
   "metadata": {},
   "outputs": [],
   "source": [
    "sum_domain = domain_counts['counts'].sum()\n",
    "domain_counts[\"proportion\"] = domain_counts['counts'] / sum_domain"
   ]
  },
  {
   "cell_type": "code",
   "execution_count": 45,
   "id": "6d793d7f-b393-4809-8493-631a8e819e8d",
   "metadata": {},
   "outputs": [
    {
     "data": {
      "text/plain": [
       "299573378"
      ]
     },
     "execution_count": 45,
     "metadata": {},
     "output_type": "execute_result"
    }
   ],
   "source": [
    "sum_domain"
   ]
  },
  {
   "cell_type": "markdown",
   "id": "f508537f-f609-49dd-abb3-7cae03764de3",
   "metadata": {},
   "source": [
    "# Total number of domains"
   ]
  },
  {
   "cell_type": "code",
   "execution_count": 46,
   "id": "1bb215ad-f05a-49d8-8238-4f39b3bcf325",
   "metadata": {},
   "outputs": [
    {
     "data": {
      "text/plain": [
       "299573378"
      ]
     },
     "execution_count": 46,
     "metadata": {},
     "output_type": "execute_result"
    }
   ],
   "source": [
    "sum_domain"
   ]
  },
  {
   "cell_type": "code",
   "execution_count": 47,
   "id": "fddfc854-389b-4e4a-95c9-5b1a1536b5fc",
   "metadata": {},
   "outputs": [
    {
     "data": {
      "text/plain": [
       "4220"
      ]
     },
     "execution_count": 47,
     "metadata": {},
     "output_type": "execute_result"
    }
   ],
   "source": [
    "len(domain_counts)"
   ]
  },
  {
   "cell_type": "code",
   "execution_count": 48,
   "id": "fdb7898c-cdcd-476d-b9cc-d2a13436dbb0",
   "metadata": {},
   "outputs": [
    {
     "data": {
      "text/html": [
       "<div>\n",
       "<style scoped>\n",
       "    .dataframe tbody tr th:only-of-type {\n",
       "        vertical-align: middle;\n",
       "    }\n",
       "\n",
       "    .dataframe tbody tr th {\n",
       "        vertical-align: top;\n",
       "    }\n",
       "\n",
       "    .dataframe thead th {\n",
       "        text-align: right;\n",
       "    }\n",
       "</style>\n",
       "<table border=\"1\" class=\"dataframe\">\n",
       "  <thead>\n",
       "    <tr style=\"text-align: right;\">\n",
       "      <th></th>\n",
       "      <th>domain</th>\n",
       "      <th>counts</th>\n",
       "      <th>proportion</th>\n",
       "    </tr>\n",
       "  </thead>\n",
       "  <tbody>\n",
       "  </tbody>\n",
       "</table>\n",
       "</div>"
      ],
      "text/plain": [
       "Empty DataFrame\n",
       "Columns: [domain, counts, proportion]\n",
       "Index: []"
      ]
     },
     "execution_count": 48,
     "metadata": {},
     "output_type": "execute_result"
    }
   ],
   "source": [
    "domain_counts[domain_counts['domain'].isna()]"
   ]
  },
  {
   "cell_type": "markdown",
   "id": "28ce550d-85c1-4f75-b3bf-c2aa68b61c2e",
   "metadata": {},
   "source": [
    "# Proportion of top 7 domains"
   ]
  },
  {
   "cell_type": "code",
   "execution_count": 49,
   "id": "ea2195cc-a185-420b-949e-6a02c1b4c2d9",
   "metadata": {},
   "outputs": [],
   "source": [
    "top_sum = domain_counts['counts'][:7].sum()"
   ]
  },
  {
   "cell_type": "code",
   "execution_count": 50,
   "id": "bd172e4b-414f-41a3-9ffb-35abbeac72a2",
   "metadata": {},
   "outputs": [
    {
     "data": {
      "text/plain": [
       "192181691"
      ]
     },
     "execution_count": 50,
     "metadata": {},
     "output_type": "execute_result"
    }
   ],
   "source": [
    "top_sum"
   ]
  },
  {
   "cell_type": "code",
   "execution_count": 51,
   "id": "ba7bbca6-3bab-423f-9fff-82aaa11a6334",
   "metadata": {},
   "outputs": [
    {
     "data": {
      "text/plain": [
       "0.0016587677725118483"
      ]
     },
     "execution_count": 51,
     "metadata": {},
     "output_type": "execute_result"
    }
   ],
   "source": [
    "7/ len(domain_counts)"
   ]
  },
  {
   "cell_type": "code",
   "execution_count": 52,
   "id": "205aedf2-9207-4d9b-8cb8-38f7245c7162",
   "metadata": {},
   "outputs": [
    {
     "data": {
      "text/plain": [
       "0.641517922196678"
      ]
     },
     "execution_count": 52,
     "metadata": {},
     "output_type": "execute_result"
    }
   ],
   "source": [
    "top_sum/sum_domain"
   ]
  },
  {
   "cell_type": "code",
   "execution_count": null,
   "id": "f067a12c-2c5b-4c03-8b65-335f43e97efe",
   "metadata": {},
   "outputs": [],
   "source": []
  }
 ],
 "metadata": {
  "kernelspec": {
   "display_name": "Python 3 (ipykernel)",
   "language": "python",
   "name": "python3"
  },
  "language_info": {
   "codemirror_mode": {
    "name": "ipython",
    "version": 3
   },
   "file_extension": ".py",
   "mimetype": "text/x-python",
   "name": "python",
   "nbconvert_exporter": "python",
   "pygments_lexer": "ipython3",
   "version": "3.10.14"
  }
 },
 "nbformat": 4,
 "nbformat_minor": 5
}
