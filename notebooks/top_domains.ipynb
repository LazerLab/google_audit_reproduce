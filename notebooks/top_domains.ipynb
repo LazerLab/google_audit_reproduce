{
 "cells": [
  {
   "cell_type": "markdown",
   "id": "3ce69055-3784-49f8-967d-4ca0f1731401",
   "metadata": {},
   "source": [
    "# Top domains"
   ]
  },
  {
   "cell_type": "markdown",
   "id": "7d98e4f5-a122-4c7d-8090-4fbce59e0f4d",
   "metadata": {},
   "source": [
    "This file calculate the proportion of domains in the results and sort them in descending orders."
   ]
  },
  {
   "cell_type": "code",
   "execution_count": 1,
   "id": "475d45ef-be8f-435c-86f6-66ea9dfb0d00",
   "metadata": {},
   "outputs": [],
   "source": [
    "import os\n",
    "import sys\n",
    "import pandas as pd\n",
    "import matplotlib.pyplot as plt"
   ]
  },
  {
   "cell_type": "code",
   "execution_count": 2,
   "id": "4715c773-7dff-4bf1-b0d7-9cbec725da4d",
   "metadata": {},
   "outputs": [],
   "source": [
    "results = pd.read_csv('/net/lazer/lab-lazer/shared_projects/google_audit_reproduce/intermedidate_files/merged_summary/cleaned_house_qry_domain.csv')"
   ]
  },
  {
   "cell_type": "code",
   "execution_count": 3,
   "id": "420b2185-42c9-44c9-a89e-4546953b2dc6",
   "metadata": {},
   "outputs": [],
   "source": [
    "domain_counts = results.groupby(['domain'], dropna=True, as_index=False)['counts'].sum()"
   ]
  },
  {
   "cell_type": "code",
   "execution_count": 4,
   "id": "e20bdf2a-b5b0-443d-90bc-1d703652f78f",
   "metadata": {},
   "outputs": [],
   "source": [
    "domain_counts = domain_counts.sort_values(by=['counts'], ascending=False)"
   ]
  },
  {
   "cell_type": "code",
   "execution_count": 20,
   "id": "440467f3-df55-43dc-a52b-8345675cd47a",
   "metadata": {},
   "outputs": [
    {
     "data": {
      "text/html": [
       "<div>\n",
       "<style scoped>\n",
       "    .dataframe tbody tr th:only-of-type {\n",
       "        vertical-align: middle;\n",
       "    }\n",
       "\n",
       "    .dataframe tbody tr th {\n",
       "        vertical-align: top;\n",
       "    }\n",
       "\n",
       "    .dataframe thead th {\n",
       "        text-align: right;\n",
       "    }\n",
       "</style>\n",
       "<table border=\"1\" class=\"dataframe\">\n",
       "  <thead>\n",
       "    <tr style=\"text-align: right;\">\n",
       "      <th></th>\n",
       "      <th>domain</th>\n",
       "      <th>counts</th>\n",
       "      <th>proportion</th>\n",
       "    </tr>\n",
       "  </thead>\n",
       "  <tbody>\n",
       "    <tr>\n",
       "      <th>0</th>\n",
       "      <td>house.gov</td>\n",
       "      <td>72868786</td>\n",
       "      <td>1.149378e-01</td>\n",
       "    </tr>\n",
       "    <tr>\n",
       "      <th>1</th>\n",
       "      <td>wikipedia.org</td>\n",
       "      <td>57651640</td>\n",
       "      <td>9.093537e-02</td>\n",
       "    </tr>\n",
       "    <tr>\n",
       "      <th>2</th>\n",
       "      <td>twitter.com</td>\n",
       "      <td>50494818</td>\n",
       "      <td>7.964674e-02</td>\n",
       "    </tr>\n",
       "    <tr>\n",
       "      <th>3</th>\n",
       "      <td>ballotpedia.org</td>\n",
       "      <td>42399675</td>\n",
       "      <td>6.687807e-02</td>\n",
       "    </tr>\n",
       "    <tr>\n",
       "      <th>4</th>\n",
       "      <td>govtrack.us</td>\n",
       "      <td>41897634</td>\n",
       "      <td>6.608618e-02</td>\n",
       "    </tr>\n",
       "    <tr>\n",
       "      <th>...</th>\n",
       "      <td>...</td>\n",
       "      <td>...</td>\n",
       "      <td>...</td>\n",
       "    </tr>\n",
       "    <tr>\n",
       "      <th>8854</th>\n",
       "      <td>jonesday.com</td>\n",
       "      <td>1</td>\n",
       "      <td>1.577325e-09</td>\n",
       "    </tr>\n",
       "    <tr>\n",
       "      <th>8855</th>\n",
       "      <td>26realestate.com</td>\n",
       "      <td>1</td>\n",
       "      <td>1.577325e-09</td>\n",
       "    </tr>\n",
       "    <tr>\n",
       "      <th>8856</th>\n",
       "      <td>1800lawguys.com</td>\n",
       "      <td>1</td>\n",
       "      <td>1.577325e-09</td>\n",
       "    </tr>\n",
       "    <tr>\n",
       "      <th>8857</th>\n",
       "      <td>1800cantwork.com</td>\n",
       "      <td>1</td>\n",
       "      <td>1.577325e-09</td>\n",
       "    </tr>\n",
       "    <tr>\n",
       "      <th>8858</th>\n",
       "      <td>dahlfuneralchapel.com</td>\n",
       "      <td>1</td>\n",
       "      <td>1.577325e-09</td>\n",
       "    </tr>\n",
       "  </tbody>\n",
       "</table>\n",
       "<p>8859 rows × 3 columns</p>\n",
       "</div>"
      ],
      "text/plain": [
       "                     domain    counts    proportion\n",
       "0                 house.gov  72868786  1.149378e-01\n",
       "1             wikipedia.org  57651640  9.093537e-02\n",
       "2               twitter.com  50494818  7.964674e-02\n",
       "3           ballotpedia.org  42399675  6.687807e-02\n",
       "4               govtrack.us  41897634  6.608618e-02\n",
       "...                     ...       ...           ...\n",
       "8854           jonesday.com         1  1.577325e-09\n",
       "8855       26realestate.com         1  1.577325e-09\n",
       "8856        1800lawguys.com         1  1.577325e-09\n",
       "8857       1800cantwork.com         1  1.577325e-09\n",
       "8858  dahlfuneralchapel.com         1  1.577325e-09\n",
       "\n",
       "[8859 rows x 3 columns]"
      ]
     },
     "execution_count": 20,
     "metadata": {},
     "output_type": "execute_result"
    }
   ],
   "source": [
    "domain_counts"
   ]
  },
  {
   "cell_type": "code",
   "execution_count": 6,
   "id": "4baf0f8b-d98b-43b5-b5cb-9a081f96bee0",
   "metadata": {},
   "outputs": [],
   "source": [
    "domain_counts = domain_counts.drop_duplicates()"
   ]
  },
  {
   "cell_type": "code",
   "execution_count": 7,
   "id": "f2b8f150-e63c-4390-8480-32292cf1339b",
   "metadata": {},
   "outputs": [],
   "source": [
    "domain_counts.to_csv('../data/house_analysis/house_domain_counts_unique.csv', index=False)  "
   ]
  },
  {
   "cell_type": "code",
   "execution_count": 8,
   "id": "9d8eb55d-023b-46db-95f9-a6249d6d9de8",
   "metadata": {},
   "outputs": [],
   "source": [
    "domain_counts = pd.read_csv('../data/house_analysis/house_domain_counts_unique.csv')"
   ]
  },
  {
   "cell_type": "code",
   "execution_count": 9,
   "id": "41f5870e-cae1-484a-b5e8-c0d769e48d00",
   "metadata": {},
   "outputs": [],
   "source": [
    "sum_domain = domain_counts['counts'].sum()\n",
    "domain_counts[\"proportion\"] = domain_counts['counts'] / sum_domain"
   ]
  },
  {
   "cell_type": "code",
   "execution_count": null,
   "id": "6d793d7f-b393-4809-8493-631a8e819e8d",
   "metadata": {},
   "outputs": [],
   "source": []
  },
  {
   "cell_type": "markdown",
   "id": "f508537f-f609-49dd-abb3-7cae03764de3",
   "metadata": {},
   "source": [
    "# Total number of domains"
   ]
  },
  {
   "cell_type": "code",
   "execution_count": 10,
   "id": "1bb215ad-f05a-49d8-8238-4f39b3bcf325",
   "metadata": {},
   "outputs": [
    {
     "data": {
      "text/plain": [
       "np.int64(633984769)"
      ]
     },
     "execution_count": 10,
     "metadata": {},
     "output_type": "execute_result"
    }
   ],
   "source": [
    "sum_domain"
   ]
  },
  {
   "cell_type": "code",
   "execution_count": 11,
   "id": "fddfc854-389b-4e4a-95c9-5b1a1536b5fc",
   "metadata": {},
   "outputs": [
    {
     "data": {
      "text/plain": [
       "8859"
      ]
     },
     "execution_count": 11,
     "metadata": {},
     "output_type": "execute_result"
    }
   ],
   "source": [
    "len(domain_counts)"
   ]
  },
  {
   "cell_type": "code",
   "execution_count": 12,
   "id": "fdb7898c-cdcd-476d-b9cc-d2a13436dbb0",
   "metadata": {},
   "outputs": [
    {
     "data": {
      "text/html": [
       "<div>\n",
       "<style scoped>\n",
       "    .dataframe tbody tr th:only-of-type {\n",
       "        vertical-align: middle;\n",
       "    }\n",
       "\n",
       "    .dataframe tbody tr th {\n",
       "        vertical-align: top;\n",
       "    }\n",
       "\n",
       "    .dataframe thead th {\n",
       "        text-align: right;\n",
       "    }\n",
       "</style>\n",
       "<table border=\"1\" class=\"dataframe\">\n",
       "  <thead>\n",
       "    <tr style=\"text-align: right;\">\n",
       "      <th></th>\n",
       "      <th>domain</th>\n",
       "      <th>counts</th>\n",
       "      <th>proportion</th>\n",
       "    </tr>\n",
       "  </thead>\n",
       "  <tbody>\n",
       "  </tbody>\n",
       "</table>\n",
       "</div>"
      ],
      "text/plain": [
       "Empty DataFrame\n",
       "Columns: [domain, counts, proportion]\n",
       "Index: []"
      ]
     },
     "execution_count": 12,
     "metadata": {},
     "output_type": "execute_result"
    }
   ],
   "source": [
    "domain_counts[domain_counts['domain'].isna()]"
   ]
  },
  {
   "cell_type": "markdown",
   "id": "28ce550d-85c1-4f75-b3bf-c2aa68b61c2e",
   "metadata": {},
   "source": [
    "# Proportion of top 7 domains"
   ]
  },
  {
   "cell_type": "code",
   "execution_count": 13,
   "id": "ea2195cc-a185-420b-949e-6a02c1b4c2d9",
   "metadata": {},
   "outputs": [],
   "source": [
    "top_sum = domain_counts['counts'][:7].sum()"
   ]
  },
  {
   "cell_type": "code",
   "execution_count": 14,
   "id": "ba7bbca6-3bab-423f-9fff-82aaa11a6334",
   "metadata": {},
   "outputs": [
    {
     "data": {
      "text/plain": [
       "0.0007901569025849419"
      ]
     },
     "execution_count": 14,
     "metadata": {},
     "output_type": "execute_result"
    }
   ],
   "source": [
    "7/ len(domain_counts)"
   ]
  },
  {
   "cell_type": "code",
   "execution_count": 15,
   "id": "205aedf2-9207-4d9b-8cb8-38f7245c7162",
   "metadata": {},
   "outputs": [
    {
     "data": {
      "text/plain": [
       "np.float64(0.512354127232984)"
      ]
     },
     "execution_count": 15,
     "metadata": {},
     "output_type": "execute_result"
    }
   ],
   "source": [
    "top_sum/sum_domain"
   ]
  },
  {
   "cell_type": "code",
   "execution_count": null,
   "id": "67fd0431-cd0f-4995-ba23-e53952fd874c",
   "metadata": {},
   "outputs": [],
   "source": []
  }
 ],
 "metadata": {
  "kernelspec": {
   "display_name": "Python 3 (ipykernel)",
   "language": "python",
   "name": "python3"
  },
  "language_info": {
   "codemirror_mode": {
    "name": "ipython",
    "version": 3
   },
   "file_extension": ".py",
   "mimetype": "text/x-python",
   "name": "python",
   "nbconvert_exporter": "python",
   "pygments_lexer": "ipython3",
   "version": "3.10.14"
  }
 },
 "nbformat": 4,
 "nbformat_minor": 5
}
