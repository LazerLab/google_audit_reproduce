{
 "cells": [
  {
   "cell_type": "markdown",
   "id": "c930fe4d-9e7e-4fbf-960c-a713ec2f0577",
   "metadata": {},
   "source": [
    "# Partisan domain bias score analysis"
   ]
  },
  {
   "cell_type": "code",
   "execution_count": 1,
   "id": "73146687-8cac-4c0f-a3fc-cbf645a25d3c",
   "metadata": {},
   "outputs": [],
   "source": [
    "import os\n",
    "import sys\n",
    "import pandas as pd\n",
    "import numpy as np\n",
    "import matplotlib.pyplot as plt\n",
    "from scipy import stats"
   ]
  },
  {
   "cell_type": "code",
   "execution_count": 5,
   "id": "46b5ad28-88af-4789-861d-8e5981f30d80",
   "metadata": {},
   "outputs": [],
   "source": [
    "dem_rep_prop = pd.read_csv('../data/house_analysis/domain_dem_rep_prop.csv')"
   ]
  },
  {
   "cell_type": "code",
   "execution_count": 4,
   "id": "3bc9cc2b-5569-47c7-9aa8-8acec41c080e",
   "metadata": {},
   "outputs": [],
   "source": [
    "ron_news = pd.read_csv('../data/bias_score_ron_2018.csv')"
   ]
  },
  {
   "cell_type": "code",
   "execution_count": 7,
   "id": "f28254bc-ce98-4e22-919d-856e87048037",
   "metadata": {},
   "outputs": [],
   "source": [
    "domain_ratings = ron_news[ron_news['domain'].isin(dem_rep_prop.domain)]"
   ]
  },
  {
   "cell_type": "code",
   "execution_count": 8,
   "id": "a0b68970-e4fe-4b7e-9337-2d0c83796c9a",
   "metadata": {},
   "outputs": [],
   "source": [
    "all_domain_leaning_prop = pd.merge(dem_rep_prop, domain_ratings[['domain', 'bias_score']].drop_duplicates(), how=\"left\", on='domain')"
   ]
  },
  {
   "cell_type": "code",
   "execution_count": 9,
   "id": "13c4ba18-fe3e-4e88-b40e-bb03abb5b4de",
   "metadata": {},
   "outputs": [
    {
     "data": {
      "text/html": [
       "<div>\n",
       "<style scoped>\n",
       "    .dataframe tbody tr th:only-of-type {\n",
       "        vertical-align: middle;\n",
       "    }\n",
       "\n",
       "    .dataframe tbody tr th {\n",
       "        vertical-align: top;\n",
       "    }\n",
       "\n",
       "    .dataframe thead th {\n",
       "        text-align: right;\n",
       "    }\n",
       "</style>\n",
       "<table border=\"1\" class=\"dataframe\">\n",
       "  <thead>\n",
       "    <tr style=\"text-align: right;\">\n",
       "      <th></th>\n",
       "      <th>domain</th>\n",
       "      <th>dem_prop</th>\n",
       "      <th>rep_prop</th>\n",
       "      <th>bias_score</th>\n",
       "    </tr>\n",
       "  </thead>\n",
       "  <tbody>\n",
       "    <tr>\n",
       "      <th>0</th>\n",
       "      <td>Katko</td>\n",
       "      <td>0.000000e+00</td>\n",
       "      <td>3.570443e-09</td>\n",
       "      <td>NaN</td>\n",
       "    </tr>\n",
       "    <tr>\n",
       "      <th>1</th>\n",
       "      <td>100e53.com</td>\n",
       "      <td>2.561136e-08</td>\n",
       "      <td>0.000000e+00</td>\n",
       "      <td>NaN</td>\n",
       "    </tr>\n",
       "    <tr>\n",
       "      <th>2</th>\n",
       "      <td>1011now.com</td>\n",
       "      <td>2.148793e-05</td>\n",
       "      <td>4.551387e-04</td>\n",
       "      <td>0.5387</td>\n",
       "    </tr>\n",
       "    <tr>\n",
       "      <th>3</th>\n",
       "      <td>101espn.com</td>\n",
       "      <td>0.000000e+00</td>\n",
       "      <td>1.553143e-06</td>\n",
       "      <td>NaN</td>\n",
       "    </tr>\n",
       "    <tr>\n",
       "      <th>4</th>\n",
       "      <td>1057news.com</td>\n",
       "      <td>2.845707e-09</td>\n",
       "      <td>0.000000e+00</td>\n",
       "      <td>NaN</td>\n",
       "    </tr>\n",
       "    <tr>\n",
       "      <th>...</th>\n",
       "      <td>...</td>\n",
       "      <td>...</td>\n",
       "      <td>...</td>\n",
       "      <td>...</td>\n",
       "    </tr>\n",
       "    <tr>\n",
       "      <th>8846</th>\n",
       "      <td>zimmerlaw.com</td>\n",
       "      <td>1.138283e-08</td>\n",
       "      <td>0.000000e+00</td>\n",
       "      <td>NaN</td>\n",
       "    </tr>\n",
       "    <tr>\n",
       "      <th>8847</th>\n",
       "      <td>zocdoc.com</td>\n",
       "      <td>8.821692e-08</td>\n",
       "      <td>0.000000e+00</td>\n",
       "      <td>NaN</td>\n",
       "    </tr>\n",
       "    <tr>\n",
       "      <th>8848</th>\n",
       "      <td>zoelofgren.com</td>\n",
       "      <td>2.409289e-04</td>\n",
       "      <td>0.000000e+00</td>\n",
       "      <td>NaN</td>\n",
       "    </tr>\n",
       "    <tr>\n",
       "      <th>8849</th>\n",
       "      <td>zoominfo.com</td>\n",
       "      <td>1.337482e-07</td>\n",
       "      <td>0.000000e+00</td>\n",
       "      <td>NaN</td>\n",
       "    </tr>\n",
       "    <tr>\n",
       "      <th>8850</th>\n",
       "      <td>zoro.com</td>\n",
       "      <td>1.422854e-08</td>\n",
       "      <td>1.428177e-08</td>\n",
       "      <td>NaN</td>\n",
       "    </tr>\n",
       "  </tbody>\n",
       "</table>\n",
       "<p>8851 rows × 4 columns</p>\n",
       "</div>"
      ],
      "text/plain": [
       "              domain      dem_prop      rep_prop  bias_score\n",
       "0              Katko  0.000000e+00  3.570443e-09         NaN\n",
       "1         100e53.com  2.561136e-08  0.000000e+00         NaN\n",
       "2        1011now.com  2.148793e-05  4.551387e-04      0.5387\n",
       "3        101espn.com  0.000000e+00  1.553143e-06         NaN\n",
       "4       1057news.com  2.845707e-09  0.000000e+00         NaN\n",
       "...              ...           ...           ...         ...\n",
       "8846   zimmerlaw.com  1.138283e-08  0.000000e+00         NaN\n",
       "8847      zocdoc.com  8.821692e-08  0.000000e+00         NaN\n",
       "8848  zoelofgren.com  2.409289e-04  0.000000e+00         NaN\n",
       "8849    zoominfo.com  1.337482e-07  0.000000e+00         NaN\n",
       "8850        zoro.com  1.422854e-08  1.428177e-08         NaN\n",
       "\n",
       "[8851 rows x 4 columns]"
      ]
     },
     "execution_count": 9,
     "metadata": {},
     "output_type": "execute_result"
    }
   ],
   "source": [
    "all_domain_leaning_prop"
   ]
  },
  {
   "cell_type": "code",
   "execution_count": 46,
   "id": "8a308a13-f9ff-47ce-859e-8c6268e3d0f9",
   "metadata": {},
   "outputs": [],
   "source": [
    "all_domain_leaning_prop.to_csv(\"../data/house_analysis/domain_party_proportion_with_biasscore.csv\", index=False)"
   ]
  },
  {
   "cell_type": "code",
   "execution_count": 14,
   "id": "4b4db99a-5d41-4b63-9ce2-035447d2ce2d",
   "metadata": {},
   "outputs": [
    {
     "data": {
      "text/plain": [
       "0.261439385380183"
      ]
     },
     "execution_count": 14,
     "metadata": {},
     "output_type": "execute_result"
    }
   ],
   "source": [
    "# Coverage rate\n",
    "len(all_domain_leaning_prop.dropna())/len(all_domain_leaning_prop)"
   ]
  },
  {
   "cell_type": "code",
   "execution_count": 10,
   "id": "ec867e80-42b8-489b-a4e9-527082080beb",
   "metadata": {},
   "outputs": [
    {
     "data": {
      "image/png": "[encoded data removed]",
      "text/plain": [
       "<Figure size 600x400 with 1 Axes>"
      ]
     },
     "metadata": {},
     "output_type": "display_data"
    }
   ],
   "source": [
    "fig, ax = plt.subplots(figsize = (6, 4))\n",
    "plt.hist(all_domain_leaning_prop['bias_score'], edgecolor='black', bins=30, weights=all_domain_leaning_prop['dem_prop'], \n",
    "         histtype='step', fill=True, color='#1f77b4', label='Democratic', alpha = 0.8)\n",
    "plt.hist(all_domain_leaning_prop['bias_score'], edgecolor='black', bins=30, weights=all_domain_leaning_prop['rep_prop'], \n",
    "         histtype='step', fill=True, color='#d62728', label='Republican', alpha = 0.8)\n",
    "\n",
    "dem_weighted_avg = np.average(all_domain_leaning_prop['bias_score'], weights=all_domain_leaning_prop['dem_prop'])\n",
    "plt.axvline(x = dem_weighted_avg, color = 'b',label = 'dem_mean='+str(round(dem_weighted_avg, 3)))\n",
    "rep_weighted_avg = np.average(all_domain_leaning_prop['bias_score'], weights=all_domain_leaning_prop['rep_prop'])\n",
    "plt.axvline(x = rep_weighted_avg, color = 'r',label = 'rep_mean='+str(round(rep_weighted_avg, 3)))\n",
    "plt.legend()\n",
    " \n",
    "plt.xlabel('Bias score')\n",
    "plt.ylabel('weighted frequency')\n",
    "plt.title(\"Democratic vs. Republican search bias score distribution\")\n",
    "plt.savefig(\"../data/plots/dem_rep_bias_score_dist.png\", bbox_inches='tight', dpi=200) \n",
    "plt.show()"
   ]
  },
  {
   "cell_type": "markdown",
   "id": "4d4dfc57-716f-436d-a20b-27fc778b48b3",
   "metadata": {},
   "source": [
    "## Stats test on the difference between distribution for all type domains"
   ]
  },
  {
   "cell_type": "code",
   "execution_count": 20,
   "id": "4c094791-039d-44d8-ad70-16d8122626d1",
   "metadata": {},
   "outputs": [],
   "source": [
    "# define weighted ks test\n",
    "# code from https://stackoverflow.com/questions/40044375/how-to-calculate-the-kolmogorov-smirnov-statistic-between-two-weighted-samples\n",
    "from scipy.stats import distributions\n",
    "\n",
    "def ks_weighted(data1, data2, wei1, wei2, alternative='two-sided'):\n",
    "    ix1 = np.argsort(data1)\n",
    "    ix2 = np.argsort(data2)\n",
    "    data1 = data1[ix1]\n",
    "    data2 = data2[ix2]\n",
    "    wei1 = wei1[ix1]\n",
    "    wei2 = wei2[ix2]\n",
    "    data = np.concatenate([data1, data2])\n",
    "    cwei1 = np.hstack([0, np.cumsum(wei1)/sum(wei1)])\n",
    "    cwei2 = np.hstack([0, np.cumsum(wei2)/sum(wei2)])\n",
    "    cdf1we = cwei1[np.searchsorted(data1, data, side='right')]\n",
    "    cdf2we = cwei2[np.searchsorted(data2, data, side='right')]\n",
    "    d = np.max(np.abs(cdf1we - cdf2we))\n",
    "    # calculate p-value\n",
    "    n1 = data1.shape[0]\n",
    "    n2 = data2.shape[0]\n",
    "    m, n = sorted([float(n1), float(n2)], reverse=True)\n",
    "    en = m * n / (m + n)\n",
    "    if alternative == 'two-sided':\n",
    "        prob = distributions.kstwo.sf(d, np.round(en))\n",
    "    else:\n",
    "        z = np.sqrt(en) * d\n",
    "        # Use Hodges' suggested approximation Eqn 5.3\n",
    "        # Requires m to be the larger of (n1, n2)\n",
    "        expt = -2 * z**2 - 2 * z * (m + 2*n)/np.sqrt(m*n*(m+n))/3.0\n",
    "        prob = np.exp(expt)\n",
    "    return d, prob"
   ]
  },
  {
   "cell_type": "code",
   "execution_count": 26,
   "id": "9d5f2f3b-2f3b-4285-979a-f1bc7dd4daf0",
   "metadata": {},
   "outputs": [],
   "source": [
    "all_domain_leaning_prop.dropna(inplace=True)"
   ]
  },
  {
   "cell_type": "code",
   "execution_count": 27,
   "id": "7dd05c3d-b800-49c3-896b-a8380214c1b0",
   "metadata": {},
   "outputs": [
    {
     "data": {
      "text/html": [
       "<div>\n",
       "<style scoped>\n",
       "    .dataframe tbody tr th:only-of-type {\n",
       "        vertical-align: middle;\n",
       "    }\n",
       "\n",
       "    .dataframe tbody tr th {\n",
       "        vertical-align: top;\n",
       "    }\n",
       "\n",
       "    .dataframe thead th {\n",
       "        text-align: right;\n",
       "    }\n",
       "</style>\n",
       "<table border=\"1\" class=\"dataframe\">\n",
       "  <thead>\n",
       "    <tr style=\"text-align: right;\">\n",
       "      <th></th>\n",
       "      <th>domain</th>\n",
       "      <th>dem_prop</th>\n",
       "      <th>rep_prop</th>\n",
       "      <th>bias_score</th>\n",
       "    </tr>\n",
       "  </thead>\n",
       "  <tbody>\n",
       "    <tr>\n",
       "      <th>2</th>\n",
       "      <td>1011now.com</td>\n",
       "      <td>2.148793e-05</td>\n",
       "      <td>0.000455</td>\n",
       "      <td>0.5387</td>\n",
       "    </tr>\n",
       "    <tr>\n",
       "      <th>5</th>\n",
       "      <td>10news.com</td>\n",
       "      <td>6.464593e-05</td>\n",
       "      <td>0.000000</td>\n",
       "      <td>0.3315</td>\n",
       "    </tr>\n",
       "    <tr>\n",
       "      <th>6</th>\n",
       "      <td>10tv.com</td>\n",
       "      <td>1.220808e-04</td>\n",
       "      <td>0.000151</td>\n",
       "      <td>0.1897</td>\n",
       "    </tr>\n",
       "    <tr>\n",
       "      <th>8</th>\n",
       "      <td>11alive.com</td>\n",
       "      <td>2.810762e-04</td>\n",
       "      <td>0.000299</td>\n",
       "      <td>0.1956</td>\n",
       "    </tr>\n",
       "    <tr>\n",
       "      <th>9</th>\n",
       "      <td>12news.com</td>\n",
       "      <td>7.532587e-05</td>\n",
       "      <td>0.000073</td>\n",
       "      <td>0.1167</td>\n",
       "    </tr>\n",
       "    <tr>\n",
       "      <th>...</th>\n",
       "      <td>...</td>\n",
       "      <td>...</td>\n",
       "      <td>...</td>\n",
       "      <td>...</td>\n",
       "    </tr>\n",
       "    <tr>\n",
       "      <th>8834</th>\n",
       "      <td>yourerie.com</td>\n",
       "      <td>4.954376e-06</td>\n",
       "      <td>0.000139</td>\n",
       "      <td>0.2428</td>\n",
       "    </tr>\n",
       "    <tr>\n",
       "      <th>8836</th>\n",
       "      <td>yourobserver.com</td>\n",
       "      <td>0.000000e+00</td>\n",
       "      <td>0.000095</td>\n",
       "      <td>0.4942</td>\n",
       "    </tr>\n",
       "    <tr>\n",
       "      <th>8839</th>\n",
       "      <td>youthtoday.org</td>\n",
       "      <td>8.502973e-06</td>\n",
       "      <td>0.000000</td>\n",
       "      <td>-0.4904</td>\n",
       "    </tr>\n",
       "    <tr>\n",
       "      <th>8840</th>\n",
       "      <td>youtube.com</td>\n",
       "      <td>5.415998e-03</td>\n",
       "      <td>0.006232</td>\n",
       "      <td>0.1282</td>\n",
       "    </tr>\n",
       "    <tr>\n",
       "      <th>8843</th>\n",
       "      <td>zazzle.com</td>\n",
       "      <td>3.414848e-08</td>\n",
       "      <td>0.000000</td>\n",
       "      <td>0.0133</td>\n",
       "    </tr>\n",
       "  </tbody>\n",
       "</table>\n",
       "<p>2314 rows × 4 columns</p>\n",
       "</div>"
      ],
      "text/plain": [
       "                domain      dem_prop  rep_prop  bias_score\n",
       "2          1011now.com  2.148793e-05  0.000455      0.5387\n",
       "5           10news.com  6.464593e-05  0.000000      0.3315\n",
       "6             10tv.com  1.220808e-04  0.000151      0.1897\n",
       "8          11alive.com  2.810762e-04  0.000299      0.1956\n",
       "9           12news.com  7.532587e-05  0.000073      0.1167\n",
       "...                ...           ...       ...         ...\n",
       "8834      yourerie.com  4.954376e-06  0.000139      0.2428\n",
       "8836  yourobserver.com  0.000000e+00  0.000095      0.4942\n",
       "8839    youthtoday.org  8.502973e-06  0.000000     -0.4904\n",
       "8840       youtube.com  5.415998e-03  0.006232      0.1282\n",
       "8843        zazzle.com  3.414848e-08  0.000000      0.0133\n",
       "\n",
       "[2314 rows x 4 columns]"
      ]
     },
     "execution_count": 27,
     "metadata": {},
     "output_type": "execute_result"
    }
   ],
   "source": [
    "all_domain_leaning_prop"
   ]
  },
  {
   "cell_type": "code",
   "execution_count": 34,
   "id": "4b449af7-d049-4aec-a7e4-0a2de6b079c2",
   "metadata": {},
   "outputs": [],
   "source": [
    "bias_scores = np.array(all_domain_leaning_prop['bias_score'])\n",
    "dem_prop = np.array(all_domain_leaning_prop['dem_prop'])\n",
    "rep_prop = np.array(all_domain_leaning_prop['rep_prop'])\n",
    "\n",
    "d, p = ks_weighted(bias_scores, bias_scores, dem_prop, rep_prop, alternative='two-sided')"
   ]
  },
  {
   "cell_type": "code",
   "execution_count": 35,
   "id": "5e157059-9db2-4379-8b02-49663536a9c4",
   "metadata": {},
   "outputs": [
    {
     "data": {
      "text/plain": [
       "(np.float64(0.07286796750819358), np.float64(8.680594077609265e-06))"
      ]
     },
     "execution_count": 35,
     "metadata": {},
     "output_type": "execute_result"
    }
   ],
   "source": [
    "d, p"
   ]
  },
  {
   "cell_type": "markdown",
   "id": "5d2ecbac-a6ae-4584-be5c-5b158e8477ca",
   "metadata": {},
   "source": [
    "# News only"
   ]
  },
  {
   "cell_type": "code",
   "execution_count": 37,
   "id": "caed782f-1142-4982-bd27-b16025ab4054",
   "metadata": {},
   "outputs": [],
   "source": [
    "allison_cat = pd.read_csv(\"../data/domain_category.csv\")"
   ]
  },
  {
   "cell_type": "code",
   "execution_count": 38,
   "id": "8e2361d2-9120-4df6-8123-3dc5f1db2742",
   "metadata": {},
   "outputs": [],
   "source": [
    "cleaned_cat = allison_cat[['domain','category']].drop_duplicates()"
   ]
  },
  {
   "cell_type": "code",
   "execution_count": 39,
   "id": "244b5371-59f3-4892-b567-287b8955b2ea",
   "metadata": {},
   "outputs": [],
   "source": [
    "all_domain_leaning_prop_cat = pd.merge(all_domain_leaning_prop, cleaned_cat, how=\"left\", on='domain')"
   ]
  },
  {
   "cell_type": "code",
   "execution_count": 40,
   "id": "e962716e-8f11-4abd-94b9-e5312ea3ecb9",
   "metadata": {},
   "outputs": [
    {
     "data": {
      "text/html": [
       "<div>\n",
       "<style scoped>\n",
       "    .dataframe tbody tr th:only-of-type {\n",
       "        vertical-align: middle;\n",
       "    }\n",
       "\n",
       "    .dataframe tbody tr th {\n",
       "        vertical-align: top;\n",
       "    }\n",
       "\n",
       "    .dataframe thead th {\n",
       "        text-align: right;\n",
       "    }\n",
       "</style>\n",
       "<table border=\"1\" class=\"dataframe\">\n",
       "  <thead>\n",
       "    <tr style=\"text-align: right;\">\n",
       "      <th></th>\n",
       "      <th>domain</th>\n",
       "      <th>dem_prop</th>\n",
       "      <th>rep_prop</th>\n",
       "      <th>bias_score</th>\n",
       "      <th>category</th>\n",
       "    </tr>\n",
       "  </thead>\n",
       "  <tbody>\n",
       "    <tr>\n",
       "      <th>0</th>\n",
       "      <td>1011now.com</td>\n",
       "      <td>2.148793e-05</td>\n",
       "      <td>0.000455</td>\n",
       "      <td>0.5387</td>\n",
       "      <td>news</td>\n",
       "    </tr>\n",
       "    <tr>\n",
       "      <th>1</th>\n",
       "      <td>10news.com</td>\n",
       "      <td>6.464593e-05</td>\n",
       "      <td>0.000000</td>\n",
       "      <td>0.3315</td>\n",
       "      <td>news</td>\n",
       "    </tr>\n",
       "    <tr>\n",
       "      <th>2</th>\n",
       "      <td>10tv.com</td>\n",
       "      <td>1.220808e-04</td>\n",
       "      <td>0.000151</td>\n",
       "      <td>0.1897</td>\n",
       "      <td>news</td>\n",
       "    </tr>\n",
       "    <tr>\n",
       "      <th>3</th>\n",
       "      <td>11alive.com</td>\n",
       "      <td>2.810762e-04</td>\n",
       "      <td>0.000299</td>\n",
       "      <td>0.1956</td>\n",
       "      <td>news</td>\n",
       "    </tr>\n",
       "    <tr>\n",
       "      <th>4</th>\n",
       "      <td>12news.com</td>\n",
       "      <td>7.532587e-05</td>\n",
       "      <td>0.000073</td>\n",
       "      <td>0.1167</td>\n",
       "      <td>news</td>\n",
       "    </tr>\n",
       "    <tr>\n",
       "      <th>...</th>\n",
       "      <td>...</td>\n",
       "      <td>...</td>\n",
       "      <td>...</td>\n",
       "      <td>...</td>\n",
       "      <td>...</td>\n",
       "    </tr>\n",
       "    <tr>\n",
       "      <th>2309</th>\n",
       "      <td>yourerie.com</td>\n",
       "      <td>4.954376e-06</td>\n",
       "      <td>0.000139</td>\n",
       "      <td>0.2428</td>\n",
       "      <td>news</td>\n",
       "    </tr>\n",
       "    <tr>\n",
       "      <th>2310</th>\n",
       "      <td>yourobserver.com</td>\n",
       "      <td>0.000000e+00</td>\n",
       "      <td>0.000095</td>\n",
       "      <td>0.4942</td>\n",
       "      <td>news</td>\n",
       "    </tr>\n",
       "    <tr>\n",
       "      <th>2311</th>\n",
       "      <td>youthtoday.org</td>\n",
       "      <td>8.502973e-06</td>\n",
       "      <td>0.000000</td>\n",
       "      <td>-0.4904</td>\n",
       "      <td>news</td>\n",
       "    </tr>\n",
       "    <tr>\n",
       "      <th>2312</th>\n",
       "      <td>youtube.com</td>\n",
       "      <td>5.415998e-03</td>\n",
       "      <td>0.006232</td>\n",
       "      <td>0.1282</td>\n",
       "      <td>social</td>\n",
       "    </tr>\n",
       "    <tr>\n",
       "      <th>2313</th>\n",
       "      <td>zazzle.com</td>\n",
       "      <td>3.414848e-08</td>\n",
       "      <td>0.000000</td>\n",
       "      <td>0.0133</td>\n",
       "      <td>other_third_party</td>\n",
       "    </tr>\n",
       "  </tbody>\n",
       "</table>\n",
       "<p>2314 rows × 5 columns</p>\n",
       "</div>"
      ],
      "text/plain": [
       "                domain      dem_prop  rep_prop  bias_score           category\n",
       "0          1011now.com  2.148793e-05  0.000455      0.5387               news\n",
       "1           10news.com  6.464593e-05  0.000000      0.3315               news\n",
       "2             10tv.com  1.220808e-04  0.000151      0.1897               news\n",
       "3          11alive.com  2.810762e-04  0.000299      0.1956               news\n",
       "4           12news.com  7.532587e-05  0.000073      0.1167               news\n",
       "...                ...           ...       ...         ...                ...\n",
       "2309      yourerie.com  4.954376e-06  0.000139      0.2428               news\n",
       "2310  yourobserver.com  0.000000e+00  0.000095      0.4942               news\n",
       "2311    youthtoday.org  8.502973e-06  0.000000     -0.4904               news\n",
       "2312       youtube.com  5.415998e-03  0.006232      0.1282             social\n",
       "2313        zazzle.com  3.414848e-08  0.000000      0.0133  other_third_party\n",
       "\n",
       "[2314 rows x 5 columns]"
      ]
     },
     "execution_count": 40,
     "metadata": {},
     "output_type": "execute_result"
    }
   ],
   "source": [
    "all_domain_leaning_prop_cat"
   ]
  },
  {
   "cell_type": "code",
   "execution_count": 41,
   "id": "b2374cb2-4908-443c-b71f-4873704b547e",
   "metadata": {},
   "outputs": [],
   "source": [
    "news_leaning = all_domain_leaning_prop_cat[all_domain_leaning_prop_cat[\"category\"]==\"news\"]"
   ]
  },
  {
   "cell_type": "code",
   "execution_count": 43,
   "id": "471dfa76-d647-4ed8-aece-dc8a7cfec1be",
   "metadata": {},
   "outputs": [
    {
     "data": {
      "image/png": "[encoded data removed]",
      "text/plain": [
       "<Figure size 600x400 with 1 Axes>"
      ]
     },
     "metadata": {},
     "output_type": "display_data"
    }
   ],
   "source": [
    "fig, ax = plt.subplots(figsize = (6, 4))\n",
    "plt.hist(news_leaning['bias_score'], edgecolor='black', bins=30, weights=news_leaning['dem_prop'], \n",
    "         histtype='step', fill=True, color='#1f77b4', label='Democratic', alpha = 0.8)\n",
    "plt.hist(news_leaning['bias_score'], edgecolor='black', bins=30, weights=news_leaning['rep_prop'], \n",
    "         histtype='step', fill=True, color='#d62728', label='Republican', alpha = 0.8)\n",
    "\n",
    "dem_weighted_avg = np.average(news_leaning['bias_score'], weights=news_leaning['dem_prop'])\n",
    "plt.axvline(x = dem_weighted_avg, color = 'b',label = 'dem_mean='+str(round(dem_weighted_avg, 3)))\n",
    "rep_weighted_avg = np.average(news_leaning['bias_score'], weights=news_leaning['rep_prop'])\n",
    "plt.axvline(x = rep_weighted_avg, color = 'r',label = 'rep_mean='+str(round(rep_weighted_avg, 3)))\n",
    "plt.legend()\n",
    " \n",
    "plt.xlabel('Bias score')\n",
    "plt.ylabel('weighted frequency')\n",
    "plt.title(\"Democratic vs. Republican bias score distribution news only\")\n",
    "plt.savefig(\"../data/plots/dem_rep_news_bias_score_dist.png\", bbox_inches='tight', dpi=200) \n",
    "plt.show()"
   ]
  },
  {
   "cell_type": "code",
   "execution_count": 44,
   "id": "0a01f693-a407-4c01-9c30-3823cacc6f02",
   "metadata": {},
   "outputs": [],
   "source": [
    "bias_scores2 = np.array(news_leaning['bias_score'])\n",
    "dem_prop2 = np.array(news_leaning['dem_prop'])\n",
    "rep_prop2 = np.array(news_leaning['rep_prop'])\n",
    "\n",
    "d2, p2 = ks_weighted(bias_scores2, bias_scores2, dem_prop2, rep_prop2, alternative='two-sided')"
   ]
  },
  {
   "cell_type": "code",
   "execution_count": 45,
   "id": "3c53df59-953a-48c9-ac35-27fdec8cd72e",
   "metadata": {},
   "outputs": [
    {
     "data": {
      "text/plain": [
       "(np.float64(0.13775601562331463), np.float64(4.34911167937348e-16))"
      ]
     },
     "execution_count": 45,
     "metadata": {},
     "output_type": "execute_result"
    }
   ],
   "source": [
    "d2, p2"
   ]
  },
  {
   "cell_type": "code",
   "execution_count": null,
   "id": "9242f474-d3db-4f58-84da-4c49e85140cd",
   "metadata": {},
   "outputs": [],
   "source": []
  }
 ],
 "metadata": {
  "kernelspec": {
   "display_name": "Python 3 (ipykernel)",
   "language": "python",
   "name": "python3"
  },
  "language_info": {
   "codemirror_mode": {
    "name": "ipython",
    "version": 3
   },
   "file_extension": ".py",
   "mimetype": "text/x-python",
   "name": "python",
   "nbconvert_exporter": "python",
   "pygments_lexer": "ipython3",
   "version": "3.10.14"
  }
 },
 "nbformat": 4,
 "nbformat_minor": 5
}
