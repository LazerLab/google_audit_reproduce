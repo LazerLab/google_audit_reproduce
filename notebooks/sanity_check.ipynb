{
 "cells": [
  {
   "cell_type": "code",
   "execution_count": 67,
   "id": "bc095668-6c1e-4658-ba23-cd82a418bb1c",
   "metadata": {},
   "outputs": [],
   "source": [
    "import os\n",
    "import sys\n",
    "import pandas as pd\n",
    "import numpy as np\n",
    "import matplotlib.pyplot as plt"
   ]
  },
  {
   "cell_type": "markdown",
   "id": "a5e65d46-f7be-4e91-ab03-12bf2a17d9ce",
   "metadata": {},
   "source": [
    "# Sanity check"
   ]
  },
  {
   "cell_type": "markdown",
   "id": "dc339101-1524-4dbf-976a-cf64ab4f021c",
   "metadata": {},
   "source": [
    "This file is to conduct basic sanity check on the data process."
   ]
  },
  {
   "cell_type": "markdown",
   "id": "e2f2fa94-59b7-4af6-b62d-649f486dbaa3",
   "metadata": {},
   "source": [
    "# Check daily results"
   ]
  },
  {
   "cell_type": "markdown",
   "id": "2af0ce15-8386-4b22-998f-e0c279c39063",
   "metadata": {},
   "source": [
    "Import result file that has the daily record of results."
   ]
  },
  {
   "cell_type": "code",
   "execution_count": 68,
   "id": "f2e253c5-12ed-42b5-9682-d25301ced002",
   "metadata": {},
   "outputs": [],
   "source": [
    "results = pd.read_csv('/net/lazer/lab-lazer/shared_projects/google_audit_reproduce/intermedidate_files/merged_summary/day_qry_loc.csv')"
   ]
  },
  {
   "cell_type": "code",
   "execution_count": 69,
   "id": "6524c1d3-22ef-483d-b969-32d0b2b4f52e",
   "metadata": {},
   "outputs": [
    {
     "data": {
      "text/html": [
       "<div>\n",
       "<style scoped>\n",
       "    .dataframe tbody tr th:only-of-type {\n",
       "        vertical-align: middle;\n",
       "    }\n",
       "\n",
       "    .dataframe tbody tr th {\n",
       "        vertical-align: top;\n",
       "    }\n",
       "\n",
       "    .dataframe thead th {\n",
       "        text-align: right;\n",
       "    }\n",
       "</style>\n",
       "<table border=\"1\" class=\"dataframe\">\n",
       "  <thead>\n",
       "    <tr style=\"text-align: right;\">\n",
       "      <th></th>\n",
       "      <th>crawl_id</th>\n",
       "      <th>qry</th>\n",
       "      <th>loc_id</th>\n",
       "      <th>counts</th>\n",
       "    </tr>\n",
       "  </thead>\n",
       "  <tbody>\n",
       "    <tr>\n",
       "      <th>0</th>\n",
       "      <td>20200901</td>\n",
       "      <td>Abby Finkenauer</td>\n",
       "      <td>AK-AT LARGE,Alaska,United States</td>\n",
       "      <td>6</td>\n",
       "    </tr>\n",
       "    <tr>\n",
       "      <th>1</th>\n",
       "      <td>20200901</td>\n",
       "      <td>Abby Finkenauer</td>\n",
       "      <td>AL-1,Alabama,United States</td>\n",
       "      <td>17</td>\n",
       "    </tr>\n",
       "    <tr>\n",
       "      <th>2</th>\n",
       "      <td>20200901</td>\n",
       "      <td>Abby Finkenauer</td>\n",
       "      <td>AL-2,Alabama,United States</td>\n",
       "      <td>18</td>\n",
       "    </tr>\n",
       "    <tr>\n",
       "      <th>3</th>\n",
       "      <td>20200901</td>\n",
       "      <td>Abby Finkenauer</td>\n",
       "      <td>AL-3,Alabama,United States</td>\n",
       "      <td>17</td>\n",
       "    </tr>\n",
       "    <tr>\n",
       "      <th>4</th>\n",
       "      <td>20200901</td>\n",
       "      <td>Abby Finkenauer</td>\n",
       "      <td>AL-4,Alabama,United States</td>\n",
       "      <td>18</td>\n",
       "    </tr>\n",
       "    <tr>\n",
       "      <th>...</th>\n",
       "      <td>...</td>\n",
       "      <td>...</td>\n",
       "      <td>...</td>\n",
       "      <td>...</td>\n",
       "    </tr>\n",
       "    <tr>\n",
       "      <th>19943483</th>\n",
       "      <td>20201231</td>\n",
       "      <td>Zoe Lofgren</td>\n",
       "      <td>WI-8,Wisconsin,United States</td>\n",
       "      <td>12</td>\n",
       "    </tr>\n",
       "    <tr>\n",
       "      <th>19943484</th>\n",
       "      <td>20201231</td>\n",
       "      <td>Zoe Lofgren</td>\n",
       "      <td>WV-1,West Virginia,United States</td>\n",
       "      <td>12</td>\n",
       "    </tr>\n",
       "    <tr>\n",
       "      <th>19943485</th>\n",
       "      <td>20201231</td>\n",
       "      <td>Zoe Lofgren</td>\n",
       "      <td>WV-2,West Virginia,United States</td>\n",
       "      <td>12</td>\n",
       "    </tr>\n",
       "    <tr>\n",
       "      <th>19943486</th>\n",
       "      <td>20201231</td>\n",
       "      <td>Zoe Lofgren</td>\n",
       "      <td>WV-3,West Virginia,United States</td>\n",
       "      <td>12</td>\n",
       "    </tr>\n",
       "    <tr>\n",
       "      <th>19943487</th>\n",
       "      <td>20201231</td>\n",
       "      <td>Zoe Lofgren</td>\n",
       "      <td>WY-AT LARGE,Wyoming,United States</td>\n",
       "      <td>12</td>\n",
       "    </tr>\n",
       "  </tbody>\n",
       "</table>\n",
       "<p>19943488 rows × 4 columns</p>\n",
       "</div>"
      ],
      "text/plain": [
       "          crawl_id              qry                             loc_id  counts\n",
       "0         20200901  Abby Finkenauer   AK-AT LARGE,Alaska,United States       6\n",
       "1         20200901  Abby Finkenauer         AL-1,Alabama,United States      17\n",
       "2         20200901  Abby Finkenauer         AL-2,Alabama,United States      18\n",
       "3         20200901  Abby Finkenauer         AL-3,Alabama,United States      17\n",
       "4         20200901  Abby Finkenauer         AL-4,Alabama,United States      18\n",
       "...            ...              ...                                ...     ...\n",
       "19943483  20201231      Zoe Lofgren       WI-8,Wisconsin,United States      12\n",
       "19943484  20201231      Zoe Lofgren   WV-1,West Virginia,United States      12\n",
       "19943485  20201231      Zoe Lofgren   WV-2,West Virginia,United States      12\n",
       "19943486  20201231      Zoe Lofgren   WV-3,West Virginia,United States      12\n",
       "19943487  20201231      Zoe Lofgren  WY-AT LARGE,Wyoming,United States      12\n",
       "\n",
       "[19943488 rows x 4 columns]"
      ]
     },
     "execution_count": 69,
     "metadata": {},
     "output_type": "execute_result"
    }
   ],
   "source": [
    "results"
   ]
  },
  {
   "cell_type": "markdown",
   "id": "9a99dd52-80f2-4e55-88cd-128c33c04250",
   "metadata": {},
   "source": [
    "# Number of qry"
   ]
  },
  {
   "cell_type": "markdown",
   "id": "97628dbf-e760-4e66-9ff6-64967a02cde2",
   "metadata": {},
   "source": [
    "The number of unique names of U.S. representatives members used as queries that are included in the final analysis."
   ]
  },
  {
   "cell_type": "code",
   "execution_count": 70,
   "id": "2dc4e19f-1bc1-4324-b772-b781d5adad00",
   "metadata": {},
   "outputs": [],
   "source": [
    "qry_counts = results.groupby(['qry'], dropna=True, as_index=False)['counts'].sum()"
   ]
  },
  {
   "cell_type": "code",
   "execution_count": 71,
   "id": "020ba657-776b-46a4-b4ed-c579a484fd14",
   "metadata": {
    "scrolled": true
   },
   "outputs": [
    {
     "data": {
      "text/plain": [
       "417"
      ]
     },
     "execution_count": 71,
     "metadata": {},
     "output_type": "execute_result"
    }
   ],
   "source": [
    "len(qry_counts)"
   ]
  },
  {
   "cell_type": "markdown",
   "id": "5861b108-60dd-419d-966b-1c703094fc49",
   "metadata": {},
   "source": [
    "# Total results"
   ]
  },
  {
   "cell_type": "markdown",
   "id": "0fa9a37e-af2c-461c-9750-4a77650d611e",
   "metadata": {},
   "source": [
    "The total number of urls (i.e. results) in the search results."
   ]
  },
  {
   "cell_type": "code",
   "execution_count": 72,
   "id": "f23c72dd-85f0-4358-ad7b-bab207479ab2",
   "metadata": {},
   "outputs": [
    {
     "data": {
      "text/plain": [
       "299573378"
      ]
     },
     "execution_count": 72,
     "metadata": {},
     "output_type": "execute_result"
    }
   ],
   "source": [
    "results['counts'].sum()"
   ]
  },
  {
   "cell_type": "markdown",
   "id": "c1a2e31e-9148-4fae-bc9d-9603f32b63cf",
   "metadata": {},
   "source": [
    "# Number of days"
   ]
  },
  {
   "cell_type": "markdown",
   "id": "6115fd82-2ae1-419d-81b8-65165f458c31",
   "metadata": {},
   "source": [
    "The number of days that searches are successful."
   ]
  },
  {
   "cell_type": "code",
   "execution_count": 73,
   "id": "7cc45140-08ba-47a5-b511-00baf3a7c3ae",
   "metadata": {},
   "outputs": [],
   "source": [
    "day_counts = results.groupby(['crawl_id'], dropna=True, as_index=False)['counts'].sum()"
   ]
  },
  {
   "cell_type": "code",
   "execution_count": 74,
   "id": "c1cc1c64-d96c-4a58-a42e-8291a3b6c35b",
   "metadata": {},
   "outputs": [],
   "source": [
    "day_counts['date']= pd.to_datetime(day_counts['crawl_id'], format='%Y%m%d')"
   ]
  },
  {
   "cell_type": "code",
   "execution_count": 75,
   "id": "c30f6e9d-174f-44ae-b875-e4bafc789f84",
   "metadata": {},
   "outputs": [],
   "source": [
    "day_counts = day_counts.sort_values('date', ascending=True)"
   ]
  },
  {
   "cell_type": "code",
   "execution_count": 76,
   "id": "9cff7c49-d07f-416d-83c3-2c43b9745ea6",
   "metadata": {},
   "outputs": [
    {
     "data": {
      "text/plain": [
       "112"
      ]
     },
     "execution_count": 76,
     "metadata": {},
     "output_type": "execute_result"
    }
   ],
   "source": [
    "len(day_counts)"
   ]
  },
  {
   "cell_type": "code",
   "execution_count": 77,
   "id": "9be4cbd0-33a2-48a2-9b2d-9cedcd2dd31c",
   "metadata": {},
   "outputs": [
    {
     "data": {
      "image/png": "[encoded data removed]",
      "text/plain": [
       "<Figure size 1200x400 with 1 Axes>"
      ]
     },
     "metadata": {},
     "output_type": "display_data"
    }
   ],
   "source": [
    "fig = plt.figure(figsize = (12, 4))\n",
    "\n",
    "plt.bar(day_counts['date'], day_counts['counts'])\n",
    "plt.xticks(rotation='vertical')\n",
    "\n",
    "plt.ylabel(\"Number of search results\")\n",
    "plt.title(\"Number of search results per day\")\n",
    "plt.savefig(\"../data/plots/num_results_by_day.png\", bbox_inches='tight', dpi=200) \n",
    "plt.show()"
   ]
  },
  {
   "cell_type": "markdown",
   "id": "b2002739-47cd-40f7-bcd1-d748595459b7",
   "metadata": {},
   "source": [
    "## Daily resutls"
   ]
  },
  {
   "cell_type": "markdown",
   "id": "95ba36d5-3f21-4cb1-923d-690d7ac8f8dc",
   "metadata": {},
   "source": [
    "Average number of results per qry per location for a day."
   ]
  },
  {
   "cell_type": "code",
   "execution_count": 78,
   "id": "447dbab9-dc17-4e72-8852-b2973a40248f",
   "metadata": {},
   "outputs": [],
   "source": [
    "avg_num_result_per_page = results['counts'].mean()"
   ]
  },
  {
   "cell_type": "code",
   "execution_count": 79,
   "id": "cef604c2-93b5-494f-9b0c-47560dbade81",
   "metadata": {},
   "outputs": [
    {
     "data": {
      "text/plain": [
       "15.021112555637208"
      ]
     },
     "execution_count": 79,
     "metadata": {},
     "output_type": "execute_result"
    }
   ],
   "source": [
    "avg_num_result_per_page"
   ]
  },
  {
   "cell_type": "markdown",
   "id": "e95e75a1-99cc-4d65-ad5a-c2b13cce5355",
   "metadata": {},
   "source": [
    "# Get non-processed dates"
   ]
  },
  {
   "cell_type": "markdown",
   "id": "bca73660-bed1-4a7f-a5d8-22282fd3c640",
   "metadata": {},
   "source": [
    "Get the missing dates that are not in the data due to techniqual issue on these days."
   ]
  },
  {
   "cell_type": "code",
   "execution_count": 80,
   "id": "c530946e-0b89-466c-af57-d02865a8c3c6",
   "metadata": {},
   "outputs": [],
   "source": [
    "from datetime import date, timedelta\n",
    "\n",
    "sdate = date(2020,9,1)   # start date\n",
    "edate = date(2020,12,31)   # end date"
   ]
  },
  {
   "cell_type": "code",
   "execution_count": 81,
   "id": "52e3c1ab-9235-4b90-a58f-d2e730179d00",
   "metadata": {},
   "outputs": [],
   "source": [
    "natural_dates = pd.date_range(sdate,edate-timedelta(days=1),freq='d').strftime('%Y%m%d').tolist()"
   ]
  },
  {
   "cell_type": "code",
   "execution_count": 82,
   "id": "c56211fd-4646-4e71-a7f3-bda6dec77adb",
   "metadata": {},
   "outputs": [],
   "source": [
    "dates_in_data = day_counts['crawl_id'].astype(\"string\").unique().tolist()"
   ]
  },
  {
   "cell_type": "code",
   "execution_count": 83,
   "id": "b8e13caa-f90f-4446-ba1b-e061d1c6e25c",
   "metadata": {},
   "outputs": [],
   "source": [
    "missing_dates = set(natural_dates) - set(dates_in_data)"
   ]
  },
  {
   "cell_type": "code",
   "execution_count": 84,
   "id": "252f2848-5505-4488-a45d-1d5213342139",
   "metadata": {},
   "outputs": [
    {
     "data": {
      "text/plain": [
       "10"
      ]
     },
     "execution_count": 84,
     "metadata": {},
     "output_type": "execute_result"
    }
   ],
   "source": [
    "len(missing_dates)"
   ]
  },
  {
   "cell_type": "code",
   "execution_count": 85,
   "id": "bd94b493-d813-492d-8078-c328688637be",
   "metadata": {},
   "outputs": [
    {
     "data": {
      "text/plain": [
       "{'20200916',\n",
       " '20200917',\n",
       " '20200918',\n",
       " '20200922',\n",
       " '20200923',\n",
       " '20200924',\n",
       " '20200925',\n",
       " '20200926',\n",
       " '20200927',\n",
       " '20200928'}"
      ]
     },
     "execution_count": 85,
     "metadata": {},
     "output_type": "execute_result"
    }
   ],
   "source": [
    "missing_dates"
   ]
  },
  {
   "cell_type": "markdown",
   "id": "53c991eb-5faa-4441-9cc7-2bdade99f5d8",
   "metadata": {},
   "source": [
    "# Check daily location"
   ]
  },
  {
   "cell_type": "markdown",
   "id": "aec56965-c6fe-437a-a5f4-590d180c077a",
   "metadata": {},
   "source": [
    "check the number of locations that searches are successfully simulated from for each day. It is supposed to be 435 congressional districts and 1 general serach."
   ]
  },
  {
   "cell_type": "code",
   "execution_count": 43,
   "id": "6a902ee3-826c-49b7-b436-8a4258b6cc96",
   "metadata": {},
   "outputs": [],
   "source": [
    "loc_counts = results.groupby(['crawl_id', 'qry'], dropna=True, as_index=False)['loc_id'].count()"
   ]
  },
  {
   "cell_type": "code",
   "execution_count": 44,
   "id": "773acdd7-389b-4233-bb67-f74d2c992adc",
   "metadata": {},
   "outputs": [
    {
     "data": {
      "text/html": [
       "<div>\n",
       "<style scoped>\n",
       "    .dataframe tbody tr th:only-of-type {\n",
       "        vertical-align: middle;\n",
       "    }\n",
       "\n",
       "    .dataframe tbody tr th {\n",
       "        vertical-align: top;\n",
       "    }\n",
       "\n",
       "    .dataframe thead th {\n",
       "        text-align: right;\n",
       "    }\n",
       "</style>\n",
       "<table border=\"1\" class=\"dataframe\">\n",
       "  <thead>\n",
       "    <tr style=\"text-align: right;\">\n",
       "      <th></th>\n",
       "      <th>crawl_id</th>\n",
       "      <th>qry</th>\n",
       "      <th>loc_id</th>\n",
       "    </tr>\n",
       "  </thead>\n",
       "  <tbody>\n",
       "    <tr>\n",
       "      <th>0</th>\n",
       "      <td>20200901</td>\n",
       "      <td>Abby Finkenauer</td>\n",
       "      <td>436</td>\n",
       "    </tr>\n",
       "    <tr>\n",
       "      <th>1</th>\n",
       "      <td>20200901</td>\n",
       "      <td>Abigail Spanberger</td>\n",
       "      <td>436</td>\n",
       "    </tr>\n",
       "    <tr>\n",
       "      <th>2</th>\n",
       "      <td>20200901</td>\n",
       "      <td>Adam Kinzinger</td>\n",
       "      <td>436</td>\n",
       "    </tr>\n",
       "    <tr>\n",
       "      <th>3</th>\n",
       "      <td>20200901</td>\n",
       "      <td>Adam Schiff</td>\n",
       "      <td>436</td>\n",
       "    </tr>\n",
       "    <tr>\n",
       "      <th>4</th>\n",
       "      <td>20200901</td>\n",
       "      <td>Adam Smith</td>\n",
       "      <td>436</td>\n",
       "    </tr>\n",
       "    <tr>\n",
       "      <th>...</th>\n",
       "      <td>...</td>\n",
       "      <td>...</td>\n",
       "      <td>...</td>\n",
       "    </tr>\n",
       "    <tr>\n",
       "      <th>46428</th>\n",
       "      <td>20201231</td>\n",
       "      <td>Will Hurd</td>\n",
       "      <td>401</td>\n",
       "    </tr>\n",
       "    <tr>\n",
       "      <th>46429</th>\n",
       "      <td>20201231</td>\n",
       "      <td>William Timmons</td>\n",
       "      <td>404</td>\n",
       "    </tr>\n",
       "    <tr>\n",
       "      <th>46430</th>\n",
       "      <td>20201231</td>\n",
       "      <td>Xochitl Torres Small</td>\n",
       "      <td>414</td>\n",
       "    </tr>\n",
       "    <tr>\n",
       "      <th>46431</th>\n",
       "      <td>20201231</td>\n",
       "      <td>Yvette Clarke</td>\n",
       "      <td>401</td>\n",
       "    </tr>\n",
       "    <tr>\n",
       "      <th>46432</th>\n",
       "      <td>20201231</td>\n",
       "      <td>Zoe Lofgren</td>\n",
       "      <td>415</td>\n",
       "    </tr>\n",
       "  </tbody>\n",
       "</table>\n",
       "<p>46433 rows × 3 columns</p>\n",
       "</div>"
      ],
      "text/plain": [
       "       crawl_id                   qry  loc_id\n",
       "0      20200901       Abby Finkenauer     436\n",
       "1      20200901    Abigail Spanberger     436\n",
       "2      20200901        Adam Kinzinger     436\n",
       "3      20200901           Adam Schiff     436\n",
       "4      20200901            Adam Smith     436\n",
       "...         ...                   ...     ...\n",
       "46428  20201231             Will Hurd     401\n",
       "46429  20201231       William Timmons     404\n",
       "46430  20201231  Xochitl Torres Small     414\n",
       "46431  20201231         Yvette Clarke     401\n",
       "46432  20201231           Zoe Lofgren     415\n",
       "\n",
       "[46433 rows x 3 columns]"
      ]
     },
     "execution_count": 44,
     "metadata": {},
     "output_type": "execute_result"
    }
   ],
   "source": [
    "loc_counts"
   ]
  },
  {
   "cell_type": "code",
   "execution_count": 47,
   "id": "ba1f6d96-8837-4f11-bac3-dd19c00b74c5",
   "metadata": {},
   "outputs": [
    {
     "data": {
      "image/png": "[encoded data removed]",
      "text/plain": [
       "<Figure size 1200x800 with 1 Axes>"
      ]
     },
     "metadata": {},
     "output_type": "display_data"
    }
   ],
   "source": [
    "fig = plt.figure(figsize = (12, 8))\n",
    "\n",
    "plt.hist(loc_counts['loc_id'], edgecolor='black', bins=50)\n",
    "# plt.xticks(rotation='vertical')\n",
    " \n",
    "plt.xlabel(\"Locations searched\")\n",
    "plt.ylabel(\"Number of qry\")\n",
    "plt.title(\"Distribution of number of location searched per qry (should be 436)\")\n",
    "plt.savefig(\"../data/plots/loc_counts_distribution.png\", bbox_inches='tight', dpi=200) \n",
    "plt.show()"
   ]
  },
  {
   "cell_type": "code",
   "execution_count": null,
   "id": "03eefd27-e997-47c1-b06c-1bc5aaf38c3d",
   "metadata": {},
   "outputs": [],
   "source": []
  },
  {
   "cell_type": "code",
   "execution_count": null,
   "id": "e409d521-5080-43b4-a67c-07eb60eed447",
   "metadata": {},
   "outputs": [],
   "source": []
  },
  {
   "cell_type": "code",
   "execution_count": null,
   "id": "1990bd92-8564-4fc9-943a-10229a90ce5e",
   "metadata": {},
   "outputs": [],
   "source": []
  },
  {
   "cell_type": "code",
   "execution_count": null,
   "id": "e48fa2a2-abe0-4ba0-b3c0-38526c7cde15",
   "metadata": {},
   "outputs": [],
   "source": []
  },
  {
   "cell_type": "code",
   "execution_count": null,
   "id": "e3918da9-5b52-4bd1-bb1d-9dfaf134e5ac",
   "metadata": {},
   "outputs": [],
   "source": []
  },
  {
   "cell_type": "code",
   "execution_count": null,
   "id": "0300bde7-a693-452c-8c99-d9593555f27a",
   "metadata": {},
   "outputs": [],
   "source": []
  }
 ],
 "metadata": {
  "kernelspec": {
   "display_name": "Python 3 (ipykernel)",
   "language": "python",
   "name": "python3"
  },
  "language_info": {
   "codemirror_mode": {
    "name": "ipython",
    "version": 3
   },
   "file_extension": ".py",
   "mimetype": "text/x-python",
   "name": "python",
   "nbconvert_exporter": "python",
   "pygments_lexer": "ipython3",
   "version": "3.10.14"
  }
 },
 "nbformat": 4,
 "nbformat_minor": 5
}
