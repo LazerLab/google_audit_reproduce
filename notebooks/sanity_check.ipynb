{
 "cells": [
  {
   "cell_type": "code",
   "execution_count": 1,
   "id": "bc095668-6c1e-4658-ba23-cd82a418bb1c",
   "metadata": {},
   "outputs": [],
   "source": [
    "import os\n",
    "import sys\n",
    "import pandas as pd\n",
    "import numpy as np\n",
    "import matplotlib.pyplot as plt"
   ]
  },
  {
   "cell_type": "markdown",
   "id": "a5e65d46-f7be-4e91-ab03-12bf2a17d9ce",
   "metadata": {},
   "source": [
    "# Sanity check"
   ]
  },
  {
   "cell_type": "markdown",
   "id": "dc339101-1524-4dbf-976a-cf64ab4f021c",
   "metadata": {},
   "source": [
    "This file is to conduct basic sanity check on the data process."
   ]
  },
  {
   "cell_type": "markdown",
   "id": "e530cf31-8ac5-408d-9395-16b29eeb6a2f",
   "metadata": {},
   "source": [
    "## Check if party was not merged properly"
   ]
  },
  {
   "cell_type": "markdown",
   "id": "b972eb9c-239e-4e27-8e44-7da88cc9f2f5",
   "metadata": {},
   "source": [
    "Read files."
   ]
  },
  {
   "cell_type": "code",
   "execution_count": 10,
   "id": "ddfde877-4406-4ef6-bb84-978666a73496",
   "metadata": {},
   "outputs": [],
   "source": [
    "results = pd.read_parquet(\"/net/lazer/lab-lazer/shared_projects/google_audit_reproduce/intermedidate_files/house_parquet_no_error/20201030.parquet\")"
   ]
  },
  {
   "cell_type": "code",
   "execution_count": 11,
   "id": "7e5235f8-81cd-4cad-ae0e-bc7d935930f8",
   "metadata": {},
   "outputs": [
    {
     "data": {
      "text/html": [
       "<div>\n",
       "<style scoped>\n",
       "    .dataframe tbody tr th:only-of-type {\n",
       "        vertical-align: middle;\n",
       "    }\n",
       "\n",
       "    .dataframe tbody tr th {\n",
       "        vertical-align: top;\n",
       "    }\n",
       "\n",
       "    .dataframe thead th {\n",
       "        text-align: right;\n",
       "    }\n",
       "</style>\n",
       "<table border=\"1\" class=\"dataframe\">\n",
       "  <thead>\n",
       "    <tr style=\"text-align: right;\">\n",
       "      <th></th>\n",
       "      <th>type</th>\n",
       "      <th>sub_rank</th>\n",
       "      <th>title</th>\n",
       "      <th>url</th>\n",
       "      <th>text</th>\n",
       "      <th>cmpt_rank</th>\n",
       "      <th>serp_rank</th>\n",
       "      <th>crawl_id</th>\n",
       "      <th>qry</th>\n",
       "      <th>lang</th>\n",
       "      <th>loc_id</th>\n",
       "      <th>sub_type</th>\n",
       "      <th>timestamp</th>\n",
       "      <th>subtitle</th>\n",
       "      <th>domain</th>\n",
       "    </tr>\n",
       "    <tr>\n",
       "      <th>party</th>\n",
       "      <th></th>\n",
       "      <th></th>\n",
       "      <th></th>\n",
       "      <th></th>\n",
       "      <th></th>\n",
       "      <th></th>\n",
       "      <th></th>\n",
       "      <th></th>\n",
       "      <th></th>\n",
       "      <th></th>\n",
       "      <th></th>\n",
       "      <th></th>\n",
       "      <th></th>\n",
       "      <th></th>\n",
       "      <th></th>\n",
       "    </tr>\n",
       "  </thead>\n",
       "  <tbody>\n",
       "    <tr>\n",
       "      <th>Democrat</th>\n",
       "      <td>1884460</td>\n",
       "      <td>1884460</td>\n",
       "      <td>1313795</td>\n",
       "      <td>1821860</td>\n",
       "      <td>272075</td>\n",
       "      <td>1884460</td>\n",
       "      <td>1884460</td>\n",
       "      <td>1884460</td>\n",
       "      <td>1884460</td>\n",
       "      <td>1884460</td>\n",
       "      <td>1884460</td>\n",
       "      <td>95247</td>\n",
       "      <td>289709</td>\n",
       "      <td>0</td>\n",
       "      <td>1821860</td>\n",
       "    </tr>\n",
       "    <tr>\n",
       "      <th>Independent</th>\n",
       "      <td>13423</td>\n",
       "      <td>13423</td>\n",
       "      <td>9577</td>\n",
       "      <td>12958</td>\n",
       "      <td>1269</td>\n",
       "      <td>13423</td>\n",
       "      <td>13423</td>\n",
       "      <td>13423</td>\n",
       "      <td>13423</td>\n",
       "      <td>13423</td>\n",
       "      <td>13423</td>\n",
       "      <td>859</td>\n",
       "      <td>1269</td>\n",
       "      <td>0</td>\n",
       "      <td>12958</td>\n",
       "    </tr>\n",
       "    <tr>\n",
       "      <th>Republican</th>\n",
       "      <td>1487034</td>\n",
       "      <td>1487034</td>\n",
       "      <td>1055739</td>\n",
       "      <td>1447944</td>\n",
       "      <td>211637</td>\n",
       "      <td>1487034</td>\n",
       "      <td>1487034</td>\n",
       "      <td>1487034</td>\n",
       "      <td>1487034</td>\n",
       "      <td>1487034</td>\n",
       "      <td>1487034</td>\n",
       "      <td>63705</td>\n",
       "      <td>232277</td>\n",
       "      <td>0</td>\n",
       "      <td>1447944</td>\n",
       "    </tr>\n",
       "  </tbody>\n",
       "</table>\n",
       "</div>"
      ],
      "text/plain": [
       "                type  sub_rank    title      url    text  cmpt_rank  \\\n",
       "party                                                                 \n",
       "Democrat     1884460   1884460  1313795  1821860  272075    1884460   \n",
       "Independent    13423     13423     9577    12958    1269      13423   \n",
       "Republican   1487034   1487034  1055739  1447944  211637    1487034   \n",
       "\n",
       "             serp_rank  crawl_id      qry     lang   loc_id  sub_type  \\\n",
       "party                                                                   \n",
       "Democrat       1884460   1884460  1884460  1884460  1884460     95247   \n",
       "Independent      13423     13423    13423    13423    13423       859   \n",
       "Republican     1487034   1487034  1487034  1487034  1487034     63705   \n",
       "\n",
       "             timestamp  subtitle   domain  \n",
       "party                                      \n",
       "Democrat        289709         0  1821860  \n",
       "Independent       1269         0    12958  \n",
       "Republican      232277         0  1447944  "
      ]
     },
     "execution_count": 11,
     "metadata": {},
     "output_type": "execute_result"
    }
   ],
   "source": [
    "results.groupby('party', dropna=False).count()"
   ]
  },
  {
   "cell_type": "code",
   "execution_count": 22,
   "id": "d71e5a11-0548-4857-a47d-30fc0af4675c",
   "metadata": {},
   "outputs": [
    {
     "data": {
      "text/html": [
       "<div>\n",
       "<style scoped>\n",
       "    .dataframe tbody tr th:only-of-type {\n",
       "        vertical-align: middle;\n",
       "    }\n",
       "\n",
       "    .dataframe tbody tr th {\n",
       "        vertical-align: top;\n",
       "    }\n",
       "\n",
       "    .dataframe thead th {\n",
       "        text-align: right;\n",
       "    }\n",
       "</style>\n",
       "<table border=\"1\" class=\"dataframe\">\n",
       "  <thead>\n",
       "    <tr style=\"text-align: right;\">\n",
       "      <th></th>\n",
       "      <th>type</th>\n",
       "      <th>sub_rank</th>\n",
       "      <th>title</th>\n",
       "      <th>url</th>\n",
       "      <th>text</th>\n",
       "      <th>cmpt_rank</th>\n",
       "      <th>serp_rank</th>\n",
       "      <th>crawl_id</th>\n",
       "      <th>qry</th>\n",
       "      <th>lang</th>\n",
       "      <th>loc_id</th>\n",
       "      <th>sub_type</th>\n",
       "      <th>timestamp</th>\n",
       "      <th>subtitle</th>\n",
       "    </tr>\n",
       "    <tr>\n",
       "      <th>domain</th>\n",
       "      <th></th>\n",
       "      <th></th>\n",
       "      <th></th>\n",
       "      <th></th>\n",
       "      <th></th>\n",
       "      <th></th>\n",
       "      <th></th>\n",
       "      <th></th>\n",
       "      <th></th>\n",
       "      <th></th>\n",
       "      <th></th>\n",
       "      <th></th>\n",
       "      <th></th>\n",
       "      <th></th>\n",
       "    </tr>\n",
       "  </thead>\n",
       "  <tbody>\n",
       "  </tbody>\n",
       "</table>\n",
       "</div>"
      ],
      "text/plain": [
       "Empty DataFrame\n",
       "Columns: [type, sub_rank, title, url, text, cmpt_rank, serp_rank, crawl_id, qry, lang, loc_id, sub_type, timestamp, subtitle]\n",
       "Index: []"
      ]
     },
     "execution_count": 22,
     "metadata": {},
     "output_type": "execute_result"
    }
   ],
   "source": [
    "results[results['type']=='search_related'].groupby('domain', dropna=False).count()"
   ]
  },
  {
   "cell_type": "markdown",
   "id": "e2f2fa94-59b7-4af6-b62d-649f486dbaa3",
   "metadata": {},
   "source": [
    "# Check daily results"
   ]
  },
  {
   "cell_type": "markdown",
   "id": "2af0ce15-8386-4b22-998f-e0c279c39063",
   "metadata": {},
   "source": [
    "Import result file that has the daily record of results."
   ]
  },
  {
   "cell_type": "code",
   "execution_count": 2,
   "id": "f2e253c5-12ed-42b5-9682-d25301ced002",
   "metadata": {},
   "outputs": [],
   "source": [
    "results = pd.read_csv('/net/lazer/lab-lazer/shared_projects/google_audit_reproduce/intermedidate_files/merged_summary/cleaned_house_day_qry_loc.csv')"
   ]
  },
  {
   "cell_type": "code",
   "execution_count": 3,
   "id": "6524c1d3-22ef-483d-b969-32d0b2b4f52e",
   "metadata": {},
   "outputs": [
    {
     "data": {
      "text/html": [
       "<div>\n",
       "<style scoped>\n",
       "    .dataframe tbody tr th:only-of-type {\n",
       "        vertical-align: middle;\n",
       "    }\n",
       "\n",
       "    .dataframe tbody tr th {\n",
       "        vertical-align: top;\n",
       "    }\n",
       "\n",
       "    .dataframe thead th {\n",
       "        text-align: right;\n",
       "    }\n",
       "</style>\n",
       "<table border=\"1\" class=\"dataframe\">\n",
       "  <thead>\n",
       "    <tr style=\"text-align: right;\">\n",
       "      <th></th>\n",
       "      <th>crawl_id</th>\n",
       "      <th>qry</th>\n",
       "      <th>loc_id</th>\n",
       "      <th>counts</th>\n",
       "    </tr>\n",
       "  </thead>\n",
       "  <tbody>\n",
       "    <tr>\n",
       "      <th>0</th>\n",
       "      <td>20200901</td>\n",
       "      <td>Abby Finkenauer</td>\n",
       "      <td>AK-AT LARGE,Alaska,United States</td>\n",
       "      <td>6</td>\n",
       "    </tr>\n",
       "    <tr>\n",
       "      <th>1</th>\n",
       "      <td>20200901</td>\n",
       "      <td>Abby Finkenauer</td>\n",
       "      <td>AL-1,Alabama,United States</td>\n",
       "      <td>23</td>\n",
       "    </tr>\n",
       "    <tr>\n",
       "      <th>2</th>\n",
       "      <td>20200901</td>\n",
       "      <td>Abby Finkenauer</td>\n",
       "      <td>AL-2,Alabama,United States</td>\n",
       "      <td>15</td>\n",
       "    </tr>\n",
       "    <tr>\n",
       "      <th>3</th>\n",
       "      <td>20200901</td>\n",
       "      <td>Abby Finkenauer</td>\n",
       "      <td>AL-3,Alabama,United States</td>\n",
       "      <td>23</td>\n",
       "    </tr>\n",
       "    <tr>\n",
       "      <th>4</th>\n",
       "      <td>20200901</td>\n",
       "      <td>Abby Finkenauer</td>\n",
       "      <td>AL-4,Alabama,United States</td>\n",
       "      <td>15</td>\n",
       "    </tr>\n",
       "    <tr>\n",
       "      <th>...</th>\n",
       "      <td>...</td>\n",
       "      <td>...</td>\n",
       "      <td>...</td>\n",
       "      <td>...</td>\n",
       "    </tr>\n",
       "    <tr>\n",
       "      <th>36119471</th>\n",
       "      <td>20210331</td>\n",
       "      <td>Zoe Lofgren</td>\n",
       "      <td>WI-8,Wisconsin,United States</td>\n",
       "      <td>19</td>\n",
       "    </tr>\n",
       "    <tr>\n",
       "      <th>36119472</th>\n",
       "      <td>20210331</td>\n",
       "      <td>Zoe Lofgren</td>\n",
       "      <td>WV-1,West Virginia,United States</td>\n",
       "      <td>19</td>\n",
       "    </tr>\n",
       "    <tr>\n",
       "      <th>36119473</th>\n",
       "      <td>20210331</td>\n",
       "      <td>Zoe Lofgren</td>\n",
       "      <td>WV-2,West Virginia,United States</td>\n",
       "      <td>19</td>\n",
       "    </tr>\n",
       "    <tr>\n",
       "      <th>36119474</th>\n",
       "      <td>20210331</td>\n",
       "      <td>Zoe Lofgren</td>\n",
       "      <td>WV-3,West Virginia,United States</td>\n",
       "      <td>19</td>\n",
       "    </tr>\n",
       "    <tr>\n",
       "      <th>36119475</th>\n",
       "      <td>20210331</td>\n",
       "      <td>Zoe Lofgren</td>\n",
       "      <td>WY-AT LARGE,Wyoming,United States</td>\n",
       "      <td>17</td>\n",
       "    </tr>\n",
       "  </tbody>\n",
       "</table>\n",
       "<p>36119476 rows × 4 columns</p>\n",
       "</div>"
      ],
      "text/plain": [
       "          crawl_id              qry                             loc_id  counts\n",
       "0         20200901  Abby Finkenauer   AK-AT LARGE,Alaska,United States       6\n",
       "1         20200901  Abby Finkenauer         AL-1,Alabama,United States      23\n",
       "2         20200901  Abby Finkenauer         AL-2,Alabama,United States      15\n",
       "3         20200901  Abby Finkenauer         AL-3,Alabama,United States      23\n",
       "4         20200901  Abby Finkenauer         AL-4,Alabama,United States      15\n",
       "...            ...              ...                                ...     ...\n",
       "36119471  20210331      Zoe Lofgren       WI-8,Wisconsin,United States      19\n",
       "36119472  20210331      Zoe Lofgren   WV-1,West Virginia,United States      19\n",
       "36119473  20210331      Zoe Lofgren   WV-2,West Virginia,United States      19\n",
       "36119474  20210331      Zoe Lofgren   WV-3,West Virginia,United States      19\n",
       "36119475  20210331      Zoe Lofgren  WY-AT LARGE,Wyoming,United States      17\n",
       "\n",
       "[36119476 rows x 4 columns]"
      ]
     },
     "execution_count": 3,
     "metadata": {},
     "output_type": "execute_result"
    }
   ],
   "source": [
    "results"
   ]
  },
  {
   "cell_type": "markdown",
   "id": "9a99dd52-80f2-4e55-88cd-128c33c04250",
   "metadata": {},
   "source": [
    "# Number of qry"
   ]
  },
  {
   "cell_type": "markdown",
   "id": "97628dbf-e760-4e66-9ff6-64967a02cde2",
   "metadata": {},
   "source": [
    "The number of unique names of U.S. representatives members used as queries that are included in the final analysis."
   ]
  },
  {
   "cell_type": "code",
   "execution_count": 4,
   "id": "2dc4e19f-1bc1-4324-b772-b781d5adad00",
   "metadata": {},
   "outputs": [],
   "source": [
    "qry_counts = results.groupby(['qry'], dropna=True, as_index=False)['counts'].sum()"
   ]
  },
  {
   "cell_type": "code",
   "execution_count": 5,
   "id": "020ba657-776b-46a4-b4ed-c579a484fd14",
   "metadata": {
    "scrolled": true
   },
   "outputs": [
    {
     "data": {
      "text/plain": [
       "425"
      ]
     },
     "execution_count": 5,
     "metadata": {},
     "output_type": "execute_result"
    }
   ],
   "source": [
    "len(qry_counts)"
   ]
  },
  {
   "cell_type": "markdown",
   "id": "5861b108-60dd-419d-966b-1c703094fc49",
   "metadata": {},
   "source": [
    "# Total results"
   ]
  },
  {
   "cell_type": "markdown",
   "id": "0fa9a37e-af2c-461c-9750-4a77650d611e",
   "metadata": {},
   "source": [
    "The total number of urls (i.e. results) in the search results."
   ]
  },
  {
   "cell_type": "code",
   "execution_count": 6,
   "id": "f23c72dd-85f0-4358-ad7b-bab207479ab2",
   "metadata": {},
   "outputs": [
    {
     "data": {
      "text/plain": [
       "np.int64(660900513)"
      ]
     },
     "execution_count": 6,
     "metadata": {},
     "output_type": "execute_result"
    }
   ],
   "source": [
    "results['counts'].sum()"
   ]
  },
  {
   "cell_type": "code",
   "execution_count": 41,
   "id": "0bbd0639-6c9b-4a61-8323-7dd159b7eae6",
   "metadata": {},
   "outputs": [
    {
     "data": {
      "text/plain": [
       "183894697"
      ]
     },
     "execution_count": 41,
     "metadata": {},
     "output_type": "execute_result"
    }
   ],
   "source": [
    "844795210 - 660900513"
   ]
  },
  {
   "cell_type": "code",
   "execution_count": 42,
   "id": "cbabac2e-65dd-4f7b-a298-19c3b09ee120",
   "metadata": {},
   "outputs": [
    {
     "data": {
      "text/plain": [
       "84.5492859770115"
      ]
     },
     "execution_count": 42,
     "metadata": {},
     "output_type": "execute_result"
    }
   ],
   "source": [
    "183894697/200/435/25"
   ]
  },
  {
   "cell_type": "markdown",
   "id": "d2bdb163-1a9e-474f-8bf6-8d4cc5045087",
   "metadata": {},
   "source": [
    "# Total without NA"
   ]
  },
  {
   "cell_type": "code",
   "execution_count": 44,
   "id": "7c84ddfc-2310-4a8b-90d8-05b1437c644c",
   "metadata": {},
   "outputs": [
    {
     "data": {
      "text/plain": [
       "np.int64(633984769)"
      ]
     },
     "execution_count": 44,
     "metadata": {},
     "output_type": "execute_result"
    }
   ],
   "source": [
    "results.dropna()['counts'].sum()"
   ]
  },
  {
   "cell_type": "markdown",
   "id": "c1a2e31e-9148-4fae-bc9d-9603f32b63cf",
   "metadata": {},
   "source": [
    "# Number of days"
   ]
  },
  {
   "cell_type": "markdown",
   "id": "6115fd82-2ae1-419d-81b8-65165f458c31",
   "metadata": {},
   "source": [
    "The number of days that searches are successful."
   ]
  },
  {
   "cell_type": "code",
   "execution_count": 7,
   "id": "7cc45140-08ba-47a5-b511-00baf3a7c3ae",
   "metadata": {},
   "outputs": [],
   "source": [
    "day_counts = results.groupby(['crawl_id'], dropna=True, as_index=False)['counts'].sum()"
   ]
  },
  {
   "cell_type": "code",
   "execution_count": 8,
   "id": "c1cc1c64-d96c-4a58-a42e-8291a3b6c35b",
   "metadata": {},
   "outputs": [],
   "source": [
    "day_counts['date']= pd.to_datetime(day_counts['crawl_id'], format='%Y%m%d')"
   ]
  },
  {
   "cell_type": "code",
   "execution_count": 9,
   "id": "c30f6e9d-174f-44ae-b875-e4bafc789f84",
   "metadata": {},
   "outputs": [],
   "source": [
    "day_counts = day_counts.sort_values('date', ascending=True)"
   ]
  },
  {
   "cell_type": "code",
   "execution_count": 34,
   "id": "9cff7c49-d07f-416d-83c3-2c43b9745ea6",
   "metadata": {},
   "outputs": [
    {
     "data": {
      "text/plain": [
       "200"
      ]
     },
     "execution_count": 34,
     "metadata": {},
     "output_type": "execute_result"
    }
   ],
   "source": [
    "len(day_counts)"
   ]
  },
  {
   "cell_type": "code",
   "execution_count": 10,
   "id": "9be4cbd0-33a2-48a2-9b2d-9cedcd2dd31c",
   "metadata": {},
   "outputs": [
    {
     "data": {
      "image/png": "[encoded data removed]",
      "text/plain": [
       "<Figure size 1200x400 with 1 Axes>"
      ]
     },
     "metadata": {},
     "output_type": "display_data"
    }
   ],
   "source": [
    "fig = plt.figure(figsize = (12, 4))\n",
    "\n",
    "plt.bar(day_counts['date'], day_counts['counts'])\n",
    "plt.xticks(rotation='vertical')\n",
    "\n",
    "plt.ylabel(\"Number of search results\")\n",
    "plt.title(\"Number of search results per day\")\n",
    "plt.savefig(\"../data/plots/num_results_by_day.png\", bbox_inches='tight', dpi=200) \n",
    "plt.show()"
   ]
  },
  {
   "cell_type": "markdown",
   "id": "b2002739-47cd-40f7-bcd1-d748595459b7",
   "metadata": {},
   "source": [
    "## Daily resutls"
   ]
  },
  {
   "cell_type": "markdown",
   "id": "95ba36d5-3f21-4cb1-923d-690d7ac8f8dc",
   "metadata": {},
   "source": [
    "Average number of results per qry per location for a day."
   ]
  },
  {
   "cell_type": "code",
   "execution_count": 11,
   "id": "447dbab9-dc17-4e72-8852-b2973a40248f",
   "metadata": {},
   "outputs": [],
   "source": [
    "avg_num_result_per_page = results['counts'].mean()"
   ]
  },
  {
   "cell_type": "code",
   "execution_count": 12,
   "id": "cef604c2-93b5-494f-9b0c-47560dbade81",
   "metadata": {},
   "outputs": [
    {
     "data": {
      "text/plain": [
       "np.float64(18.29762184257601)"
      ]
     },
     "execution_count": 12,
     "metadata": {},
     "output_type": "execute_result"
    }
   ],
   "source": [
    "avg_num_result_per_page"
   ]
  },
  {
   "cell_type": "markdown",
   "id": "e95e75a1-99cc-4d65-ad5a-c2b13cce5355",
   "metadata": {},
   "source": [
    "# Get non-processed dates"
   ]
  },
  {
   "cell_type": "markdown",
   "id": "bca73660-bed1-4a7f-a5d8-22282fd3c640",
   "metadata": {},
   "source": [
    "Get the missing dates that are not in the data due to techniqual issue on these days."
   ]
  },
  {
   "cell_type": "code",
   "execution_count": 13,
   "id": "c530946e-0b89-466c-af57-d02865a8c3c6",
   "metadata": {},
   "outputs": [],
   "source": [
    "from datetime import date, timedelta\n",
    "\n",
    "sdate = date(2020,9,1)   # start date\n",
    "edate = date(2021,4,1)   # end date"
   ]
  },
  {
   "cell_type": "code",
   "execution_count": 14,
   "id": "52e3c1ab-9235-4b90-a58f-d2e730179d00",
   "metadata": {},
   "outputs": [],
   "source": [
    "natural_dates = pd.date_range(sdate,edate-timedelta(days=1),freq='d').strftime('%Y%m%d').tolist()"
   ]
  },
  {
   "cell_type": "code",
   "execution_count": 30,
   "id": "c56211fd-4646-4e71-a7f3-bda6dec77adb",
   "metadata": {},
   "outputs": [],
   "source": [
    "dates_in_data = day_counts['crawl_id'].astype(\"string\").unique().tolist()"
   ]
  },
  {
   "cell_type": "code",
   "execution_count": 32,
   "id": "b8e13caa-f90f-4446-ba1b-e061d1c6e25c",
   "metadata": {},
   "outputs": [],
   "source": [
    "missing_dates = set(natural_dates) - set(dates_in_data)"
   ]
  },
  {
   "cell_type": "code",
   "execution_count": 33,
   "id": "bd94b493-d813-492d-8078-c328688637be",
   "metadata": {},
   "outputs": [
    {
     "data": {
      "text/plain": [
       "{'20200916',\n",
       " '20200917',\n",
       " '20200918',\n",
       " '20200922',\n",
       " '20200923',\n",
       " '20200924',\n",
       " '20200925',\n",
       " '20200926',\n",
       " '20200927',\n",
       " '20200928',\n",
       " '20210102',\n",
       " '20210103'}"
      ]
     },
     "execution_count": 33,
     "metadata": {},
     "output_type": "execute_result"
    }
   ],
   "source": [
    "missing_dates"
   ]
  },
  {
   "cell_type": "markdown",
   "id": "53c991eb-5faa-4441-9cc7-2bdade99f5d8",
   "metadata": {},
   "source": [
    "# Check daily location"
   ]
  },
  {
   "cell_type": "markdown",
   "id": "aec56965-c6fe-437a-a5f4-590d180c077a",
   "metadata": {},
   "source": [
    "check the number of locations that searches are successfully simulated from for each day. It is supposed to be 435 congressional districts and 1 general serach."
   ]
  },
  {
   "cell_type": "code",
   "execution_count": 42,
   "id": "6a902ee3-826c-49b7-b436-8a4258b6cc96",
   "metadata": {},
   "outputs": [],
   "source": [
    "loc_counts = results.groupby(['crawl_id', 'qry'], dropna=True, as_index=False)['loc_id'].count()"
   ]
  },
  {
   "cell_type": "code",
   "execution_count": 43,
   "id": "773acdd7-389b-4233-bb67-f74d2c992adc",
   "metadata": {},
   "outputs": [
    {
     "data": {
      "text/html": [
       "<div>\n",
       "<style scoped>\n",
       "    .dataframe tbody tr th:only-of-type {\n",
       "        vertical-align: middle;\n",
       "    }\n",
       "\n",
       "    .dataframe tbody tr th {\n",
       "        vertical-align: top;\n",
       "    }\n",
       "\n",
       "    .dataframe thead th {\n",
       "        text-align: right;\n",
       "    }\n",
       "</style>\n",
       "<table border=\"1\" class=\"dataframe\">\n",
       "  <thead>\n",
       "    <tr style=\"text-align: right;\">\n",
       "      <th></th>\n",
       "      <th>crawl_id</th>\n",
       "      <th>qry</th>\n",
       "      <th>loc_id</th>\n",
       "    </tr>\n",
       "  </thead>\n",
       "  <tbody>\n",
       "    <tr>\n",
       "      <th>0</th>\n",
       "      <td>20200901</td>\n",
       "      <td>Abby Finkenauer</td>\n",
       "      <td>436</td>\n",
       "    </tr>\n",
       "    <tr>\n",
       "      <th>1</th>\n",
       "      <td>20200901</td>\n",
       "      <td>Abigail Spanberger</td>\n",
       "      <td>436</td>\n",
       "    </tr>\n",
       "    <tr>\n",
       "      <th>2</th>\n",
       "      <td>20200901</td>\n",
       "      <td>Adam Kinzinger</td>\n",
       "      <td>436</td>\n",
       "    </tr>\n",
       "    <tr>\n",
       "      <th>3</th>\n",
       "      <td>20200901</td>\n",
       "      <td>Adam Schiff</td>\n",
       "      <td>436</td>\n",
       "    </tr>\n",
       "    <tr>\n",
       "      <th>4</th>\n",
       "      <td>20200901</td>\n",
       "      <td>Adam Smith</td>\n",
       "      <td>436</td>\n",
       "    </tr>\n",
       "    <tr>\n",
       "      <th>...</th>\n",
       "      <td>...</td>\n",
       "      <td>...</td>\n",
       "      <td>...</td>\n",
       "    </tr>\n",
       "    <tr>\n",
       "      <th>84650</th>\n",
       "      <td>20210331</td>\n",
       "      <td>Will Hurd</td>\n",
       "      <td>436</td>\n",
       "    </tr>\n",
       "    <tr>\n",
       "      <th>84651</th>\n",
       "      <td>20210331</td>\n",
       "      <td>William Timmons</td>\n",
       "      <td>436</td>\n",
       "    </tr>\n",
       "    <tr>\n",
       "      <th>84652</th>\n",
       "      <td>20210331</td>\n",
       "      <td>Xochitl Torres Small</td>\n",
       "      <td>436</td>\n",
       "    </tr>\n",
       "    <tr>\n",
       "      <th>84653</th>\n",
       "      <td>20210331</td>\n",
       "      <td>Yvette Clarke</td>\n",
       "      <td>436</td>\n",
       "    </tr>\n",
       "    <tr>\n",
       "      <th>84654</th>\n",
       "      <td>20210331</td>\n",
       "      <td>Zoe Lofgren</td>\n",
       "      <td>436</td>\n",
       "    </tr>\n",
       "  </tbody>\n",
       "</table>\n",
       "<p>84655 rows × 3 columns</p>\n",
       "</div>"
      ],
      "text/plain": [
       "       crawl_id                   qry  loc_id\n",
       "0      20200901       Abby Finkenauer     436\n",
       "1      20200901    Abigail Spanberger     436\n",
       "2      20200901        Adam Kinzinger     436\n",
       "3      20200901           Adam Schiff     436\n",
       "4      20200901            Adam Smith     436\n",
       "...         ...                   ...     ...\n",
       "84650  20210331             Will Hurd     436\n",
       "84651  20210331       William Timmons     436\n",
       "84652  20210331  Xochitl Torres Small     436\n",
       "84653  20210331         Yvette Clarke     436\n",
       "84654  20210331           Zoe Lofgren     436\n",
       "\n",
       "[84655 rows x 3 columns]"
      ]
     },
     "execution_count": 43,
     "metadata": {},
     "output_type": "execute_result"
    }
   ],
   "source": [
    "loc_counts"
   ]
  },
  {
   "cell_type": "code",
   "execution_count": 44,
   "id": "ba1f6d96-8837-4f11-bac3-dd19c00b74c5",
   "metadata": {},
   "outputs": [
    {
     "data": {
      "image/png": "[encoded data removed]",
      "text/plain": [
       "<Figure size 1200x800 with 1 Axes>"
      ]
     },
     "metadata": {},
     "output_type": "display_data"
    }
   ],
   "source": [
    "fig = plt.figure(figsize = (12, 8))\n",
    "\n",
    "plt.hist(loc_counts['loc_id'], edgecolor='black', bins=50)\n",
    "# plt.xticks(rotation='vertical')\n",
    " \n",
    "plt.xlabel(\"Locations searched\")\n",
    "plt.ylabel(\"Number of qry\")\n",
    "plt.title(\"Distribution of number of location searched per qry (should be 435)\")\n",
    "plt.savefig(\"../data/plots/loc_counts_distribution.png\", bbox_inches='tight', dpi=200) \n",
    "plt.show()"
   ]
  },
  {
   "cell_type": "code",
   "execution_count": 47,
   "id": "bcd51161-fb19-4652-b290-0b499ed86392",
   "metadata": {},
   "outputs": [
    {
     "data": {
      "text/plain": [
       "array(['AK-AT LARGE,Alaska,United States', 'AL-1,Alabama,United States',\n",
       "       'AL-2,Alabama,United States', 'AL-3,Alabama,United States',\n",
       "       'AL-4,Alabama,United States', 'AL-5,Alabama,United States',\n",
       "       'AL-6,Alabama,United States', 'AL-7,Alabama,United States',\n",
       "       'AR-1,Arkansas,United States', 'AR-2,Arkansas,United States',\n",
       "       'AR-3,Arkansas,United States', 'AR-4,Arkansas,United States',\n",
       "       'AZ-1,Arizona,United States', 'AZ-2,Arizona,United States',\n",
       "       'AZ-3,Arizona,United States', 'AZ-4,Arizona,United States',\n",
       "       'AZ-5,Arizona,United States', 'AZ-6,Arizona,United States',\n",
       "       'AZ-7,Arizona,United States', 'AZ-8,Arizona,United States',\n",
       "       'AZ-9,Arizona,United States', 'CA-1,California,United States',\n",
       "       'CA-10,California,United States', 'CA-11,California,United States',\n",
       "       'CA-12,California,United States', 'CA-13,California,United States',\n",
       "       'CA-14,California,United States', 'CA-15,California,United States',\n",
       "       'CA-16,California,United States', 'CA-17,California,United States',\n",
       "       'CA-18,California,United States', 'CA-19,California,United States',\n",
       "       'CA-2,California,United States', 'CA-20,California,United States',\n",
       "       'CA-21,California,United States', 'CA-22,California,United States',\n",
       "       'CA-23,California,United States', 'CA-24,California,United States',\n",
       "       'CA-25,California,United States', 'CA-26,California,United States',\n",
       "       'CA-27,California,United States', 'CA-28,California,United States',\n",
       "       'CA-29,California,United States', 'CA-3,California,United States',\n",
       "       'CA-30,California,United States', 'CA-31,California,United States',\n",
       "       'CA-32,California,United States', 'CA-33,California,United States',\n",
       "       'CA-34,California,United States', 'CA-35,California,United States',\n",
       "       'CA-36,California,United States', 'CA-37,California,United States',\n",
       "       'CA-38,California,United States', 'CA-39,California,United States',\n",
       "       'CA-4,California,United States', 'CA-40,California,United States',\n",
       "       'CA-41,California,United States', 'CA-42,California,United States',\n",
       "       'CA-43,California,United States', 'CA-44,California,United States',\n",
       "       'CA-46,California,United States', 'CA-47,California,United States',\n",
       "       'CA-48,California,United States', 'CA-49,California,United States',\n",
       "       'CA-5,California,United States', 'CA-50,California,United States',\n",
       "       'CA-51,California,United States', 'CA-52,California,United States',\n",
       "       'CA-53,California,United States', 'CA-7,California,United States',\n",
       "       'CA-8,California,United States', 'CA-9,California,United States',\n",
       "       'CO-1,Colorado,United States', 'CO-2,Colorado,United States',\n",
       "       'CO-3,Colorado,United States', 'CO-4,Colorado,United States',\n",
       "       'CO-5,Colorado,United States', 'CO-6,Colorado,United States',\n",
       "       'CO-7,Colorado,United States', 'CT-1,Connecticut,United States',\n",
       "       'CT-2,Connecticut,United States', 'CT-3,Connecticut,United States',\n",
       "       'CT-4,Connecticut,United States', 'CT-5,Connecticut,United States',\n",
       "       'Congressional District 1,Hawaii,United States',\n",
       "       'Congressional District 45,California,United States',\n",
       "       'Congressional District 6,California,United States',\n",
       "       'DC-AT LARGE,District of Columbia,United States',\n",
       "       'DE-AT LARGE,Delaware,United States', 'FL-1,Florida,United States',\n",
       "       'FL-10,Florida,United States', 'FL-11,Florida,United States',\n",
       "       'FL-12,Florida,United States', 'FL-13,Florida,United States',\n",
       "       'FL-14,Florida,United States', 'FL-15,Florida,United States',\n",
       "       'FL-16,Florida,United States', 'FL-17,Florida,United States',\n",
       "       'FL-18,Florida,United States', 'FL-19,Florida,United States',\n",
       "       'FL-2,Florida,United States', 'FL-20,Florida,United States',\n",
       "       'FL-21,Florida,United States', 'FL-22,Florida,United States',\n",
       "       'FL-23,Florida,United States', 'FL-24,Florida,United States',\n",
       "       'FL-25,Florida,United States', 'FL-26,Florida,United States',\n",
       "       'FL-27,Florida,United States', 'FL-3,Florida,United States',\n",
       "       'FL-4,Florida,United States', 'FL-5,Florida,United States',\n",
       "       'FL-6,Florida,United States', 'FL-7,Florida,United States',\n",
       "       'FL-8,Florida,United States', 'FL-9,Florida,United States',\n",
       "       'GA-1,Georgia,United States', 'GA-10,Georgia,United States',\n",
       "       'GA-11,Georgia,United States', 'GA-12,Georgia,United States',\n",
       "       'GA-13,Georgia,United States', 'GA-14,Georgia,United States',\n",
       "       'GA-2,Georgia,United States', 'GA-3,Georgia,United States',\n",
       "       'GA-4,Georgia,United States', 'GA-5,Georgia,United States',\n",
       "       'GA-6,Georgia,United States', 'GA-7,Georgia,United States',\n",
       "       'GA-8,Georgia,United States', 'GA-9,Georgia,United States',\n",
       "       'HI-2,Hawaii,United States', 'IA-1,Iowa,United States',\n",
       "       'IA-2,Iowa,United States', 'IA-3,Iowa,United States',\n",
       "       'IA-4,Iowa,United States', 'ID-1,Idaho,United States',\n",
       "       'ID-2,Idaho,United States', 'IL-1,Illinois,United States',\n",
       "       'IL-10,Illinois,United States', 'IL-11,Illinois,United States',\n",
       "       'IL-12,Illinois,United States', 'IL-13,Illinois,United States',\n",
       "       'IL-14,Illinois,United States', 'IL-15,Illinois,United States',\n",
       "       'IL-16,Illinois,United States', 'IL-17,Illinois,United States',\n",
       "       'IL-18,Illinois,United States', 'IL-2,Illinois,United States',\n",
       "       'IL-3,Illinois,United States', 'IL-4,Illinois,United States',\n",
       "       'IL-5,Illinois,United States', 'IL-6,Illinois,United States',\n",
       "       'IL-7,Illinois,United States', 'IL-8,Illinois,United States',\n",
       "       'IL-9,Illinois,United States', 'IN-1,Indiana,United States',\n",
       "       'IN-2,Indiana,United States', 'IN-3,Indiana,United States',\n",
       "       'IN-4,Indiana,United States', 'IN-5,Indiana,United States',\n",
       "       'IN-6,Indiana,United States', 'IN-7,Indiana,United States',\n",
       "       'IN-8,Indiana,United States', 'IN-9,Indiana,United States',\n",
       "       'KS-1,Kansas,United States', 'KS-2,Kansas,United States',\n",
       "       'KS-3,Kansas,United States', 'KS-4,Kansas,United States',\n",
       "       'KY-1,Kentucky,United States', 'KY-2,Kentucky,United States',\n",
       "       'KY-3,Kentucky,United States', 'KY-4,Kentucky,United States',\n",
       "       'KY-5,Kentucky,United States', 'KY-6,Kentucky,United States',\n",
       "       'LA-1,Louisiana,United States', 'LA-2,Louisiana,United States',\n",
       "       'LA-3,Louisiana,United States', 'LA-4,Louisiana,United States',\n",
       "       'LA-5,Louisiana,United States', 'LA-6,Louisiana,United States',\n",
       "       'MA-1,Massachusetts,United States',\n",
       "       'MA-2,Massachusetts,United States',\n",
       "       'MA-3,Massachusetts,United States',\n",
       "       'MA-4,Massachusetts,United States',\n",
       "       'MA-5,Massachusetts,United States',\n",
       "       'MA-6,Massachusetts,United States',\n",
       "       'MA-7,Massachusetts,United States',\n",
       "       'MA-8,Massachusetts,United States',\n",
       "       'MA-9,Massachusetts,United States', 'MD-1,Maryland,United States',\n",
       "       'MD-2,Maryland,United States', 'MD-3,Maryland,United States',\n",
       "       'MD-4,Maryland,United States', 'MD-5,Maryland,United States',\n",
       "       'MD-6,Maryland,United States', 'MD-7,Maryland,United States',\n",
       "       'MD-8,Maryland,United States', 'ME-1,Maine,United States',\n",
       "       'ME-2,Maine,United States', 'MI-1,Michigan,United States',\n",
       "       'MI-10,Michigan,United States', 'MI-11,Michigan,United States',\n",
       "       'MI-12,Michigan,United States', 'MI-13,Michigan,United States',\n",
       "       'MI-14,Michigan,United States', 'MI-2,Michigan,United States',\n",
       "       'MI-3,Michigan,United States', 'MI-4,Michigan,United States',\n",
       "       'MI-5,Michigan,United States', 'MI-6,Michigan,United States',\n",
       "       'MI-7,Michigan,United States', 'MI-8,Michigan,United States',\n",
       "       'MI-9,Michigan,United States', 'MN-1,Minnesota,United States',\n",
       "       'MN-2,Minnesota,United States', 'MN-3,Minnesota,United States',\n",
       "       'MN-4,Minnesota,United States', 'MN-5,Minnesota,United States',\n",
       "       'MN-6,Minnesota,United States', 'MN-7,Minnesota,United States',\n",
       "       'MN-8,Minnesota,United States', 'MO-1,Missouri,United States',\n",
       "       'MO-2,Missouri,United States', 'MO-3,Missouri,United States',\n",
       "       'MO-4,Missouri,United States', 'MO-5,Missouri,United States',\n",
       "       'MO-6,Missouri,United States', 'MO-7,Missouri,United States',\n",
       "       'MO-8,Missouri,United States', 'MS-1,Mississippi,United States',\n",
       "       'MS-2,Mississippi,United States', 'MS-3,Mississippi,United States',\n",
       "       'MS-4,Mississippi,United States',\n",
       "       'MT-AT LARGE,Montana,United States',\n",
       "       'NC-1,North Carolina,United States',\n",
       "       'NC-10,North Carolina,United States',\n",
       "       'NC-11,North Carolina,United States',\n",
       "       'NC-12,North Carolina,United States',\n",
       "       'NC-13,North Carolina,United States',\n",
       "       'NC-2,North Carolina,United States',\n",
       "       'NC-3,North Carolina,United States',\n",
       "       'NC-4,North Carolina,United States',\n",
       "       'NC-5,North Carolina,United States',\n",
       "       'NC-6,North Carolina,United States',\n",
       "       'NC-7,North Carolina,United States',\n",
       "       'NC-8,North Carolina,United States',\n",
       "       'NC-9,North Carolina,United States',\n",
       "       'ND-AT LARGE,North Dakota,United States',\n",
       "       'NE-1,Nebraska,United States', 'NE-2,Nebraska,United States',\n",
       "       'NE-3,Nebraska,United States', 'NH-1,New Hampshire,United States',\n",
       "       'NH-2,New Hampshire,United States',\n",
       "       'NJ-1,New Jersey,United States', 'NJ-10,New Jersey,United States',\n",
       "       'NJ-11,New Jersey,United States', 'NJ-12,New Jersey,United States',\n",
       "       'NJ-2,New Jersey,United States', 'NJ-3,New Jersey,United States',\n",
       "       'NJ-4,New Jersey,United States', 'NJ-5,New Jersey,United States',\n",
       "       'NJ-6,New Jersey,United States', 'NJ-7,New Jersey,United States',\n",
       "       'NJ-8,New Jersey,United States', 'NJ-9,New Jersey,United States',\n",
       "       'NM-1,New Mexico,United States', 'NM-2,New Mexico,United States',\n",
       "       'NM-3,New Mexico,United States', 'NV-1,Nevada,United States',\n",
       "       'NV-2,Nevada,United States', 'NV-3,Nevada,United States',\n",
       "       'NV-4,Nevada,United States', 'NY-1,New York,United States',\n",
       "       'NY-10,New York,United States', 'NY-11,New York,United States',\n",
       "       'NY-12,New York,United States', 'NY-13,New York,United States',\n",
       "       'NY-14,New York,United States', 'NY-15,New York,United States',\n",
       "       'NY-16,New York,United States', 'NY-17,New York,United States',\n",
       "       'NY-18,New York,United States', 'NY-19,New York,United States',\n",
       "       'NY-2,New York,United States', 'NY-20,New York,United States',\n",
       "       'NY-21,New York,United States', 'NY-22,New York,United States',\n",
       "       'NY-23,New York,United States', 'NY-24,New York,United States',\n",
       "       'NY-25,New York,United States', 'NY-26,New York,United States',\n",
       "       'NY-27,New York,United States', 'NY-3,New York,United States',\n",
       "       'NY-4,New York,United States', 'NY-5,New York,United States',\n",
       "       'NY-6,New York,United States', 'NY-7,New York,United States',\n",
       "       'NY-8,New York,United States', 'NY-9,New York,United States',\n",
       "       'OH-1,Ohio,United States', 'OH-10,Ohio,United States',\n",
       "       'OH-11,Ohio,United States', 'OH-12,Ohio,United States',\n",
       "       'OH-13,Ohio,United States', 'OH-14,Ohio,United States',\n",
       "       'OH-15,Ohio,United States', 'OH-16,Ohio,United States',\n",
       "       'OH-2,Ohio,United States', 'OH-3,Ohio,United States',\n",
       "       'OH-4,Ohio,United States', 'OH-5,Ohio,United States',\n",
       "       'OH-6,Ohio,United States', 'OH-7,Ohio,United States',\n",
       "       'OH-8,Ohio,United States', 'OH-9,Ohio,United States',\n",
       "       'OK-1,Oklahoma,United States', 'OK-2,Oklahoma,United States',\n",
       "       'OK-3,Oklahoma,United States', 'OK-4,Oklahoma,United States',\n",
       "       'OK-5,Oklahoma,United States', 'OR-1,Oregon,United States',\n",
       "       'OR-2,Oregon,United States', 'OR-3,Oregon,United States',\n",
       "       'OR-4,Oregon,United States', 'OR-5,Oregon,United States',\n",
       "       'PA-1,Pennsylvania,United States',\n",
       "       'PA-10,Pennsylvania,United States',\n",
       "       'PA-11,Pennsylvania,United States',\n",
       "       'PA-12,Pennsylvania,United States',\n",
       "       'PA-13,Pennsylvania,United States',\n",
       "       'PA-14,Pennsylvania,United States',\n",
       "       'PA-15,Pennsylvania,United States',\n",
       "       'PA-16,Pennsylvania,United States',\n",
       "       'PA-17,Pennsylvania,United States',\n",
       "       'PA-18,Pennsylvania,United States',\n",
       "       'PA-2,Pennsylvania,United States',\n",
       "       'PA-3,Pennsylvania,United States',\n",
       "       'PA-4,Pennsylvania,United States',\n",
       "       'PA-5,Pennsylvania,United States',\n",
       "       'PA-6,Pennsylvania,United States',\n",
       "       'PA-7,Pennsylvania,United States',\n",
       "       'PA-8,Pennsylvania,United States',\n",
       "       'PA-9,Pennsylvania,United States',\n",
       "       'RI-1,Rhode Island,United States',\n",
       "       'RI-2,Rhode Island,United States',\n",
       "       'SC-1,South Carolina,United States',\n",
       "       'SC-2,South Carolina,United States',\n",
       "       'SC-3,South Carolina,United States',\n",
       "       'SC-4,South Carolina,United States',\n",
       "       'SC-5,South Carolina,United States',\n",
       "       'SC-6,South Carolina,United States',\n",
       "       'SC-7,South Carolina,United States',\n",
       "       'SD-AT LARGE,South Dakota,United States',\n",
       "       'TN-1,Tennessee,United States', 'TN-2,Tennessee,United States',\n",
       "       'TN-3,Tennessee,United States', 'TN-4,Tennessee,United States',\n",
       "       'TN-5,Tennessee,United States', 'TN-6,Tennessee,United States',\n",
       "       'TN-7,Tennessee,United States', 'TN-8,Tennessee,United States',\n",
       "       'TN-9,Tennessee,United States', 'TX-1,Texas,United States',\n",
       "       'TX-10,Texas,United States', 'TX-11,Texas,United States',\n",
       "       'TX-12,Texas,United States', 'TX-13,Texas,United States',\n",
       "       'TX-14,Texas,United States', 'TX-15,Texas,United States',\n",
       "       'TX-16,Texas,United States', 'TX-17,Texas,United States',\n",
       "       'TX-18,Texas,United States', 'TX-19,Texas,United States',\n",
       "       'TX-2,Texas,United States', 'TX-20,Texas,United States',\n",
       "       'TX-21,Texas,United States', 'TX-22,Texas,United States',\n",
       "       'TX-23,Texas,United States', 'TX-24,Texas,United States',\n",
       "       'TX-25,Texas,United States', 'TX-26,Texas,United States',\n",
       "       'TX-27,Texas,United States', 'TX-28,Texas,United States',\n",
       "       'TX-29,Texas,United States', 'TX-3,Texas,United States',\n",
       "       'TX-30,Texas,United States', 'TX-31,Texas,United States',\n",
       "       'TX-32,Texas,United States', 'TX-33,Texas,United States',\n",
       "       'TX-34,Texas,United States', 'TX-35,Texas,United States',\n",
       "       'TX-36,Texas,United States', 'TX-4,Texas,United States',\n",
       "       'TX-5,Texas,United States', 'TX-6,Texas,United States',\n",
       "       'TX-7,Texas,United States', 'TX-8,Texas,United States',\n",
       "       'TX-9,Texas,United States', 'UT-1,Utah,United States',\n",
       "       'UT-2,Utah,United States', 'UT-3,Utah,United States',\n",
       "       'UT-4,Utah,United States', 'VA-1,Virginia,United States',\n",
       "       'VA-10,Virginia,United States', 'VA-11,Virginia,United States',\n",
       "       'VA-2,Virginia,United States', 'VA-3,Virginia,United States',\n",
       "       'VA-4,Virginia,United States', 'VA-5,Virginia,United States',\n",
       "       'VA-6,Virginia,United States', 'VA-7,Virginia,United States',\n",
       "       'VA-8,Virginia,United States', 'VA-9,Virginia,United States',\n",
       "       'VT-AT LARGE,Vermont,United States',\n",
       "       'WA-1,Washington,United States', 'WA-10,Washington,United States',\n",
       "       'WA-2,Washington,United States', 'WA-3,Washington,United States',\n",
       "       'WA-4,Washington,United States', 'WA-5,Washington,United States',\n",
       "       'WA-6,Washington,United States', 'WA-7,Washington,United States',\n",
       "       'WA-8,Washington,United States', 'WA-9,Washington,United States',\n",
       "       'WI-1,Wisconsin,United States', 'WI-2,Wisconsin,United States',\n",
       "       'WI-3,Wisconsin,United States', 'WI-4,Wisconsin,United States',\n",
       "       'WI-5,Wisconsin,United States', 'WI-6,Wisconsin,United States',\n",
       "       'WI-7,Wisconsin,United States', 'WI-8,Wisconsin,United States',\n",
       "       'WV-1,West Virginia,United States',\n",
       "       'WV-2,West Virginia,United States',\n",
       "       'WV-3,West Virginia,United States',\n",
       "       'WY-AT LARGE,Wyoming,United States'], dtype=object)"
      ]
     },
     "execution_count": 47,
     "metadata": {},
     "output_type": "execute_result"
    }
   ],
   "source": [
    "results['loc_id'].unique()"
   ]
  },
  {
   "cell_type": "code",
   "execution_count": null,
   "id": "03eefd27-e997-47c1-b06c-1bc5aaf38c3d",
   "metadata": {},
   "outputs": [],
   "source": []
  }
 ],
 "metadata": {
  "kernelspec": {
   "display_name": "Python 3 (ipykernel)",
   "language": "python",
   "name": "python3"
  },
  "language_info": {
   "codemirror_mode": {
    "name": "ipython",
    "version": 3
   },
   "file_extension": ".py",
   "mimetype": "text/x-python",
   "name": "python",
   "nbconvert_exporter": "python",
   "pygments_lexer": "ipython3",
   "version": "3.10.14"
  }
 },
 "nbformat": 4,
 "nbformat_minor": 5
}
