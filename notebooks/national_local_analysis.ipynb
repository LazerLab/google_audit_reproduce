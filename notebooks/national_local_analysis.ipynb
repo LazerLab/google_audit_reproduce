{
 "cells": [
  {
   "cell_type": "markdown",
   "id": "b24561d7-477c-4a33-823b-d3961446af68",
   "metadata": {},
   "source": [
    "# Analysis of national vs. local domains"
   ]
  },
  {
   "cell_type": "code",
   "execution_count": 1,
   "id": "32845577-3cce-4bff-90aa-a1c15805413c",
   "metadata": {},
   "outputs": [],
   "source": [
    "import seaborn as sns\n",
    "import matplotlib.pyplot as plt\n",
    "import pandas as pd\n",
    "import os\n",
    "import json"
   ]
  },
  {
   "cell_type": "code",
   "execution_count": 2,
   "id": "660da636-621f-4706-b225-97d0f4f5311f",
   "metadata": {},
   "outputs": [],
   "source": [
    "df_category_grouped_class = pd.read_csv(\"../data/house_analysis/domain_rank_ishome_category_counts.csv\")"
   ]
  },
  {
   "cell_type": "code",
   "execution_count": 3,
   "id": "10f8e80c-853c-4966-9eaf-f64f7baab58f",
   "metadata": {},
   "outputs": [],
   "source": [
    "# group domain, rank, and classification.\n",
    "cat_class_rank_homecheck_counts = df_category_grouped_class.groupby(['category', 'classification', 'cmpt_rank', 'is_home_district'], dropna=False, as_index=False)['counts'].sum()"
   ]
  },
  {
   "cell_type": "code",
   "execution_count": 17,
   "id": "24ffb546-5806-4c52-9840-d7bef99d511c",
   "metadata": {},
   "outputs": [],
   "source": [
    "total_cnt = cat_class_rank_homecheck_counts['counts'].sum()"
   ]
  },
  {
   "cell_type": "code",
   "execution_count": 18,
   "id": "d17c3270-c82e-4244-9ac4-2fbdabfefb04",
   "metadata": {},
   "outputs": [
    {
     "data": {
      "text/plain": [
       "np.int64(633984769)"
      ]
     },
     "execution_count": 18,
     "metadata": {},
     "output_type": "execute_result"
    }
   ],
   "source": [
    "total_cnt"
   ]
  },
  {
   "cell_type": "markdown",
   "id": "71ea2779-345f-480d-a5ea-99109cbf0ae4",
   "metadata": {},
   "source": [
    "## Category counts"
   ]
  },
  {
   "cell_type": "code",
   "execution_count": 4,
   "id": "d8a93663-5f5d-48e0-98af-4e0da92774c9",
   "metadata": {},
   "outputs": [],
   "source": [
    "category_counts = cat_class_rank_homecheck_counts.groupby(['category'], dropna=False, as_index=False).count()"
   ]
  },
  {
   "cell_type": "code",
   "execution_count": 5,
   "id": "46ab9916-4636-4275-a9d1-18ca7bdb268c",
   "metadata": {},
   "outputs": [],
   "source": [
    "category = cat_class_rank_homecheck_counts.groupby(['category'], dropna=False, as_index=False)['counts'].sum()"
   ]
  },
  {
   "cell_type": "code",
   "execution_count": 19,
   "id": "5e720289-ac71-4054-bdcd-58ebb1c713fe",
   "metadata": {},
   "outputs": [],
   "source": [
    "category['proportion'] = category['counts']/total_cnt"
   ]
  },
  {
   "cell_type": "code",
   "execution_count": 20,
   "id": "09b65b18-2505-4cec-aab3-3c412baf9520",
   "metadata": {},
   "outputs": [
    {
     "data": {
      "text/html": [
       "<div>\n",
       "<style scoped>\n",
       "    .dataframe tbody tr th:only-of-type {\n",
       "        vertical-align: middle;\n",
       "    }\n",
       "\n",
       "    .dataframe tbody tr th {\n",
       "        vertical-align: top;\n",
       "    }\n",
       "\n",
       "    .dataframe thead th {\n",
       "        text-align: right;\n",
       "    }\n",
       "</style>\n",
       "<table border=\"1\" class=\"dataframe\">\n",
       "  <thead>\n",
       "    <tr style=\"text-align: right;\">\n",
       "      <th></th>\n",
       "      <th>category</th>\n",
       "      <th>counts</th>\n",
       "      <th>proportion</th>\n",
       "    </tr>\n",
       "  </thead>\n",
       "  <tbody>\n",
       "    <tr>\n",
       "      <th>0</th>\n",
       "      <td>campaign_personal</td>\n",
       "      <td>36514498</td>\n",
       "      <td>0.057595</td>\n",
       "    </tr>\n",
       "    <tr>\n",
       "      <th>1</th>\n",
       "      <td>education</td>\n",
       "      <td>3367061</td>\n",
       "      <td>0.005311</td>\n",
       "    </tr>\n",
       "    <tr>\n",
       "      <th>2</th>\n",
       "      <td>gov</td>\n",
       "      <td>110713956</td>\n",
       "      <td>0.174632</td>\n",
       "    </tr>\n",
       "    <tr>\n",
       "      <th>3</th>\n",
       "      <td>news</td>\n",
       "      <td>234327716</td>\n",
       "      <td>0.369611</td>\n",
       "    </tr>\n",
       "    <tr>\n",
       "      <th>4</th>\n",
       "      <td>other_third_party</td>\n",
       "      <td>164389400</td>\n",
       "      <td>0.259296</td>\n",
       "    </tr>\n",
       "    <tr>\n",
       "      <th>5</th>\n",
       "      <td>social</td>\n",
       "      <td>84555559</td>\n",
       "      <td>0.133372</td>\n",
       "    </tr>\n",
       "    <tr>\n",
       "      <th>6</th>\n",
       "      <td>NaN</td>\n",
       "      <td>116579</td>\n",
       "      <td>0.000184</td>\n",
       "    </tr>\n",
       "  </tbody>\n",
       "</table>\n",
       "</div>"
      ],
      "text/plain": [
       "            category     counts  proportion\n",
       "0  campaign_personal   36514498    0.057595\n",
       "1          education    3367061    0.005311\n",
       "2                gov  110713956    0.174632\n",
       "3               news  234327716    0.369611\n",
       "4  other_third_party  164389400    0.259296\n",
       "5             social   84555559    0.133372\n",
       "6                NaN     116579    0.000184"
      ]
     },
     "execution_count": 20,
     "metadata": {},
     "output_type": "execute_result"
    }
   ],
   "source": [
    "category"
   ]
  },
  {
   "cell_type": "code",
   "execution_count": 7,
   "id": "eeab57ad-4ae3-41ba-bfe4-9d3cb9a56566",
   "metadata": {},
   "outputs": [
    {
     "data": {
      "text/plain": [
       "<Axes: xlabel='category'>"
      ]
     },
     "execution_count": 7,
     "metadata": {},
     "output_type": "execute_result"
    },
    {
     "data": {
      "image/png": "[encoded data removed]",
      "text/plain": [
       "<Figure size 640x480 with 1 Axes>"
      ]
     },
     "metadata": {},
     "output_type": "display_data"
    }
   ],
   "source": [
    "category.plot.bar(x='category', y='counts', rot=0)"
   ]
  },
  {
   "cell_type": "markdown",
   "id": "d7a3e3e5-c4c0-4cde-838c-1f5efde532a4",
   "metadata": {},
   "source": [
    "# Analysis of news"
   ]
  },
  {
   "cell_type": "code",
   "execution_count": 8,
   "id": "e0e4edec-e4b5-496a-8d26-1cc62426cbc2",
   "metadata": {},
   "outputs": [],
   "source": [
    "def check_is_news(col):\n",
    "    if col == \"news\":\n",
    "        return True\n",
    "    else:\n",
    "        return False"
   ]
  },
  {
   "cell_type": "code",
   "execution_count": 9,
   "id": "cd495287-3b46-4c6e-96e6-79491d04b0c9",
   "metadata": {},
   "outputs": [],
   "source": [
    "df_category_grouped_class['is_news'] = df_category_grouped_class['category'].apply(check_is_news)"
   ]
  },
  {
   "cell_type": "code",
   "execution_count": 10,
   "id": "b18f95a0-2c09-4a05-b65d-b1ba39ae51eb",
   "metadata": {},
   "outputs": [],
   "source": [
    "df_category_grouped_class = df_category_grouped_class.drop_duplicates()"
   ]
  },
  {
   "cell_type": "markdown",
   "id": "2b07ef9f-48df-48fd-85a0-1976dab36987",
   "metadata": {},
   "source": [
    "## what proportion are local"
   ]
  },
  {
   "cell_type": "markdown",
   "id": "46b04ecb-60f0-475d-9205-57d9cef5569b",
   "metadata": {},
   "source": [
    "### General local vs. national domain"
   ]
  },
  {
   "cell_type": "code",
   "execution_count": 13,
   "id": "6314af2a-63d1-4c8b-988e-2172167b349d",
   "metadata": {},
   "outputs": [],
   "source": [
    "total_class_grouped = df_category_grouped_class.groupby(['classification'], dropna=False, as_index=False)['counts'].sum()"
   ]
  },
  {
   "cell_type": "code",
   "execution_count": 15,
   "id": "a959420b-5930-4237-a3b1-6d6fc248120d",
   "metadata": {},
   "outputs": [],
   "source": [
    "total_class_grouped['rate']=total_class_grouped['counts']/total_cnt"
   ]
  },
  {
   "cell_type": "code",
   "execution_count": 16,
   "id": "6adaf2ae-6e3a-4ef2-b6bd-512d45241568",
   "metadata": {},
   "outputs": [
    {
     "data": {
      "text/html": [
       "<div>\n",
       "<style scoped>\n",
       "    .dataframe tbody tr th:only-of-type {\n",
       "        vertical-align: middle;\n",
       "    }\n",
       "\n",
       "    .dataframe tbody tr th {\n",
       "        vertical-align: top;\n",
       "    }\n",
       "\n",
       "    .dataframe thead th {\n",
       "        text-align: right;\n",
       "    }\n",
       "</style>\n",
       "<table border=\"1\" class=\"dataframe\">\n",
       "  <thead>\n",
       "    <tr style=\"text-align: right;\">\n",
       "      <th></th>\n",
       "      <th>classification</th>\n",
       "      <th>counts</th>\n",
       "      <th>rate</th>\n",
       "    </tr>\n",
       "  </thead>\n",
       "  <tbody>\n",
       "    <tr>\n",
       "      <th>0</th>\n",
       "      <td>local</td>\n",
       "      <td>161412631</td>\n",
       "      <td>0.254600</td>\n",
       "    </tr>\n",
       "    <tr>\n",
       "      <th>1</th>\n",
       "      <td>national</td>\n",
       "      <td>80505340</td>\n",
       "      <td>0.126983</td>\n",
       "    </tr>\n",
       "    <tr>\n",
       "      <th>2</th>\n",
       "      <td>no_news</td>\n",
       "      <td>312564749</td>\n",
       "      <td>0.493016</td>\n",
       "    </tr>\n",
       "    <tr>\n",
       "      <th>3</th>\n",
       "      <td>other news</td>\n",
       "      <td>8359061</td>\n",
       "      <td>0.013185</td>\n",
       "    </tr>\n",
       "    <tr>\n",
       "      <th>4</th>\n",
       "      <td>NaN</td>\n",
       "      <td>71142988</td>\n",
       "      <td>0.112216</td>\n",
       "    </tr>\n",
       "  </tbody>\n",
       "</table>\n",
       "</div>"
      ],
      "text/plain": [
       "  classification     counts      rate\n",
       "0          local  161412631  0.254600\n",
       "1       national   80505340  0.126983\n",
       "2        no_news  312564749  0.493016\n",
       "3     other news    8359061  0.013185\n",
       "4            NaN   71142988  0.112216"
      ]
     },
     "execution_count": 16,
     "metadata": {},
     "output_type": "execute_result"
    }
   ],
   "source": [
    "total_class_grouped"
   ]
  },
  {
   "cell_type": "markdown",
   "id": "781292b2-5a70-408b-9bd7-1d2e02b05166",
   "metadata": {},
   "source": [
    "### Local vs. national news"
   ]
  },
  {
   "cell_type": "code",
   "execution_count": 22,
   "id": "dacc0171-d993-4f90-8d38-2273bf05387e",
   "metadata": {},
   "outputs": [],
   "source": [
    "news_only = df_category_grouped_class[df_category_grouped_class['is_news']==True]"
   ]
  },
  {
   "cell_type": "code",
   "execution_count": 23,
   "id": "e8d6d700-8457-486f-956f-c5b9abd430c2",
   "metadata": {},
   "outputs": [],
   "source": [
    "news_total = news_only['counts'].sum()"
   ]
  },
  {
   "cell_type": "code",
   "execution_count": 24,
   "id": "0c44be63-9073-473e-a6c0-14a6690f4563",
   "metadata": {},
   "outputs": [],
   "source": [
    "class_grouped = news_only.groupby(['classification'], dropna=False, as_index=False)['counts'].sum()"
   ]
  },
  {
   "cell_type": "code",
   "execution_count": 25,
   "id": "20a92556-cd5f-4a94-950a-040684edf7a1",
   "metadata": {},
   "outputs": [],
   "source": [
    "class_grouped['rate'] = class_grouped['counts']/news_total"
   ]
  },
  {
   "cell_type": "code",
   "execution_count": 26,
   "id": "ea702f1a-8547-45b8-9105-f62fd034d0aa",
   "metadata": {},
   "outputs": [
    {
     "data": {
      "text/html": [
       "<div>\n",
       "<style scoped>\n",
       "    .dataframe tbody tr th:only-of-type {\n",
       "        vertical-align: middle;\n",
       "    }\n",
       "\n",
       "    .dataframe tbody tr th {\n",
       "        vertical-align: top;\n",
       "    }\n",
       "\n",
       "    .dataframe thead th {\n",
       "        text-align: right;\n",
       "    }\n",
       "</style>\n",
       "<table border=\"1\" class=\"dataframe\">\n",
       "  <thead>\n",
       "    <tr style=\"text-align: right;\">\n",
       "      <th></th>\n",
       "      <th>classification</th>\n",
       "      <th>counts</th>\n",
       "      <th>rate</th>\n",
       "    </tr>\n",
       "  </thead>\n",
       "  <tbody>\n",
       "    <tr>\n",
       "      <th>0</th>\n",
       "      <td>local</td>\n",
       "      <td>131312908</td>\n",
       "      <td>0.560381</td>\n",
       "    </tr>\n",
       "    <tr>\n",
       "      <th>1</th>\n",
       "      <td>national</td>\n",
       "      <td>76405444</td>\n",
       "      <td>0.326062</td>\n",
       "    </tr>\n",
       "    <tr>\n",
       "      <th>2</th>\n",
       "      <td>no_news</td>\n",
       "      <td>613436</td>\n",
       "      <td>0.002618</td>\n",
       "    </tr>\n",
       "    <tr>\n",
       "      <th>3</th>\n",
       "      <td>other news</td>\n",
       "      <td>8359061</td>\n",
       "      <td>0.035673</td>\n",
       "    </tr>\n",
       "    <tr>\n",
       "      <th>4</th>\n",
       "      <td>NaN</td>\n",
       "      <td>17636867</td>\n",
       "      <td>0.075266</td>\n",
       "    </tr>\n",
       "  </tbody>\n",
       "</table>\n",
       "</div>"
      ],
      "text/plain": [
       "  classification     counts      rate\n",
       "0          local  131312908  0.560381\n",
       "1       national   76405444  0.326062\n",
       "2        no_news     613436  0.002618\n",
       "3     other news    8359061  0.035673\n",
       "4            NaN   17636867  0.075266"
      ]
     },
     "execution_count": 26,
     "metadata": {},
     "output_type": "execute_result"
    }
   ],
   "source": [
    "class_grouped"
   ]
  },
  {
   "cell_type": "markdown",
   "id": "9ca514ba-096f-4796-9c56-b81323b0651e",
   "metadata": {},
   "source": [
    "## rank of non_news, local, and national"
   ]
  },
  {
   "cell_type": "code",
   "execution_count": 27,
   "id": "a3fff0ab-e964-46f4-8cb5-760c63b04bbe",
   "metadata": {},
   "outputs": [],
   "source": [
    "def label_non_local_national(row):\n",
    "    if not row['is_news']:\n",
    "        return 'no_news'\n",
    "    else:\n",
    "        return row['classification']"
   ]
  },
  {
   "cell_type": "code",
   "execution_count": 28,
   "id": "c72ba14b-67a4-4af3-868e-a29157ecb9ea",
   "metadata": {},
   "outputs": [],
   "source": [
    "df_category_grouped_class['label'] = df_category_grouped_class.apply(label_non_local_national, axis=1)"
   ]
  },
  {
   "cell_type": "code",
   "execution_count": 29,
   "id": "93940293-fd7e-424e-9c87-7e4dcec7fbc0",
   "metadata": {},
   "outputs": [],
   "source": [
    "label_grouped = df_category_grouped_class.groupby(['label', 'cmpt_rank'], dropna=True, as_index=False)['counts'].sum()"
   ]
  },
  {
   "cell_type": "code",
   "execution_count": 30,
   "id": "acf150d9-0b17-4d6c-9b03-3f5dcda9d6e5",
   "metadata": {},
   "outputs": [],
   "source": [
    "label_grouped_matrix = label_grouped.pivot_table(index='label', columns='cmpt_rank', values='counts')"
   ]
  },
  {
   "cell_type": "code",
   "execution_count": 31,
   "id": "bcfd9d79-a193-4624-a6fe-b9b92f918324",
   "metadata": {},
   "outputs": [],
   "source": [
    "# Calculate the sum of each row\n",
    "label_grouped_matrix['row_sum'] = label_grouped_matrix.sum(axis=1)\n",
    "\n",
    "# Sort the DataFrame by the sum of each row\n",
    "label_grouped_matrix_sorted = label_grouped_matrix.sort_values(by='row_sum', ascending=False)\n",
    "\n",
    "# Drop the 'row_sum' column for heatmap\n",
    "label_grouped_matrix_sorted = label_grouped_matrix_sorted.drop(columns='row_sum')"
   ]
  },
  {
   "cell_type": "code",
   "execution_count": 32,
   "id": "bbd75e15-841f-44c6-86fd-f92fa8d719ce",
   "metadata": {},
   "outputs": [],
   "source": [
    "label_grouped_matrix_sorted_norm = label_grouped_matrix_sorted.div(label_grouped_matrix_sorted.sum(axis=1), axis=0)"
   ]
  },
  {
   "cell_type": "code",
   "execution_count": 33,
   "id": "07dc120e-437d-4822-8e6f-d03f961612a0",
   "metadata": {},
   "outputs": [
    {
     "data": {
      "image/png": "[encoded data removed]",
      "text/plain": [
       "<Figure size 600x400 with 2 Axes>"
      ]
     },
     "metadata": {},
     "output_type": "display_data"
    }
   ],
   "source": [
    "fig, ax = plt.subplots(figsize=(6,4)); \n",
    "plt.xticks(fontsize=20)\n",
    "plt.yticks(fontsize=20)\n",
    "sns.heatmap(label_grouped_matrix_sorted_norm , cmap='YlGnBu', annot=False, fmt='0.0f')\n",
    "plt.savefig(\"../data/plots/domain_label_rank_norm.png\", bbox_inches='tight', dpi=200) \n",
    "plt.show()"
   ]
  },
  {
   "cell_type": "markdown",
   "id": "501a0533-511c-4971-949c-980ac7285328",
   "metadata": {},
   "source": [
    "## local vs. other place"
   ]
  },
  {
   "cell_type": "code",
   "execution_count": 34,
   "id": "c8705a0f-bf6c-4a49-8453-28bbe0ddae11",
   "metadata": {},
   "outputs": [],
   "source": [
    "local = df_category_grouped_class[df_category_grouped_class['is_home_district']==True]"
   ]
  },
  {
   "cell_type": "code",
   "execution_count": 39,
   "id": "0b4308eb-f6f0-4fc1-aa44-9a659a904fee",
   "metadata": {},
   "outputs": [],
   "source": [
    "local_news_only = local[local['is_news']==True]"
   ]
  },
  {
   "cell_type": "code",
   "execution_count": 40,
   "id": "569625a5-ca03-4c19-9ed0-6720504dca56",
   "metadata": {},
   "outputs": [],
   "source": [
    "local_news_total = local_news_only['counts'].sum()"
   ]
  },
  {
   "cell_type": "code",
   "execution_count": 41,
   "id": "ed0b622b-176a-4e25-9300-27706588a873",
   "metadata": {},
   "outputs": [],
   "source": [
    "local_class_grouped = local_news_only.groupby(['classification'], dropna=False, as_index=False)['counts'].sum()"
   ]
  },
  {
   "cell_type": "code",
   "execution_count": 42,
   "id": "a72fd4b1-a86e-472d-975f-1ff141898aeb",
   "metadata": {},
   "outputs": [],
   "source": [
    "local_class_grouped['rate'] = local_class_grouped['counts']/local_news_total"
   ]
  },
  {
   "cell_type": "code",
   "execution_count": 43,
   "id": "73182a82-4e61-4a5d-bb03-f4e472b33dbf",
   "metadata": {},
   "outputs": [
    {
     "data": {
      "text/html": [
       "<div>\n",
       "<style scoped>\n",
       "    .dataframe tbody tr th:only-of-type {\n",
       "        vertical-align: middle;\n",
       "    }\n",
       "\n",
       "    .dataframe tbody tr th {\n",
       "        vertical-align: top;\n",
       "    }\n",
       "\n",
       "    .dataframe thead th {\n",
       "        text-align: right;\n",
       "    }\n",
       "</style>\n",
       "<table border=\"1\" class=\"dataframe\">\n",
       "  <thead>\n",
       "    <tr style=\"text-align: right;\">\n",
       "      <th></th>\n",
       "      <th>classification</th>\n",
       "      <th>counts</th>\n",
       "      <th>rate</th>\n",
       "    </tr>\n",
       "  </thead>\n",
       "  <tbody>\n",
       "    <tr>\n",
       "      <th>0</th>\n",
       "      <td>local</td>\n",
       "      <td>291866</td>\n",
       "      <td>0.569458</td>\n",
       "    </tr>\n",
       "    <tr>\n",
       "      <th>1</th>\n",
       "      <td>national</td>\n",
       "      <td>162482</td>\n",
       "      <td>0.317018</td>\n",
       "    </tr>\n",
       "    <tr>\n",
       "      <th>2</th>\n",
       "      <td>no_news</td>\n",
       "      <td>1385</td>\n",
       "      <td>0.002702</td>\n",
       "    </tr>\n",
       "    <tr>\n",
       "      <th>3</th>\n",
       "      <td>other news</td>\n",
       "      <td>18219</td>\n",
       "      <td>0.035547</td>\n",
       "    </tr>\n",
       "    <tr>\n",
       "      <th>4</th>\n",
       "      <td>NaN</td>\n",
       "      <td>38581</td>\n",
       "      <td>0.075275</td>\n",
       "    </tr>\n",
       "  </tbody>\n",
       "</table>\n",
       "</div>"
      ],
      "text/plain": [
       "  classification  counts      rate\n",
       "0          local  291866  0.569458\n",
       "1       national  162482  0.317018\n",
       "2        no_news    1385  0.002702\n",
       "3     other news   18219  0.035547\n",
       "4            NaN   38581  0.075275"
      ]
     },
     "execution_count": 43,
     "metadata": {},
     "output_type": "execute_result"
    }
   ],
   "source": [
    "local_class_grouped"
   ]
  },
  {
   "cell_type": "code",
   "execution_count": 44,
   "id": "83e5d9df-d9fa-4029-ae49-3b412a3a5734",
   "metadata": {},
   "outputs": [],
   "source": [
    "other = df_category_grouped_class[df_category_grouped_class['is_home_district']==False]"
   ]
  },
  {
   "cell_type": "code",
   "execution_count": 47,
   "id": "c6762c6e-5b5a-4fe5-b609-4012831f3c67",
   "metadata": {},
   "outputs": [],
   "source": [
    "other_news_only = other[other['is_news']==True]"
   ]
  },
  {
   "cell_type": "code",
   "execution_count": 48,
   "id": "0580ba96-9086-4321-96a1-cd2a878210a9",
   "metadata": {},
   "outputs": [],
   "source": [
    "other_news_total = other_news_only['counts'].sum()"
   ]
  },
  {
   "cell_type": "code",
   "execution_count": 49,
   "id": "20f57579-5b1f-447d-820d-c20e00ac614c",
   "metadata": {},
   "outputs": [],
   "source": [
    "other_class_grouped = other_news_only.groupby(['classification'], dropna=False, as_index=False)['counts'].sum()"
   ]
  },
  {
   "cell_type": "code",
   "execution_count": 50,
   "id": "e70cb0f0-3199-42c2-bd03-62b69814e4e3",
   "metadata": {},
   "outputs": [],
   "source": [
    "other_class_grouped['rate'] = other_class_grouped['counts']/other_news_total"
   ]
  },
  {
   "cell_type": "code",
   "execution_count": 51,
   "id": "509715a6-c0f3-499c-98c1-577c70db5803",
   "metadata": {},
   "outputs": [
    {
     "data": {
      "text/html": [
       "<div>\n",
       "<style scoped>\n",
       "    .dataframe tbody tr th:only-of-type {\n",
       "        vertical-align: middle;\n",
       "    }\n",
       "\n",
       "    .dataframe tbody tr th {\n",
       "        vertical-align: top;\n",
       "    }\n",
       "\n",
       "    .dataframe thead th {\n",
       "        text-align: right;\n",
       "    }\n",
       "</style>\n",
       "<table border=\"1\" class=\"dataframe\">\n",
       "  <thead>\n",
       "    <tr style=\"text-align: right;\">\n",
       "      <th></th>\n",
       "      <th>classification</th>\n",
       "      <th>counts</th>\n",
       "      <th>rate</th>\n",
       "    </tr>\n",
       "  </thead>\n",
       "  <tbody>\n",
       "    <tr>\n",
       "      <th>0</th>\n",
       "      <td>local</td>\n",
       "      <td>131021042</td>\n",
       "      <td>0.560362</td>\n",
       "    </tr>\n",
       "    <tr>\n",
       "      <th>1</th>\n",
       "      <td>national</td>\n",
       "      <td>76242962</td>\n",
       "      <td>0.326082</td>\n",
       "    </tr>\n",
       "    <tr>\n",
       "      <th>2</th>\n",
       "      <td>no_news</td>\n",
       "      <td>612051</td>\n",
       "      <td>0.002618</td>\n",
       "    </tr>\n",
       "    <tr>\n",
       "      <th>3</th>\n",
       "      <td>other news</td>\n",
       "      <td>8340842</td>\n",
       "      <td>0.035673</td>\n",
       "    </tr>\n",
       "    <tr>\n",
       "      <th>4</th>\n",
       "      <td>NaN</td>\n",
       "      <td>17598286</td>\n",
       "      <td>0.075266</td>\n",
       "    </tr>\n",
       "  </tbody>\n",
       "</table>\n",
       "</div>"
      ],
      "text/plain": [
       "  classification     counts      rate\n",
       "0          local  131021042  0.560362\n",
       "1       national   76242962  0.326082\n",
       "2        no_news     612051  0.002618\n",
       "3     other news    8340842  0.035673\n",
       "4            NaN   17598286  0.075266"
      ]
     },
     "execution_count": 51,
     "metadata": {},
     "output_type": "execute_result"
    }
   ],
   "source": [
    "other_class_grouped"
   ]
  },
  {
   "cell_type": "code",
   "execution_count": null,
   "id": "21981032-3f5c-4b5d-95b0-53ad25ff0dd8",
   "metadata": {},
   "outputs": [],
   "source": []
  }
 ],
 "metadata": {
  "kernelspec": {
   "display_name": "Python 3 (ipykernel)",
   "language": "python",
   "name": "python3"
  },
  "language_info": {
   "codemirror_mode": {
    "name": "ipython",
    "version": 3
   },
   "file_extension": ".py",
   "mimetype": "text/x-python",
   "name": "python",
   "nbconvert_exporter": "python",
   "pygments_lexer": "ipython3",
   "version": "3.10.14"
  }
 },
 "nbformat": 4,
 "nbformat_minor": 5
}
