{
 "cells": [
  {
   "cell_type": "markdown",
   "id": "b24561d7-477c-4a33-823b-d3961446af68",
   "metadata": {},
   "source": [
    "# Analysis of national vs. local domains"
   ]
  },
  {
   "cell_type": "markdown",
   "id": "669e2657-177b-40b1-b875-e2e0405e767e",
   "metadata": {},
   "source": [
    "This file is the process of analyze the proportion of national vs. local news domains and their rank.\n",
    "Data dependency: the datafile used in this analysis is generated from `natinoal_local_prepare_data.ipynb`."
   ]
  },
  {
   "cell_type": "code",
   "execution_count": 187,
   "id": "32845577-3cce-4bff-90aa-a1c15805413c",
   "metadata": {},
   "outputs": [],
   "source": [
    "import seaborn as sns\n",
    "import matplotlib.pyplot as plt\n",
    "import pandas as pd\n",
    "import os\n",
    "import json"
   ]
  },
  {
   "cell_type": "code",
   "execution_count": 188,
   "id": "660da636-621f-4706-b225-97d0f4f5311f",
   "metadata": {},
   "outputs": [],
   "source": [
    "# this file is generated from `natinoal_local_prepare_data.ipynb`.\n",
    "df_category_grouped_class = pd.read_csv(\"../data/house_analysis/domain_rank_ishome_category_counts.csv\")"
   ]
  },
  {
   "cell_type": "code",
   "execution_count": 190,
   "id": "10f8e80c-853c-4966-9eaf-f64f7baab58f",
   "metadata": {},
   "outputs": [],
   "source": [
    "# group domain, rank, and classification.\n",
    "cat_class_rank_homecheck_counts = df_category_grouped_class.groupby(['category', 'classification', 'serp_rank', 'is_home_district'], dropna=False, as_index=False)['counts'].sum()"
   ]
  },
  {
   "cell_type": "code",
   "execution_count": 191,
   "id": "24ffb546-5806-4c52-9840-d7bef99d511c",
   "metadata": {},
   "outputs": [],
   "source": [
    "total_cnt = cat_class_rank_homecheck_counts['counts'].sum()"
   ]
  },
  {
   "cell_type": "code",
   "execution_count": 192,
   "id": "d17c3270-c82e-4244-9ac4-2fbdabfefb04",
   "metadata": {},
   "outputs": [
    {
     "data": {
      "text/plain": [
       "299573378"
      ]
     },
     "execution_count": 192,
     "metadata": {},
     "output_type": "execute_result"
    }
   ],
   "source": [
    "total_cnt"
   ]
  },
  {
   "cell_type": "markdown",
   "id": "71ea2779-345f-480d-a5ea-99109cbf0ae4",
   "metadata": {},
   "source": [
    "## Category counts"
   ]
  },
  {
   "cell_type": "markdown",
   "id": "6a683bc4-44b0-47d9-86f4-8c3b0d14b9d7",
   "metadata": {},
   "source": [
    "Connecting the domains with their categories."
   ]
  },
  {
   "cell_type": "code",
   "execution_count": 193,
   "id": "2071ce84-21f0-4a6c-a271-e9aee268dcdd",
   "metadata": {},
   "outputs": [
    {
     "data": {
      "text/html": [
       "<div>\n",
       "<style scoped>\n",
       "    .dataframe tbody tr th:only-of-type {\n",
       "        vertical-align: middle;\n",
       "    }\n",
       "\n",
       "    .dataframe tbody tr th {\n",
       "        vertical-align: top;\n",
       "    }\n",
       "\n",
       "    .dataframe thead th {\n",
       "        text-align: right;\n",
       "    }\n",
       "</style>\n",
       "<table border=\"1\" class=\"dataframe\">\n",
       "  <thead>\n",
       "    <tr style=\"text-align: right;\">\n",
       "      <th></th>\n",
       "      <th>category</th>\n",
       "      <th>classification</th>\n",
       "      <th>serp_rank</th>\n",
       "      <th>is_home_district</th>\n",
       "      <th>counts</th>\n",
       "    </tr>\n",
       "  </thead>\n",
       "  <tbody>\n",
       "    <tr>\n",
       "      <th>0</th>\n",
       "      <td>campaign_personal</td>\n",
       "      <td>national</td>\n",
       "      <td>21.0</td>\n",
       "      <td>False</td>\n",
       "      <td>2</td>\n",
       "    </tr>\n",
       "    <tr>\n",
       "      <th>1</th>\n",
       "      <td>campaign_personal</td>\n",
       "      <td>national</td>\n",
       "      <td>24.0</td>\n",
       "      <td>False</td>\n",
       "      <td>16</td>\n",
       "    </tr>\n",
       "    <tr>\n",
       "      <th>2</th>\n",
       "      <td>campaign_personal</td>\n",
       "      <td>national</td>\n",
       "      <td>27.0</td>\n",
       "      <td>False</td>\n",
       "      <td>2</td>\n",
       "    </tr>\n",
       "    <tr>\n",
       "      <th>3</th>\n",
       "      <td>campaign_personal</td>\n",
       "      <td>no_news</td>\n",
       "      <td>0.0</td>\n",
       "      <td>False</td>\n",
       "      <td>745</td>\n",
       "    </tr>\n",
       "    <tr>\n",
       "      <th>4</th>\n",
       "      <td>campaign_personal</td>\n",
       "      <td>no_news</td>\n",
       "      <td>0.0</td>\n",
       "      <td>True</td>\n",
       "      <td>1</td>\n",
       "    </tr>\n",
       "    <tr>\n",
       "      <th>...</th>\n",
       "      <td>...</td>\n",
       "      <td>...</td>\n",
       "      <td>...</td>\n",
       "      <td>...</td>\n",
       "      <td>...</td>\n",
       "    </tr>\n",
       "    <tr>\n",
       "      <th>1249</th>\n",
       "      <td>social</td>\n",
       "      <td>no_news</td>\n",
       "      <td>35.0</td>\n",
       "      <td>True</td>\n",
       "      <td>5</td>\n",
       "    </tr>\n",
       "    <tr>\n",
       "      <th>1250</th>\n",
       "      <td>social</td>\n",
       "      <td>no_news</td>\n",
       "      <td>36.0</td>\n",
       "      <td>False</td>\n",
       "      <td>503</td>\n",
       "    </tr>\n",
       "    <tr>\n",
       "      <th>1251</th>\n",
       "      <td>social</td>\n",
       "      <td>no_news</td>\n",
       "      <td>36.0</td>\n",
       "      <td>True</td>\n",
       "      <td>2</td>\n",
       "    </tr>\n",
       "    <tr>\n",
       "      <th>1252</th>\n",
       "      <td>social</td>\n",
       "      <td>no_news</td>\n",
       "      <td>37.0</td>\n",
       "      <td>False</td>\n",
       "      <td>20</td>\n",
       "    </tr>\n",
       "    <tr>\n",
       "      <th>1253</th>\n",
       "      <td>social</td>\n",
       "      <td>no_news</td>\n",
       "      <td>38.0</td>\n",
       "      <td>False</td>\n",
       "      <td>3</td>\n",
       "    </tr>\n",
       "  </tbody>\n",
       "</table>\n",
       "<p>1254 rows × 5 columns</p>\n",
       "</div>"
      ],
      "text/plain": [
       "               category classification  serp_rank  is_home_district  counts\n",
       "0     campaign_personal       national       21.0             False       2\n",
       "1     campaign_personal       national       24.0             False      16\n",
       "2     campaign_personal       national       27.0             False       2\n",
       "3     campaign_personal        no_news        0.0             False     745\n",
       "4     campaign_personal        no_news        0.0              True       1\n",
       "...                 ...            ...        ...               ...     ...\n",
       "1249             social        no_news       35.0              True       5\n",
       "1250             social        no_news       36.0             False     503\n",
       "1251             social        no_news       36.0              True       2\n",
       "1252             social        no_news       37.0             False      20\n",
       "1253             social        no_news       38.0             False       3\n",
       "\n",
       "[1254 rows x 5 columns]"
      ]
     },
     "execution_count": 193,
     "metadata": {},
     "output_type": "execute_result"
    }
   ],
   "source": [
    "cat_class_rank_homecheck_counts"
   ]
  },
  {
   "cell_type": "code",
   "execution_count": 194,
   "id": "d8a93663-5f5d-48e0-98af-4e0da92774c9",
   "metadata": {},
   "outputs": [],
   "source": [
    "category_counts = cat_class_rank_homecheck_counts.groupby(['category'], dropna=False, as_index=False).count()"
   ]
  },
  {
   "cell_type": "code",
   "execution_count": 195,
   "id": "46ab9916-4636-4275-a9d1-18ca7bdb268c",
   "metadata": {},
   "outputs": [],
   "source": [
    "category = cat_class_rank_homecheck_counts.groupby(['category'], dropna=False, as_index=False)['counts'].sum()"
   ]
  },
  {
   "cell_type": "code",
   "execution_count": 196,
   "id": "5e720289-ac71-4054-bdcd-58ebb1c713fe",
   "metadata": {},
   "outputs": [],
   "source": [
    "category['proportion'] = category['counts']/total_cnt"
   ]
  },
  {
   "cell_type": "code",
   "execution_count": 197,
   "id": "09b65b18-2505-4cec-aab3-3c412baf9520",
   "metadata": {},
   "outputs": [
    {
     "data": {
      "text/html": [
       "<div>\n",
       "<style scoped>\n",
       "    .dataframe tbody tr th:only-of-type {\n",
       "        vertical-align: middle;\n",
       "    }\n",
       "\n",
       "    .dataframe tbody tr th {\n",
       "        vertical-align: top;\n",
       "    }\n",
       "\n",
       "    .dataframe thead th {\n",
       "        text-align: right;\n",
       "    }\n",
       "</style>\n",
       "<table border=\"1\" class=\"dataframe\">\n",
       "  <thead>\n",
       "    <tr style=\"text-align: right;\">\n",
       "      <th></th>\n",
       "      <th>category</th>\n",
       "      <th>counts</th>\n",
       "      <th>proportion</th>\n",
       "    </tr>\n",
       "  </thead>\n",
       "  <tbody>\n",
       "    <tr>\n",
       "      <th>0</th>\n",
       "      <td>campaign_personal</td>\n",
       "      <td>17478882</td>\n",
       "      <td>0.058346</td>\n",
       "    </tr>\n",
       "    <tr>\n",
       "      <th>1</th>\n",
       "      <td>education</td>\n",
       "      <td>319956</td>\n",
       "      <td>0.001068</td>\n",
       "    </tr>\n",
       "    <tr>\n",
       "      <th>2</th>\n",
       "      <td>gov</td>\n",
       "      <td>55689950</td>\n",
       "      <td>0.185898</td>\n",
       "    </tr>\n",
       "    <tr>\n",
       "      <th>3</th>\n",
       "      <td>news</td>\n",
       "      <td>77207985</td>\n",
       "      <td>0.257726</td>\n",
       "    </tr>\n",
       "    <tr>\n",
       "      <th>4</th>\n",
       "      <td>other_third_party</td>\n",
       "      <td>59792451</td>\n",
       "      <td>0.199592</td>\n",
       "    </tr>\n",
       "    <tr>\n",
       "      <th>5</th>\n",
       "      <td>social</td>\n",
       "      <td>89084154</td>\n",
       "      <td>0.297370</td>\n",
       "    </tr>\n",
       "  </tbody>\n",
       "</table>\n",
       "</div>"
      ],
      "text/plain": [
       "            category    counts  proportion\n",
       "0  campaign_personal  17478882    0.058346\n",
       "1          education    319956    0.001068\n",
       "2                gov  55689950    0.185898\n",
       "3               news  77207985    0.257726\n",
       "4  other_third_party  59792451    0.199592\n",
       "5             social  89084154    0.297370"
      ]
     },
     "execution_count": 197,
     "metadata": {},
     "output_type": "execute_result"
    }
   ],
   "source": [
    "category"
   ]
  },
  {
   "cell_type": "code",
   "execution_count": 198,
   "id": "eeab57ad-4ae3-41ba-bfe4-9d3cb9a56566",
   "metadata": {},
   "outputs": [
    {
     "data": {
      "text/plain": [
       "<Axes: xlabel='category'>"
      ]
     },
     "execution_count": 198,
     "metadata": {},
     "output_type": "execute_result"
    },
    {
     "data": {
      "image/png": "[encoded data removed]",
      "text/plain": [
       "<Figure size 640x480 with 1 Axes>"
      ]
     },
     "metadata": {},
     "output_type": "display_data"
    }
   ],
   "source": [
    "category.plot.bar(x='category', y='counts', rot=0)"
   ]
  },
  {
   "cell_type": "markdown",
   "id": "d7a3e3e5-c4c0-4cde-838c-1f5efde532a4",
   "metadata": {},
   "source": [
    "# Analysis of news"
   ]
  },
  {
   "cell_type": "markdown",
   "id": "f9fec1e2-1a0a-46ac-b3db-8ebf43c0e4c5",
   "metadata": {},
   "source": [
    "Focus on news."
   ]
  },
  {
   "cell_type": "code",
   "execution_count": 199,
   "id": "e0e4edec-e4b5-496a-8d26-1cc62426cbc2",
   "metadata": {},
   "outputs": [],
   "source": [
    "def check_is_news(col):\n",
    "    if col == \"news\":\n",
    "        return True\n",
    "    else:\n",
    "        return False"
   ]
  },
  {
   "cell_type": "code",
   "execution_count": 200,
   "id": "cd495287-3b46-4c6e-96e6-79491d04b0c9",
   "metadata": {},
   "outputs": [],
   "source": [
    "df_category_grouped_class['is_news'] = df_category_grouped_class['category'].apply(check_is_news)"
   ]
  },
  {
   "cell_type": "code",
   "execution_count": 201,
   "id": "b18f95a0-2c09-4a05-b65d-b1ba39ae51eb",
   "metadata": {},
   "outputs": [],
   "source": [
    "df_category_grouped_class = df_category_grouped_class.drop_duplicates()"
   ]
  },
  {
   "cell_type": "code",
   "execution_count": 202,
   "id": "0c7acf77-07d4-4548-947b-10980e7cdbdc",
   "metadata": {},
   "outputs": [
    {
     "data": {
      "text/plain": [
       "299573378"
      ]
     },
     "execution_count": 202,
     "metadata": {},
     "output_type": "execute_result"
    }
   ],
   "source": [
    "df_category_grouped_class['counts'].sum()"
   ]
  },
  {
   "cell_type": "code",
   "execution_count": 203,
   "id": "d17396b4-6e29-4853-9d0c-055c15701cc5",
   "metadata": {},
   "outputs": [
    {
     "data": {
      "text/html": [
       "<div>\n",
       "<style scoped>\n",
       "    .dataframe tbody tr th:only-of-type {\n",
       "        vertical-align: middle;\n",
       "    }\n",
       "\n",
       "    .dataframe tbody tr th {\n",
       "        vertical-align: top;\n",
       "    }\n",
       "\n",
       "    .dataframe thead th {\n",
       "        text-align: right;\n",
       "    }\n",
       "</style>\n",
       "<table border=\"1\" class=\"dataframe\">\n",
       "  <thead>\n",
       "    <tr style=\"text-align: right;\">\n",
       "      <th></th>\n",
       "      <th>domain</th>\n",
       "      <th>serp_rank</th>\n",
       "      <th>is_home_district</th>\n",
       "      <th>category</th>\n",
       "      <th>counts</th>\n",
       "      <th>classification</th>\n",
       "      <th>is_news</th>\n",
       "    </tr>\n",
       "  </thead>\n",
       "  <tbody>\n",
       "    <tr>\n",
       "      <th>0</th>\n",
       "      <td>1011now.com</td>\n",
       "      <td>2.0</td>\n",
       "      <td>False</td>\n",
       "      <td>news</td>\n",
       "      <td>2</td>\n",
       "      <td>local</td>\n",
       "      <td>True</td>\n",
       "    </tr>\n",
       "    <tr>\n",
       "      <th>1</th>\n",
       "      <td>1011now.com</td>\n",
       "      <td>3.0</td>\n",
       "      <td>False</td>\n",
       "      <td>news</td>\n",
       "      <td>13</td>\n",
       "      <td>local</td>\n",
       "      <td>True</td>\n",
       "    </tr>\n",
       "    <tr>\n",
       "      <th>2</th>\n",
       "      <td>1011now.com</td>\n",
       "      <td>4.0</td>\n",
       "      <td>False</td>\n",
       "      <td>news</td>\n",
       "      <td>1200</td>\n",
       "      <td>local</td>\n",
       "      <td>True</td>\n",
       "    </tr>\n",
       "    <tr>\n",
       "      <th>3</th>\n",
       "      <td>1011now.com</td>\n",
       "      <td>5.0</td>\n",
       "      <td>False</td>\n",
       "      <td>news</td>\n",
       "      <td>6503</td>\n",
       "      <td>local</td>\n",
       "      <td>True</td>\n",
       "    </tr>\n",
       "    <tr>\n",
       "      <th>4</th>\n",
       "      <td>1011now.com</td>\n",
       "      <td>5.0</td>\n",
       "      <td>True</td>\n",
       "      <td>news</td>\n",
       "      <td>18</td>\n",
       "      <td>local</td>\n",
       "      <td>True</td>\n",
       "    </tr>\n",
       "    <tr>\n",
       "      <th>...</th>\n",
       "      <td>...</td>\n",
       "      <td>...</td>\n",
       "      <td>...</td>\n",
       "      <td>...</td>\n",
       "      <td>...</td>\n",
       "      <td>...</td>\n",
       "      <td>...</td>\n",
       "    </tr>\n",
       "    <tr>\n",
       "      <th>94153</th>\n",
       "      <td>zoelofgren.com</td>\n",
       "      <td>21.0</td>\n",
       "      <td>False</td>\n",
       "      <td>campaign_personal</td>\n",
       "      <td>446</td>\n",
       "      <td>NaN</td>\n",
       "      <td>False</td>\n",
       "    </tr>\n",
       "    <tr>\n",
       "      <th>94154</th>\n",
       "      <td>zoelofgren.com</td>\n",
       "      <td>21.0</td>\n",
       "      <td>True</td>\n",
       "      <td>campaign_personal</td>\n",
       "      <td>1</td>\n",
       "      <td>NaN</td>\n",
       "      <td>False</td>\n",
       "    </tr>\n",
       "    <tr>\n",
       "      <th>94155</th>\n",
       "      <td>zoelofgren.com</td>\n",
       "      <td>22.0</td>\n",
       "      <td>False</td>\n",
       "      <td>campaign_personal</td>\n",
       "      <td>27</td>\n",
       "      <td>NaN</td>\n",
       "      <td>False</td>\n",
       "    </tr>\n",
       "    <tr>\n",
       "      <th>94156</th>\n",
       "      <td>zoelofgren.com</td>\n",
       "      <td>23.0</td>\n",
       "      <td>False</td>\n",
       "      <td>campaign_personal</td>\n",
       "      <td>435</td>\n",
       "      <td>NaN</td>\n",
       "      <td>False</td>\n",
       "    </tr>\n",
       "    <tr>\n",
       "      <th>94157</th>\n",
       "      <td>zoelofgren.com</td>\n",
       "      <td>23.0</td>\n",
       "      <td>True</td>\n",
       "      <td>campaign_personal</td>\n",
       "      <td>1</td>\n",
       "      <td>NaN</td>\n",
       "      <td>False</td>\n",
       "    </tr>\n",
       "  </tbody>\n",
       "</table>\n",
       "<p>94158 rows × 7 columns</p>\n",
       "</div>"
      ],
      "text/plain": [
       "               domain  serp_rank  is_home_district           category  counts  \\\n",
       "0         1011now.com        2.0             False               news       2   \n",
       "1         1011now.com        3.0             False               news      13   \n",
       "2         1011now.com        4.0             False               news    1200   \n",
       "3         1011now.com        5.0             False               news    6503   \n",
       "4         1011now.com        5.0              True               news      18   \n",
       "...               ...        ...               ...                ...     ...   \n",
       "94153  zoelofgren.com       21.0             False  campaign_personal     446   \n",
       "94154  zoelofgren.com       21.0              True  campaign_personal       1   \n",
       "94155  zoelofgren.com       22.0             False  campaign_personal      27   \n",
       "94156  zoelofgren.com       23.0             False  campaign_personal     435   \n",
       "94157  zoelofgren.com       23.0              True  campaign_personal       1   \n",
       "\n",
       "      classification  is_news  \n",
       "0              local     True  \n",
       "1              local     True  \n",
       "2              local     True  \n",
       "3              local     True  \n",
       "4              local     True  \n",
       "...              ...      ...  \n",
       "94153            NaN    False  \n",
       "94154            NaN    False  \n",
       "94155            NaN    False  \n",
       "94156            NaN    False  \n",
       "94157            NaN    False  \n",
       "\n",
       "[94158 rows x 7 columns]"
      ]
     },
     "execution_count": 203,
     "metadata": {},
     "output_type": "execute_result"
    }
   ],
   "source": [
    "df_category_grouped_class"
   ]
  },
  {
   "cell_type": "markdown",
   "id": "2b07ef9f-48df-48fd-85a0-1976dab36987",
   "metadata": {},
   "source": [
    "## what proportion are local"
   ]
  },
  {
   "cell_type": "markdown",
   "id": "1bc2fd3a-9e8c-474a-8c42-11e7439ea0df",
   "metadata": {},
   "source": [
    "Check the proportion of local domains in the general search results."
   ]
  },
  {
   "cell_type": "markdown",
   "id": "46b04ecb-60f0-475d-9205-57d9cef5569b",
   "metadata": {},
   "source": [
    "### General local vs. national domain"
   ]
  },
  {
   "cell_type": "code",
   "execution_count": 204,
   "id": "6314af2a-63d1-4c8b-988e-2172167b349d",
   "metadata": {},
   "outputs": [],
   "source": [
    "total_class_grouped = df_category_grouped_class.groupby(['classification'], dropna=False, as_index=False)['counts'].sum()"
   ]
  },
  {
   "cell_type": "code",
   "execution_count": 205,
   "id": "a959420b-5930-4237-a3b1-6d6fc248120d",
   "metadata": {},
   "outputs": [],
   "source": [
    "total_class_grouped['rate']=total_class_grouped['counts']/total_cnt"
   ]
  },
  {
   "cell_type": "code",
   "execution_count": 206,
   "id": "ffb074d0-5d52-4c9a-939e-607d653e6c79",
   "metadata": {},
   "outputs": [
    {
     "data": {
      "text/plain": [
       "299573378"
      ]
     },
     "execution_count": 206,
     "metadata": {},
     "output_type": "execute_result"
    }
   ],
   "source": [
    "total_class_grouped['counts'].sum()"
   ]
  },
  {
   "cell_type": "code",
   "execution_count": 207,
   "id": "6adaf2ae-6e3a-4ef2-b6bd-512d45241568",
   "metadata": {},
   "outputs": [
    {
     "data": {
      "text/html": [
       "<div>\n",
       "<style scoped>\n",
       "    .dataframe tbody tr th:only-of-type {\n",
       "        vertical-align: middle;\n",
       "    }\n",
       "\n",
       "    .dataframe tbody tr th {\n",
       "        vertical-align: top;\n",
       "    }\n",
       "\n",
       "    .dataframe thead th {\n",
       "        text-align: right;\n",
       "    }\n",
       "</style>\n",
       "<table border=\"1\" class=\"dataframe\">\n",
       "  <thead>\n",
       "    <tr style=\"text-align: right;\">\n",
       "      <th></th>\n",
       "      <th>classification</th>\n",
       "      <th>counts</th>\n",
       "      <th>rate</th>\n",
       "    </tr>\n",
       "  </thead>\n",
       "  <tbody>\n",
       "    <tr>\n",
       "      <th>0</th>\n",
       "      <td>local</td>\n",
       "      <td>65130979</td>\n",
       "      <td>0.217412</td>\n",
       "    </tr>\n",
       "    <tr>\n",
       "      <th>1</th>\n",
       "      <td>national</td>\n",
       "      <td>20414417</td>\n",
       "      <td>0.068145</td>\n",
       "    </tr>\n",
       "    <tr>\n",
       "      <th>2</th>\n",
       "      <td>no_news</td>\n",
       "      <td>185064376</td>\n",
       "      <td>0.617760</td>\n",
       "    </tr>\n",
       "    <tr>\n",
       "      <th>3</th>\n",
       "      <td>other news</td>\n",
       "      <td>2434184</td>\n",
       "      <td>0.008126</td>\n",
       "    </tr>\n",
       "    <tr>\n",
       "      <th>4</th>\n",
       "      <td>NaN</td>\n",
       "      <td>26529422</td>\n",
       "      <td>0.088557</td>\n",
       "    </tr>\n",
       "  </tbody>\n",
       "</table>\n",
       "</div>"
      ],
      "text/plain": [
       "  classification     counts      rate\n",
       "0          local   65130979  0.217412\n",
       "1       national   20414417  0.068145\n",
       "2        no_news  185064376  0.617760\n",
       "3     other news    2434184  0.008126\n",
       "4            NaN   26529422  0.088557"
      ]
     },
     "execution_count": 207,
     "metadata": {},
     "output_type": "execute_result"
    }
   ],
   "source": [
    "total_class_grouped"
   ]
  },
  {
   "cell_type": "code",
   "execution_count": 208,
   "id": "a081d7d4-5d1f-41b0-bd7f-8fba87990388",
   "metadata": {},
   "outputs": [],
   "source": [
    "coverage_rate_general = total_class_grouped[~total_class_grouped[\"classification\"].isna()]['counts'].sum()/total_class_grouped['counts'].sum()"
   ]
  },
  {
   "cell_type": "code",
   "execution_count": 209,
   "id": "00d88764-5b44-4ddd-8e35-d39fa8389dc8",
   "metadata": {},
   "outputs": [
    {
     "data": {
      "text/plain": [
       "0.9114426582992298"
      ]
     },
     "execution_count": 209,
     "metadata": {},
     "output_type": "execute_result"
    }
   ],
   "source": [
    "coverage_rate_general"
   ]
  },
  {
   "cell_type": "code",
   "execution_count": 210,
   "id": "bac15300-fb8d-4162-9daf-ae24ffeb5a71",
   "metadata": {},
   "outputs": [
    {
     "data": {
      "text/plain": [
       "0.6210900473933649"
      ]
     },
     "execution_count": 210,
     "metadata": {},
     "output_type": "execute_result"
    }
   ],
   "source": [
    "# coverage rate in domain\n",
    "len(df_category_grouped_class.dropna().groupby(['domain'], dropna=True, as_index=False)['counts'].sum())/4220"
   ]
  },
  {
   "cell_type": "markdown",
   "id": "781292b2-5a70-408b-9bd7-1d2e02b05166",
   "metadata": {},
   "source": [
    "### Local vs. national news"
   ]
  },
  {
   "cell_type": "markdown",
   "id": "eead84f5-c7fb-4191-9141-f9952214746e",
   "metadata": {},
   "source": [
    "Check the proportion in news. This is based on the hypothesis that news are more sensitive to local and national. Also, this relates to the debate of whether local news are diminished."
   ]
  },
  {
   "cell_type": "code",
   "execution_count": 211,
   "id": "dacc0171-d993-4f90-8d38-2273bf05387e",
   "metadata": {},
   "outputs": [],
   "source": [
    "news_only = df_category_grouped_class[df_category_grouped_class['is_news']==True]"
   ]
  },
  {
   "cell_type": "code",
   "execution_count": 212,
   "id": "29ea9942-05bd-4bec-9ab9-2e289b4f1e1d",
   "metadata": {},
   "outputs": [
    {
     "data": {
      "text/html": [
       "<div>\n",
       "<style scoped>\n",
       "    .dataframe tbody tr th:only-of-type {\n",
       "        vertical-align: middle;\n",
       "    }\n",
       "\n",
       "    .dataframe tbody tr th {\n",
       "        vertical-align: top;\n",
       "    }\n",
       "\n",
       "    .dataframe thead th {\n",
       "        text-align: right;\n",
       "    }\n",
       "</style>\n",
       "<table border=\"1\" class=\"dataframe\">\n",
       "  <thead>\n",
       "    <tr style=\"text-align: right;\">\n",
       "      <th></th>\n",
       "      <th>domain</th>\n",
       "      <th>serp_rank</th>\n",
       "      <th>is_home_district</th>\n",
       "      <th>category</th>\n",
       "      <th>counts</th>\n",
       "      <th>classification</th>\n",
       "      <th>is_news</th>\n",
       "    </tr>\n",
       "  </thead>\n",
       "  <tbody>\n",
       "    <tr>\n",
       "      <th>0</th>\n",
       "      <td>1011now.com</td>\n",
       "      <td>2.0</td>\n",
       "      <td>False</td>\n",
       "      <td>news</td>\n",
       "      <td>2</td>\n",
       "      <td>local</td>\n",
       "      <td>True</td>\n",
       "    </tr>\n",
       "    <tr>\n",
       "      <th>1</th>\n",
       "      <td>1011now.com</td>\n",
       "      <td>3.0</td>\n",
       "      <td>False</td>\n",
       "      <td>news</td>\n",
       "      <td>13</td>\n",
       "      <td>local</td>\n",
       "      <td>True</td>\n",
       "    </tr>\n",
       "    <tr>\n",
       "      <th>2</th>\n",
       "      <td>1011now.com</td>\n",
       "      <td>4.0</td>\n",
       "      <td>False</td>\n",
       "      <td>news</td>\n",
       "      <td>1200</td>\n",
       "      <td>local</td>\n",
       "      <td>True</td>\n",
       "    </tr>\n",
       "    <tr>\n",
       "      <th>3</th>\n",
       "      <td>1011now.com</td>\n",
       "      <td>5.0</td>\n",
       "      <td>False</td>\n",
       "      <td>news</td>\n",
       "      <td>6503</td>\n",
       "      <td>local</td>\n",
       "      <td>True</td>\n",
       "    </tr>\n",
       "    <tr>\n",
       "      <th>4</th>\n",
       "      <td>1011now.com</td>\n",
       "      <td>5.0</td>\n",
       "      <td>True</td>\n",
       "      <td>news</td>\n",
       "      <td>18</td>\n",
       "      <td>local</td>\n",
       "      <td>True</td>\n",
       "    </tr>\n",
       "    <tr>\n",
       "      <th>...</th>\n",
       "      <td>...</td>\n",
       "      <td>...</td>\n",
       "      <td>...</td>\n",
       "      <td>...</td>\n",
       "      <td>...</td>\n",
       "      <td>...</td>\n",
       "      <td>...</td>\n",
       "    </tr>\n",
       "    <tr>\n",
       "      <th>94068</th>\n",
       "      <td>zanesvilletimesrecorder.com</td>\n",
       "      <td>6.0</td>\n",
       "      <td>False</td>\n",
       "      <td>news</td>\n",
       "      <td>1267</td>\n",
       "      <td>local</td>\n",
       "      <td>True</td>\n",
       "    </tr>\n",
       "    <tr>\n",
       "      <th>94069</th>\n",
       "      <td>zanesvilletimesrecorder.com</td>\n",
       "      <td>6.0</td>\n",
       "      <td>True</td>\n",
       "      <td>news</td>\n",
       "      <td>2</td>\n",
       "      <td>local</td>\n",
       "      <td>True</td>\n",
       "    </tr>\n",
       "    <tr>\n",
       "      <th>94070</th>\n",
       "      <td>zanesvilletimesrecorder.com</td>\n",
       "      <td>7.0</td>\n",
       "      <td>False</td>\n",
       "      <td>news</td>\n",
       "      <td>1221</td>\n",
       "      <td>local</td>\n",
       "      <td>True</td>\n",
       "    </tr>\n",
       "    <tr>\n",
       "      <th>94071</th>\n",
       "      <td>zanesvilletimesrecorder.com</td>\n",
       "      <td>7.0</td>\n",
       "      <td>True</td>\n",
       "      <td>news</td>\n",
       "      <td>4</td>\n",
       "      <td>local</td>\n",
       "      <td>True</td>\n",
       "    </tr>\n",
       "    <tr>\n",
       "      <th>94072</th>\n",
       "      <td>zanesvilletimesrecorder.com</td>\n",
       "      <td>9.0</td>\n",
       "      <td>False</td>\n",
       "      <td>news</td>\n",
       "      <td>1</td>\n",
       "      <td>local</td>\n",
       "      <td>True</td>\n",
       "    </tr>\n",
       "  </tbody>\n",
       "</table>\n",
       "<p>73317 rows × 7 columns</p>\n",
       "</div>"
      ],
      "text/plain": [
       "                            domain  serp_rank  is_home_district category  \\\n",
       "0                      1011now.com        2.0             False     news   \n",
       "1                      1011now.com        3.0             False     news   \n",
       "2                      1011now.com        4.0             False     news   \n",
       "3                      1011now.com        5.0             False     news   \n",
       "4                      1011now.com        5.0              True     news   \n",
       "...                            ...        ...               ...      ...   \n",
       "94068  zanesvilletimesrecorder.com        6.0             False     news   \n",
       "94069  zanesvilletimesrecorder.com        6.0              True     news   \n",
       "94070  zanesvilletimesrecorder.com        7.0             False     news   \n",
       "94071  zanesvilletimesrecorder.com        7.0              True     news   \n",
       "94072  zanesvilletimesrecorder.com        9.0             False     news   \n",
       "\n",
       "       counts classification  is_news  \n",
       "0           2          local     True  \n",
       "1          13          local     True  \n",
       "2        1200          local     True  \n",
       "3        6503          local     True  \n",
       "4          18          local     True  \n",
       "...       ...            ...      ...  \n",
       "94068    1267          local     True  \n",
       "94069       2          local     True  \n",
       "94070    1221          local     True  \n",
       "94071       4          local     True  \n",
       "94072       1          local     True  \n",
       "\n",
       "[73317 rows x 7 columns]"
      ]
     },
     "execution_count": 212,
     "metadata": {},
     "output_type": "execute_result"
    }
   ],
   "source": [
    "news_only"
   ]
  },
  {
   "cell_type": "code",
   "execution_count": 213,
   "id": "e8d6d700-8457-486f-956f-c5b9abd430c2",
   "metadata": {},
   "outputs": [],
   "source": [
    "news_total = news_only['counts'].sum()"
   ]
  },
  {
   "cell_type": "code",
   "execution_count": 214,
   "id": "0c44be63-9073-473e-a6c0-14a6690f4563",
   "metadata": {},
   "outputs": [],
   "source": [
    "class_grouped = news_only.groupby(['classification'], dropna=False, as_index=False)['counts'].sum()"
   ]
  },
  {
   "cell_type": "code",
   "execution_count": 215,
   "id": "20a92556-cd5f-4a94-950a-040684edf7a1",
   "metadata": {},
   "outputs": [],
   "source": [
    "class_grouped['rate'] = class_grouped['counts']/news_total"
   ]
  },
  {
   "cell_type": "code",
   "execution_count": 216,
   "id": "ea702f1a-8547-45b8-9105-f62fd034d0aa",
   "metadata": {},
   "outputs": [
    {
     "data": {
      "text/html": [
       "<div>\n",
       "<style scoped>\n",
       "    .dataframe tbody tr th:only-of-type {\n",
       "        vertical-align: middle;\n",
       "    }\n",
       "\n",
       "    .dataframe tbody tr th {\n",
       "        vertical-align: top;\n",
       "    }\n",
       "\n",
       "    .dataframe thead th {\n",
       "        text-align: right;\n",
       "    }\n",
       "</style>\n",
       "<table border=\"1\" class=\"dataframe\">\n",
       "  <thead>\n",
       "    <tr style=\"text-align: right;\">\n",
       "      <th></th>\n",
       "      <th>classification</th>\n",
       "      <th>counts</th>\n",
       "      <th>rate</th>\n",
       "    </tr>\n",
       "  </thead>\n",
       "  <tbody>\n",
       "    <tr>\n",
       "      <th>0</th>\n",
       "      <td>local</td>\n",
       "      <td>49203309</td>\n",
       "      <td>0.637283</td>\n",
       "    </tr>\n",
       "    <tr>\n",
       "      <th>1</th>\n",
       "      <td>national</td>\n",
       "      <td>19063433</td>\n",
       "      <td>0.246910</td>\n",
       "    </tr>\n",
       "    <tr>\n",
       "      <th>2</th>\n",
       "      <td>no_news</td>\n",
       "      <td>213573</td>\n",
       "      <td>0.002766</td>\n",
       "    </tr>\n",
       "    <tr>\n",
       "      <th>3</th>\n",
       "      <td>other news</td>\n",
       "      <td>2434184</td>\n",
       "      <td>0.031528</td>\n",
       "    </tr>\n",
       "    <tr>\n",
       "      <th>4</th>\n",
       "      <td>NaN</td>\n",
       "      <td>6293486</td>\n",
       "      <td>0.081513</td>\n",
       "    </tr>\n",
       "  </tbody>\n",
       "</table>\n",
       "</div>"
      ],
      "text/plain": [
       "  classification    counts      rate\n",
       "0          local  49203309  0.637283\n",
       "1       national  19063433  0.246910\n",
       "2        no_news    213573  0.002766\n",
       "3     other news   2434184  0.031528\n",
       "4            NaN   6293486  0.081513"
      ]
     },
     "execution_count": 216,
     "metadata": {},
     "output_type": "execute_result"
    }
   ],
   "source": [
    "class_grouped"
   ]
  },
  {
   "cell_type": "code",
   "execution_count": 217,
   "id": "c7cf7381-a5df-492c-a86d-ebe9a224146e",
   "metadata": {},
   "outputs": [],
   "source": [
    "coverage_rate_news = class_grouped[~class_grouped[\"classification\"].isna()]['counts'].sum()/class_grouped['counts'].sum()"
   ]
  },
  {
   "cell_type": "code",
   "execution_count": 218,
   "id": "23537c15-7ddb-4fb8-a751-fa36d957c54d",
   "metadata": {},
   "outputs": [
    {
     "data": {
      "text/plain": [
       "0.9184865917689731"
      ]
     },
     "execution_count": 218,
     "metadata": {},
     "output_type": "execute_result"
    }
   ],
   "source": [
    "coverage_rate_news"
   ]
  },
  {
   "cell_type": "code",
   "execution_count": 219,
   "id": "091551c7-2c96-40cd-974a-5048527fb1b0",
   "metadata": {},
   "outputs": [
    {
     "data": {
      "text/plain": [
       "0.7704572803850782"
      ]
     },
     "execution_count": 219,
     "metadata": {},
     "output_type": "execute_result"
    }
   ],
   "source": [
    "# coverage rate in domain\n",
    "len(news_only.dropna().groupby(['domain'], dropna=True, as_index=False)['counts'].sum())/len(news_only.groupby(['domain'], dropna=True, as_index=False))"
   ]
  },
  {
   "cell_type": "markdown",
   "id": "9ca514ba-096f-4796-9c56-b81323b0651e",
   "metadata": {},
   "source": [
    "## rank of non_news, local, and national"
   ]
  },
  {
   "cell_type": "markdown",
   "id": "47b44920-9492-4ff9-9d20-a2839f339b8f",
   "metadata": {},
   "source": [
    "Check what category of news is google prioritizing."
   ]
  },
  {
   "cell_type": "code",
   "execution_count": 220,
   "id": "a3fff0ab-e964-46f4-8cb5-760c63b04bbe",
   "metadata": {},
   "outputs": [],
   "source": [
    "def label_non_local_national(row):\n",
    "    if not row['is_news']:\n",
    "        return 'no_news'\n",
    "    else:\n",
    "        return row['classification']"
   ]
  },
  {
   "cell_type": "code",
   "execution_count": 221,
   "id": "c72ba14b-67a4-4af3-868e-a29157ecb9ea",
   "metadata": {},
   "outputs": [],
   "source": [
    "df_category_grouped_class['label'] = df_category_grouped_class.apply(label_non_local_national, axis=1)"
   ]
  },
  {
   "cell_type": "code",
   "execution_count": 224,
   "id": "93940293-fd7e-424e-9c87-7e4dcec7fbc0",
   "metadata": {},
   "outputs": [],
   "source": [
    "label_grouped = df_category_grouped_class.groupby(['label', 'serp_rank'], dropna=True, as_index=False)['counts'].sum()"
   ]
  },
  {
   "cell_type": "code",
   "execution_count": 226,
   "id": "1bf88b05-bab4-4c11-a8cf-fd1ebbd64637",
   "metadata": {},
   "outputs": [],
   "source": [
    "label_grouped['rank'] = label_grouped['serp_rank']+1"
   ]
  },
  {
   "cell_type": "code",
   "execution_count": 227,
   "id": "acf150d9-0b17-4d6c-9b03-3f5dcda9d6e5",
   "metadata": {},
   "outputs": [],
   "source": [
    "label_grouped_matrix = label_grouped.pivot_table(index='label', columns='rank', values='counts')"
   ]
  },
  {
   "cell_type": "code",
   "execution_count": 228,
   "id": "bcfd9d79-a193-4624-a6fe-b9b92f918324",
   "metadata": {},
   "outputs": [],
   "source": [
    "# Calculate the sum of each row\n",
    "label_grouped_matrix['row_sum'] = label_grouped_matrix.sum(axis=1)\n",
    "\n",
    "# Sort the DataFrame by the sum of each row\n",
    "label_grouped_matrix_sorted = label_grouped_matrix.sort_values(by='row_sum', ascending=False)\n",
    "\n",
    "# Drop the 'row_sum' column for heatmap\n",
    "label_grouped_matrix_sorted = label_grouped_matrix_sorted.drop(columns='row_sum')"
   ]
  },
  {
   "cell_type": "code",
   "execution_count": 229,
   "id": "bbd75e15-841f-44c6-86fd-f92fa8d719ce",
   "metadata": {},
   "outputs": [],
   "source": [
    "label_grouped_matrix_sorted_norm = label_grouped_matrix_sorted.div(label_grouped_matrix_sorted.sum(axis=1), axis=0)"
   ]
  },
  {
   "cell_type": "code",
   "execution_count": 230,
   "id": "07dc120e-437d-4822-8e6f-d03f961612a0",
   "metadata": {},
   "outputs": [
    {
     "data": {
      "image/png": "[encoded data removed]",
      "text/plain": [
       "<Figure size 600x400 with 2 Axes>"
      ]
     },
     "metadata": {},
     "output_type": "display_data"
    }
   ],
   "source": [
    "fig, ax = plt.subplots(figsize=(6,4)); \n",
    "plt.xticks(fontsize=20)\n",
    "plt.yticks(fontsize=20)\n",
    "sns.heatmap(label_grouped_matrix_sorted_norm , cmap='YlGnBu', annot=False, fmt='0.0f')\n",
    "plt.savefig(\"../data/plots/domain_label_rank_norm.png\", bbox_inches='tight', dpi=200) \n",
    "plt.show()"
   ]
  },
  {
   "cell_type": "markdown",
   "id": "59810c6a-d7d1-4cba-ba8d-67f07c2b5700",
   "metadata": {},
   "source": [
    "## Calculate average rank for each label"
   ]
  },
  {
   "cell_type": "markdown",
   "id": "41c0e19a-08db-492a-89b7-30ad0c550864",
   "metadata": {},
   "source": [
    "Get the average rank for each calssification of local vs. naitonal news"
   ]
  },
  {
   "cell_type": "code",
   "execution_count": 231,
   "id": "2ad14cd1-20dc-4d80-bd32-0102b49fc3f4",
   "metadata": {},
   "outputs": [
    {
     "data": {
      "text/html": [
       "<div>\n",
       "<style scoped>\n",
       "    .dataframe tbody tr th:only-of-type {\n",
       "        vertical-align: middle;\n",
       "    }\n",
       "\n",
       "    .dataframe tbody tr th {\n",
       "        vertical-align: top;\n",
       "    }\n",
       "\n",
       "    .dataframe thead th {\n",
       "        text-align: right;\n",
       "    }\n",
       "</style>\n",
       "<table border=\"1\" class=\"dataframe\">\n",
       "  <thead>\n",
       "    <tr style=\"text-align: right;\">\n",
       "      <th></th>\n",
       "      <th>label</th>\n",
       "      <th>serp_rank</th>\n",
       "      <th>counts</th>\n",
       "      <th>rank</th>\n",
       "    </tr>\n",
       "  </thead>\n",
       "  <tbody>\n",
       "    <tr>\n",
       "      <th>0</th>\n",
       "      <td>local</td>\n",
       "      <td>0.0</td>\n",
       "      <td>133136</td>\n",
       "      <td>1.0</td>\n",
       "    </tr>\n",
       "    <tr>\n",
       "      <th>1</th>\n",
       "      <td>local</td>\n",
       "      <td>1.0</td>\n",
       "      <td>350921</td>\n",
       "      <td>2.0</td>\n",
       "    </tr>\n",
       "    <tr>\n",
       "      <th>2</th>\n",
       "      <td>local</td>\n",
       "      <td>2.0</td>\n",
       "      <td>533646</td>\n",
       "      <td>3.0</td>\n",
       "    </tr>\n",
       "    <tr>\n",
       "      <th>3</th>\n",
       "      <td>local</td>\n",
       "      <td>3.0</td>\n",
       "      <td>858637</td>\n",
       "      <td>4.0</td>\n",
       "    </tr>\n",
       "    <tr>\n",
       "      <th>4</th>\n",
       "      <td>local</td>\n",
       "      <td>4.0</td>\n",
       "      <td>1797033</td>\n",
       "      <td>5.0</td>\n",
       "    </tr>\n",
       "    <tr>\n",
       "      <th>...</th>\n",
       "      <td>...</td>\n",
       "      <td>...</td>\n",
       "      <td>...</td>\n",
       "      <td>...</td>\n",
       "    </tr>\n",
       "    <tr>\n",
       "      <th>149</th>\n",
       "      <td>other news</td>\n",
       "      <td>31.0</td>\n",
       "      <td>291</td>\n",
       "      <td>32.0</td>\n",
       "    </tr>\n",
       "    <tr>\n",
       "      <th>150</th>\n",
       "      <td>other news</td>\n",
       "      <td>32.0</td>\n",
       "      <td>456</td>\n",
       "      <td>33.0</td>\n",
       "    </tr>\n",
       "    <tr>\n",
       "      <th>151</th>\n",
       "      <td>other news</td>\n",
       "      <td>33.0</td>\n",
       "      <td>78</td>\n",
       "      <td>34.0</td>\n",
       "    </tr>\n",
       "    <tr>\n",
       "      <th>152</th>\n",
       "      <td>other news</td>\n",
       "      <td>34.0</td>\n",
       "      <td>27</td>\n",
       "      <td>35.0</td>\n",
       "    </tr>\n",
       "    <tr>\n",
       "      <th>153</th>\n",
       "      <td>other news</td>\n",
       "      <td>35.0</td>\n",
       "      <td>8</td>\n",
       "      <td>36.0</td>\n",
       "    </tr>\n",
       "  </tbody>\n",
       "</table>\n",
       "<p>154 rows × 4 columns</p>\n",
       "</div>"
      ],
      "text/plain": [
       "          label  serp_rank   counts  rank\n",
       "0         local        0.0   133136   1.0\n",
       "1         local        1.0   350921   2.0\n",
       "2         local        2.0   533646   3.0\n",
       "3         local        3.0   858637   4.0\n",
       "4         local        4.0  1797033   5.0\n",
       "..          ...        ...      ...   ...\n",
       "149  other news       31.0      291  32.0\n",
       "150  other news       32.0      456  33.0\n",
       "151  other news       33.0       78  34.0\n",
       "152  other news       34.0       27  35.0\n",
       "153  other news       35.0        8  36.0\n",
       "\n",
       "[154 rows x 4 columns]"
      ]
     },
     "execution_count": 231,
     "metadata": {},
     "output_type": "execute_result"
    }
   ],
   "source": [
    "label_grouped"
   ]
  },
  {
   "cell_type": "code",
   "execution_count": 232,
   "id": "8f5649c4-c2d3-4e0d-98ef-997f6a2b76cc",
   "metadata": {},
   "outputs": [],
   "source": [
    "local = label_grouped[label_grouped['label']=='local']\n"
   ]
  },
  {
   "cell_type": "code",
   "execution_count": 233,
   "id": "6ffbdbff-3374-455e-b1a2-2521898de8ff",
   "metadata": {},
   "outputs": [],
   "source": [
    "local_news_avg_rank = sum(local['rank']*local['counts'])/local['counts'].sum()"
   ]
  },
  {
   "cell_type": "code",
   "execution_count": 235,
   "id": "77168a03-b83e-4066-aa00-43297c41405b",
   "metadata": {},
   "outputs": [
    {
     "data": {
      "text/plain": [
       "11.014828250677205"
      ]
     },
     "execution_count": 235,
     "metadata": {},
     "output_type": "execute_result"
    }
   ],
   "source": [
    "local_news_avg_rank"
   ]
  },
  {
   "cell_type": "code",
   "execution_count": 236,
   "id": "68595906-72b4-4e56-8c34-e7c1d2e1d0bb",
   "metadata": {},
   "outputs": [],
   "source": [
    "national = label_grouped[label_grouped['label']=='national']"
   ]
  },
  {
   "cell_type": "code",
   "execution_count": 237,
   "id": "23115ffa-fd30-4eb2-ac13-3c59f9a53e4e",
   "metadata": {},
   "outputs": [],
   "source": [
    "national_news_avg_rank = sum(national['rank']*national['counts'])/national['counts'].sum()"
   ]
  },
  {
   "cell_type": "code",
   "execution_count": 238,
   "id": "1fa24475-125f-466a-80f2-1b7d45290af9",
   "metadata": {},
   "outputs": [
    {
     "data": {
      "text/plain": [
       "11.957381653136663"
      ]
     },
     "execution_count": 238,
     "metadata": {},
     "output_type": "execute_result"
    }
   ],
   "source": [
    "national_news_avg_rank"
   ]
  },
  {
   "cell_type": "markdown",
   "id": "501a0533-511c-4971-949c-980ac7285328",
   "metadata": {},
   "source": [
    "## local vs. other place"
   ]
  },
  {
   "cell_type": "markdown",
   "id": "a7b8641b-8601-434e-8900-c4ea95efa492",
   "metadata": {},
   "source": [
    "This analysis compares the local news composition of search from a member's home district vs. other districts."
   ]
  },
  {
   "cell_type": "code",
   "execution_count": 239,
   "id": "c8705a0f-bf6c-4a49-8453-28bbe0ddae11",
   "metadata": {},
   "outputs": [],
   "source": [
    "local = df_category_grouped_class[df_category_grouped_class['is_home_district']==True]"
   ]
  },
  {
   "cell_type": "code",
   "execution_count": 240,
   "id": "0b4308eb-f6f0-4fc1-aa44-9a659a904fee",
   "metadata": {},
   "outputs": [],
   "source": [
    "local_news_only = local[local['is_news']==True]"
   ]
  },
  {
   "cell_type": "code",
   "execution_count": 241,
   "id": "569625a5-ca03-4c19-9ed0-6720504dca56",
   "metadata": {},
   "outputs": [],
   "source": [
    "local_news_total = local_news_only['counts'].sum()"
   ]
  },
  {
   "cell_type": "code",
   "execution_count": 242,
   "id": "ed0b622b-176a-4e25-9300-27706588a873",
   "metadata": {},
   "outputs": [],
   "source": [
    "local_class_grouped = local_news_only.groupby(['classification'], dropna=False, as_index=False)['counts'].sum()"
   ]
  },
  {
   "cell_type": "code",
   "execution_count": 243,
   "id": "a72fd4b1-a86e-472d-975f-1ff141898aeb",
   "metadata": {},
   "outputs": [],
   "source": [
    "local_class_grouped['rate'] = local_class_grouped['counts']/local_news_total"
   ]
  },
  {
   "cell_type": "code",
   "execution_count": 244,
   "id": "73182a82-4e61-4a5d-bb03-f4e472b33dbf",
   "metadata": {},
   "outputs": [
    {
     "data": {
      "text/html": [
       "<div>\n",
       "<style scoped>\n",
       "    .dataframe tbody tr th:only-of-type {\n",
       "        vertical-align: middle;\n",
       "    }\n",
       "\n",
       "    .dataframe tbody tr th {\n",
       "        vertical-align: top;\n",
       "    }\n",
       "\n",
       "    .dataframe thead th {\n",
       "        text-align: right;\n",
       "    }\n",
       "</style>\n",
       "<table border=\"1\" class=\"dataframe\">\n",
       "  <thead>\n",
       "    <tr style=\"text-align: right;\">\n",
       "      <th></th>\n",
       "      <th>classification</th>\n",
       "      <th>counts</th>\n",
       "      <th>rate</th>\n",
       "    </tr>\n",
       "  </thead>\n",
       "  <tbody>\n",
       "    <tr>\n",
       "      <th>0</th>\n",
       "      <td>local</td>\n",
       "      <td>111914</td>\n",
       "      <td>0.639838</td>\n",
       "    </tr>\n",
       "    <tr>\n",
       "      <th>1</th>\n",
       "      <td>national</td>\n",
       "      <td>42932</td>\n",
       "      <td>0.245452</td>\n",
       "    </tr>\n",
       "    <tr>\n",
       "      <th>2</th>\n",
       "      <td>no_news</td>\n",
       "      <td>475</td>\n",
       "      <td>0.002716</td>\n",
       "    </tr>\n",
       "    <tr>\n",
       "      <th>3</th>\n",
       "      <td>other news</td>\n",
       "      <td>5383</td>\n",
       "      <td>0.030776</td>\n",
       "    </tr>\n",
       "    <tr>\n",
       "      <th>4</th>\n",
       "      <td>NaN</td>\n",
       "      <td>14206</td>\n",
       "      <td>0.081219</td>\n",
       "    </tr>\n",
       "  </tbody>\n",
       "</table>\n",
       "</div>"
      ],
      "text/plain": [
       "  classification  counts      rate\n",
       "0          local  111914  0.639838\n",
       "1       national   42932  0.245452\n",
       "2        no_news     475  0.002716\n",
       "3     other news    5383  0.030776\n",
       "4            NaN   14206  0.081219"
      ]
     },
     "execution_count": 244,
     "metadata": {},
     "output_type": "execute_result"
    }
   ],
   "source": [
    "local_class_grouped"
   ]
  },
  {
   "cell_type": "code",
   "execution_count": 253,
   "id": "53b0a0e3-460b-425f-a1ac-006adf8035ac",
   "metadata": {},
   "outputs": [
    {
     "data": {
      "text/plain": [
       "0.086651"
      ]
     },
     "execution_count": 253,
     "metadata": {},
     "output_type": "execute_result"
    }
   ],
   "source": [
    "0.002716+0.002716+0.081219"
   ]
  },
  {
   "cell_type": "code",
   "execution_count": 246,
   "id": "83e5d9df-d9fa-4029-ae49-3b412a3a5734",
   "metadata": {},
   "outputs": [],
   "source": [
    "other = df_category_grouped_class[df_category_grouped_class['is_home_district']==False]"
   ]
  },
  {
   "cell_type": "code",
   "execution_count": 247,
   "id": "c6762c6e-5b5a-4fe5-b609-4012831f3c67",
   "metadata": {},
   "outputs": [],
   "source": [
    "other_news_only = other[other['is_news']==True]"
   ]
  },
  {
   "cell_type": "code",
   "execution_count": 248,
   "id": "0580ba96-9086-4321-96a1-cd2a878210a9",
   "metadata": {},
   "outputs": [],
   "source": [
    "other_news_total = other_news_only['counts'].sum()"
   ]
  },
  {
   "cell_type": "code",
   "execution_count": 249,
   "id": "20f57579-5b1f-447d-820d-c20e00ac614c",
   "metadata": {},
   "outputs": [],
   "source": [
    "other_class_grouped = other_news_only.groupby(['classification'], dropna=False, as_index=False)['counts'].sum()"
   ]
  },
  {
   "cell_type": "code",
   "execution_count": 250,
   "id": "e70cb0f0-3199-42c2-bd03-62b69814e4e3",
   "metadata": {},
   "outputs": [],
   "source": [
    "other_class_grouped['rate'] = other_class_grouped['counts']/other_news_total"
   ]
  },
  {
   "cell_type": "code",
   "execution_count": 251,
   "id": "509715a6-c0f3-499c-98c1-577c70db5803",
   "metadata": {},
   "outputs": [
    {
     "data": {
      "text/html": [
       "<div>\n",
       "<style scoped>\n",
       "    .dataframe tbody tr th:only-of-type {\n",
       "        vertical-align: middle;\n",
       "    }\n",
       "\n",
       "    .dataframe tbody tr th {\n",
       "        vertical-align: top;\n",
       "    }\n",
       "\n",
       "    .dataframe thead th {\n",
       "        text-align: right;\n",
       "    }\n",
       "</style>\n",
       "<table border=\"1\" class=\"dataframe\">\n",
       "  <thead>\n",
       "    <tr style=\"text-align: right;\">\n",
       "      <th></th>\n",
       "      <th>classification</th>\n",
       "      <th>counts</th>\n",
       "      <th>rate</th>\n",
       "    </tr>\n",
       "  </thead>\n",
       "  <tbody>\n",
       "    <tr>\n",
       "      <th>0</th>\n",
       "      <td>local</td>\n",
       "      <td>49091395</td>\n",
       "      <td>0.637277</td>\n",
       "    </tr>\n",
       "    <tr>\n",
       "      <th>1</th>\n",
       "      <td>national</td>\n",
       "      <td>19020501</td>\n",
       "      <td>0.246913</td>\n",
       "    </tr>\n",
       "    <tr>\n",
       "      <th>2</th>\n",
       "      <td>no_news</td>\n",
       "      <td>213098</td>\n",
       "      <td>0.002766</td>\n",
       "    </tr>\n",
       "    <tr>\n",
       "      <th>3</th>\n",
       "      <td>other news</td>\n",
       "      <td>2428801</td>\n",
       "      <td>0.031529</td>\n",
       "    </tr>\n",
       "    <tr>\n",
       "      <th>4</th>\n",
       "      <td>NaN</td>\n",
       "      <td>6279280</td>\n",
       "      <td>0.081514</td>\n",
       "    </tr>\n",
       "  </tbody>\n",
       "</table>\n",
       "</div>"
      ],
      "text/plain": [
       "  classification    counts      rate\n",
       "0          local  49091395  0.637277\n",
       "1       national  19020501  0.246913\n",
       "2        no_news    213098  0.002766\n",
       "3     other news   2428801  0.031529\n",
       "4            NaN   6279280  0.081514"
      ]
     },
     "execution_count": 251,
     "metadata": {},
     "output_type": "execute_result"
    }
   ],
   "source": [
    "other_class_grouped"
   ]
  },
  {
   "cell_type": "code",
   "execution_count": 254,
   "id": "21981032-3f5c-4b5d-95b0-53ad25ff0dd8",
   "metadata": {},
   "outputs": [
    {
     "data": {
      "text/plain": [
       "0.115809"
      ]
     },
     "execution_count": 254,
     "metadata": {},
     "output_type": "execute_result"
    }
   ],
   "source": [
    "0.002766+0.031529+0.081514"
   ]
  },
  {
   "cell_type": "code",
   "execution_count": null,
   "id": "6eef1e69-118c-4e0a-8ea0-8a2c07cd3b82",
   "metadata": {},
   "outputs": [],
   "source": []
  },
  {
   "cell_type": "code",
   "execution_count": null,
   "id": "3cff935f-fba7-4268-aa80-fd9b8142c8c3",
   "metadata": {},
   "outputs": [],
   "source": []
  }
 ],
 "metadata": {
  "kernelspec": {
   "display_name": "Python 3 (ipykernel)",
   "language": "python",
   "name": "python3"
  },
  "language_info": {
   "codemirror_mode": {
    "name": "ipython",
    "version": 3
   },
   "file_extension": ".py",
   "mimetype": "text/x-python",
   "name": "python",
   "nbconvert_exporter": "python",
   "pygments_lexer": "ipython3",
   "version": "3.10.14"
  }
 },
 "nbformat": 4,
 "nbformat_minor": 5
}
