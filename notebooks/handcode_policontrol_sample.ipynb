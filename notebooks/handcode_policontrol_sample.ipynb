{
 "cells": [
  {
   "cell_type": "markdown",
   "id": "6ac20cb7-c61d-4a71-adb2-925b7cfe25e1",
   "metadata": {},
   "source": [
    "# Generate Handcoding sample for politician controled urls"
   ]
  },
  {
   "cell_type": "code",
   "execution_count": 8,
   "id": "f8acba7e-5da1-4e35-8bb4-50f9f74392a7",
   "metadata": {},
   "outputs": [],
   "source": [
    "import os\n",
    "import sys\n",
    "import pandas as pd\n",
    "import numpy as np\n",
    "import matplotlib.pyplot as plt"
   ]
  },
  {
   "cell_type": "markdown",
   "id": "df77cdf7-1be7-46b1-953d-8ec74d8f9f93",
   "metadata": {},
   "source": [
    "## Generate a list of results"
   ]
  },
  {
   "cell_type": "code",
   "execution_count": 9,
   "id": "30b38933-fa32-4047-a2db-dc40000f6416",
   "metadata": {},
   "outputs": [],
   "source": [
    "results = pd.read_csv('/net/lazer/lab-lazer/shared_projects/google_audit_reproduce/intermedidate_files/merged_summary/handcode_filtered.csv')"
   ]
  },
  {
   "cell_type": "code",
   "execution_count": 10,
   "id": "5a1a5902-a483-4061-a320-26d3fcf21c7e",
   "metadata": {},
   "outputs": [
    {
     "data": {
      "text/html": [
       "<div>\n",
       "<style scoped>\n",
       "    .dataframe tbody tr th:only-of-type {\n",
       "        vertical-align: middle;\n",
       "    }\n",
       "\n",
       "    .dataframe tbody tr th {\n",
       "        vertical-align: top;\n",
       "    }\n",
       "\n",
       "    .dataframe thead th {\n",
       "        text-align: right;\n",
       "    }\n",
       "</style>\n",
       "<table border=\"1\" class=\"dataframe\">\n",
       "  <thead>\n",
       "    <tr style=\"text-align: right;\">\n",
       "      <th></th>\n",
       "      <th>url</th>\n",
       "      <th>qry</th>\n",
       "      <th>domain</th>\n",
       "      <th>title</th>\n",
       "      <th>text</th>\n",
       "      <th>counts</th>\n",
       "      <th>path</th>\n",
       "    </tr>\n",
       "  </thead>\n",
       "  <tbody>\n",
       "    <tr>\n",
       "      <th>0</th>\n",
       "      <td>http://twitter.com/Rep_Watkins</td>\n",
       "      <td>Steve Watkins</td>\n",
       "      <td>twitter.com</td>\n",
       "      <td>Steve Watkins (@Rep_Watkins) | Twitter</td>\n",
       "      <td>NaN</td>\n",
       "      <td>6798</td>\n",
       "      <td>Rep_Watkins</td>\n",
       "    </tr>\n",
       "    <tr>\n",
       "      <th>1</th>\n",
       "      <td>http://twitter.com/drnealdunnfl2</td>\n",
       "      <td>Neal Dunn</td>\n",
       "      <td>twitter.com</td>\n",
       "      <td>NaN</td>\n",
       "      <td>NaN</td>\n",
       "      <td>33</td>\n",
       "      <td>drnealdunnfl2</td>\n",
       "    </tr>\n",
       "    <tr>\n",
       "      <th>2</th>\n",
       "      <td>http://twitter.com/johnjoyceforpa</td>\n",
       "      <td>John Joyce</td>\n",
       "      <td>twitter.com</td>\n",
       "      <td>NaN</td>\n",
       "      <td>NaN</td>\n",
       "      <td>8511</td>\n",
       "      <td>johnjoyceforpa</td>\n",
       "    </tr>\n",
       "    <tr>\n",
       "      <th>3</th>\n",
       "      <td>http://twitter.com/tommcclintock</td>\n",
       "      <td>Tom McClintock</td>\n",
       "      <td>twitter.com</td>\n",
       "      <td>NaN</td>\n",
       "      <td>NaN</td>\n",
       "      <td>6047</td>\n",
       "      <td>tommcclintock</td>\n",
       "    </tr>\n",
       "    <tr>\n",
       "      <th>4</th>\n",
       "      <td>http://www.facebook.com/BillCollinsWeddingPhot...</td>\n",
       "      <td>Bill Posey</td>\n",
       "      <td>facebook.com</td>\n",
       "      <td>Bill Collins Wedding Photography</td>\n",
       "      <td>NaN</td>\n",
       "      <td>3</td>\n",
       "      <td>BillCollinsWeddingPhotography</td>\n",
       "    </tr>\n",
       "    <tr>\n",
       "      <th>...</th>\n",
       "      <td>...</td>\n",
       "      <td>...</td>\n",
       "      <td>...</td>\n",
       "      <td>...</td>\n",
       "      <td>...</td>\n",
       "      <td>...</td>\n",
       "      <td>...</td>\n",
       "    </tr>\n",
       "    <tr>\n",
       "      <th>24671</th>\n",
       "      <td>https://www.youtube.com/watch?v=zxcqsPd570M</td>\n",
       "      <td>Joe Cunningham</td>\n",
       "      <td>youtube.com</td>\n",
       "      <td>Rep. Joe Cunningham opens a beer on floor of U...</td>\n",
       "      <td>NaN</td>\n",
       "      <td>93</td>\n",
       "      <td>watch</td>\n",
       "    </tr>\n",
       "    <tr>\n",
       "      <th>24672</th>\n",
       "      <td>https://www.youtube.com/watch?v=zyC7As8cnVs</td>\n",
       "      <td>Andy Barr</td>\n",
       "      <td>youtube.com</td>\n",
       "      <td>Carol Barr, wife of Kentucky congressman Andy ...</td>\n",
       "      <td>WLKY News Louisville</td>\n",
       "      <td>869</td>\n",
       "      <td>watch</td>\n",
       "    </tr>\n",
       "    <tr>\n",
       "      <th>24673</th>\n",
       "      <td>https://www.youtube.com/watch?v=zyC7As8cnVs</td>\n",
       "      <td>Andy Barr</td>\n",
       "      <td>youtube.com</td>\n",
       "      <td>Carol Barr, wife of Kentucky congressman Andy ...</td>\n",
       "      <td>NaN</td>\n",
       "      <td>954</td>\n",
       "      <td>watch</td>\n",
       "    </tr>\n",
       "    <tr>\n",
       "      <th>24674</th>\n",
       "      <td>https://www.youtube.com/watch?v=zyC7As8cnVs</td>\n",
       "      <td>Andy Barr</td>\n",
       "      <td>youtube.com</td>\n",
       "      <td>NaN</td>\n",
       "      <td>NaN</td>\n",
       "      <td>422</td>\n",
       "      <td>watch</td>\n",
       "    </tr>\n",
       "    <tr>\n",
       "      <th>24675</th>\n",
       "      <td>https://zh-cn.facebook.com/reppaultonko/</td>\n",
       "      <td>Paul Tonko</td>\n",
       "      <td>facebook.com</td>\n",
       "      <td>NaN</td>\n",
       "      <td>NaN</td>\n",
       "      <td>82</td>\n",
       "      <td>reppaultonko</td>\n",
       "    </tr>\n",
       "  </tbody>\n",
       "</table>\n",
       "<p>24676 rows × 7 columns</p>\n",
       "</div>"
      ],
      "text/plain": [
       "                                                     url             qry  \\\n",
       "0                         http://twitter.com/Rep_Watkins   Steve Watkins   \n",
       "1                       http://twitter.com/drnealdunnfl2       Neal Dunn   \n",
       "2                      http://twitter.com/johnjoyceforpa      John Joyce   \n",
       "3                       http://twitter.com/tommcclintock  Tom McClintock   \n",
       "4      http://www.facebook.com/BillCollinsWeddingPhot...      Bill Posey   \n",
       "...                                                  ...             ...   \n",
       "24671        https://www.youtube.com/watch?v=zxcqsPd570M  Joe Cunningham   \n",
       "24672        https://www.youtube.com/watch?v=zyC7As8cnVs       Andy Barr   \n",
       "24673        https://www.youtube.com/watch?v=zyC7As8cnVs       Andy Barr   \n",
       "24674        https://www.youtube.com/watch?v=zyC7As8cnVs       Andy Barr   \n",
       "24675           https://zh-cn.facebook.com/reppaultonko/      Paul Tonko   \n",
       "\n",
       "             domain                                              title  \\\n",
       "0       twitter.com             Steve Watkins (@Rep_Watkins) | Twitter   \n",
       "1       twitter.com                                                NaN   \n",
       "2       twitter.com                                                NaN   \n",
       "3       twitter.com                                                NaN   \n",
       "4      facebook.com                   Bill Collins Wedding Photography   \n",
       "...             ...                                                ...   \n",
       "24671   youtube.com  Rep. Joe Cunningham opens a beer on floor of U...   \n",
       "24672   youtube.com  Carol Barr, wife of Kentucky congressman Andy ...   \n",
       "24673   youtube.com  Carol Barr, wife of Kentucky congressman Andy ...   \n",
       "24674   youtube.com                                                NaN   \n",
       "24675  facebook.com                                                NaN   \n",
       "\n",
       "                       text  counts                           path  \n",
       "0                       NaN    6798                    Rep_Watkins  \n",
       "1                       NaN      33                  drnealdunnfl2  \n",
       "2                       NaN    8511                 johnjoyceforpa  \n",
       "3                       NaN    6047                  tommcclintock  \n",
       "4                       NaN       3  BillCollinsWeddingPhotography  \n",
       "...                     ...     ...                            ...  \n",
       "24671                   NaN      93                          watch  \n",
       "24672  WLKY News Louisville     869                          watch  \n",
       "24673                   NaN     954                          watch  \n",
       "24674                   NaN     422                          watch  \n",
       "24675                   NaN      82                   reppaultonko  \n",
       "\n",
       "[24676 rows x 7 columns]"
      ]
     },
     "execution_count": 10,
     "metadata": {},
     "output_type": "execute_result"
    }
   ],
   "source": [
    "results"
   ]
  },
  {
   "cell_type": "code",
   "execution_count": 11,
   "id": "78ed1e44-613e-420f-a2f8-234135ae3589",
   "metadata": {},
   "outputs": [
    {
     "data": {
      "text/plain": [
       "425"
      ]
     },
     "execution_count": 11,
     "metadata": {},
     "output_type": "execute_result"
    }
   ],
   "source": [
    "len(results['qry'].unique())"
   ]
  },
  {
   "cell_type": "markdown",
   "id": "5199a614-c6d5-4b77-a382-ad87875e4771",
   "metadata": {},
   "source": [
    "# Sample twitter"
   ]
  },
  {
   "cell_type": "code",
   "execution_count": 12,
   "id": "06f1a31d-ec79-4493-a6fc-3b5fc25c2216",
   "metadata": {},
   "outputs": [],
   "source": [
    "twitter_results = results[results['domain']=='twitter.com'][['url','qry','path','counts']]"
   ]
  },
  {
   "cell_type": "code",
   "execution_count": 13,
   "id": "f8f92ab7-a2d3-4d87-ac1a-07e9649ebac0",
   "metadata": {},
   "outputs": [],
   "source": [
    "## Remove path that is politicians' account\n",
    "official_accounts = pd.read_csv('../data/qry_info.csv')\n",
    "official_accounts = official_accounts[['qry','Twitter']]"
   ]
  },
  {
   "cell_type": "code",
   "execution_count": 16,
   "id": "725dacab-9773-436c-a48b-b0cbdb3b2675",
   "metadata": {},
   "outputs": [],
   "source": [
    "merged_tw = pd.merge(twitter_results, official_accounts, on='qry', how='left')"
   ]
  },
  {
   "cell_type": "code",
   "execution_count": 19,
   "id": "13efa88a-6b4f-482f-b701-17760427f465",
   "metadata": {},
   "outputs": [],
   "source": [
    "def check_path_twitter(row):\n",
    "    if row['path'].lower() in official_accounts:\n",
    "        return True\n",
    "    else:\n",
    "        return None\n",
    "    "
   ]
  },
  {
   "cell_type": "code",
   "execution_count": 20,
   "id": "169d7196-546d-41c6-b2be-72951689e960",
   "metadata": {},
   "outputs": [],
   "source": [
    "merged_tw['is_politician_controlled'] = merged_tw.apply(check_path_twitter, axis=1)"
   ]
  },
  {
   "cell_type": "code",
   "execution_count": 21,
   "id": "6fafb299-d6b4-4e52-be95-5c9ddd9b131d",
   "metadata": {},
   "outputs": [],
   "source": [
    "twitter_url_known = merged_tw[merged_tw['is_politician_controlled']==True]"
   ]
  },
  {
   "cell_type": "code",
   "execution_count": 22,
   "id": "71b71564-0008-4fdd-ac65-6a5c9604cd77",
   "metadata": {},
   "outputs": [],
   "source": [
    "twitter_url_known.to_csv('../data/house_analysis/twitter_politician_controlled.csv', index=False)"
   ]
  },
  {
   "cell_type": "code",
   "execution_count": 23,
   "id": "68f1659c-3b20-46b0-9c5d-def05bc3f62d",
   "metadata": {},
   "outputs": [],
   "source": [
    "tw_unknown = merged_tw[merged_tw['is_politician_controlled'].isna()]"
   ]
  },
  {
   "cell_type": "code",
   "execution_count": 24,
   "id": "9ba26256-6aad-4378-b8ae-3f03361140c9",
   "metadata": {},
   "outputs": [],
   "source": [
    "sample_tw = tw_unknown.drop_duplicates(subset=['url']).sample(n=250, weights='counts', random_state=1)"
   ]
  },
  {
   "cell_type": "code",
   "execution_count": 25,
   "id": "e625c5d0-3824-4bfe-8720-53c9e3049b24",
   "metadata": {},
   "outputs": [],
   "source": [
    "sample_tw = sample_tw[['url', 'path', 'qry']]"
   ]
  },
  {
   "cell_type": "code",
   "execution_count": 26,
   "id": "d7525eee-ac51-42d2-ad33-2e3efce8fc34",
   "metadata": {},
   "outputs": [],
   "source": [
    "sample_tw.to_csv('../data/hand_code/sample_tw.csv', index=False)"
   ]
  },
  {
   "cell_type": "markdown",
   "id": "8fb5001e-c792-41a8-9243-b608d8855ace",
   "metadata": {},
   "source": [
    "# Facebook sample"
   ]
  },
  {
   "cell_type": "code",
   "execution_count": 28,
   "id": "94853dd1-f83f-4234-93b6-f70e5841fe2a",
   "metadata": {},
   "outputs": [],
   "source": [
    "sample_fb = results[results['domain']=='facebook.com'].drop_duplicates(subset=['url']).sample(n=250, weights='counts', random_state=1)"
   ]
  },
  {
   "cell_type": "code",
   "execution_count": 29,
   "id": "0f19d838-0fd1-427b-bb6b-3f0294399fb3",
   "metadata": {},
   "outputs": [],
   "source": [
    "sample_fb = sample_fb[['url', 'title', 'path','qry']]"
   ]
  },
  {
   "cell_type": "code",
   "execution_count": 30,
   "id": "5f146fa4-fe9f-4129-a5f5-290590a6ec53",
   "metadata": {},
   "outputs": [],
   "source": [
    "sample_fb.to_csv('../data/hand_code/sample_fb.csv', index=False)"
   ]
  },
  {
   "cell_type": "markdown",
   "id": "905ed4a0-bd1b-44a8-899d-34c444bfda68",
   "metadata": {},
   "source": [
    "# Sample Instagram"
   ]
  },
  {
   "cell_type": "code",
   "execution_count": 34,
   "id": "8d7fc439-faad-4b14-a56c-16576c24014b",
   "metadata": {},
   "outputs": [],
   "source": [
    "sample_ins = results[results['domain']=='instagram.com'].drop_duplicates(subset=['url'])"
   ]
  },
  {
   "cell_type": "code",
   "execution_count": 37,
   "id": "80a45292-0367-4449-a013-1b1f279d8834",
   "metadata": {},
   "outputs": [],
   "source": [
    "sample_ins = sample_ins.sample(n=250, weights='counts', random_state=1, replace=True)"
   ]
  },
  {
   "cell_type": "code",
   "execution_count": 39,
   "id": "78cd6ac8-dcf0-402e-9017-79ed73587d29",
   "metadata": {},
   "outputs": [],
   "source": [
    "sample_ins.to_csv('../data/hand_code/sample_ins.csv', index=False)"
   ]
  },
  {
   "cell_type": "markdown",
   "id": "0ce316dd-fe03-4724-9af1-efd0a836bfcd",
   "metadata": {},
   "source": [
    "# Sample Youtube"
   ]
  },
  {
   "cell_type": "code",
   "execution_count": 40,
   "id": "ab4b4ae4-1d40-4436-ac1d-df3de8b90e4f",
   "metadata": {},
   "outputs": [],
   "source": [
    "sample_yt = results[results['domain']=='youtube.com'].drop_duplicates(subset=['url']).sample(n=250, weights='counts', random_state=1)"
   ]
  },
  {
   "cell_type": "code",
   "execution_count": 41,
   "id": "1e4713a7-9af1-4406-9ba4-9d2b2cfa7826",
   "metadata": {},
   "outputs": [],
   "source": [
    "sample_yt = sample_yt[['url', 'title', 'text', 'path', 'qry']]"
   ]
  },
  {
   "cell_type": "code",
   "execution_count": 42,
   "id": "3aa45cb3-2aff-49f7-8c3f-3f63d777d795",
   "metadata": {},
   "outputs": [],
   "source": [
    "sample_yt.to_csv('../data/hand_code/sample_yt.csv', index=False)"
   ]
  },
  {
   "cell_type": "code",
   "execution_count": 43,
   "id": "c094c391-5313-49a3-9fcb-1e41945d0c55",
   "metadata": {},
   "outputs": [
    {
     "data": {
      "text/html": [
       "<div>\n",
       "<style scoped>\n",
       "    .dataframe tbody tr th:only-of-type {\n",
       "        vertical-align: middle;\n",
       "    }\n",
       "\n",
       "    .dataframe tbody tr th {\n",
       "        vertical-align: top;\n",
       "    }\n",
       "\n",
       "    .dataframe thead th {\n",
       "        text-align: right;\n",
       "    }\n",
       "</style>\n",
       "<table border=\"1\" class=\"dataframe\">\n",
       "  <thead>\n",
       "    <tr style=\"text-align: right;\">\n",
       "      <th></th>\n",
       "      <th>url</th>\n",
       "      <th>title</th>\n",
       "      <th>text</th>\n",
       "      <th>path</th>\n",
       "      <th>qry</th>\n",
       "    </tr>\n",
       "  </thead>\n",
       "  <tbody>\n",
       "    <tr>\n",
       "      <th>21950</th>\n",
       "      <td>https://www.youtube.com/watch?v=N89qk8p94dE</td>\n",
       "      <td>Disney Sing-Along: Anthony Gonzales - Proud Co...</td>\n",
       "      <td>Disney Music</td>\n",
       "      <td>watch</td>\n",
       "      <td>Anthony Gonzalez</td>\n",
       "    </tr>\n",
       "    <tr>\n",
       "      <th>23513</th>\n",
       "      <td>https://www.youtube.com/watch?v=i0uf4cEWc3c</td>\n",
       "      <td>Congress Convos: A Chat with Senator Roger Mar...</td>\n",
       "      <td>NaN</td>\n",
       "      <td>watch</td>\n",
       "      <td>Roger Marshall</td>\n",
       "    </tr>\n",
       "    <tr>\n",
       "      <th>8</th>\n",
       "      <td>http://www.youtube.com/watch?v=aHwtih-Vzkc</td>\n",
       "      <td>Adrian Smith talks 'Monsters Of River &amp; Rock'</td>\n",
       "      <td>Iron Maiden</td>\n",
       "      <td>watch</td>\n",
       "      <td>Adrian Smith</td>\n",
       "    </tr>\n",
       "    <tr>\n",
       "      <th>21224</th>\n",
       "      <td>https://www.youtube.com/watch?v=CJmOqbNYQQc</td>\n",
       "      <td>Bobby Rush performs \"I Ain't Studdin' You\" on ...</td>\n",
       "      <td>DittyTV</td>\n",
       "      <td>watch</td>\n",
       "      <td>Bobby Rush</td>\n",
       "    </tr>\n",
       "    <tr>\n",
       "      <th>20318</th>\n",
       "      <td>https://www.youtube.com/watch?v=-WQM9aTvQVQ</td>\n",
       "      <td>Rep. Collin Peterson Seeking 16th Term in Cong...</td>\n",
       "      <td>Lakeland PBS</td>\n",
       "      <td>watch</td>\n",
       "      <td>Collin Peterson</td>\n",
       "    </tr>\n",
       "    <tr>\n",
       "      <th>...</th>\n",
       "      <td>...</td>\n",
       "      <td>...</td>\n",
       "      <td>...</td>\n",
       "      <td>...</td>\n",
       "      <td>...</td>\n",
       "    </tr>\n",
       "    <tr>\n",
       "      <th>22136</th>\n",
       "      <td>https://www.youtube.com/watch?v=PxyjI0NpRi4</td>\n",
       "      <td>Arizona Congressional District 8 debate 2020 w...</td>\n",
       "      <td>azcentral.com and The...</td>\n",
       "      <td>watch</td>\n",
       "      <td>Debbie Lesko</td>\n",
       "    </tr>\n",
       "    <tr>\n",
       "      <th>24549</th>\n",
       "      <td>https://www.youtube.com/watch?v=y5811eog7LI</td>\n",
       "      <td>Incumbent Senator Ed Markey leads Rep. Joe Ken...</td>\n",
       "      <td>CBS This Morning</td>\n",
       "      <td>watch</td>\n",
       "      <td>Joe Kennedy III</td>\n",
       "    </tr>\n",
       "    <tr>\n",
       "      <th>20892</th>\n",
       "      <td>https://www.youtube.com/watch?v=7eKJ3o_sQ3c</td>\n",
       "      <td>Florida election preview: Charlie Crist vs. An...</td>\n",
       "      <td>ABC Action News</td>\n",
       "      <td>watch</td>\n",
       "      <td>Charlie Crist</td>\n",
       "    </tr>\n",
       "    <tr>\n",
       "      <th>21211</th>\n",
       "      <td>https://www.youtube.com/watch?v=CBzYyw-T_i8</td>\n",
       "      <td>AXIOS on HBO: Kevin McCarthy on Representative...</td>\n",
       "      <td>HBO</td>\n",
       "      <td>watch</td>\n",
       "      <td>Kevin McCarthy</td>\n",
       "    </tr>\n",
       "    <tr>\n",
       "      <th>20347</th>\n",
       "      <td>https://www.youtube.com/watch?v=-sf-8Z5M31g</td>\n",
       "      <td>Al Green's Best Songs - The Very Best of Al Gr...</td>\n",
       "      <td>NaN</td>\n",
       "      <td>watch</td>\n",
       "      <td>Al Green</td>\n",
       "    </tr>\n",
       "  </tbody>\n",
       "</table>\n",
       "<p>250 rows × 5 columns</p>\n",
       "</div>"
      ],
      "text/plain": [
       "                                               url  \\\n",
       "21950  https://www.youtube.com/watch?v=N89qk8p94dE   \n",
       "23513  https://www.youtube.com/watch?v=i0uf4cEWc3c   \n",
       "8       http://www.youtube.com/watch?v=aHwtih-Vzkc   \n",
       "21224  https://www.youtube.com/watch?v=CJmOqbNYQQc   \n",
       "20318  https://www.youtube.com/watch?v=-WQM9aTvQVQ   \n",
       "...                                            ...   \n",
       "22136  https://www.youtube.com/watch?v=PxyjI0NpRi4   \n",
       "24549  https://www.youtube.com/watch?v=y5811eog7LI   \n",
       "20892  https://www.youtube.com/watch?v=7eKJ3o_sQ3c   \n",
       "21211  https://www.youtube.com/watch?v=CBzYyw-T_i8   \n",
       "20347  https://www.youtube.com/watch?v=-sf-8Z5M31g   \n",
       "\n",
       "                                                   title  \\\n",
       "21950  Disney Sing-Along: Anthony Gonzales - Proud Co...   \n",
       "23513  Congress Convos: A Chat with Senator Roger Mar...   \n",
       "8          Adrian Smith talks 'Monsters Of River & Rock'   \n",
       "21224  Bobby Rush performs \"I Ain't Studdin' You\" on ...   \n",
       "20318  Rep. Collin Peterson Seeking 16th Term in Cong...   \n",
       "...                                                  ...   \n",
       "22136  Arizona Congressional District 8 debate 2020 w...   \n",
       "24549  Incumbent Senator Ed Markey leads Rep. Joe Ken...   \n",
       "20892  Florida election preview: Charlie Crist vs. An...   \n",
       "21211  AXIOS on HBO: Kevin McCarthy on Representative...   \n",
       "20347  Al Green's Best Songs - The Very Best of Al Gr...   \n",
       "\n",
       "                           text   path               qry  \n",
       "21950              Disney Music  watch  Anthony Gonzalez  \n",
       "23513                       NaN  watch    Roger Marshall  \n",
       "8                   Iron Maiden  watch      Adrian Smith  \n",
       "21224                   DittyTV  watch        Bobby Rush  \n",
       "20318              Lakeland PBS  watch   Collin Peterson  \n",
       "...                         ...    ...               ...  \n",
       "22136  azcentral.com and The...  watch      Debbie Lesko  \n",
       "24549          CBS This Morning  watch   Joe Kennedy III  \n",
       "20892           ABC Action News  watch     Charlie Crist  \n",
       "21211                       HBO  watch    Kevin McCarthy  \n",
       "20347                       NaN  watch          Al Green  \n",
       "\n",
       "[250 rows x 5 columns]"
      ]
     },
     "execution_count": 43,
     "metadata": {},
     "output_type": "execute_result"
    }
   ],
   "source": [
    "sample_yt"
   ]
  },
  {
   "cell_type": "code",
   "execution_count": null,
   "id": "7e940587-725e-4253-b677-394e6af15d33",
   "metadata": {},
   "outputs": [],
   "source": []
  }
 ],
 "metadata": {
  "kernelspec": {
   "display_name": "Python 3 (ipykernel)",
   "language": "python",
   "name": "python3"
  },
  "language_info": {
   "codemirror_mode": {
    "name": "ipython",
    "version": 3
   },
   "file_extension": ".py",
   "mimetype": "text/x-python",
   "name": "python",
   "nbconvert_exporter": "python",
   "pygments_lexer": "ipython3",
   "version": "3.10.14"
  }
 },
 "nbformat": 4,
 "nbformat_minor": 5
}
