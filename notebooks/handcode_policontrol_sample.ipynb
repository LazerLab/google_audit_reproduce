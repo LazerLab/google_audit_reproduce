{
 "cells": [
  {
   "cell_type": "markdown",
   "id": "6ac20cb7-c61d-4a71-adb2-925b7cfe25e1",
   "metadata": {},
   "source": [
    "# Generate Handcoding sample for politician controled urls"
   ]
  },
  {
   "cell_type": "code",
   "execution_count": 8,
   "id": "f8acba7e-5da1-4e35-8bb4-50f9f74392a7",
   "metadata": {},
   "outputs": [],
   "source": [
    "import os\n",
    "import sys\n",
    "import pandas as pd\n",
    "import numpy as np\n",
    "import matplotlib.pyplot as plt"
   ]
  },
  {
   "cell_type": "markdown",
   "id": "df77cdf7-1be7-46b1-953d-8ec74d8f9f93",
   "metadata": {},
   "source": [
    "## Generate a list of results"
   ]
  },
  {
   "cell_type": "code",
   "execution_count": 9,
   "id": "30b38933-fa32-4047-a2db-dc40000f6416",
   "metadata": {},
   "outputs": [],
   "source": [
    "results = pd.read_csv('/net/lazer/lab-lazer/shared_projects/google_audit_reproduce/intermedidate_files/merged_summary/handcode_filtered.csv')"
   ]
  },
  {
   "cell_type": "code",
   "execution_count": 10,
   "id": "5a1a5902-a483-4061-a320-26d3fcf21c7e",
   "metadata": {},
   "outputs": [
    {
     "data": {
      "text/html": [
       "<div>\n",
       "<style scoped>\n",
       "    .dataframe tbody tr th:only-of-type {\n",
       "        vertical-align: middle;\n",
       "    }\n",
       "\n",
       "    .dataframe tbody tr th {\n",
       "        vertical-align: top;\n",
       "    }\n",
       "\n",
       "    .dataframe thead th {\n",
       "        text-align: right;\n",
       "    }\n",
       "</style>\n",
       "<table border=\"1\" class=\"dataframe\">\n",
       "  <thead>\n",
       "    <tr style=\"text-align: right;\">\n",
       "      <th></th>\n",
       "      <th>url</th>\n",
       "      <th>qry</th>\n",
       "      <th>domain</th>\n",
       "      <th>title</th>\n",
       "      <th>text</th>\n",
       "      <th>counts</th>\n",
       "      <th>path</th>\n",
       "    </tr>\n",
       "  </thead>\n",
       "  <tbody>\n",
       "    <tr>\n",
       "      <th>0</th>\n",
       "      <td>http://twitter.com/Rep_Watkins</td>\n",
       "      <td>Steve Watkins</td>\n",
       "      <td>twitter.com</td>\n",
       "      <td>Steve Watkins (@Rep_Watkins) | Twitter</td>\n",
       "      <td>NaN</td>\n",
       "      <td>6798</td>\n",
       "      <td>Rep_Watkins</td>\n",
       "    </tr>\n",
       "    <tr>\n",
       "      <th>1</th>\n",
       "      <td>http://twitter.com/drnealdunnfl2</td>\n",
       "      <td>Neal Dunn</td>\n",
       "      <td>twitter.com</td>\n",
       "      <td>NaN</td>\n",
       "      <td>NaN</td>\n",
       "      <td>33</td>\n",
       "      <td>drnealdunnfl2</td>\n",
       "    </tr>\n",
       "    <tr>\n",
       "      <th>2</th>\n",
       "      <td>http://twitter.com/johnjoyceforpa</td>\n",
       "      <td>John Joyce</td>\n",
       "      <td>twitter.com</td>\n",
       "      <td>NaN</td>\n",
       "      <td>NaN</td>\n",
       "      <td>8511</td>\n",
       "      <td>johnjoyceforpa</td>\n",
       "    </tr>\n",
       "    <tr>\n",
       "      <th>3</th>\n",
       "      <td>http://twitter.com/tommcclintock</td>\n",
       "      <td>Tom McClintock</td>\n",
       "      <td>twitter.com</td>\n",
       "      <td>NaN</td>\n",
       "      <td>NaN</td>\n",
       "      <td>6047</td>\n",
       "      <td>tommcclintock</td>\n",
       "    </tr>\n",
       "    <tr>\n",
       "      <th>4</th>\n",
       "      <td>http://www.facebook.com/BillCollinsWeddingPhot...</td>\n",
       "      <td>Bill Posey</td>\n",
       "      <td>facebook.com</td>\n",
       "      <td>Bill Collins Wedding Photography</td>\n",
       "      <td>NaN</td>\n",
       "      <td>3</td>\n",
       "      <td>BillCollinsWeddingPhotography</td>\n",
       "    </tr>\n",
       "    <tr>\n",
       "      <th>...</th>\n",
       "      <td>...</td>\n",
       "      <td>...</td>\n",
       "      <td>...</td>\n",
       "      <td>...</td>\n",
       "      <td>...</td>\n",
       "      <td>...</td>\n",
       "      <td>...</td>\n",
       "    </tr>\n",
       "    <tr>\n",
       "      <th>24671</th>\n",
       "      <td>https://www.youtube.com/watch?v=zxcqsPd570M</td>\n",
       "      <td>Joe Cunningham</td>\n",
       "      <td>youtube.com</td>\n",
       "      <td>Rep. Joe Cunningham opens a beer on floor of U...</td>\n",
       "      <td>NaN</td>\n",
       "      <td>93</td>\n",
       "      <td>watch</td>\n",
       "    </tr>\n",
       "    <tr>\n",
       "      <th>24672</th>\n",
       "      <td>https://www.youtube.com/watch?v=zyC7As8cnVs</td>\n",
       "      <td>Andy Barr</td>\n",
       "      <td>youtube.com</td>\n",
       "      <td>Carol Barr, wife of Kentucky congressman Andy ...</td>\n",
       "      <td>WLKY News Louisville</td>\n",
       "      <td>869</td>\n",
       "      <td>watch</td>\n",
       "    </tr>\n",
       "    <tr>\n",
       "      <th>24673</th>\n",
       "      <td>https://www.youtube.com/watch?v=zyC7As8cnVs</td>\n",
       "      <td>Andy Barr</td>\n",
       "      <td>youtube.com</td>\n",
       "      <td>Carol Barr, wife of Kentucky congressman Andy ...</td>\n",
       "      <td>NaN</td>\n",
       "      <td>954</td>\n",
       "      <td>watch</td>\n",
       "    </tr>\n",
       "    <tr>\n",
       "      <th>24674</th>\n",
       "      <td>https://www.youtube.com/watch?v=zyC7As8cnVs</td>\n",
       "      <td>Andy Barr</td>\n",
       "      <td>youtube.com</td>\n",
       "      <td>NaN</td>\n",
       "      <td>NaN</td>\n",
       "      <td>422</td>\n",
       "      <td>watch</td>\n",
       "    </tr>\n",
       "    <tr>\n",
       "      <th>24675</th>\n",
       "      <td>https://zh-cn.facebook.com/reppaultonko/</td>\n",
       "      <td>Paul Tonko</td>\n",
       "      <td>facebook.com</td>\n",
       "      <td>NaN</td>\n",
       "      <td>NaN</td>\n",
       "      <td>82</td>\n",
       "      <td>reppaultonko</td>\n",
       "    </tr>\n",
       "  </tbody>\n",
       "</table>\n",
       "<p>24676 rows × 7 columns</p>\n",
       "</div>"
      ],
      "text/plain": [
       "                                                     url             qry  \\\n",
       "0                         http://twitter.com/Rep_Watkins   Steve Watkins   \n",
       "1                       http://twitter.com/drnealdunnfl2       Neal Dunn   \n",
       "2                      http://twitter.com/johnjoyceforpa      John Joyce   \n",
       "3                       http://twitter.com/tommcclintock  Tom McClintock   \n",
       "4      http://www.facebook.com/BillCollinsWeddingPhot...      Bill Posey   \n",
       "...                                                  ...             ...   \n",
       "24671        https://www.youtube.com/watch?v=zxcqsPd570M  Joe Cunningham   \n",
       "24672        https://www.youtube.com/watch?v=zyC7As8cnVs       Andy Barr   \n",
       "24673        https://www.youtube.com/watch?v=zyC7As8cnVs       Andy Barr   \n",
       "24674        https://www.youtube.com/watch?v=zyC7As8cnVs       Andy Barr   \n",
       "24675           https://zh-cn.facebook.com/reppaultonko/      Paul Tonko   \n",
       "\n",
       "             domain                                              title  \\\n",
       "0       twitter.com             Steve Watkins (@Rep_Watkins) | Twitter   \n",
       "1       twitter.com                                                NaN   \n",
       "2       twitter.com                                                NaN   \n",
       "3       twitter.com                                                NaN   \n",
       "4      facebook.com                   Bill Collins Wedding Photography   \n",
       "...             ...                                                ...   \n",
       "24671   youtube.com  Rep. Joe Cunningham opens a beer on floor of U...   \n",
       "24672   youtube.com  Carol Barr, wife of Kentucky congressman Andy ...   \n",
       "24673   youtube.com  Carol Barr, wife of Kentucky congressman Andy ...   \n",
       "24674   youtube.com                                                NaN   \n",
       "24675  facebook.com                                                NaN   \n",
       "\n",
       "                       text  counts                           path  \n",
       "0                       NaN    6798                    Rep_Watkins  \n",
       "1                       NaN      33                  drnealdunnfl2  \n",
       "2                       NaN    8511                 johnjoyceforpa  \n",
       "3                       NaN    6047                  tommcclintock  \n",
       "4                       NaN       3  BillCollinsWeddingPhotography  \n",
       "...                     ...     ...                            ...  \n",
       "24671                   NaN      93                          watch  \n",
       "24672  WLKY News Louisville     869                          watch  \n",
       "24673                   NaN     954                          watch  \n",
       "24674                   NaN     422                          watch  \n",
       "24675                   NaN      82                   reppaultonko  \n",
       "\n",
       "[24676 rows x 7 columns]"
      ]
     },
     "execution_count": 10,
     "metadata": {},
     "output_type": "execute_result"
    }
   ],
   "source": [
    "results"
   ]
  },
  {
   "cell_type": "code",
   "execution_count": 11,
   "id": "78ed1e44-613e-420f-a2f8-234135ae3589",
   "metadata": {},
   "outputs": [
    {
     "data": {
      "text/plain": [
       "425"
      ]
     },
     "execution_count": 11,
     "metadata": {},
     "output_type": "execute_result"
    }
   ],
   "source": [
    "len(results['qry'].unique())"
   ]
  },
  {
   "cell_type": "markdown",
   "id": "5199a614-c6d5-4b77-a382-ad87875e4771",
   "metadata": {},
   "source": [
    "# Sample twitter"
   ]
  },
  {
   "cell_type": "code",
   "execution_count": 12,
   "id": "06f1a31d-ec79-4493-a6fc-3b5fc25c2216",
   "metadata": {},
   "outputs": [],
   "source": [
    "twitter_results = results[results['domain']=='twitter.com'][['url','qry','path','counts']]"
   ]
  },
  {
   "cell_type": "code",
   "execution_count": 13,
   "id": "f8f92ab7-a2d3-4d87-ac1a-07e9649ebac0",
   "metadata": {},
   "outputs": [],
   "source": [
    "## Remove path that is politicians' account\n",
    "official_accounts = pd.read_csv('../data/qry_info.csv')\n",
    "official_accounts = official_accounts[['qry','Twitter']]"
   ]
  },
  {
   "cell_type": "code",
   "execution_count": 16,
   "id": "725dacab-9773-436c-a48b-b0cbdb3b2675",
   "metadata": {},
   "outputs": [],
   "source": [
    "merged_tw = pd.merge(twitter_results, official_accounts, on='qry', how='left')"
   ]
  },
  {
   "cell_type": "code",
   "execution_count": 19,
   "id": "13efa88a-6b4f-482f-b701-17760427f465",
   "metadata": {},
   "outputs": [],
   "source": [
    "def check_path_twitter(row):\n",
    "    if row['path'].lower() in official_accounts:\n",
    "        return True\n",
    "    else:\n",
    "        return None\n",
    "    "
   ]
  },
  {
   "cell_type": "code",
   "execution_count": 20,
   "id": "169d7196-546d-41c6-b2be-72951689e960",
   "metadata": {},
   "outputs": [],
   "source": [
    "merged_tw['is_politician_controlled'] = merged_tw.apply(check_path_twitter, axis=1)"
   ]
  },
  {
   "cell_type": "code",
   "execution_count": 21,
   "id": "6fafb299-d6b4-4e52-be95-5c9ddd9b131d",
   "metadata": {},
   "outputs": [],
   "source": [
    "twitter_url_known = merged_tw[merged_tw['is_politician_controlled']==True]"
   ]
  },
  {
   "cell_type": "code",
   "execution_count": 22,
   "id": "71b71564-0008-4fdd-ac65-6a5c9604cd77",
   "metadata": {},
   "outputs": [],
   "source": [
    "twitter_url_known.to_csv('../data/house_analysis/twitter_politician_controlled.csv', index=False)"
   ]
  },
  {
   "cell_type": "code",
   "execution_count": 23,
   "id": "68f1659c-3b20-46b0-9c5d-def05bc3f62d",
   "metadata": {},
   "outputs": [],
   "source": [
    "tw_unknown = merged_tw[merged_tw['is_politician_controlled'].isna()]"
   ]
  },
  {
   "cell_type": "code",
   "execution_count": 53,
   "id": "49f4b70f-b626-4225-af22-6716cd7a8ae2",
   "metadata": {},
   "outputs": [],
   "source": [
    "tw_unknown_unique = tw_unknown.drop_duplicates(subset=['url'])"
   ]
  },
  {
   "cell_type": "code",
   "execution_count": 54,
   "id": "723902f1-f83b-4ec1-899f-54a09f4626f6",
   "metadata": {},
   "outputs": [
    {
     "data": {
      "text/plain": [
       "4539"
      ]
     },
     "execution_count": 54,
     "metadata": {},
     "output_type": "execute_result"
    }
   ],
   "source": [
    "len(tw_unknown_unique)"
   ]
  },
  {
   "cell_type": "code",
   "execution_count": 24,
   "id": "9ba26256-6aad-4378-b8ae-3f03361140c9",
   "metadata": {},
   "outputs": [],
   "source": [
    "sample_tw = tw_unknown_unique.sample(n=250, weights='counts', random_state=1)"
   ]
  },
  {
   "cell_type": "code",
   "execution_count": 57,
   "id": "25a3cf05-6afa-4634-9a6c-454f7e54893a",
   "metadata": {},
   "outputs": [],
   "source": [
    "sample_tw_unique = sample_tw.drop_duplicates(subset=['url'])"
   ]
  },
  {
   "cell_type": "code",
   "execution_count": 58,
   "id": "573eed62-7f26-4615-969b-ec02115758ae",
   "metadata": {},
   "outputs": [
    {
     "data": {
      "text/plain": [
       "250"
      ]
     },
     "execution_count": 58,
     "metadata": {},
     "output_type": "execute_result"
    }
   ],
   "source": [
    "len(sample_tw_unique)"
   ]
  },
  {
   "cell_type": "code",
   "execution_count": 25,
   "id": "e625c5d0-3824-4bfe-8720-53c9e3049b24",
   "metadata": {},
   "outputs": [],
   "source": [
    "sample_tw = sample_tw[['url', 'path', 'qry']]"
   ]
  },
  {
   "cell_type": "code",
   "execution_count": 26,
   "id": "d7525eee-ac51-42d2-ad33-2e3efce8fc34",
   "metadata": {},
   "outputs": [],
   "source": [
    "sample_tw.to_csv('../data/hand_code/sample_tw.csv', index=False)"
   ]
  },
  {
   "cell_type": "markdown",
   "id": "8fb5001e-c792-41a8-9243-b608d8855ace",
   "metadata": {},
   "source": [
    "# Facebook sample"
   ]
  },
  {
   "cell_type": "code",
   "execution_count": 59,
   "id": "300706dd-811d-4230-8bd5-efab94338c87",
   "metadata": {},
   "outputs": [],
   "source": [
    "fb_results_unique = results[results['domain']=='facebook.com'].drop_duplicates(subset=['url'])"
   ]
  },
  {
   "cell_type": "code",
   "execution_count": 60,
   "id": "f7c0a895-a969-4c9f-aabd-3b6252ae4ef4",
   "metadata": {},
   "outputs": [
    {
     "data": {
      "text/plain": [
       "2860"
      ]
     },
     "execution_count": 60,
     "metadata": {},
     "output_type": "execute_result"
    }
   ],
   "source": [
    "len(fb_results_unique)"
   ]
  },
  {
   "cell_type": "code",
   "execution_count": 28,
   "id": "94853dd1-f83f-4234-93b6-f70e5841fe2a",
   "metadata": {},
   "outputs": [],
   "source": [
    "sample_fb = fb_results_unique.sample(n=250, weights='counts', random_state=1)"
   ]
  },
  {
   "cell_type": "code",
   "execution_count": 61,
   "id": "f8fed08e-a5b2-4b26-9290-56ab89a59aa6",
   "metadata": {},
   "outputs": [],
   "source": [
    "sample_fb_unique = sample_fb.drop_duplicates(subset=['url'])"
   ]
  },
  {
   "cell_type": "code",
   "execution_count": 62,
   "id": "fe5f03a2-eb79-4d3c-bb54-8b997577c3bc",
   "metadata": {},
   "outputs": [
    {
     "data": {
      "text/plain": [
       "250"
      ]
     },
     "execution_count": 62,
     "metadata": {},
     "output_type": "execute_result"
    }
   ],
   "source": [
    "len(sample_fb_unique)"
   ]
  },
  {
   "cell_type": "code",
   "execution_count": 29,
   "id": "0f19d838-0fd1-427b-bb6b-3f0294399fb3",
   "metadata": {},
   "outputs": [],
   "source": [
    "sample_fb = sample_fb[['url', 'title', 'path','qry']]"
   ]
  },
  {
   "cell_type": "code",
   "execution_count": 30,
   "id": "5f146fa4-fe9f-4129-a5f5-290590a6ec53",
   "metadata": {},
   "outputs": [],
   "source": [
    "sample_fb.to_csv('../data/hand_code/sample_fb.csv', index=False)"
   ]
  },
  {
   "cell_type": "markdown",
   "id": "905ed4a0-bd1b-44a8-899d-34c444bfda68",
   "metadata": {},
   "source": [
    "# Sample Instagram"
   ]
  },
  {
   "cell_type": "code",
   "execution_count": 45,
   "id": "8d7fc439-faad-4b14-a56c-16576c24014b",
   "metadata": {},
   "outputs": [],
   "source": [
    "sample_ins = results[results['domain']=='instagram.com'].drop_duplicates(subset=['url'])"
   ]
  },
  {
   "cell_type": "code",
   "execution_count": 51,
   "id": "25ab3cf1-cef1-4b08-87a8-5d3d3604be97",
   "metadata": {},
   "outputs": [
    {
     "data": {
      "text/plain": [
       "111"
      ]
     },
     "execution_count": 51,
     "metadata": {},
     "output_type": "execute_result"
    }
   ],
   "source": [
    "len(sample_ins)"
   ]
  },
  {
   "cell_type": "code",
   "execution_count": 52,
   "id": "78cd6ac8-dcf0-402e-9017-79ed73587d29",
   "metadata": {},
   "outputs": [],
   "source": [
    "sample_ins.to_csv('../data/hand_code/sample_ins.csv', index=False)"
   ]
  },
  {
   "cell_type": "markdown",
   "id": "0ce316dd-fe03-4724-9af1-efd0a836bfcd",
   "metadata": {},
   "source": [
    "# Sample Youtube"
   ]
  },
  {
   "cell_type": "code",
   "execution_count": 63,
   "id": "6918bf79-e9fb-424d-919d-508b96a6e5c7",
   "metadata": {},
   "outputs": [],
   "source": [
    "yt_results_unique = results[results['domain']=='youtube.com'].drop_duplicates(subset=['url'])"
   ]
  },
  {
   "cell_type": "code",
   "execution_count": 64,
   "id": "d7a86fb3-4632-4f9e-9353-d1665be245d8",
   "metadata": {},
   "outputs": [
    {
     "data": {
      "text/plain": [
       "2680"
      ]
     },
     "execution_count": 64,
     "metadata": {},
     "output_type": "execute_result"
    }
   ],
   "source": [
    "len(yt_results_unique)"
   ]
  },
  {
   "cell_type": "code",
   "execution_count": 40,
   "id": "ab4b4ae4-1d40-4436-ac1d-df3de8b90e4f",
   "metadata": {},
   "outputs": [],
   "source": [
    "sample_yt = yt_results_unique.sample(n=250, weights='counts', random_state=1)"
   ]
  },
  {
   "cell_type": "code",
   "execution_count": 67,
   "id": "f5506a5b-d6b0-4aee-b077-9048cda7d3ea",
   "metadata": {},
   "outputs": [],
   "source": [
    "sample_yt_unique = sample_yt.drop_duplicates(subset='url')"
   ]
  },
  {
   "cell_type": "code",
   "execution_count": 68,
   "id": "05c71cd3-d56a-49cb-9bfe-53209db48fd6",
   "metadata": {},
   "outputs": [
    {
     "data": {
      "text/plain": [
       "250"
      ]
     },
     "execution_count": 68,
     "metadata": {},
     "output_type": "execute_result"
    }
   ],
   "source": [
    "len(sample_yt_unique)"
   ]
  },
  {
   "cell_type": "code",
   "execution_count": 70,
   "id": "144dce0a-0cc8-4167-bc0d-11aa6cba1e13",
   "metadata": {},
   "outputs": [
    {
     "data": {
      "text/plain": [
       "250"
      ]
     },
     "execution_count": 70,
     "metadata": {},
     "output_type": "execute_result"
    }
   ],
   "source": [
    "len(set(sample_yt_unique['url']))"
   ]
  },
  {
   "cell_type": "code",
   "execution_count": 41,
   "id": "1e4713a7-9af1-4406-9ba4-9d2b2cfa7826",
   "metadata": {},
   "outputs": [],
   "source": [
    "sample_yt = sample_yt[['url', 'title', 'text', 'path', 'qry']]"
   ]
  },
  {
   "cell_type": "code",
   "execution_count": 42,
   "id": "3aa45cb3-2aff-49f7-8c3f-3f63d777d795",
   "metadata": {},
   "outputs": [],
   "source": [
    "sample_yt.to_csv('../data/hand_code/sample_yt.csv', index=False)"
   ]
  }
 ],
 "metadata": {
  "kernelspec": {
   "display_name": "Python 3 (ipykernel)",
   "language": "python",
   "name": "python3"
  },
  "language_info": {
   "codemirror_mode": {
    "name": "ipython",
    "version": 3
   },
   "file_extension": ".py",
   "mimetype": "text/x-python",
   "name": "python",
   "nbconvert_exporter": "python",
   "pygments_lexer": "ipython3",
   "version": "3.10.14"
  }
 },
 "nbformat": 4,
 "nbformat_minor": 5
}
